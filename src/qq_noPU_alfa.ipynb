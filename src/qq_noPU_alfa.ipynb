{
 "cells": [
  {
   "cell_type": "code",
   "execution_count": 1,
   "metadata": {
    "collapsed": true
   },
   "outputs": [],
   "source": [
    "base_path = \"/media/jw/5dccc50e-7c13-4186-bf6b-d894f02410be/wbb/result/qq_prediction/\"\n",
    "\n",
    "train_positive_pairs = sc.textFile(base_path + \"new_positive_pairs_features/day*/part-*\").map(lambda x: (eval(x)[0], [abs(i) for y in eval(x)[1] for i in y ]))\n",
    "train_unlabled_pairs = sc.textFile(base_path + \"new_unlabled_pairs_features/part-*\").map(lambda x: (eval(x)[0], [abs(i) for y in eval(x)[1] for i in y ]))\n",
    "\n",
    "test_positive_pairs = sc.textFile(base_path + \"test_positive_pairs/part-*\")\n",
    "\n",
    "# test_pairs_features = sc.textFile(base_path + \"new_test_pairs_features/part-*\").map(lambda x: (eval(x)[0], [abs(i) for y in eval(x)[1] for i in y ]))\n",
    "test_pairs_features_50w = sc.textFile(base_path + \"test_pairs_features_50w/part-*\").map(lambda x: eval(x))"
   ]
  },
  {
   "cell_type": "code",
   "execution_count": 9,
   "metadata": {
    "collapsed": false
   },
   "outputs": [
    {
     "data": {
      "text/plain": [
       "235586"
      ]
     },
     "execution_count": 9,
     "metadata": {},
     "output_type": "execute_result"
    }
   ],
   "source": [
    "train_positive_pairs.count()"
   ]
  },
  {
   "cell_type": "code",
   "execution_count": 10,
   "metadata": {
    "collapsed": false
   },
   "outputs": [
    {
     "data": {
      "text/plain": [
       "8268837"
      ]
     },
     "execution_count": 10,
     "metadata": {},
     "output_type": "execute_result"
    }
   ],
   "source": [
    "train_unlabled_pairs.count()"
   ]
  },
  {
   "cell_type": "code",
   "execution_count": 2,
   "metadata": {
    "collapsed": true
   },
   "outputs": [],
   "source": [
    "#test_pairs_features_50w = sc.parallelize(test_pairs_features.takeSample(False, 500000))\n",
    "#test_pairs_features_50w.saveAsTextFile(base_path + \"test_pairs_features_50w\")\n"
   ]
  },
  {
   "cell_type": "code",
   "execution_count": null,
   "metadata": {
    "collapsed": true
   },
   "outputs": [],
   "source": []
  },
  {
   "cell_type": "code",
   "execution_count": 17,
   "metadata": {
    "collapsed": true
   },
   "outputs": [],
   "source": [
    "from pyspark.sql import Row\n",
    "from pyspark.sql.functions import col \n",
    "from pyspark.ml.linalg import Vectors\n",
    "from pyspark.ml.classification import LogisticRegression\n",
    "from pyspark.ml.classification import DecisionTreeClassifier\n",
    "from pyspark.ml.classification import GBTClassifier\n",
    "from pyspark.ml.classification import NaiveBayes\n",
    "from pyspark.ml.classification import RandomForestClassifier\n",
    "\n",
    "from sklearn.metrics import recall_score\n",
    "from sklearn.metrics import precision_score\n",
    "from sklearn.metrics import f1_score\n",
    "from sklearn.metrics import precision_recall_fscore_support\n",
    "import time"
   ]
  },
  {
   "cell_type": "code",
   "execution_count": 3,
   "metadata": {
    "collapsed": true
   },
   "outputs": [],
   "source": []
  },
  {
   "cell_type": "code",
   "execution_count": 3,
   "metadata": {
    "collapsed": true
   },
   "outputs": [],
   "source": [
    "test_positive_pairs_list = test_positive_pairs.collect()   # 第四天数据中的正例对\n",
    "test_data_4thday = test_pairs_features_50w.map(lambda x: Row(label=1.0 if x[0] in test_positive_pairs_list else 0.0,\\\n",
    "                                                         features=Vectors.dense(x[1]))).toDF()"
   ]
  },
  {
   "cell_type": "code",
   "execution_count": 20,
   "metadata": {
    "collapsed": false
   },
   "outputs": [
    {
     "data": {
      "text/plain": [
       "500000"
      ]
     },
     "execution_count": 20,
     "metadata": {},
     "output_type": "execute_result"
    }
   ],
   "source": [
    "test_data_4thday.count()"
   ]
  },
  {
   "cell_type": "code",
   "execution_count": 23,
   "metadata": {
    "collapsed": true
   },
   "outputs": [],
   "source": [
    "y_label_noPU = [i.label for i in test_data_4thday.select('label').collect()]"
   ]
  },
  {
   "cell_type": "code",
   "execution_count": 24,
   "metadata": {
    "collapsed": false
   },
   "outputs": [
    {
     "data": {
      "text/plain": [
       "500000"
      ]
     },
     "execution_count": 24,
     "metadata": {},
     "output_type": "execute_result"
    }
   ],
   "source": [
    "len(y_label_noPU)"
   ]
  },
  {
   "cell_type": "code",
   "execution_count": null,
   "metadata": {
    "collapsed": true
   },
   "outputs": [],
   "source": []
  },
  {
   "cell_type": "code",
   "execution_count": 9,
   "metadata": {
    "collapsed": false
   },
   "outputs": [
    {
     "name": "stdout",
     "output_type": "stream",
     "text": [
      "Thu Feb 16 13:41:29 2017\n",
      "alfa: 0.05\n",
      "Thu Feb 16 13:41:29 2017\n",
      "Thu Feb 16 13:42:12 2017\n",
      "0.997152869032 0.0149855016177 0.0295272590493\n",
      "Thu Feb 16 14:00:00 2017\n",
      "0.770915462111 0.000495872006419 0.000991106508473\n",
      "Thu Feb 16 14:16:33 2017\n",
      "0.975689881735 0.000868005323766 0.00173446760896\n",
      "Thu Feb 16 14:33:25 2017\n"
     ]
    }
   ],
   "source": [
    "with open('qq_noPU_alfa_v2.log', 'a+') as log_file:\n",
    "    for alfa in [0.05]: #, 0.10, 0.15, 0.20, 0.25]: #, 0.30, 0.35]: #0.05]:# \n",
    "        log_file.write('===========predict whitout PU=========== \\n')\n",
    "        log_file.write(time.asctime() + '\\n')\n",
    "        log_file.write( \"==========alfa: \" + str(alfa) + \"============\\n\")\n",
    "        print(time.asctime())\n",
    "        print(\"alfa: \" + str(alfa))\n",
    "        # train_unlabeled -> train_neg\n",
    "        #train_negative_pairs = train_unlabled_pairs.takeSample(False, int(alfa * 8268837))\n",
    "        #sc.parallelize(train_negative_pairs).coalesce(20).saveAsTextFile(base_path + \"wbb_train_negative_pairs-\" + str(alfa))\n",
    "        train_negative_pairs = sc.textFile(base_path + \"wbb_train_negative_pairs-\" + str(alfa)).map(lambda x: eval(x))\n",
    "\n",
    "        #log_file.write(\"length of train_negative_pairs: \" + str(len(train_negative_pairs)) + '\\n')\n",
    "        print(time.asctime())\n",
    "        log_file.write(time.asctime() + '\\n')\n",
    "\n",
    "        #============ without PU =======================\n",
    "        # predict without PU\n",
    "        \"\"\"train_data_noPU = train_positive_pairs.map(lambda x: Row(label=1.0, features=Vectors.dense(x[1])))\\\n",
    "        .union((sc.parallelize(train_negative_pairs).map(lambda x: Row(label=0.0, features=Vectors.dense(x[1]))))).toDF()\n",
    "\"\"\"\n",
    "        train_data_noPU = train_positive_pairs.map(lambda x: Row(label=1.0, features=Vectors.dense(x[1])))\\\n",
    "        .union(sc.parallelize(train_negative_pairs.takeSample(False, int(230000)))\\\n",
    "               .map(lambda x: Row(label=0.0, features=Vectors.dense(x[1])))).toDF()\n",
    "\n",
    "        #y_label_noPU = [i.label for i in test_data_4thday.select('label').collect()]\n",
    "\n",
    "        print(time.asctime())\n",
    "        log_file.write(time.asctime() + '\\n')\n",
    "        \n",
    "        \n",
    "        ### DecisionTree\n",
    "        DT_noPU = DecisionTreeClassifier().fit(train_data_noPU)\n",
    "        DT_predict_4th_day_noPU = DT_noPU.transform(test_data_4thday.select('features')).join(test_data_4thday, 'features')\n",
    "\n",
    "        y_label_noPU_DT = [i.label for i in DT_predict_4th_day_noPU.select('label').collect()]\n",
    "        y_predict_noPU_DT = [i.prediction for i in DT_predict_4th_day_noPU.select('prediction').collect()]\n",
    "\n",
    "        recall_score_noPU_DT = recall_score(y_label_noPU_DT, y_predict_noPU_DT)\n",
    "        precision_score_noPU_DT = precision_score(y_label_noPU_DT, y_predict_noPU_DT)\n",
    "        f1_score_noPU_DT = f1_score(y_label_noPU_DT, y_predict_noPU_DT)\n",
    "        \n",
    "        print(recall_score_noPU_DT, precision_score_noPU_DT, f1_score_noPU_DT)\n",
    "\n",
    "        log_file.write('\\n')\n",
    "        log_file.write(\"recall_score_noPU_DT: \" + str(recall_score_noPU_DT) + '\\n')\n",
    "        log_file.write(\"precision_score_noPU_DT: \" + str(precision_score_noPU_DT) + '\\n')\n",
    "        log_file.write(\"f1_score_noPU_DT: \" + str(f1_score_noPU_DT) + '\\n')\n",
    "        log_file.write(time.asctime() + '\\n')\n",
    "        log_file.write('\\n')\n",
    "\n",
    "        print(time.asctime())\n",
    "        \n",
    "        ### NB\n",
    "        NB_noPU = NaiveBayes().fit(train_data_noPU)\n",
    "        NB_predict_4th_day_noPU = NB_noPU.transform(test_data_4thday.select('features')).join(test_data_4thday, 'features')\n",
    "\n",
    "\n",
    "        y_label_noPU_NB = [i.label for i in NB_predict_4th_day_noPU.select('label').collect()]\n",
    "        y_predict_noPU_NB = [i.prediction for i in NB_predict_4th_day_noPU.select('prediction').collect()]\n",
    "\n",
    "        recall_score_noPU_NB = recall_score(y_label_noPU_NB, y_predict_noPU_NB)\n",
    "        precision_score_noPU_NB = precision_score(y_label_noPU_NB, y_predict_noPU_NB)\n",
    "        f1_score_noPU_NB = f1_score(y_label_noPU_NB, y_predict_noPU_NB)\n",
    "        \n",
    "        print(recall_score_noPU_NB, precision_score_noPU_NB, f1_score_noPU_NB)\n",
    "\n",
    "        log_file.write('\\n')\n",
    "        log_file.write(\"recall_score_noPU_NB: \" + str(recall_score_noPU_NB) + '\\n')\n",
    "        log_file.write(\"precision_score_noPU_NB: \" + str(precision_score_noPU_NB) + '\\n')\n",
    "        log_file.write(\"f1_score_noPU_NB: \" + str(f1_score_noPU_NB) + '\\n')\n",
    "        log_file.write(time.asctime() + '\\n')\n",
    "        log_file.write('\\n')\n",
    "\n",
    "        print(time.asctime())\n",
    "        \n",
    "        ### LR\n",
    "        LR_noPU = LogisticRegression(maxIter=15, regParam=0.04).fit(train_data_noPU)\n",
    "        LR_predict_4th_day_noPU = LR_noPU.transform(test_data_4thday.select('features')).join(test_data_4thday, 'features')\n",
    "\n",
    "\n",
    "        y_label_noPU_LR = [i.label for i in LR_predict_4th_day_noPU.select('label').collect()]\n",
    "        y_predict_noPU_LR = [i.prediction for i in LR_predict_4th_day_noPU.select('prediction').collect()]\n",
    "\n",
    "        recall_score_noPU_LR = recall_score(y_label_noPU_LR, y_predict_noPU_LR)\n",
    "        precision_score_noPU_LR = precision_score(y_label_noPU_LR, y_predict_noPU_LR)\n",
    "        f1_score_noPU_LR = f1_score(y_label_noPU_LR, y_predict_noPU_LR)\n",
    "        \n",
    "        print(recall_score_noPU_LR, precision_score_noPU_LR, f1_score_noPU_LR)\n",
    "\n",
    "        log_file.write('\\n')\n",
    "        log_file.write(\"recall_score_noPU_LR: \" + str(recall_score_noPU_LR) + '\\n')\n",
    "        log_file.write(\"precision_score_noPU_LR: \" + str(precision_score_noPU_LR) + '\\n')\n",
    "        log_file.write(\"f1_score_noPU_LR: \" + str(f1_score_noPU_LR) + '\\n')\n",
    "        log_file.write(time.asctime() + '\\n')\n",
    "        log_file.write('\\n')\n",
    "        \n",
    "\n",
    "        print(time.asctime())"
   ]
  },
  {
   "cell_type": "code",
   "execution_count": null,
   "metadata": {
    "collapsed": true
   },
   "outputs": [],
   "source": []
  },
  {
   "cell_type": "code",
   "execution_count": 43,
   "metadata": {
    "collapsed": false
   },
   "outputs": [
    {
     "data": {
      "text/plain": [
       "465586"
      ]
     },
     "execution_count": 43,
     "metadata": {},
     "output_type": "execute_result"
    }
   ],
   "source": [
    "train_data_noPU.count()"
   ]
  },
  {
   "cell_type": "code",
   "execution_count": 21,
   "metadata": {
    "collapsed": false
   },
   "outputs": [
    {
     "data": {
      "text/plain": [
       "7114542"
      ]
     },
     "execution_count": 21,
     "metadata": {},
     "output_type": "execute_result"
    }
   ],
   "source": [
    "DT_predict_4th_day_noPU.count()"
   ]
  },
  {
   "cell_type": "code",
   "execution_count": 8,
   "metadata": {
    "collapsed": false
   },
   "outputs": [
    {
     "name": "stdout",
     "output_type": "stream",
     "text": [
      "+--------------------+--------------+-----------+----------+-----+\n",
      "|            features| rawPrediction|probability|prediction|label|\n",
      "+--------------------+--------------+-----------+----------+-----+\n",
      "|[0.0,0.0,0.0,0.0,...|[0.0,221037.0]|  [0.0,1.0]|       1.0|  0.0|\n",
      "|[0.0,0.0,0.0,0.0,...|[0.0,221037.0]|  [0.0,1.0]|       1.0|  0.0|\n",
      "|[0.0,0.0,0.0,0.0,...|[0.0,221037.0]|  [0.0,1.0]|       1.0|  0.0|\n",
      "+--------------------+--------------+-----------+----------+-----+\n",
      "only showing top 3 rows\n",
      "\n"
     ]
    }
   ],
   "source": [
    "DT_predict_4th_day_noPU.show(3)"
   ]
  },
  {
   "cell_type": "code",
   "execution_count": 19,
   "metadata": {
    "collapsed": false
   },
   "outputs": [
    {
     "name": "stdout",
     "output_type": "stream",
     "text": [
      "7114542 7114542\n",
      "[0.0, 0.0, 0.0, 0.0, 0.0, 0.0, 0.0, 0.0, 0.0, 0.0] [1.0, 1.0, 1.0, 1.0, 1.0, 1.0, 1.0, 1.0, 1.0, 1.0]\n"
     ]
    }
   ],
   "source": [
    "print(len(y_label_noPU_DT), len(y_predict_noPU_DT))\n",
    "print(y_label_noPU_DT[:10], y_predict_noPU_DT[:10])"
   ]
  },
  {
   "cell_type": "code",
   "execution_count": null,
   "metadata": {
    "collapsed": true
   },
   "outputs": [],
   "source": []
  },
  {
   "cell_type": "code",
   "execution_count": 44,
   "metadata": {
    "collapsed": false
   },
   "outputs": [
    {
     "name": "stdout",
     "output_type": "stream",
     "text": [
      "Thu Feb 16 17:08:13 2017\n",
      "500000\n",
      "0.996933858958 0.0149906966788 0.0295372476243\n",
      "Thu Feb 16 17:13:36 2017\n"
     ]
    }
   ],
   "source": [
    "print(time.asctime())\n",
    "DT_noPU = DecisionTreeClassifier(maxDepth=20).fit(train_data_noPU)\n",
    "DT_predict_4th_day_noPU = DT_noPU.transform(test_data_4thday.select('features')) # .join(test_data_4thday, 'features')\n",
    "\n",
    "# y_label_noPU_DT = [i.label for i in DT_predict_4th_day_noPU.select('label').collect()]\n",
    "y_predict_noPU_DT = [i.prediction for i in DT_predict_4th_day_noPU.select('prediction').collect()]\n",
    "print(len(y_predict_noPU_DT))\n",
    "\n",
    "recall_score_noPU_DT = recall_score(y_label_noPU, y_predict_noPU_DT)\n",
    "precision_score_noPU_DT = precision_score(y_label_noPU, y_predict_noPU_DT)\n",
    "f1_score_noPU_DT = f1_score(y_label_noPU, y_predict_noPU_DT)\n",
    "\n",
    "print(recall_score_noPU_DT, precision_score_noPU_DT, f1_score_noPU_DT)\n",
    "print(time.asctime())"
   ]
  },
  {
   "cell_type": "code",
   "execution_count": 28,
   "metadata": {
    "collapsed": false
   },
   "outputs": [
    {
     "name": "stdout",
     "output_type": "stream",
     "text": [
      "0.996933858958 0.0149906966788 0.0295372476243\n",
      "Thu Feb 16 16:44:05 2017\n"
     ]
    }
   ],
   "source": [
    "recall_score_noPU_DT = recall_score(y_label_noPU, y_predict_noPU_DT)\n",
    "precision_score_noPU_DT = precision_score(y_label_noPU, y_predict_noPU_DT)\n",
    "f1_score_noPU_DT = f1_score(y_label_noPU, y_predict_noPU_DT)\n",
    "\n",
    "print(recall_score_noPU_DT, precision_score_noPU_DT, f1_score_noPU_DT)\n",
    "print(time.asctime())"
   ]
  },
  {
   "cell_type": "code",
   "execution_count": 29,
   "metadata": {
    "collapsed": false
   },
   "outputs": [
    {
     "name": "stdout",
     "output_type": "stream",
     "text": [
      "500000 500000\n",
      "[0.0, 0.0, 0.0, 0.0, 0.0, 0.0, 0.0, 0.0, 0.0, 0.0] [0.0, 1.0, 0.0, 1.0, 0.0, 1.0, 1.0, 1.0, 0.0, 0.0]\n"
     ]
    }
   ],
   "source": [
    "print(len(y_label_noPU), len(y_predict_noPU_DT))\n",
    "print(y_label_noPU[:10], y_predict_noPU_DT[:10])"
   ]
  },
  {
   "cell_type": "code",
   "execution_count": 45,
   "metadata": {
    "collapsed": true
   },
   "outputs": [],
   "source": [
    "tp = 0\n",
    "fn = 0\n",
    "fp = 0\n",
    "tn = 0\n",
    "for i in range(500000):\n",
    "    if y_label_noPU[i] == 1.0 and y_predict_noPU_DT[i] == 1.0:\n",
    "        tp += 1\n",
    "    if y_label_noPU[i] == 1.0 and y_predict_noPU_DT[i] == 0.0:\n",
    "        fn += 1\n",
    "    if y_label_noPU[i] == 0.0 and y_predict_noPU_DT[i] == 1.0:\n",
    "        fp += 1\n",
    "    if y_label_noPU[i] == 0.0 and y_predict_noPU_DT[i] == 0.0:\n",
    "        tn += 1"
   ]
  },
  {
   "cell_type": "code",
   "execution_count": 46,
   "metadata": {
    "collapsed": false
   },
   "outputs": [
    {
     "name": "stdout",
     "output_type": "stream",
     "text": [
      "4552 14 299103 196331\n"
     ]
    }
   ],
   "source": [
    "print(tp, fn, fp, tn)"
   ]
  },
  {
   "cell_type": "code",
   "execution_count": 47,
   "metadata": {
    "collapsed": false
   },
   "outputs": [
    {
     "data": {
      "text/plain": [
       "0.401766"
      ]
     },
     "execution_count": 47,
     "metadata": {},
     "output_type": "execute_result"
    }
   ],
   "source": [
    "(196331+4552)/500000"
   ]
  },
  {
   "cell_type": "code",
   "execution_count": 32,
   "metadata": {
    "collapsed": false
   },
   "outputs": [
    {
     "data": {
      "text/plain": [
       "0.01499069667879666"
      ]
     },
     "execution_count": 32,
     "metadata": {},
     "output_type": "execute_result"
    }
   ],
   "source": [
    "4552/(4552+299103)"
   ]
  },
  {
   "cell_type": "code",
   "execution_count": 41,
   "metadata": {
    "collapsed": false
   },
   "outputs": [
    {
     "name": "stdout",
     "output_type": "stream",
     "text": [
      "1051\n"
     ]
    }
   ],
   "source": [
    "k = 0\n",
    "for i in DT_predict_4th_day_noPU.take(500000):\n",
    "    if i.features[-1] == 0.0 and i.features[-2] == 0.0 and i.prediction == 1.0:\n",
    "        #print(i.features, i.prediction)\n",
    "        k += 1\n",
    "print(k)"
   ]
  },
  {
   "cell_type": "code",
   "execution_count": 42,
   "metadata": {
    "collapsed": false
   },
   "outputs": [
    {
     "name": "stdout",
     "output_type": "stream",
     "text": [
      "1051\n"
     ]
    }
   ],
   "source": [
    "print(k)"
   ]
  },
  {
   "cell_type": "code",
   "execution_count": null,
   "metadata": {
    "collapsed": true
   },
   "outputs": [],
   "source": []
  },
  {
   "cell_type": "code",
   "execution_count": null,
   "metadata": {
    "collapsed": true
   },
   "outputs": [],
   "source": []
  },
  {
   "cell_type": "code",
   "execution_count": null,
   "metadata": {
    "collapsed": true
   },
   "outputs": [],
   "source": []
  },
  {
   "cell_type": "code",
   "execution_count": 55,
   "metadata": {
    "collapsed": false
   },
   "outputs": [
    {
     "name": "stdout",
     "output_type": "stream",
     "text": [
      "Thu Feb 16 17:43:00 2017\n",
      "0.770915462111 0.00726123531766 0.0143869601825 0.035416\n",
      "Thu Feb 16 17:47:24 2017\n"
     ]
    }
   ],
   "source": [
    "print(time.asctime())\n",
    "NB_noPU = NaiveBayes().fit(train_data_noPU)\n",
    "NB_predict_4th_day_noPU = NB_noPU.transform(test_data_4thday.select('features'))\n",
    "\n",
    "\n",
    "#y_label_noPU_NB = [i.label for i in NB_predict_4th_day_noPU.select('label').collect()]\n",
    "y_predict_noPU_NB = [i.prediction for i in NB_predict_4th_day_noPU.select('prediction').collect()]\n",
    "\n",
    "recall_score_noPU_NB = recall_score(y_label_noPU, y_predict_noPU_NB)\n",
    "precision_score_noPU_NB = precision_score(y_label_noPU, y_predict_noPU_NB)\n",
    "f1_score_noPU_NB = f1_score(y_label_noPU, y_predict_noPU_NB)\n",
    "tp_NB = 0\n",
    "tn_NB = 0\n",
    "for i in range(500000):\n",
    "    if y_label_noPU[i] == 1.0 and y_predict_noPU_NB[i] == 1.0:\n",
    "        tp_NB += 1\n",
    "    if y_label_noPU[i] == 0.0 and y_predict_noPU_NB[i] == 0.0:\n",
    "        tn_NB += 1\n",
    "accuracy_NB = (tp_NB + tn_NB)/500000\n",
    "\n",
    "print(recall_score_noPU_NB, precision_score_noPU_NB, f1_score_noPU_NB, accuracy_NB)\n",
    "print(time.asctime())"
   ]
  },
  {
   "cell_type": "code",
   "execution_count": 51,
   "metadata": {
    "collapsed": false
   },
   "outputs": [
    {
     "name": "stdout",
     "output_type": "stream",
     "text": [
      "0.035416\n"
     ]
    }
   ],
   "source": [
    "tp_NB = 0\n",
    "tn_NB = 0\n",
    "for i in range(500000):\n",
    "    if y_label_noPU[i] == 1.0 and y_predict_noPU_NB[i] == 1.0:\n",
    "        tp_NB += 1\n",
    "    if y_label_noPU[i] == 0.0 and y_predict_noPU_NB[i] == 0.0:\n",
    "        tn_NB += 1\n",
    "        \n",
    "accuracy_NB = (tp_NB + tn_NB)/500000\n",
    "print(accuracy_NB)"
   ]
  },
  {
   "cell_type": "code",
   "execution_count": 54,
   "metadata": {
    "collapsed": false
   },
   "outputs": [
    {
     "name": "stdout",
     "output_type": "stream",
     "text": [
      "3520 14188\n"
     ]
    }
   ],
   "source": [
    "print(tp_NB, tn_NB)"
   ]
  },
  {
   "cell_type": "code",
   "execution_count": 49,
   "metadata": {
    "collapsed": false
   },
   "outputs": [
    {
     "name": "stdout",
     "output_type": "stream",
     "text": [
      "Thu Feb 16 17:30:15 2017\n",
      "0.962768287341 0.0352681615789 0.0680437424058 0.401766\n",
      "Thu Feb 16 17:35:39 2017\n"
     ]
    }
   ],
   "source": [
    "print(time.asctime())\n",
    "RF_noPU = RandomForestClassifier(numTrees=3, maxDepth=8).fit(train_data_noPU)\n",
    "RF_predict_4th_day_noPU = RF_noPU.transform(test_data_4thday.select('features'))\n",
    "\n",
    "\n",
    "#y_label_noPU_RF = [i.label for i in RF_predict_4th_day_noPU.select('label').collect()]\n",
    "y_predict_noPU_RF = [i.prediction for i in RF_predict_4th_day_noPU.select('prediction').collect()]\n",
    "\n",
    "recall_score_noPU_RF = recall_score(y_label_noPU, y_predict_noPU_RF)\n",
    "precision_score_noPU_RF = precision_score(y_label_noPU, y_predict_noPU_RF)\n",
    "f1_score_noPU_RF = f1_score(y_label_noPU, y_predict_noPU_RF)\n",
    "tp_RF = 0\n",
    "tn_RF = 0\n",
    "for i in range(500000):\n",
    "    if y_label_noPU[i] == 1.0 and y_predict_noPU_RF[i] == 1.0:\n",
    "        tp_RF += 1\n",
    "    if y_label_noPU[i] == 0.0 and y_predict_noPU_RF[i] == 0.0:\n",
    "        tn_RF += 1\n",
    "accuracy_RF = (tp_RF + tn_RF)/500000\n",
    "\n",
    "print(recall_score_noPU_RF, precision_score_noPU_RF, f1_score_noPU_RF, accuracy_RF)\n",
    "print(time.asctime())"
   ]
  },
  {
   "cell_type": "code",
   "execution_count": 53,
   "metadata": {
    "collapsed": false
   },
   "outputs": [
    {
     "name": "stdout",
     "output_type": "stream",
     "text": [
      "0.759162\n"
     ]
    }
   ],
   "source": [
    "tp_RF = 0\n",
    "tn_RF = 0\n",
    "for i in range(500000):\n",
    "    if y_label_noPU[i] == 1.0 and y_predict_noPU_RF[i] == 1.0:\n",
    "        tp_RF += 1\n",
    "    if y_label_noPU[i] == 0.0 and y_predict_noPU_RF[i] == 0.0:\n",
    "        tn_RF += 1\n",
    "accuracy_RF = (tp_RF + tn_RF)/500000\n",
    "print(accuracy_RF)"
   ]
  },
  {
   "cell_type": "code",
   "execution_count": 50,
   "metadata": {
    "collapsed": false
   },
   "outputs": [
    {
     "name": "stdout",
     "output_type": "stream",
     "text": [
      "Thu Feb 16 17:35:39 2017\n",
      "0.975689881735 0.012053864948 0.0238135328218 0.401766\n",
      "Thu Feb 16 17:39:48 2017\n"
     ]
    }
   ],
   "source": [
    "print(time.asctime())\n",
    "LR_noPU = LogisticRegression(maxIter=100, regParam=0.0).fit(train_data_noPU)\n",
    "LR_predict_4th_day_noPU = LR_noPU.transform(test_data_4thday.select('features'))\n",
    "\n",
    "\n",
    "#y_label_noPU_LR = [i.label for i in LR_predict_4th_day_noPU.select('label').collect()]\n",
    "y_predict_noPU_LR = [i.prediction for i in LR_predict_4th_day_noPU.select('prediction').collect()]\n",
    "\n",
    "recall_score_noPU_LR = recall_score(y_label_noPU, y_predict_noPU_LR)\n",
    "precision_score_noPU_LR = precision_score(y_label_noPU, y_predict_noPU_LR)\n",
    "f1_score_noPU_LR = f1_score(y_label_noPU, y_predict_noPU_LR)\n",
    "tp_LR = 0\n",
    "tn_LR = 0\n",
    "for i in range(500000):\n",
    "    if y_label_noPU[i] == 1.0 and y_predict_noPU_LR[i] == 1.0:\n",
    "        tp_LR += 1\n",
    "    if y_label_noPU[i] == 0.0 and y_predict_noPU_LR[i] == 0.0:\n",
    "        tn_LR += 1\n",
    "accuracy_LR = (tp_LR + tn_LR)/500000\n",
    "\n",
    "print(recall_score_noPU_LR, precision_score_noPU_LR, f1_score_noPU_LR, accuracy_LR)\n",
    "print(time.asctime())"
   ]
  },
  {
   "cell_type": "code",
   "execution_count": 52,
   "metadata": {
    "collapsed": false
   },
   "outputs": [
    {
     "name": "stdout",
     "output_type": "stream",
     "text": [
      "0.269506\n"
     ]
    }
   ],
   "source": [
    "tp_LR = 0\n",
    "tn_LR = 0\n",
    "for i in range(500000):\n",
    "    if y_label_noPU[i] == 1.0 and y_predict_noPU_LR[i] == 1.0:\n",
    "        tp_LR += 1\n",
    "    if y_label_noPU[i] == 0.0 and y_predict_noPU_LR[i] == 0.0:\n",
    "        tn_LR += 1\n",
    "accuracy_LR = (tp_LR + tn_LR)/500000\n",
    "print(accuracy_LR)"
   ]
  },
  {
   "cell_type": "code",
   "execution_count": null,
   "metadata": {
    "collapsed": true
   },
   "outputs": [],
   "source": []
  },
  {
   "cell_type": "code",
   "execution_count": null,
   "metadata": {
    "collapsed": true
   },
   "outputs": [],
   "source": []
  },
  {
   "cell_type": "code",
   "execution_count": null,
   "metadata": {
    "collapsed": true
   },
   "outputs": [],
   "source": []
  },
  {
   "cell_type": "code",
   "execution_count": 15,
   "metadata": {
    "collapsed": false
   },
   "outputs": [],
   "source": [
    "LR_accuracy_noPU = (LR_predict_4th_day_noPU.filter(LR_predict_4th_day_noPU.prediction == LR_predict_4th_day_noPU.label).count())\\\n",
    "/(LR_predict_4th_day_noPU.count())"
   ]
  },
  {
   "cell_type": "code",
   "execution_count": 16,
   "metadata": {
    "collapsed": false
   },
   "outputs": [
    {
     "name": "stdout",
     "output_type": "stream",
     "text": [
      "0.9462186040928566\n"
     ]
    }
   ],
   "source": [
    "print(LR_accuracy_noPU)"
   ]
  },
  {
   "cell_type": "code",
   "execution_count": null,
   "metadata": {
    "collapsed": true
   },
   "outputs": [],
   "source": []
  },
  {
   "cell_type": "code",
   "execution_count": 42,
   "metadata": {
    "collapsed": false
   },
   "outputs": [
    {
     "data": {
      "text/plain": [
       "'Tue Feb 14 16:27:17 2017'"
      ]
     },
     "execution_count": 42,
     "metadata": {},
     "output_type": "execute_result"
    }
   ],
   "source": [
    "time.asctime()"
   ]
  },
  {
   "cell_type": "code",
   "execution_count": 88,
   "metadata": {
    "collapsed": true
   },
   "outputs": [],
   "source": [
    "aa = [0.0,0.0,0.0,0.0,0.0,0.0,0.0,0.0,0.0,0.0,0.0,0.0,0.0,0.0,0.0,1.0,0.0,0.0,0.0,0.0,0.0,0.0,0.0,0.0,0.0,0.0,0.0,0.0,0.0,0.0,0.0,0.0,0.0,0.0,0.0,0.0,0.0,0.0,0.0,0.0,0.0,0.0,0.0,0.0,0.0,0.0,0.0,0.0,0.0,0.0,0.0,0.0,0.0,0.0,0.0,0.0,0.0,0.0,0.0,0.0,0.0,0.0,0.0,0.0,0.0,0.0,0.0,0.0,0.0,0.0,0.0,0.0,0.0,0.0,0.0,0.0,0.0,1.0,0.0,0.0,0.0,0.0,0.0,0.0,0.0,1.0,0.0,2.0,3.0,0.0,0.0,1.0,24.0,0.0,0.0,0.0,0.0,0.0,13.0,64.0,70.0,31.0,8.0,0.0,0.0,42.0,222.0,2109.0,2055.0,-5847.0,0.0,0.0,0.0,0.0,0.0,0.0,1.0,0.0,0.0,0.0,0.0,0.0,0.0,0.0,0.0,0.0,0.0,0.0,0.0,0.0,0.0,0.0,0.0,0.0,0.0,0.0,0.0,0.0,0.0,0.0,0.0,0.0,0.0,0.0,0.0,0.0,0.0,1.0,0.0,0.0,0.0,0.0,0.0,0.0,0.0,0.0,0.0,0.0,0.0,0.0,0.0,0.0,0.0,0.0,0.0,0.0,0.0,0.0,0.0,0.0,0.0,0.0,0.0,0.0,0.0,0.0,0.0,0.0,0.0,0.0,0.0,0.0,0.0,0.0,0.0,1.0,0.0,0.0,0.0,0.0,1.0,16.0,19.0,12087.0]"
   ]
  },
  {
   "cell_type": "code",
   "execution_count": 89,
   "metadata": {
    "collapsed": false
   },
   "outputs": [
    {
     "data": {
      "text/plain": [
       "194"
      ]
     },
     "execution_count": 89,
     "metadata": {},
     "output_type": "execute_result"
    }
   ],
   "source": [
    "len(aa)"
   ]
  },
  {
   "cell_type": "code",
   "execution_count": 90,
   "metadata": {
    "collapsed": false
   },
   "outputs": [
    {
     "data": {
      "text/plain": [
       "109"
      ]
     },
     "execution_count": 90,
     "metadata": {},
     "output_type": "execute_result"
    }
   ],
   "source": [
    "aa.index(-5847.0)"
   ]
  },
  {
   "cell_type": "code",
   "execution_count": null,
   "metadata": {
    "collapsed": true
   },
   "outputs": [],
   "source": []
  },
  {
   "cell_type": "code",
   "execution_count": null,
   "metadata": {
    "collapsed": true
   },
   "outputs": [],
   "source": []
  },
  {
   "cell_type": "code",
   "execution_count": null,
   "metadata": {
    "collapsed": true
   },
   "outputs": [],
   "source": []
  },
  {
   "cell_type": "code",
   "execution_count": null,
   "metadata": {
    "collapsed": true
   },
   "outputs": [],
   "source": []
  },
  {
   "cell_type": "code",
   "execution_count": null,
   "metadata": {
    "collapsed": true
   },
   "outputs": [],
   "source": []
  },
  {
   "cell_type": "code",
   "execution_count": null,
   "metadata": {
    "collapsed": true
   },
   "outputs": [],
   "source": []
  },
  {
   "cell_type": "code",
   "execution_count": null,
   "metadata": {
    "collapsed": true
   },
   "outputs": [],
   "source": []
  },
  {
   "cell_type": "code",
   "execution_count": 56,
   "metadata": {
    "collapsed": true
   },
   "outputs": [],
   "source": [
    "a = [('aa',[0,1,2,3,0]), ('aa',[0,1,2,4,0]), ('aasas',[10,1,1,0,0])]\n",
    "c = [('abs',[0,0,0,0,0]), ('aas',[0,1,1,0,0]), ('aaas',[110,1111,1,0,0])]"
   ]
  },
  {
   "cell_type": "code",
   "execution_count": 59,
   "metadata": {
    "collapsed": false
   },
   "outputs": [],
   "source": [
    "b = sc.parallelize(a).map(lambda x: Row(label=0.0, features=Vectors.dense(x[1]))).union((sc.parallelize(c).map(lambda x: Row(label=1.0, features=Vectors.dense(x[1]))))).toDF()"
   ]
  },
  {
   "cell_type": "code",
   "execution_count": 60,
   "metadata": {
    "collapsed": false
   },
   "outputs": [
    {
     "name": "stdout",
     "output_type": "stream",
     "text": [
      "+--------------------+-----+\n",
      "|            features|label|\n",
      "+--------------------+-----+\n",
      "|[0.0,1.0,2.0,3.0,...|  0.0|\n",
      "|[0.0,1.0,2.0,4.0,...|  0.0|\n",
      "|[10.0,1.0,1.0,0.0...|  0.0|\n",
      "|[0.0,0.0,0.0,0.0,...|  1.0|\n",
      "|[0.0,1.0,1.0,0.0,...|  1.0|\n",
      "|[110.0,1111.0,1.0...|  1.0|\n",
      "+--------------------+-----+\n",
      "\n"
     ]
    }
   ],
   "source": [
    "b.show()"
   ]
  },
  {
   "cell_type": "code",
   "execution_count": 80,
   "metadata": {
    "collapsed": true
   },
   "outputs": [],
   "source": [
    "sd = sc.parallelize([[0,1,2,4,0], [0,0,0,0,0], [0,1,2,3,0], [110,1111,1,0,0]]).collect()\n",
    "sd = [Vectors.dense(x) for x in sd]"
   ]
  },
  {
   "cell_type": "code",
   "execution_count": 81,
   "metadata": {
    "collapsed": false
   },
   "outputs": [],
   "source": [
    "bb = b.rdd.filter(lambda x: x.features in sd and x.label == 0.0)"
   ]
  },
  {
   "cell_type": "code",
   "execution_count": 84,
   "metadata": {
    "collapsed": false
   },
   "outputs": [
    {
     "data": {
      "text/plain": [
       "[Row(features=DenseVector([0.0, 1.0, 2.0, 3.0, 0.0]), label=0.0),\n",
       " Row(features=DenseVector([0.0, 1.0, 2.0, 4.0, 0.0]), label=0.0)]"
      ]
     },
     "execution_count": 84,
     "metadata": {},
     "output_type": "execute_result"
    }
   ],
   "source": [
    "bb.take(4)"
   ]
  },
  {
   "cell_type": "code",
   "execution_count": 88,
   "metadata": {
    "collapsed": false
   },
   "outputs": [
    {
     "data": {
      "text/plain": [
       "[0.0, 0.0]"
      ]
     },
     "execution_count": 88,
     "metadata": {},
     "output_type": "execute_result"
    }
   ],
   "source": [
    "bb.map(lambda x: x.label).collect()"
   ]
  },
  {
   "cell_type": "code",
   "execution_count": 82,
   "metadata": {
    "collapsed": true
   },
   "outputs": [],
   "source": [
    "xx = [i.label for i in b.select('label').collect()]"
   ]
  },
  {
   "cell_type": "code",
   "execution_count": 83,
   "metadata": {
    "collapsed": false
   },
   "outputs": [
    {
     "data": {
      "text/plain": [
       "[0.0, 0.0, 1.0, 1.0]"
      ]
     },
     "execution_count": 83,
     "metadata": {},
     "output_type": "execute_result"
    }
   ],
   "source": [
    "xx"
   ]
  },
  {
   "cell_type": "code",
   "execution_count": 79,
   "metadata": {
    "collapsed": false
   },
   "outputs": [],
   "source": [
    "aaa = b.select('label').collect()"
   ]
  },
  {
   "cell_type": "code",
   "execution_count": 80,
   "metadata": {
    "collapsed": false
   },
   "outputs": [
    {
     "name": "stdout",
     "output_type": "stream",
     "text": [
      "0.0\n",
      "0.0\n",
      "1.0\n",
      "1.0\n"
     ]
    }
   ],
   "source": [
    "for i in aaa:\n",
    "    print(i.label)"
   ]
  },
  {
   "cell_type": "code",
   "execution_count": 47,
   "metadata": {
    "collapsed": false
   },
   "outputs": [],
   "source": [
    "m = NaiveBayes().fit(b)"
   ]
  },
  {
   "cell_type": "code",
   "execution_count": 48,
   "metadata": {
    "collapsed": true
   },
   "outputs": [],
   "source": [
    "test1 = sc.parallelize([Row(features=Vectors.dense([0,0,2,3,0]))]).toDF()"
   ]
  },
  {
   "cell_type": "code",
   "execution_count": 81,
   "metadata": {
    "collapsed": false
   },
   "outputs": [
    {
     "name": "stdout",
     "output_type": "stream",
     "text": [
      "+--------------------+-----+--------------------+--------------------+----------+\n",
      "|            features|label|       rawPrediction|         probability|prediction|\n",
      "+--------------------+-----+--------------------+--------------------+----------+\n",
      "|[0.0,1.0,2.0,3.0,...|  0.0|[-7.4795649893611...|[0.94319247350861...|       0.0|\n",
      "|[0.0,1.0,2.0,4.0,...|  0.0|[-8.2904952055774...|[0.98100834840376...|       0.0|\n",
      "|[0.0,0.0,0.0,0.0,...|  1.0|[-0.6931471805599...|           [0.5,0.5]|       0.0|\n",
      "|[0.0,1.0,1.0,0.0,...|  1.0|[-3.7658404952500...|[0.36189069423929...|       1.0|\n",
      "+--------------------+-----+--------------------+--------------------+----------+\n",
      "\n"
     ]
    }
   ],
   "source": [
    "m.transform(b).show()"
   ]
  },
  {
   "cell_type": "code",
   "execution_count": 50,
   "metadata": {
    "collapsed": true
   },
   "outputs": [],
   "source": [
    "mm = GBTClassifier().fit(b)"
   ]
  },
  {
   "cell_type": "code",
   "execution_count": 51,
   "metadata": {
    "collapsed": false
   },
   "outputs": [
    {
     "data": {
      "text/plain": [
       "Row(features=DenseVector([0.0, 0.0, 2.0, 3.0, 0.0]), prediction=0.0)"
      ]
     },
     "execution_count": 51,
     "metadata": {},
     "output_type": "execute_result"
    }
   ],
   "source": [
    "mm.transform(test1).head()"
   ]
  },
  {
   "cell_type": "code",
   "execution_count": 52,
   "metadata": {
    "collapsed": false
   },
   "outputs": [],
   "source": [
    "mdt = DecisionTreeClassifier().fit(b)"
   ]
  },
  {
   "cell_type": "code",
   "execution_count": 56,
   "metadata": {
    "collapsed": false
   },
   "outputs": [],
   "source": [
    "cs = mdt.transform(test1)"
   ]
  },
  {
   "cell_type": "code",
   "execution_count": 57,
   "metadata": {
    "collapsed": false
   },
   "outputs": [
    {
     "name": "stdout",
     "output_type": "stream",
     "text": [
      "+--------------------+-------------+-----------+----------+\n",
      "|            features|rawPrediction|probability|prediction|\n",
      "+--------------------+-------------+-----------+----------+\n",
      "|[0.0,0.0,2.0,3.0,...|    [2.0,0.0]|  [1.0,0.0]|       0.0|\n",
      "+--------------------+-------------+-----------+----------+\n",
      "\n"
     ]
    }
   ],
   "source": [
    "cs.show()"
   ]
  },
  {
   "cell_type": "code",
   "execution_count": 62,
   "metadata": {
    "collapsed": false
   },
   "outputs": [
    {
     "data": {
      "text/plain": [
       "[Row(prediction=0.0)]"
      ]
     },
     "execution_count": 62,
     "metadata": {},
     "output_type": "execute_result"
    }
   ],
   "source": [
    "cs.select('prediction').collect()"
   ]
  },
  {
   "cell_type": "code",
   "execution_count": 43,
   "metadata": {
    "collapsed": true
   },
   "outputs": [],
   "source": [
    "cc = [('day4-8615195898003-14.17.19.77', [[0, 0, 0, 0, 0, 0, 0, 0, 0, 0, 0, 0, 0, 0, 1, 0, 0, 0], [0, 0, 0, 0, 0, 0, 0, 0, 0, 0, 0, 0, 0, 0, 0, 0, 1, 0, 0, 0, 0, 0, 0, 0, 0, 0, 0, 0, 0, 0, 0, 0, 0, 0, 0, 0, 0, 0, 0, 0, 0, 0, 0, 0, 0, 0, 0, 0, 0, 0, 0, 0, 0, 0, 0, 0, 0, 0, 0, 0, 0, 0, 0], [0, 1, 0, 0, 0, 0, 3, 2, 6, 0, 0, 0, 0, 0, 0, 0, 0, 0, 0, 0, 0, 0, 0, 0], [5], [12], [26], [41], [39064], [169], [0, 0, 0, 0, 0, 0, 62, 0, 179, 0, 0, 0, 0, 0], [0, 0, 0, 0, 0, 0, 0, 0, 0, 0, 0, 0, 0, 0, 0, 0, 0, 0, 0, 62, 0, 0, 0, 0, 0, 0, 0, 0, 0, 0, 0, 179, 0, 0, 0, 0, 0, 0, 0, 0, 0], [8, 5, 2, 0, 1, 1, 3, 7, 8, 14, 9, 11, 10, 11, 13, 12, 9, 11, 11, 13, 15, 16, 27, 24], [241], [1710], [1328], [2603900]]), ('day4-8615195898003-111.10.27.180', [[0, 0, 0, 0, 0, 0, 0, 0, 0, 0, 0, 0, 0, 0, 1, 0, 0, 0], [0, 0, 0, 0, 0, 0, 0, 0, 0, 0, 0, 0, 0, 0, 0, 0, 1, 0, 0, 0, 0, 0, 0, 0, 0, 0, 0, 0, 0, 0, 0, 0, 0, 0, 0, 0, 0, 0, 0, 0, 0, 0, 0, 0, 0, 0, 0, 0, 0, 0, 0, 0, 0, 0, 0, 0, 0, 0, 0, 0, 0, 0, 0], [0, 1, 0, 0, 0, 0, 3, 2, 6, 0, 0, 0, 0, 0, 0, 0, 0, 0, 0, 0, 0, 0, 0, 0], [5], [12], [26], [41], [39064], [3], [0, 0, 0, 0, 0, 0, 3, 0, 0, 0, 0, 0, 2, 0], [0, 0, 0, 0, 0, 0, 0, 0, 2, 0, 0, 0, 0, 0, 0, 0, 0, 0, 0, 3, 0, 0, 0, 0, 0, 0, 0, 0, 0, 0, 0, 0, 0, 0, 0, 0, 0, 0, 0, 0, 0], [0, 0, 0, 0, 0, 0, 0, 0, 0, 0, 0, 0, 3, 0, 0, 0, 0, 1, 0, 0, 0, 0, 1, 0], [5], [409], [620], [89159]]), ('day4-8615195898003-111.30.132.109', [[0, 0, 0, 0, 0, 0, 0, 0, 0, 0, 0, 0, 0, 0, 1, 0, 0, 0], [0, 0, 0, 0, 0, 0, 0, 0, 0, 0, 0, 0, 0, 0, 0, 0, 1, 0, 0, 0, 0, 0, 0, 0, 0, 0, 0, 0, 0, 0, 0, 0, 0, 0, 0, 0, 0, 0, 0, 0, 0, 0, 0, 0, 0, 0, 0, 0, 0, 0, 0, 0, 0, 0, 0, 0, 0, 0, 0, 0, 0, 0, 0], [0, 1, 0, 0, 0, 0, 3, 2, 6, 0, 0, 0, 0, 0, 0, 0, 0, 0, 0, 0, 0, 0, 0, 0], [5], [12], [26], [41], [39064], [3], [0, 0, 0, 0, 0, 0, 0, 0, 4, 0, 0, 0, 0, 0], [0, 0, 0, 0, 0, 0, 0, 0, 0, 0, 0, 0, 0, 0, 0, 0, 0, 0, 0, 0, 0, 0, 0, 0, 0, 0, 0, 0, 0, 0, 0, 4, 0, 0, 0, 0, 0, 0, 0, 0, 0], [0, 0, 0, 0, 0, 0, 0, 0, 0, 3, 0, 0, 0, 1, 0, 0, 0, 0, 0, 0, 0, 0, 0, 0], [4], [29], [27], [27390]])]"
   ]
  },
  {
   "cell_type": "code",
   "execution_count": 86,
   "metadata": {
    "collapsed": true
   },
   "outputs": [],
   "source": [
    "with open('qq11.log', 'a+') as lf:\n",
    "    lf.write(\"sdfsdfhasj\")\n",
    "    lf.write(\"=======\")"
   ]
  },
  {
   "cell_type": "code",
   "execution_count": null,
   "metadata": {
    "collapsed": true
   },
   "outputs": [],
   "source": []
  }
 ],
 "metadata": {
  "anaconda-cloud": {},
  "kernelspec": {
   "display_name": "Python [default]",
   "language": "python",
   "name": "python3"
  },
  "language_info": {
   "codemirror_mode": {
    "name": "ipython",
    "version": 3
   },
   "file_extension": ".py",
   "mimetype": "text/x-python",
   "name": "python",
   "nbconvert_exporter": "python",
   "pygments_lexer": "ipython3",
   "version": "3.5.2"
  }
 },
 "nbformat": 4,
 "nbformat_minor": 1
}
