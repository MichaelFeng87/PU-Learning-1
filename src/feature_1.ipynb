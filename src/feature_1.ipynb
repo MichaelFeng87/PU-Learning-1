{
 "cells": [
  {
   "cell_type": "code",
   "execution_count": 3,
   "metadata": {
    "collapsed": false
   },
   "outputs": [
    {
     "name": "stdout",
     "output_type": "stream",
     "text": [
      "['2013-12-28 23:40:34', '8613770773315', '111.30.132.39', 'web', 'wspeed.qq.com', 'qq', '-', '1087', '3', '3', '8', '2148', '-1']\r\n",
      "['2013-12-28 23:41:41', '8613770773315', '111.30.132.38', 'web', 'wspeed.qq.com', 'qq', '-', '1621', '5', '5', '8', '2148', '-1']\r\n",
      "['2013-12-28 23:43:52', '8613770773315', '111.30.132.39', 'web', 'wspeed.qq.com', 'qq', '-', '1140', '5', '5', '8', '2148', '-1']\r\n"
     ]
    }
   ],
   "source": [
    "!head -3 /media/jw/5dccc50e-7c13-4186-bf6b-d894f02410be/wbb/result/qq_5000_user_data/qq_5000_user_dpi/3days/20131228/part-19143"
   ]
  },
  {
   "cell_type": "raw",
   "metadata": {},
   "source": [
    "0:    2. 2013-12-28 02:56:08      记录时间，年月日时分秒\n",
    "1:    5. 8613851651044        用户账号/手机号\n",
    "2:    28. 111.30.132.34       服务器IP地址，点分十进制IP\n",
    "3:    34. web             业务类型，取值web/wap1/wap2/mms/txt等\n",
    "4:    36. isdspeed.qq.com     WEB/WAP请求HOST\n",
    "5:    37. qq              根据HOST提取的一级域名\n",
    "6:    41. Mozilla/5.0 (Linux; U; Android 4.2.1; zh-cn; Coolpad8720Q Build/JOP40D) AppleWebKit/534.30 (KHTML, like \n",
    "          Gecko) Version/4.0 Mobil    WEB/WAP请求User Agent \n",
    "7:    47. 2795            连接时长，即（流结束时间-流开始时间）\n",
    "8:    48. 10              上行报文数\n",
    "9:    49. 7               下行报文数\n",
    "10:   60. 8               大类业务ID\n",
    "11:   61. 2148            小类业务ID\n",
    "12:   78. 宇龙          终端厂家，UTF-8"
   ]
  },
  {
   "cell_type": "code",
   "execution_count": 91,
   "metadata": {
    "collapsed": true
   },
   "outputs": [],
   "source": [
    "from collections import Counter\n"
   ]
  },
  {
   "cell_type": "code",
   "execution_count": 7,
   "metadata": {
    "collapsed": true
   },
   "outputs": [],
   "source": [
    "qq_5000_user_dpi_day1_f = \"/media/jw/5dccc50e-7c13-4186-bf6b-d894f02410be/wbb/result/qq_5000_user_data/qq_5000_user_dpi/3days/20131228/part-*\"\n",
    "qq_5000_user_dpi_day2_f = \"/media/jw/5dccc50e-7c13-4186-bf6b-d894f02410be/wbb/result/qq_5000_user_data/qq_5000_user_dpi/3days/20131229/part-*\"\n",
    "qq_5000_user_dpi_day3_f = \"/media/jw/5dccc50e-7c13-4186-bf6b-d894f02410be/wbb/result/qq_5000_user_data/qq_5000_user_dpi/3days/20131230/part-*\"\n",
    "\n",
    "qq_5000_user_dpi_day4_f = \"/media/jw/5dccc50e-7c13-4186-bf6b-d894f02410be/wbb/result/qq_5000_user_data/qq_5000_user_dpi/20131231/part-*\"\n",
    "\n",
    "qq_5000_user_dpi_3days_f = \"/media/jw/5dccc50e-7c13-4186-bf6b-d894f02410be/wbb/result/qq_5000_user_data/qq_5000_user_dpi/3days/*/part-*\""
   ]
  },
  {
   "cell_type": "code",
   "execution_count": 128,
   "metadata": {
    "collapsed": true
   },
   "outputs": [],
   "source": [
    "# train data by day\n",
    "qq_5000_user_dpi_day1 = sc.textFile(qq_5000_user_dpi_day1_f).coalesce(50)  # repartition\n",
    "qq_5000_user_dpi_day2 = sc.textFile(qq_5000_user_dpi_day2_f).coalesce(50)\n",
    "qq_5000_user_dpi_day3 = sc.textFile(qq_5000_user_dpi_day3_f).coalesce(50)\n",
    "\n",
    "# test data\n",
    "qq_5000_user_dpi_day4 = sc.textFile(qq_5000_user_dpi_day4_f).coalesce(50)\n",
    "\n",
    "# all 3 days' train data\n",
    "qq_5000_user_dpi_3days = sc.textFile(qq_5000_user_dpi_3days_f).coalesce(50)  \n",
    "\n",
    "qq_5000_user_dpi_4days = sc.union([qq_5000_user_dpi_3days, qq_5000_user_dpi_day4])"
   ]
  },
  {
   "cell_type": "code",
   "execution_count": 10,
   "metadata": {
    "collapsed": true
   },
   "outputs": [],
   "source": [
    "train_positive_pairs_day1 = qq_5000_user_dpi_day1.map(lambda x: 'day1-' + eval(x)[1] + '-' + eval(x)[2])"
   ]
  },
  {
   "cell_type": "code",
   "execution_count": 11,
   "metadata": {
    "collapsed": true
   },
   "outputs": [],
   "source": [
    "train_positive_pairs_day1 = list(set(train_positive_pairs_day1.collect()))"
   ]
  },
  {
   "cell_type": "code",
   "execution_count": 12,
   "metadata": {
    "collapsed": false
   },
   "outputs": [
    {
     "name": "stdout",
     "output_type": "stream",
     "text": [
      "76569\n",
      "['day1-8613770303266-183.207.233.97', 'day1-8615105172269-117.135.171.159', 'day1-8613913813828-117.135.169.19', 'day1-8618252070231-211.136.233.104']\n"
     ]
    }
   ],
   "source": [
    "print(len(train_positive_pairs_day1))\n",
    "print(train_positive_pairs_day1[5:9])"
   ]
  },
  {
   "cell_type": "code",
   "execution_count": 13,
   "metadata": {
    "collapsed": true
   },
   "outputs": [],
   "source": [
    "train_positive_pairs_day2 = qq_5000_user_dpi_day2.map(lambda x: 'day2-' + eval(x)[1] + '-' + eval(x)[2])"
   ]
  },
  {
   "cell_type": "code",
   "execution_count": 14,
   "metadata": {
    "collapsed": true
   },
   "outputs": [],
   "source": [
    "train_positive_pairs_day2 = list(set(train_positive_pairs_day2.collect()))"
   ]
  },
  {
   "cell_type": "code",
   "execution_count": 15,
   "metadata": {
    "collapsed": false
   },
   "outputs": [
    {
     "name": "stdout",
     "output_type": "stream",
     "text": [
      "76809\n",
      "['day2-8613851741572-120.204.200.164', 'day2-8613851840923-117.135.171.239', 'day2-8613813838348-120.196.210.95', 'day2-8615189842330-120.204.201.199']\n"
     ]
    }
   ],
   "source": [
    "print(len(train_positive_pairs_day2))\n",
    "print(train_positive_pairs_day2[5:9])"
   ]
  },
  {
   "cell_type": "code",
   "execution_count": 17,
   "metadata": {
    "collapsed": true
   },
   "outputs": [],
   "source": [
    "train_positive_pairs_day3 = qq_5000_user_dpi_day3.map(lambda x: 'day3-' + eval(x)[1] + '-' + eval(x)[2])"
   ]
  },
  {
   "cell_type": "code",
   "execution_count": 18,
   "metadata": {
    "collapsed": true
   },
   "outputs": [],
   "source": [
    "train_positive_pairs_day3 = list(set(train_positive_pairs_day3.collect()))"
   ]
  },
  {
   "cell_type": "code",
   "execution_count": 19,
   "metadata": {
    "collapsed": false
   },
   "outputs": [
    {
     "name": "stdout",
     "output_type": "stream",
     "text": [
      "82208\n",
      "['day3-8615895979031-120.196.210.95', 'day3-8615895989367-120.198.196.11', 'day3-8613665722685-120.198.201.59', 'day3-8613951085451-60.172.80.57']\n"
     ]
    }
   ],
   "source": [
    "print(len(train_positive_pairs_day3))\n",
    "print(train_positive_pairs_day3[5:9])"
   ]
  },
  {
   "cell_type": "code",
   "execution_count": 20,
   "metadata": {
    "collapsed": true
   },
   "outputs": [],
   "source": [
    "train_positive_pairs = train_positive_pairs_day1 + train_positive_pairs_day2 + train_positive_pairs_day3"
   ]
  },
  {
   "cell_type": "code",
   "execution_count": 21,
   "metadata": {
    "collapsed": false
   },
   "outputs": [
    {
     "name": "stdout",
     "output_type": "stream",
     "text": [
      "235586\n",
      "['day1-8618761696532-221.179.18.179', 'day1-8613851906441-221.179.19.156', 'day1-8618252050428-111.30.128.27'] ['day2-8618752026657-120.198.199.176', 'day2-8613815857018-101.226.76.175']\n"
     ]
    }
   ],
   "source": [
    "print(len(train_positive_pairs))\n",
    "print(train_positive_pairs[:3],train_positive_pairs[76809:76811])"
   ]
  },
  {
   "cell_type": "code",
   "execution_count": 27,
   "metadata": {
    "collapsed": true
   },
   "outputs": [],
   "source": [
    "sc.parallelize(train_positive_pairs).coalesce(24)\\\n",
    ".saveAsTextFile(\"/media/jw/5dccc50e-7c13-4186-bf6b-d894f02410be/wbb/result/pu_learning/train_pos_pairs\")"
   ]
  },
  {
   "cell_type": "code",
   "execution_count": 150,
   "metadata": {
    "collapsed": true
   },
   "outputs": [],
   "source": [
    "test_positive_pairs_day4 = list(set(qq_5000_user_dpi_day4.filter(lambda x: eval(x)[2] in server_ip_1684)\\\n",
    "                                    .map(lambda x: eval(x)[1] + '-' + eval(x)[2]).collect()))"
   ]
  },
  {
   "cell_type": "code",
   "execution_count": 22,
   "metadata": {
    "collapsed": true
   },
   "outputs": [],
   "source": [
    "# 5000个用户的id和1684个服务器ip\n",
    "user_phone_5000_f = \"/media/jw/5dccc50e-7c13-4186-bf6b-d894f02410be/wbb/result/qq_5000_user_data/user_phone_5000/part-*\"\n",
    "server_ip_1684_f = \"/media/jw/5dccc50e-7c13-4186-bf6b-d894f02410be/wbb/result/qq_5000_user_data/server_ip_1684/part-*\""
   ]
  },
  {
   "cell_type": "code",
   "execution_count": 23,
   "metadata": {
    "collapsed": true
   },
   "outputs": [],
   "source": [
    "user_phone_5000 = sc.textFile(user_phone_5000_f).collect()\n",
    "server_ip_1684 = sc.textFile(server_ip_1684_f).collect()"
   ]
  },
  {
   "cell_type": "code",
   "execution_count": 24,
   "metadata": {
    "collapsed": false
   },
   "outputs": [
    {
     "name": "stdout",
     "output_type": "stream",
     "text": [
      "5000 1684\n"
     ]
    }
   ],
   "source": [
    "print(len(user_phone_5000),len(server_ip_1684))"
   ]
  },
  {
   "cell_type": "code",
   "execution_count": 117,
   "metadata": {
    "collapsed": true
   },
   "outputs": [],
   "source": [
    "all_edges = [] # 5000 * 1684\n",
    "for u in user_phone_5000:\n",
    "    for s in server_ip_1684:\n",
    "        edge = u + '-' + s\n",
    "        all_edges.append(edge)"
   ]
  },
  {
   "cell_type": "code",
   "execution_count": 118,
   "metadata": {
    "collapsed": false
   },
   "outputs": [
    {
     "name": "stdout",
     "output_type": "stream",
     "text": [
      "8420000\n",
      "['8615195898003-111.30.132.109', '8615195898003-117.135.130.175', '8615195898003-14.17.37.157']\n"
     ]
    }
   ],
   "source": [
    "print(len(all_edges))\n",
    "print(all_edges[2:5])"
   ]
  },
  {
   "cell_type": "code",
   "execution_count": 32,
   "metadata": {
    "collapsed": true
   },
   "outputs": [],
   "source": [
    "train_positive_pairs_3days = qq_5000_user_dpi_3days.map(lambda x: eval(x)[1] + '-' + eval(x)[2]).collect()"
   ]
  },
  {
   "cell_type": "code",
   "execution_count": 33,
   "metadata": {
    "collapsed": false
   },
   "outputs": [],
   "source": [
    "unlabled_edges = list(set(all_edges)-set(train_positive_pairs_3days))   # 三天都没有过连接的user-server对作为unlabled数据"
   ]
  },
  {
   "cell_type": "code",
   "execution_count": 34,
   "metadata": {
    "collapsed": true
   },
   "outputs": [],
   "source": [
    "train_unlabled_pairs = ['day123-' + i for i in unlabled_edges]"
   ]
  },
  {
   "cell_type": "code",
   "execution_count": 35,
   "metadata": {
    "collapsed": false
   },
   "outputs": [
    {
     "name": "stdout",
     "output_type": "stream",
     "text": [
      "8268837\n",
      "['day123-8615151857865-117.135.171.164', 'day123-8613564790292-112.90.78.61', 'day123-8613914733776-61.177.126.84']\n"
     ]
    }
   ],
   "source": [
    "print(len(train_unlabled_pairs))\n",
    "print(train_unlabled_pairs[2:5])"
   ]
  },
  {
   "cell_type": "code",
   "execution_count": 151,
   "metadata": {
    "collapsed": true
   },
   "outputs": [],
   "source": [
    "test_ublabled_pairs_day4 = list(set(all_edges)-set(test_positive_pairs_day4))"
   ]
  },
  {
   "cell_type": "code",
   "execution_count": 152,
   "metadata": {
    "collapsed": true
   },
   "outputs": [],
   "source": [
    "test_ublabled_pairs_day4 = ['day4-' + i for i in test_ublabled_pairs_day4]"
   ]
  },
  {
   "cell_type": "code",
   "execution_count": 153,
   "metadata": {
    "collapsed": false
   },
   "outputs": [
    {
     "name": "stdout",
     "output_type": "stream",
     "text": [
      "77653\n",
      "8342347 ['day4-8615151840328-119.167.195.26', 'day4-8615850607902-203.205.161.165', 'day4-8615151857865-117.135.171.164']\n"
     ]
    }
   ],
   "source": [
    "print(len(test_positive_pairs_day4))\n",
    "print(len(test_ublabled_pairs_day4),test_ublabled_pairs_day4[:3])"
   ]
  },
  {
   "cell_type": "code",
   "execution_count": 154,
   "metadata": {
    "collapsed": false
   },
   "outputs": [
    {
     "data": {
      "text/plain": [
       "8420000"
      ]
     },
     "execution_count": 154,
     "metadata": {},
     "output_type": "execute_result"
    }
   ],
   "source": [
    "77653+8342347"
   ]
  },
  {
   "cell_type": "code",
   "execution_count": 155,
   "metadata": {
    "collapsed": false
   },
   "outputs": [],
   "source": [
    "sc.parallelize(test_ublabled_pairs_day4).coalesce(24)\\\n",
    ".saveAsTextFile(\"/media/jw/5dccc50e-7c13-4186-bf6b-d894f02410be/wbb/result/pu_learning/test_unlabled_pairs/1231\")"
   ]
  },
  {
   "cell_type": "code",
   "execution_count": 39,
   "metadata": {
    "collapsed": true
   },
   "outputs": [],
   "source": [
    "# 总共63个终端品牌\n",
    "all_brand = list(set(qq_5000_user_dpi_3days.map(lambda x: eval(x)[12]).collect()))"
   ]
  },
  {
   "cell_type": "code",
   "execution_count": 40,
   "metadata": {
    "collapsed": false
   },
   "outputs": [
    {
     "name": "stdout",
     "output_type": "stream",
     "text": [
      "63\n",
      "['�ƽ�', '֪��Ѹ��', '����������', 'Rayhov', '����Ѷ', 'E��', '��������', 'TCL', 'LG', '���ͨ', '�¿�˹', 'ŷ����', '��Ѷ', '�λ���', '����Ħ��', '����', 'ɽկ��', 'oppo', '�е�', '���', '˫��', 'С�\\u05ffƼ�', 'NEC', '���ᰮ����', 'UNISCOPE', '-1', 'ɣ��', '�Ϲ⺣̩', 'HTC', '���Ŵ�', '��Ψ־Զ', 'С��', '��ʱ��', 'ƻ��', 'OPPO', 'ŵ����', '��ͨ', '���Դ', 'ʱͨΰҵ', 'Э������', '�\\ueeea', 'άͼ', '��ɭ�Ƽ�', '������ͨ', '��Τ��', '����ͨ', 'ά��', '������', '���մ�', '�Ź�ʱ��', 'ǧ����', '�ȷ�', 'Ӣ����', '�Ķ��Ƽ�', '�µϺ�', 'Ħ������', 'Ħ��', '��Դ', '��ݮ', 'ŷ��', '�ȸ�', '��Ψ', '��Ϊ']\n"
     ]
    }
   ],
   "source": [
    "print(len(all_brand))\n",
    "print(all_brand)"
   ]
  },
  {
   "cell_type": "code",
   "execution_count": 43,
   "metadata": {
    "collapsed": true
   },
   "outputs": [],
   "source": [
    "sc.parallelize(all_brand).coalesce(1)\\\n",
    ".saveAsTextFile(\"/media/jw/5dccc50e-7c13-4186-bf6b-d894f02410be/wbb/result/pu_learning/all_brand\")"
   ]
  },
  {
   "cell_type": "code",
   "execution_count": 44,
   "metadata": {
    "collapsed": true
   },
   "outputs": [],
   "source": [
    "def brand(x):\n",
    "    all_brand = ['�ƽ�', '֪��Ѹ��', '����������', 'Rayhov', '����Ѷ', 'E��', '��������', 'TCL', 'LG', '���ͨ', '�¿�˹', 'ŷ����', '��Ѷ', '�λ���', '����Ħ��', '����', 'ɽկ��', 'oppo', '�е�', '���', '˫��', 'С�\\u05ffƼ�', 'NEC', '���ᰮ����', 'UNISCOPE', '-1', 'ɣ��', '�Ϲ⺣̩', 'HTC', '���Ŵ�', '��Ψ־Զ', 'С��', '��ʱ��', 'ƻ��', 'OPPO', 'ŵ����', '��ͨ', '���Դ', 'ʱͨΰҵ', 'Э������', '�\\ueeea', 'άͼ', '��ɭ�Ƽ�', '������ͨ', '��Τ��', '����ͨ', 'ά��', '������', '���մ�', '�Ź�ʱ��', 'ǧ����', '�ȷ�', 'Ӣ����', '�Ķ��Ƽ�', '�µϺ�', 'Ħ������', 'Ħ��', '��Դ', '��ݮ', 'ŷ��', '�ȸ�', '��Ψ', '��Ϊ']\n",
    "    feature_brand = [0 for i in range(63)]\n",
    "    feature_brand[all_brand.index(x)] = 1\n",
    "    return feature_brand"
   ]
  },
  {
   "cell_type": "code",
   "execution_count": 36,
   "metadata": {
    "collapsed": true
   },
   "outputs": [],
   "source": [
    "user_brand_f = \"/media/jw/5dccc50e-7c13-4186-bf6b-d894f02410be/wbb/result/qq_5000_user_data/user_brand\""
   ]
  },
  {
   "cell_type": "code",
   "execution_count": 46,
   "metadata": {
    "collapsed": false
   },
   "outputs": [],
   "source": [
    "# ('8613851429132', '������')\n",
    "user_brand = sc.textFile(user_brand_f).map(lambda x: (eval(x)[0], brand(eval(x)[1])))"
   ]
  },
  {
   "cell_type": "code",
   "execution_count": 48,
   "metadata": {
    "collapsed": false
   },
   "outputs": [
    {
     "name": "stdout",
     "output_type": "stream",
     "text": [
      "[('8613851429132', [0, 0, 0, 0, 0, 0, 0, 0, 0, 0, 0, 0, 0, 0, 0, 0, 0, 0, 0, 0, 0, 0, 0, 0, 0, 0, 0, 0, 0, 0, 0, 0, 0, 0, 0, 0, 0, 0, 0, 0, 0, 0, 0, 0, 0, 0, 0, 1, 0, 0, 0, 0, 0, 0, 0, 0, 0, 0, 0, 0, 0, 0, 0]), ('8615722826043', [0, 0, 0, 0, 0, 0, 0, 0, 0, 0, 0, 0, 0, 0, 0, 1, 0, 0, 0, 0, 0, 0, 0, 0, 0, 0, 0, 0, 0, 0, 0, 0, 0, 0, 0, 0, 0, 0, 0, 0, 0, 0, 0, 0, 0, 0, 0, 0, 0, 0, 0, 0, 0, 0, 0, 0, 0, 0, 0, 0, 0, 0, 0]), ('8618260098095', [0, 0, 0, 0, 0, 0, 0, 0, 0, 0, 0, 0, 0, 0, 0, 1, 0, 0, 0, 0, 0, 0, 0, 0, 0, 0, 0, 0, 0, 0, 0, 0, 0, 0, 0, 0, 0, 0, 0, 0, 0, 0, 0, 0, 0, 0, 0, 0, 0, 0, 0, 0, 0, 0, 0, 0, 0, 0, 0, 0, 0, 0, 0])]\n"
     ]
    }
   ],
   "source": [
    "print(user_brand.take(3))\n",
    "print(user_brand.take(3))"
   ]
  },
  {
   "cell_type": "code",
   "execution_count": 49,
   "metadata": {
    "collapsed": true
   },
   "outputs": [],
   "source": [
    "user_brand.coalesce(2)\\\n",
    ".saveAsTextFile(\"/media/jw/5dccc50e-7c13-4186-bf6b-d894f02410be/wbb/result/pu_learning/user_brand\")"
   ]
  },
  {
   "cell_type": "code",
   "execution_count": 52,
   "metadata": {
    "collapsed": false
   },
   "outputs": [],
   "source": [
    "train_positive_pairs_day1_user = sc.parallelize(train_positive_pairs_day1).map(lambda x:((x.split('-')[1],x)))"
   ]
  },
  {
   "cell_type": "code",
   "execution_count": 53,
   "metadata": {
    "collapsed": false
   },
   "outputs": [
    {
     "data": {
      "text/plain": [
       "[('8618761696532', 'day1-8618761696532-221.179.18.179')]"
      ]
     },
     "execution_count": 53,
     "metadata": {},
     "output_type": "execute_result"
    }
   ],
   "source": [
    "train_positive_pairs_day1_user.take(1)"
   ]
  },
  {
   "cell_type": "code",
   "execution_count": 61,
   "metadata": {
    "collapsed": false
   },
   "outputs": [],
   "source": [
    "train_positive_pairs_day1_user_brand = train_positive_pairs_day1_user.union(user_brand).groupByKey().mapValues(list)"
   ]
  },
  {
   "cell_type": "code",
   "execution_count": 63,
   "metadata": {
    "collapsed": false
   },
   "outputs": [
    {
     "name": "stdout",
     "output_type": "stream",
     "text": [
      "[('8613851429132', ['day1-8613851429132-111.30.135.151', 'day1-8613851429132-117.135.171.159', 'day1-8613851429132-117.135.169.19', 'day1-8613851429132-123.125.87.72', 'day1-8613851429132-223.85.133.151', 'day1-8613851429132-117.135.171.156', 'day1-8613851429132-140.206.160.179', [0, 0, 0, 0, 0, 0, 0, 0, 0, 0, 0, 0, 0, 0, 0, 0, 0, 0, 0, 0, 0, 0, 0, 0, 0, 0, 0, 0, 0, 0, 0, 0, 0, 0, 0, 0, 0, 0, 0, 0, 0, 0, 0, 0, 0, 0, 0, 1, 0, 0, 0, 0, 0, 0, 0, 0, 0, 0, 0, 0, 0, 0, 0]]), ('8613805141374', ['day1-8613805141374-120.198.189.123', 'day1-8613805141374-120.204.200.161', 'day1-8613805141374-58.250.132.244', 'day1-8613805141374-120.198.189.124', 'day1-8613805141374-120.198.189.125', 'day1-8613805141374-183.207.234.69', 'day1-8613805141374-117.135.169.19', 'day1-8613805141374-58.251.62.24', 'day1-8613805141374-120.204.200.174', 'day1-8613805141374-183.207.234.71', 'day1-8613805141374-183.207.234.72', 'day1-8613805141374-58.250.132.81', 'day1-8613805141374-112.90.140.203', 'day1-8613805141374-120.204.200.164', 'day1-8613805141374-163.177.65.158', 'day1-8613805141374-120.198.189.126', 'day1-8613805141374-183.207.234.67', 'day1-8613805141374-183.207.234.70', 'day1-8613805141374-120.204.200.177', 'day1-8613805141374-111.30.135.151', 'day1-8613805141374-112.25.58.197', 'day1-8613805141374-183.207.233.95', 'day1-8613805141374-58.250.132.245', [0, 0, 0, 0, 0, 0, 0, 0, 0, 0, 0, 0, 0, 0, 0, 0, 0, 0, 0, 0, 0, 0, 0, 0, 0, 1, 0, 0, 0, 0, 0, 0, 0, 0, 0, 0, 0, 0, 0, 0, 0, 0, 0, 0, 0, 0, 0, 0, 0, 0, 0, 0, 0, 0, 0, 0, 0, 0, 0, 0, 0, 0, 0]])]\n"
     ]
    }
   ],
   "source": [
    "print(train_positive_pairs_day1_user_brand.take(2))"
   ]
  },
  {
   "cell_type": "code",
   "execution_count": 64,
   "metadata": {
    "collapsed": true
   },
   "outputs": [],
   "source": [
    "user_activetime_f = \"/media/jw/5dccc50e-7c13-4186-bf6b-d894f02410be/wbb/result/qq_5000_user_data/user_activetime\" "
   ]
  },
  {
   "cell_type": "code",
   "execution_count": 65,
   "metadata": {
    "collapsed": true
   },
   "outputs": [],
   "source": [
    "# 用户前三天每个小时的访问qq的次数总和.\n",
    "# [('8613851429132', [0, 0, 0, 0, 0, 0, 0, 0, 0, 0, 0, 10, 4, 0, 12, 0, 0, 0, 0, 39, 8, 0, 0, 0])]\n",
    "user_activetime = sc.textFile(user_activetime_f).map(lambda x:(eval(x)[0],eval(x)[1]))"
   ]
  },
  {
   "cell_type": "code",
   "execution_count": 68,
   "metadata": {
    "collapsed": true
   },
   "outputs": [],
   "source": [
    "train_positive_pairs_day1_user_brand_activetime = train_positive_pairs_day1_user.union(user_brand)\\\n",
    ".union(user_activetime).groupByKey().mapValues(list).map(lambda x: x[1])"
   ]
  },
  {
   "cell_type": "code",
   "execution_count": 70,
   "metadata": {
    "collapsed": false,
    "scrolled": true
   },
   "outputs": [
    {
     "name": "stdout",
     "output_type": "stream",
     "text": [
      "[['day1-8613913304443-58.251.148.250', 'day1-8613913304443-58.251.148.164', 'day1-8613913304443-120.204.200.161', 'day1-8613913304443-111.30.135.151', 'day1-8613913304443-120.198.189.102', 'day1-8613913304443-117.135.128.17', 'day1-8613913304443-120.198.201.59', 'day1-8613913304443-117.135.171.156', 'day1-8613913304443-120.204.200.103', 'day1-8613913304443-120.198.189.104', 'day1-8613913304443-58.251.148.145', 'day1-8613913304443-117.135.128.15', 'day1-8613913304443-120.198.201.62', 'day1-8613913304443-183.207.233.95', 'day1-8613913304443-117.135.171.236', 'day1-8613913304443-117.135.128.31', 'day1-8613913304443-58.251.148.242', 'day1-8613913304443-58.251.148.246', 'day1-8613913304443-117.135.128.19', 'day1-8613913304443-183.207.233.97', 'day1-8613913304443-183.232.125.153', 'day1-8613913304443-117.135.128.13', 'day1-8613913304443-223.85.133.151', 'day1-8613913304443-120.204.200.164', 'day1-8613913304443-117.135.128.58', [0, 0, 0, 0, 0, 0, 0, 0, 0, 0, 0, 0, 0, 0, 0, 0, 0, 0, 0, 0, 0, 0, 0, 0, 0, 0, 0, 0, 0, 0, 0, 0, 0, 0, 1, 0, 0, 0, 0, 0, 0, 0, 0, 0, 0, 0, 0, 0, 0, 0, 0, 0, 0, 0, 0, 0, 0, 0, 0, 0, 0, 0, 0], [0, 1, 0, 0, 0, 0, 0, 6, 40, 11, 0, 16, 31, 0, 16, 46, 19, 6, 19, 16, 51, 0, 0, 0]], ['day1-8615951684387-119.147.19.235', 'day1-8615951684387-120.204.200.44', 'day1-8615951684387-120.203.230.165', 'day1-8615951684387-223.82.245.23', 'day1-8615951684387-211.136.233.112', 'day1-8615951684387-117.135.171.237', 'day1-8615951684387-119.147.19.241', 'day1-8615951684387-183.207.234.67', 'day1-8615951684387-183.207.234.68', 'day1-8615951684387-120.198.199.170', 'day1-8615951684387-120.196.210.162', 'day1-8615951684387-221.179.18.180', 'day1-8615951684387-183.207.233.94', 'day1-8615951684387-183.207.233.97', 'day1-8615951684387-120.196.210.158', 'day1-8615951684387-183.207.234.72', 'day1-8615951684387-120.196.210.176', 'day1-8615951684387-211.136.232.16', 'day1-8615951684387-117.135.128.13', 'day1-8615951684387-120.196.210.152', 'day1-8615951684387-120.196.210.166', 'day1-8615951684387-120.204.200.177', 'day1-8615951684387-119.147.19.233', 'day1-8615951684387-120.196.210.138', 'day1-8615951684387-183.207.234.62', 'day1-8615951684387-221.179.18.178', 'day1-8615951684387-211.136.232.26', 'day1-8615951684387-119.147.19.244', 'day1-8615951684387-183.207.234.66', 'day1-8615951684387-120.204.200.86', 'day1-8615951684387-183.207.234.65', 'day1-8615951684387-119.147.19.253', 'day1-8615951684387-120.196.210.146', 'day1-8615951684387-117.135.128.22', 'day1-8615951684387-117.135.128.44', 'day1-8615951684387-120.196.210.156', 'day1-8615951684387-183.232.98.169', 'day1-8615951684387-183.207.234.63', 'day1-8615951684387-112.25.58.142', 'day1-8615951684387-120.204.200.68', 'day1-8615951684387-120.196.210.143', 'day1-8615951684387-120.196.210.175', 'day1-8615951684387-221.179.18.176', 'day1-8615951684387-117.135.130.159', 'day1-8615951684387-221.179.18.182', 'day1-8615951684387-120.196.210.154', 'day1-8615951684387-211.136.232.24', 'day1-8615951684387-117.135.169.176', 'day1-8615951684387-183.207.233.95', 'day1-8615951684387-120.204.200.57', 'day1-8615951684387-183.207.234.70', 'day1-8615951684387-117.135.128.147', 'day1-8615951684387-120.204.200.161', 'day1-8615951684387-117.135.169.177', 'day1-8615951684387-183.207.234.69', 'day1-8615951684387-183.207.234.73', 'day1-8615951684387-120.204.200.174', 'day1-8615951684387-117.135.171.240', 'day1-8615951684387-119.147.19.234', 'day1-8615951684387-211.136.232.20', 'day1-8615951684387-120.196.210.160', [0, 0, 0, 0, 0, 0, 0, 0, 0, 0, 0, 0, 0, 0, 0, 1, 0, 0, 0, 0, 0, 0, 0, 0, 0, 0, 0, 0, 0, 0, 0, 0, 0, 0, 0, 0, 0, 0, 0, 0, 0, 0, 0, 0, 0, 0, 0, 0, 0, 0, 0, 0, 0, 0, 0, 0, 0, 0, 0, 0, 0, 0, 0], [0, 0, 0, 0, 0, 0, 0, 0, 0, 0, 109, 216, 124, 108, 0, 163, 561, 17, 78, 1, 188, 885, 0, 3]]]\n"
     ]
    }
   ],
   "source": [
    "print(train_positive_pairs_day1_user_brand_activetime.take(2))"
   ]
  },
  {
   "cell_type": "code",
   "execution_count": 73,
   "metadata": {
    "collapsed": true
   },
   "outputs": [],
   "source": [
    "def brand_activetime(x):\n",
    "    res = []\n",
    "    for i in x[:-2]:\n",
    "        s = (i, x[-2], x[-1])\n",
    "        res.append(s)\n",
    "    return res"
   ]
  },
  {
   "cell_type": "code",
   "execution_count": 80,
   "metadata": {
    "collapsed": false,
    "scrolled": true
   },
   "outputs": [],
   "source": [
    "aa = train_positive_pairs_day1_user_brand_activetime.map(lambda x: brand_activetime(x)).flatMap(lambda x: x)"
   ]
  },
  {
   "cell_type": "code",
   "execution_count": 82,
   "metadata": {
    "collapsed": false
   },
   "outputs": [
    {
     "name": "stdout",
     "output_type": "stream",
     "text": [
      "[('day1-8613913304443-58.251.148.250', [0, 0, 0, 0, 0, 0, 0, 0, 0, 0, 0, 0, 0, 0, 0, 0, 0, 0, 0, 0, 0, 0, 0, 0, 0, 0, 0, 0, 0, 0, 0, 0, 0, 0, 1, 0, 0, 0, 0, 0, 0, 0, 0, 0, 0, 0, 0, 0, 0, 0, 0, 0, 0, 0, 0, 0, 0, 0, 0, 0, 0, 0, 0], [0, 1, 0, 0, 0, 0, 0, 6, 40, 11, 0, 16, 31, 0, 16, 46, 19, 6, 19, 16, 51, 0, 0, 0]), ('day1-8613913304443-58.251.148.164', [0, 0, 0, 0, 0, 0, 0, 0, 0, 0, 0, 0, 0, 0, 0, 0, 0, 0, 0, 0, 0, 0, 0, 0, 0, 0, 0, 0, 0, 0, 0, 0, 0, 0, 1, 0, 0, 0, 0, 0, 0, 0, 0, 0, 0, 0, 0, 0, 0, 0, 0, 0, 0, 0, 0, 0, 0, 0, 0, 0, 0, 0, 0], [0, 1, 0, 0, 0, 0, 0, 6, 40, 11, 0, 16, 31, 0, 16, 46, 19, 6, 19, 16, 51, 0, 0, 0])]\n"
     ]
    }
   ],
   "source": [
    "print(aa.take(2))"
   ]
  },
  {
   "cell_type": "code",
   "execution_count": 83,
   "metadata": {
    "collapsed": true
   },
   "outputs": [],
   "source": [
    "train_positive_pairs_day1_server = sc.parallelize(train_positive_pairs_day1).map(lambda x:((x.split('-')[2],x)))"
   ]
  },
  {
   "cell_type": "code",
   "execution_count": 84,
   "metadata": {
    "collapsed": false
   },
   "outputs": [
    {
     "name": "stdout",
     "output_type": "stream",
     "text": [
      "[('221.179.18.179', 'day1-8618761696532-221.179.18.179'), ('221.179.19.156', 'day1-8613851906441-221.179.19.156')]\n"
     ]
    }
   ],
   "source": [
    "print(train_positive_pairs_day1_server.take(2))"
   ]
  },
  {
   "cell_type": "code",
   "execution_count": 85,
   "metadata": {
    "collapsed": true
   },
   "outputs": [],
   "source": [
    "all_service = list(set(qq_5000_user_dpi_3days.map(lambda x: eval(x)[10]).collect()))\n",
    "all_sub_service = list(set(qq_5000_user_dpi_3days.map(lambda x: eval(x)[11]).collect()))"
   ]
  },
  {
   "cell_type": "code",
   "execution_count": 87,
   "metadata": {
    "collapsed": false
   },
   "outputs": [
    {
     "name": "stdout",
     "output_type": "stream",
     "text": [
      "14 41\n",
      "['24', '18', '14', '10', '3', '2', '7', '0', '4', '23', '1', '8', '6', '21'] ['2091', '14', '782', '1844', '2087', '1035', '1544', '1049', '1029', '2346', '2171', '2573', '258', '1827', '2082', '337', '1043', '2088', '1793', '2148', '1545', '339', '515', '0', '1553', '1050', '2570', '2149', '323', '1326', '1073', '1025', '1042', '1322', '1041', '528', '1072', '322', '1074', '802', '777']\n"
     ]
    }
   ],
   "source": [
    "print(len(all_service),len(all_sub_service))\n",
    "print(all_service, all_sub_service)"
   ]
  },
  {
   "cell_type": "code",
   "execution_count": 88,
   "metadata": {
    "collapsed": true
   },
   "outputs": [],
   "source": [
    "sc.parallelize(all_service).coalesce(1)\\\n",
    ".saveAsTextFile(\"/media/jw/5dccc50e-7c13-4186-bf6b-d894f02410be/wbb/result/pu_learning/all_service_ID\")\n",
    "sc.parallelize(all_sub_service).coalesce(1)\\\n",
    ".saveAsTextFile(\"/media/jw/5dccc50e-7c13-4186-bf6b-d894f02410be/wbb/result/pu_learning/all_sub_service_ID\")"
   ]
  },
  {
   "cell_type": "code",
   "execution_count": 139,
   "metadata": {
    "collapsed": true
   },
   "outputs": [],
   "source": [
    "server_service = qq_5000_user_dpi_3days.map(lambda x: (eval(x)[2], eval(x)[10])).groupByKey().mapValues(list)\\\n",
    ".map(lambda x: (x[0], dict(Counter(x[1]))))"
   ]
  },
  {
   "cell_type": "code",
   "execution_count": 140,
   "metadata": {
    "collapsed": false
   },
   "outputs": [
    {
     "name": "stdout",
     "output_type": "stream",
     "text": [
      "[('14.17.19.77', {'4': 575, '7': 204}), ('111.10.27.180', {'4': 1, '6': 52})]\n",
      "1684\n"
     ]
    }
   ],
   "source": [
    "print(server_service.take(2))\n",
    "print(server_service.count())"
   ]
  },
  {
   "cell_type": "code",
   "execution_count": 141,
   "metadata": {
    "collapsed": true
   },
   "outputs": [],
   "source": [
    "def get_feature(dic, all_feature):\n",
    "    res = [0 for i in range(len(all_feature))]\n",
    "    #time_hour = ['00', '01', '02', '03', '04', '05', '06', '07', '08', '09', '10', '11', '12', '13', '14', '15', '16', '17', '18', '19', '20', '21', '22', '23']\n",
    "    for i in range(len(all_feature)):\n",
    "        res[i] = dic.get(all_feature[i],0)\n",
    "    return res"
   ]
  },
  {
   "cell_type": "code",
   "execution_count": 142,
   "metadata": {
    "collapsed": true
   },
   "outputs": [],
   "source": [
    "server_service = server_service.map(lambda x:(x[0], get_feature(x[1], all_service)))"
   ]
  },
  {
   "cell_type": "code",
   "execution_count": 143,
   "metadata": {
    "collapsed": false
   },
   "outputs": [
    {
     "name": "stdout",
     "output_type": "stream",
     "text": [
      "[('14.17.19.77', [0, 0, 0, 0, 0, 0, 204, 0, 575, 0, 0, 0, 0, 0]), ('111.10.27.180', [0, 0, 0, 0, 0, 0, 0, 0, 1, 0, 0, 0, 52, 0])]\n",
      "1684\n"
     ]
    }
   ],
   "source": [
    "print(server_service.take(2))\n",
    "print(server_service.count())"
   ]
  },
  {
   "cell_type": "code",
   "execution_count": 144,
   "metadata": {
    "collapsed": true
   },
   "outputs": [],
   "source": [
    "server_service.coalesce(1)\\\n",
    ".saveAsTextFile(\"/media/jw/5dccc50e-7c13-4186-bf6b-d894f02410be/wbb/result/pu_learning/server_service_feature\")"
   ]
  },
  {
   "cell_type": "code",
   "execution_count": 145,
   "metadata": {
    "collapsed": true
   },
   "outputs": [],
   "source": [
    "server_sub_service = qq_5000_user_dpi_3days.map(lambda x: (eval(x)[2], eval(x)[11])).groupByKey().mapValues(list)\\\n",
    ".map(lambda x: (x[0], dict(Counter(x[1]))))"
   ]
  },
  {
   "cell_type": "code",
   "execution_count": 146,
   "metadata": {
    "collapsed": false
   },
   "outputs": [
    {
     "name": "stdout",
     "output_type": "stream",
     "text": [
      "[('14.17.19.77', {'1025': 575, '1793': 204}), ('111.10.27.180', {'1025': 1, '1029': 52})]\n"
     ]
    }
   ],
   "source": [
    "print(server_sub_service.take(2))"
   ]
  },
  {
   "cell_type": "code",
   "execution_count": 147,
   "metadata": {
    "collapsed": true
   },
   "outputs": [],
   "source": [
    "server_sub_service = server_sub_service.map(lambda x:(x[0], get_feature(x[1], all_sub_service)))"
   ]
  },
  {
   "cell_type": "code",
   "execution_count": 148,
   "metadata": {
    "collapsed": false
   },
   "outputs": [
    {
     "name": "stdout",
     "output_type": "stream",
     "text": [
      "[('14.17.19.77', [0, 0, 0, 0, 0, 0, 0, 0, 0, 0, 0, 0, 0, 0, 0, 0, 0, 0, 204, 0, 0, 0, 0, 0, 0, 0, 0, 0, 0, 0, 0, 575, 0, 0, 0, 0, 0, 0, 0, 0, 0]), ('111.10.27.180', [0, 0, 0, 0, 0, 0, 0, 0, 52, 0, 0, 0, 0, 0, 0, 0, 0, 0, 0, 0, 0, 0, 0, 0, 0, 0, 0, 0, 0, 0, 0, 1, 0, 0, 0, 0, 0, 0, 0, 0, 0])]\n"
     ]
    }
   ],
   "source": [
    "print(server_sub_service.take(2))"
   ]
  },
  {
   "cell_type": "code",
   "execution_count": 149,
   "metadata": {
    "collapsed": true
   },
   "outputs": [],
   "source": [
    "server_sub_service.coalesce(1)\\\n",
    ".saveAsTextFile(\"/media/jw/5dccc50e-7c13-4186-bf6b-d894f02410be/wbb/result/pu_learning/server_subservice_feature\")"
   ]
  },
  {
   "cell_type": "code",
   "execution_count": null,
   "metadata": {
    "collapsed": true
   },
   "outputs": [],
   "source": []
  }
 ],
 "metadata": {
  "anaconda-cloud": {},
  "kernelspec": {
   "display_name": "Python [default]",
   "language": "python",
   "name": "python3"
  },
  "language_info": {
   "codemirror_mode": {
    "name": "ipython",
    "version": 3
   },
   "file_extension": ".py",
   "mimetype": "text/x-python",
   "name": "python",
   "nbconvert_exporter": "python",
   "pygments_lexer": "ipython3",
   "version": "3.5.2"
  }
 },
 "nbformat": 4,
 "nbformat_minor": 1
}
