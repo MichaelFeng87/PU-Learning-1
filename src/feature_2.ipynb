{
 "cells": [
  {
   "cell_type": "code",
   "execution_count": 1,
   "metadata": {
    "collapsed": false
   },
   "outputs": [
    {
     "name": "stdout",
     "output_type": "stream",
     "text": [
      "['2013-12-28 23:40:34', '8613770773315', '111.30.132.39', 'web', 'wspeed.qq.com', 'qq', '-', '1087', '3', '3', '8', '2148', '-1']\r\n",
      "['2013-12-28 23:41:41', '8613770773315', '111.30.132.38', 'web', 'wspeed.qq.com', 'qq', '-', '1621', '5', '5', '8', '2148', '-1']\r\n",
      "['2013-12-28 23:43:52', '8613770773315', '111.30.132.39', 'web', 'wspeed.qq.com', 'qq', '-', '1140', '5', '5', '8', '2148', '-1']\r\n"
     ]
    }
   ],
   "source": [
    "!head -3 /media/jw/5dccc50e-7c13-4186-bf6b-d894f02410be/wbb/result/qq_5000_user_data/qq_5000_user_dpi/3days/20131228/part-19143"
   ]
  },
  {
   "cell_type": "raw",
   "metadata": {},
   "source": [
    "0:    2. 2013-12-28 02:56:08      记录时间，年月日时分秒\n",
    "1:    5. 8613851651044        用户账号/手机号\n",
    "2:    28. 111.30.132.34       服务器IP地址，点分十进制IP\n",
    "3:    34. web             业务类型，取值web/wap1/wap2/mms/txt等\n",
    "4:    36. isdspeed.qq.com     WEB/WAP请求HOST\n",
    "5:    37. qq              根据HOST提取的一级域名\n",
    "6:    41. Mozilla/5.0 (Linux; U; Android 4.2.1; zh-cn; Coolpad8720Q Build/JOP40D) AppleWebKit/534.30 (KHTML, like \n",
    "          Gecko) Version/4.0 Mobil    WEB/WAP请求User Agent \n",
    "7:    47. 2795            连接时长，即（流结束时间-流开始时间）\n",
    "8:    48. 10              上行报文数\n",
    "9:    49. 7               下行报文数\n",
    "10:   60. 8               大类业务ID\n",
    "11:   61. 2148            小类业务ID\n",
    "12:   78. 宇龙          终端厂家，UTF-8"
   ]
  },
  {
   "cell_type": "code",
   "execution_count": 4,
   "metadata": {
    "collapsed": true
   },
   "outputs": [],
   "source": [
    "from collections import Counter\n"
   ]
  },
  {
   "cell_type": "code",
   "execution_count": 2,
   "metadata": {
    "collapsed": true
   },
   "outputs": [],
   "source": [
    "qq_5000_user_dpi_day1_f = \"/media/jw/5dccc50e-7c13-4186-bf6b-d894f02410be/wbb/result/qq_5000_user_data/qq_5000_user_dpi/3days/20131228/part-*\"\n",
    "qq_5000_user_dpi_day2_f = \"/media/jw/5dccc50e-7c13-4186-bf6b-d894f02410be/wbb/result/qq_5000_user_data/qq_5000_user_dpi/3days/20131229/part-*\"\n",
    "qq_5000_user_dpi_day3_f = \"/media/jw/5dccc50e-7c13-4186-bf6b-d894f02410be/wbb/result/qq_5000_user_data/qq_5000_user_dpi/3days/20131230/part-*\"\n",
    "\n",
    "qq_5000_user_dpi_day4_f = \"/media/jw/5dccc50e-7c13-4186-bf6b-d894f02410be/wbb/result/qq_5000_user_data/qq_5000_user_dpi/20131231/part-*\"\n",
    "\n",
    "qq_5000_user_dpi_3days_f = \"/media/jw/5dccc50e-7c13-4186-bf6b-d894f02410be/wbb/result/qq_5000_user_data/qq_5000_user_dpi/3days/*/part-*\""
   ]
  },
  {
   "cell_type": "code",
   "execution_count": 3,
   "metadata": {
    "collapsed": true
   },
   "outputs": [],
   "source": [
    "# train data by day\n",
    "qq_5000_user_dpi_day1 = sc.textFile(qq_5000_user_dpi_day1_f).coalesce(50)  # repartition\n",
    "qq_5000_user_dpi_day2 = sc.textFile(qq_5000_user_dpi_day2_f).coalesce(50)\n",
    "qq_5000_user_dpi_day3 = sc.textFile(qq_5000_user_dpi_day3_f).coalesce(50)\n",
    "\n",
    "# test data\n",
    "qq_5000_user_dpi_day4 = sc.textFile(qq_5000_user_dpi_day4_f).coalesce(50)\n",
    "\n",
    "# all 3 days' train data\n",
    "qq_5000_user_dpi_3days = sc.textFile(qq_5000_user_dpi_3days_f).coalesce(50)  "
   ]
  },
  {
   "cell_type": "markdown",
   "metadata": {},
   "source": [
    "## pairs"
   ]
  },
  {
   "cell_type": "markdown",
   "metadata": {},
   "source": [
    "### positive pairs"
   ]
  },
  {
   "cell_type": "code",
   "execution_count": 261,
   "metadata": {
    "collapsed": true
   },
   "outputs": [],
   "source": [
    "train_positive_pairs_day1 = list(set(qq_5000_user_dpi_day1.map(lambda x: 'day1-' + eval(x)[1] + '-' + eval(x)[2]).collect()))\n",
    "train_positive_pairs_day2 = list(set(qq_5000_user_dpi_day2.map(lambda x: 'day2-' + eval(x)[1] + '-' + eval(x)[2]).collect()))\n",
    "train_positive_pairs_day3 = list(set(qq_5000_user_dpi_day3.map(lambda x: 'day3-' + eval(x)[1] + '-' + eval(x)[2]).collect()))"
   ]
  },
  {
   "cell_type": "code",
   "execution_count": 253,
   "metadata": {
    "collapsed": true
   },
   "outputs": [],
   "source": [
    "all_server_ip = sc.textFile\\\n",
    "(\"/media/jw/5dccc50e-7c13-4186-bf6b-d894f02410be/wbb/result/qq_5000_user_data/server_ip_1684/part-*\").collect()"
   ]
  },
  {
   "cell_type": "code",
   "execution_count": 254,
   "metadata": {
    "collapsed": false
   },
   "outputs": [
    {
     "name": "stdout",
     "output_type": "stream",
     "text": [
      "1684\n"
     ]
    }
   ],
   "source": [
    "print(len(all_server_ip))"
   ]
  },
  {
   "cell_type": "code",
   "execution_count": 256,
   "metadata": {
    "collapsed": true
   },
   "outputs": [],
   "source": [
    "test_positive_pairs_day4 = list(set(qq_5000_user_dpi_day4.filter(lambda x: eval(x)[2] in all_server_ip)\\\n",
    "                                    .map(lambda x: 'day4-' + eval(x)[1] + '-' + eval(x)[2]).collect()))"
   ]
  },
  {
   "cell_type": "code",
   "execution_count": 257,
   "metadata": {
    "collapsed": true
   },
   "outputs": [],
   "source": [
    "sc.parallelize(test_positive_pairs_day4).coalesce(4)\\\n",
    ".saveAsTextFile(\"/media/jw/5dccc50e-7c13-4186-bf6b-d894f02410be/wbb/result/pu_learning/test_positive_pairs/1231\")"
   ]
  },
  {
   "cell_type": "code",
   "execution_count": 7,
   "metadata": {
    "collapsed": true
   },
   "outputs": [],
   "source": [
    "train_pos_pairs_3days_f = \"/media/jw/5dccc50e-7c13-4186-bf6b-d894f02410be/wbb/result/pu_learning/train_pos_pairs/part-*\""
   ]
  },
  {
   "cell_type": "code",
   "execution_count": 8,
   "metadata": {
    "collapsed": true
   },
   "outputs": [],
   "source": [
    "sc.parallelize(train_positive_pairs_day1).coalesce(4)\\\n",
    ".saveAsTextFile(\"/media/jw/5dccc50e-7c13-4186-bf6b-d894f02410be/wbb/result/pu_learning/train_positive_pairs/1228\")\n",
    "sc.parallelize(train_positive_pairs_day2).coalesce(4)\\\n",
    ".saveAsTextFile(\"/media/jw/5dccc50e-7c13-4186-bf6b-d894f02410be/wbb/result/pu_learning/train_positive_pairs/1229\")\n",
    "sc.parallelize(train_positive_pairs_day3).coalesce(4)\\\n",
    ".saveAsTextFile(\"/media/jw/5dccc50e-7c13-4186-bf6b-d894f02410be/wbb/result/pu_learning/train_positive_pairs/1230\")"
   ]
  },
  {
   "cell_type": "code",
   "execution_count": 262,
   "metadata": {
    "collapsed": false
   },
   "outputs": [],
   "source": [
    "train_positive_pairs_day1 = sc.parallelize(train_positive_pairs_day1).coalesce(4)\n",
    "train_positive_pairs_day2 = sc.parallelize(train_positive_pairs_day2).coalesce(4)\n",
    "train_positive_pairs_day3 = sc.parallelize(train_positive_pairs_day3).coalesce(4)"
   ]
  },
  {
   "cell_type": "code",
   "execution_count": 263,
   "metadata": {
    "collapsed": true
   },
   "outputs": [],
   "source": [
    "test_positive_pairs_day4 = sc.parallelize(test_positive_pairs_day4).coalesce(4)"
   ]
  },
  {
   "cell_type": "markdown",
   "metadata": {},
   "source": [
    "### unlabled pairs"
   ]
  },
  {
   "cell_type": "code",
   "execution_count": 334,
   "metadata": {
    "collapsed": true
   },
   "outputs": [],
   "source": [
    "train_unlabled_pairs_f = \"/media/jw/5dccc50e-7c13-4186-bf6b-d894f02410be/wbb/result/pu_learning/train_unlabled_pairs/part-*\"\n",
    "test_unlabled_pairs_f = \"/media/jw/5dccc50e-7c13-4186-bf6b-d894f02410be/wbb/result/pu_learning/test_unlabled_pairs/1231/part-*\""
   ]
  },
  {
   "cell_type": "code",
   "execution_count": 335,
   "metadata": {
    "collapsed": true
   },
   "outputs": [],
   "source": [
    "train_unlabled_pairs = sc.textFile(train_unlabled_pairs_f)\n",
    "test_unlabled_pairs = sc.textFile(test_unlabled_pairs_f)"
   ]
  },
  {
   "cell_type": "code",
   "execution_count": null,
   "metadata": {
    "collapsed": true
   },
   "outputs": [],
   "source": []
  },
  {
   "cell_type": "code",
   "execution_count": null,
   "metadata": {
    "collapsed": true
   },
   "outputs": [],
   "source": []
  },
  {
   "cell_type": "code",
   "execution_count": null,
   "metadata": {
    "collapsed": true
   },
   "outputs": [],
   "source": []
  },
  {
   "cell_type": "code",
   "execution_count": null,
   "metadata": {
    "collapsed": true
   },
   "outputs": [],
   "source": []
  },
  {
   "cell_type": "markdown",
   "metadata": {},
   "source": [
    "## features"
   ]
  },
  {
   "cell_type": "markdown",
   "metadata": {},
   "source": [
    "### user-brand"
   ]
  },
  {
   "cell_type": "code",
   "execution_count": 184,
   "metadata": {
    "collapsed": true
   },
   "outputs": [],
   "source": [
    "user_brand_f = \"/media/jw/5dccc50e-7c13-4186-bf6b-d894f02410be/wbb/result/pu_learning/user_brand/part-*\"\n",
    "user_brand = sc.textFile(user_brand_f).map(lambda x: eval(x))"
   ]
  },
  {
   "cell_type": "code",
   "execution_count": 186,
   "metadata": {
    "collapsed": false
   },
   "outputs": [
    {
     "name": "stdout",
     "output_type": "stream",
     "text": [
      "[('8615951423477', [0, 0, 0, 0, 0, 0, 0, 0, 0, 0, 0, 0, 0, 0, 0, 0, 0, 0, 0, 0, 0, 0, 0, 0, 0, 0, 0, 0, 0, 0, 0, 0, 0, 1, 0, 0, 0, 0, 0, 0, 0, 0, 0, 0, 0, 0, 0, 0, 0, 0, 0, 0, 0, 0, 0, 0, 0, 0, 0, 0, 0, 0, 0]), ('8613913928726', [0, 0, 0, 0, 0, 0, 0, 0, 0, 0, 0, 0, 0, 0, 0, 0, 0, 0, 0, 0, 0, 1, 0, 0, 0, 0, 0, 0, 0, 0, 0, 0, 0, 0, 0, 0, 0, 0, 0, 0, 0, 0, 0, 0, 0, 0, 0, 0, 0, 0, 0, 0, 0, 0, 0, 0, 0, 0, 0, 0, 0, 0, 0]), ('8613705177565', [0, 0, 0, 0, 0, 0, 0, 0, 0, 0, 0, 0, 0, 0, 0, 1, 0, 0, 0, 0, 0, 0, 0, 0, 0, 0, 0, 0, 0, 0, 0, 0, 0, 0, 0, 0, 0, 0, 0, 0, 0, 0, 0, 0, 0, 0, 0, 0, 0, 0, 0, 0, 0, 0, 0, 0, 0, 0, 0, 0, 0, 0, 0])]\n"
     ]
    }
   ],
   "source": [
    "print(user_brand.take(3))"
   ]
  },
  {
   "cell_type": "code",
   "execution_count": 187,
   "metadata": {
    "collapsed": false
   },
   "outputs": [
    {
     "name": "stdout",
     "output_type": "stream",
     "text": [
      "[0, 0, 0, 0, 0, 0, 0, 0, 0, 0, 0, 0, 0, 0, 0, 0, 0, 0, 0, 0, 0, 0, 0, 0, 0, 0, 0, 0, 0, 0, 0, 0, 0, 1, 0, 0, 0, 0, 0, 0, 0, 0, 0, 0, 0, 0, 0, 0, 0, 0, 0, 0, 0, 0, 0, 0, 0, 0, 0, 0, 0, 0, 0]\n"
     ]
    }
   ],
   "source": [
    "user_brand_dict = {}\n",
    "for key,value in user_brand.collect():\n",
    "    user_brand_dict[key] = value\n",
    "print(user_brand_dict['8615951423477'])"
   ]
  },
  {
   "cell_type": "code",
   "execution_count": 198,
   "metadata": {
    "collapsed": true
   },
   "outputs": [],
   "source": [
    "tppd1_user_brand = train_positive_pairs_day1.map(lambda x: (x, user_brand_dict[x.split('-')[1]]))\\\n",
    ".groupByKey().mapValues(list).map(lambda x: (x[0],x[1][0]))\n",
    "tppd2_user_brand = train_positive_pairs_day2.map(lambda x: (x, user_brand_dict[x.split('-')[1]]))\\\n",
    ".groupByKey().mapValues(list).map(lambda x: (x[0],x[1][0]))\n",
    "tppd3_user_brand = train_positive_pairs_day3.map(lambda x: (x, user_brand_dict[x.split('-')[1]]))\\\n",
    ".groupByKey().mapValues(list).map(lambda x: (x[0],x[1][0]))"
   ]
  },
  {
   "cell_type": "code",
   "execution_count": 199,
   "metadata": {
    "collapsed": false
   },
   "outputs": [
    {
     "name": "stdout",
     "output_type": "stream",
     "text": [
      "[('day3-8615251712607-120.204.201.199', [0, 0, 0, 0, 0, 0, 0, 0, 0, 0, 0, 0, 0, 0, 0, 0, 0, 0, 0, 0, 0, 0, 0, 0, 0, 1, 0, 0, 0, 0, 0, 0, 0, 0, 0, 0, 0, 0, 0, 0, 0, 0, 0, 0, 0, 0, 0, 0, 0, 0, 0, 0, 0, 0, 0, 0, 0, 0, 0, 0, 0, 0, 0]), ('day3-8613705147234-117.135.171.245', [0, 0, 0, 0, 0, 0, 0, 0, 0, 0, 0, 0, 0, 0, 0, 0, 0, 0, 0, 0, 0, 0, 0, 0, 0, 0, 0, 0, 0, 0, 0, 0, 0, 1, 0, 0, 0, 0, 0, 0, 0, 0, 0, 0, 0, 0, 0, 0, 0, 0, 0, 0, 0, 0, 0, 0, 0, 0, 0, 0, 0, 0, 0]), ('day3-8613852217956-111.1.21.37', [0, 0, 0, 0, 0, 0, 0, 0, 0, 0, 0, 0, 0, 0, 0, 0, 0, 0, 0, 1, 0, 0, 0, 0, 0, 0, 0, 0, 0, 0, 0, 0, 0, 0, 0, 0, 0, 0, 0, 0, 0, 0, 0, 0, 0, 0, 0, 0, 0, 0, 0, 0, 0, 0, 0, 0, 0, 0, 0, 0, 0, 0, 0])]\n"
     ]
    }
   ],
   "source": [
    "print(tppd3_user_brand.take(3))"
   ]
  },
  {
   "cell_type": "code",
   "execution_count": 264,
   "metadata": {
    "collapsed": false
   },
   "outputs": [
    {
     "name": "stdout",
     "output_type": "stream",
     "text": [
      "[('day4-8613655196538-117.135.171.239', [0, 0, 0, 0, 0, 0, 0, 0, 0, 0, 0, 0, 0, 0, 0, 0, 0, 0, 0, 0, 0, 0, 0, 0, 0, 0, 0, 0, 0, 0, 0, 0, 0, 1, 0, 0, 0, 0, 0, 0, 0, 0, 0, 0, 0, 0, 0, 0, 0, 0, 0, 0, 0, 0, 0, 0, 0, 0, 0, 0, 0, 0, 0]), ('day4-8615150584084-120.204.200.174', [0, 0, 0, 0, 0, 0, 0, 0, 0, 0, 0, 0, 0, 0, 0, 0, 0, 0, 0, 0, 0, 0, 0, 0, 0, 0, 0, 0, 0, 0, 0, 0, 0, 0, 0, 0, 0, 0, 0, 0, 0, 0, 0, 0, 0, 0, 0, 1, 0, 0, 0, 0, 0, 0, 0, 0, 0, 0, 0, 0, 0, 0, 0]), ('day4-8618351960371-120.198.196.16', [0, 0, 0, 0, 0, 0, 0, 0, 0, 0, 0, 0, 0, 0, 0, 0, 0, 0, 0, 0, 0, 1, 0, 0, 0, 0, 0, 0, 0, 0, 0, 0, 0, 0, 0, 0, 0, 0, 0, 0, 0, 0, 0, 0, 0, 0, 0, 0, 0, 0, 0, 0, 0, 0, 0, 0, 0, 0, 0, 0, 0, 0, 0])]\n"
     ]
    }
   ],
   "source": [
    "test_ppd4_user_brand = test_positive_pairs_day4.map(lambda x: (x, user_brand_dict[x.split('-')[1]]))\\\n",
    ".groupByKey().mapValues(list).map(lambda x: (x[0],x[1][0]))\n",
    "print(test_ppd4_user_brand.take(3))"
   ]
  },
  {
   "cell_type": "code",
   "execution_count": 336,
   "metadata": {
    "collapsed": true
   },
   "outputs": [],
   "source": [
    "train_up_user_brand = train_unlabled_pairs.map(lambda x: (x, user_brand_dict[x.split('-')[1]]))\\\n",
    ".groupByKey().mapValues(list).map(lambda x: (x[0],x[1][0]))\n",
    "test_up_user_brand = test_unlabled_pairs.map(lambda x: (x, user_brand_dict[x.split('-')[1]]))\\\n",
    ".groupByKey().mapValues(list).map(lambda x: (x[0],x[1][0]))"
   ]
  },
  {
   "cell_type": "code",
   "execution_count": 390,
   "metadata": {
    "collapsed": false
   },
   "outputs": [
    {
     "name": "stdout",
     "output_type": "stream",
     "text": [
      "[('day123-8615251759820-125.39.207.146', [0, 0, 0, 0, 0, 0, 0, 0, 0, 0, 0, 0, 0, 0, 0, 0, 0, 0, 0, 0, 0, 0, 0, 0, 0, 0, 0, 0, 0, 0, 0, 0, 0, 0, 0, 0, 0, 0, 0, 0, 0, 0, 0, 0, 0, 0, 0, 0, 0, 0, 0, 0, 0, 0, 0, 0, 0, 0, 0, 0, 0, 0, 1]), ('day123-8613851587583-183.195.233.46', [0, 0, 0, 0, 0, 0, 0, 0, 0, 0, 0, 0, 0, 0, 0, 0, 0, 0, 0, 0, 0, 0, 0, 0, 0, 0, 0, 0, 0, 0, 0, 0, 0, 0, 0, 1, 0, 0, 0, 0, 0, 0, 0, 0, 0, 0, 0, 0, 0, 0, 0, 0, 0, 0, 0, 0, 0, 0, 0, 0, 0, 0, 0]), ('day123-8618761679626-111.11.28.170', [0, 0, 0, 0, 0, 0, 0, 0, 0, 0, 0, 0, 0, 0, 0, 1, 0, 0, 0, 0, 0, 0, 0, 0, 0, 0, 0, 0, 0, 0, 0, 0, 0, 0, 0, 0, 0, 0, 0, 0, 0, 0, 0, 0, 0, 0, 0, 0, 0, 0, 0, 0, 0, 0, 0, 0, 0, 0, 0, 0, 0, 0, 0])]\n"
     ]
    }
   ],
   "source": [
    "print(train_up_user_brand.take(3))"
   ]
  },
  {
   "cell_type": "markdown",
   "metadata": {},
   "source": [
    "### user-activetime"
   ]
  },
  {
   "cell_type": "code",
   "execution_count": 195,
   "metadata": {
    "collapsed": true
   },
   "outputs": [],
   "source": [
    "user_activetime_f = \"/media/jw/5dccc50e-7c13-4186-bf6b-d894f02410be/wbb/result/pu_learning/user_activetime/part-*\"\n",
    "user_activetime = sc.textFile(user_activetime_f).map(lambda x: eval(x))"
   ]
  },
  {
   "cell_type": "code",
   "execution_count": 196,
   "metadata": {
    "collapsed": false
   },
   "outputs": [
    {
     "name": "stdout",
     "output_type": "stream",
     "text": [
      "[('8613851429132', [0, 0, 0, 0, 0, 0, 0, 0, 0, 0, 0, 10, 4, 0, 12, 0, 0, 0, 0, 39, 8, 0, 0, 0]), ('8615722826043', [0, 0, 0, 0, 0, 0, 0, 20, 0, 1, 1, 0, 1, 0, 0, 5, 3, 0, 0, 0, 32, 20, 2, 3]), ('8615105191420', [0, 0, 0, 0, 0, 0, 0, 24, 30, 25, 10, 26, 1, 0, 0, 0, 0, 6, 2, 1, 13, 62, 13, 36])]\n"
     ]
    }
   ],
   "source": [
    "print(user_activetime.take(3))"
   ]
  },
  {
   "cell_type": "code",
   "execution_count": 197,
   "metadata": {
    "collapsed": false
   },
   "outputs": [
    {
     "name": "stdout",
     "output_type": "stream",
     "text": [
      "[0, 0, 0, 0, 0, 0, 0, 24, 30, 25, 10, 26, 1, 0, 0, 0, 0, 6, 2, 1, 13, 62, 13, 36]\n"
     ]
    }
   ],
   "source": [
    "user_activetime_dict = {}\n",
    "for key,value in user_activetime.collect():\n",
    "    user_activetime_dict[key] = value\n",
    "print(user_activetime_dict['8615105191420'])"
   ]
  },
  {
   "cell_type": "code",
   "execution_count": 200,
   "metadata": {
    "collapsed": true
   },
   "outputs": [],
   "source": [
    "tppd1_user_activetime = train_positive_pairs_day1.map(lambda x: (x, user_activetime_dict[x.split('-')[1]]))\\\n",
    ".groupByKey().mapValues(list).map(lambda x: (x[0],x[1][0]))\n",
    "tppd2_user_activetime = train_positive_pairs_day2.map(lambda x: (x, user_activetime_dict[x.split('-')[1]]))\\\n",
    ".groupByKey().mapValues(list).map(lambda x: (x[0],x[1][0]))\n",
    "tppd3_user_activetime = train_positive_pairs_day3.map(lambda x: (x, user_activetime_dict[x.split('-')[1]]))\\\n",
    ".groupByKey().mapValues(list).map(lambda x: (x[0],x[1][0]))"
   ]
  },
  {
   "cell_type": "code",
   "execution_count": 203,
   "metadata": {
    "collapsed": false
   },
   "outputs": [
    {
     "name": "stdout",
     "output_type": "stream",
     "text": [
      "[('day3-8615251712607-120.204.201.199', [0, 0, 0, 0, 0, 0, 0, 0, 14, 2, 9, 11, 7, 1, 0, 0, 12, 0, 20, 12, 7, 0, 2, 0]), ('day3-8613705147234-117.135.171.245', [0, 0, 0, 0, 0, 0, 0, 484, 305, 182, 95, 316, 1, 11, 11, 9, 122, 385, 316, 395, 258, 450, 308, 25]), ('day3-8613852217956-111.1.21.37', [0, 0, 0, 0, 0, 0, 0, 0, 0, 0, 0, 0, 0, 3, 0, 0, 0, 0, 0, 0, 0, 0, 54, 6])]\n"
     ]
    }
   ],
   "source": [
    "print(tppd3_user_activetime.take(3))"
   ]
  },
  {
   "cell_type": "code",
   "execution_count": 265,
   "metadata": {
    "collapsed": false
   },
   "outputs": [
    {
     "name": "stdout",
     "output_type": "stream",
     "text": [
      "[('day4-8613655196538-117.135.171.239', [0, 3, 0, 0, 0, 0, 0, 24, 12, 5, 0, 0, 92, 8, 1, 0, 3, 24, 49, 29, 10, 17, 72, 3]), ('day4-8615150584084-120.204.200.174', [83, 25, 3, 3, 21, 18, 7, 41, 28, 3, 12, 0, 0, 40, 38, 27, 78, 0, 7, 0, 30, 15, 66, 7]), ('day4-8618351960371-120.198.196.16', [1, 0, 3, 2, 0, 0, 4, 17, 0, 0, 0, 0, 0, 0, 0, 0, 0, 0, 0, 10, 0, 0, 0, 30])]\n"
     ]
    }
   ],
   "source": [
    "test_ppd4_user_activetime = test_positive_pairs_day4.map(lambda x: (x, user_activetime_dict[x.split('-')[1]]))\\\n",
    ".groupByKey().mapValues(list).map(lambda x: (x[0],x[1][0]))\n",
    "print(test_ppd4_user_activetime.take(3))"
   ]
  },
  {
   "cell_type": "code",
   "execution_count": 338,
   "metadata": {
    "collapsed": true
   },
   "outputs": [],
   "source": [
    "train_up_user_activetime = train_unlabled_pairs.map(lambda x: (x, user_activetime_dict[x.split('-')[1]]))\\\n",
    ".groupByKey().mapValues(list).map(lambda x: (x[0],x[1][0]))\n",
    "test_up_user_activetime = test_unlabled_pairs.map(lambda x: (x, user_activetime_dict[x.split('-')[1]]))\\\n",
    ".groupByKey().mapValues(list).map(lambda x: (x[0],x[1][0]))"
   ]
  },
  {
   "cell_type": "code",
   "execution_count": 339,
   "metadata": {
    "collapsed": false
   },
   "outputs": [
    {
     "name": "stdout",
     "output_type": "stream",
     "text": [
      "[('day123-8615251759820-125.39.207.146', [0, 0, 0, 0, 0, 0, 0, 0, 2, 0, 0, 0, 0, 0, 0, 0, 1, 1, 0, 0, 1, 0, 3, 0]), ('day123-8613851587583-183.195.233.46', [0, 0, 0, 0, 0, 0, 0, 0, 0, 0, 0, 1, 0, 3, 0, 3, 4, 8, 1, 0, 0, 0, 0, 0]), ('day123-8618761679626-111.11.28.170', [0, 0, 0, 0, 0, 0, 37, 15, 12, 86, 60, 0, 0, 9, 1, 0, 0, 0, 1, 1, 19, 94, 0, 0])]\n"
     ]
    }
   ],
   "source": [
    "print(train_up_user_activetime.take(3))"
   ]
  },
  {
   "cell_type": "markdown",
   "metadata": {},
   "source": [
    "### server-service"
   ]
  },
  {
   "cell_type": "code",
   "execution_count": 248,
   "metadata": {
    "collapsed": true
   },
   "outputs": [],
   "source": [
    "server_service_f = \"/media/jw/5dccc50e-7c13-4186-bf6b-d894f02410be/wbb/result/pu_learning/server_service_feature/part-*\"\n",
    "server_service = sc.textFile(server_service_f).map(lambda x: eval(x))"
   ]
  },
  {
   "cell_type": "code",
   "execution_count": 249,
   "metadata": {
    "collapsed": false
   },
   "outputs": [
    {
     "name": "stdout",
     "output_type": "stream",
     "text": [
      "[('14.17.19.77', [0, 0, 0, 0, 0, 0, 204, 0, 575, 0, 0, 0, 0, 0]), ('111.10.27.180', [0, 0, 0, 0, 0, 0, 0, 0, 1, 0, 0, 0, 52, 0]), ('111.30.132.109', [0, 0, 0, 0, 0, 0, 0, 0, 325, 0, 0, 0, 2, 0])]\n"
     ]
    }
   ],
   "source": [
    "print(server_service.take(3))"
   ]
  },
  {
   "cell_type": "code",
   "execution_count": 250,
   "metadata": {
    "collapsed": false
   },
   "outputs": [
    {
     "name": "stdout",
     "output_type": "stream",
     "text": [
      "[0, 0, 0, 0, 0, 0, 204, 0, 575, 0, 0, 0, 0, 0]\n"
     ]
    }
   ],
   "source": [
    "server_service_dict = {}\n",
    "for key,value in server_service.collect():\n",
    "    server_service_dict[key] = value\n",
    "print(server_service_dict['14.17.19.77'])"
   ]
  },
  {
   "cell_type": "code",
   "execution_count": 251,
   "metadata": {
    "collapsed": true
   },
   "outputs": [],
   "source": [
    "tppd1_server_service = train_positive_pairs_day1.map(lambda x: (x, server_service_dict[x.split('-')[2]]))\\\n",
    ".groupByKey().mapValues(list).map(lambda x: (x[0],x[1][0]))\n",
    "tppd2_server_service = train_positive_pairs_day2.map(lambda x: (x, server_service_dict[x.split('-')[2]]))\\\n",
    ".groupByKey().mapValues(list).map(lambda x: (x[0],x[1][0]))\n",
    "tppd3_server_service = train_positive_pairs_day3.map(lambda x: (x, server_service_dict[x.split('-')[2]]))\\\n",
    ".groupByKey().mapValues(list).map(lambda x: (x[0],x[1][0]))"
   ]
  },
  {
   "cell_type": "code",
   "execution_count": 252,
   "metadata": {
    "collapsed": false
   },
   "outputs": [
    {
     "name": "stdout",
     "output_type": "stream",
     "text": [
      "[('day3-8615251712607-120.204.201.199', [0, 0, 0, 0, 0, 0, 0, 0, 35144, 0, 0, 0, 0, 0]), ('day3-8613705147234-117.135.171.245', [0, 0, 0, 0, 0, 0, 71, 0, 11457, 0, 0, 0, 0, 0]), ('day3-8613852217956-111.1.21.37', [0, 0, 0, 0, 0, 0, 18, 0, 455, 0, 0, 0, 17, 0])]\n"
     ]
    }
   ],
   "source": [
    "print(tppd3_server_service.take(3))"
   ]
  },
  {
   "cell_type": "code",
   "execution_count": 266,
   "metadata": {
    "collapsed": false
   },
   "outputs": [
    {
     "name": "stdout",
     "output_type": "stream",
     "text": [
      "[('day4-8613655196538-117.135.171.239', [0, 0, 0, 0, 3, 58, 0, 0, 44, 0, 9, 8422, 1, 0]), ('day4-8615150584084-120.204.200.174', [0, 0, 0, 0, 0, 0, 523, 0, 40352, 0, 0, 0, 0, 0]), ('day4-8618351960371-120.198.196.16', [0, 0, 0, 0, 0, 0, 7615, 0, 121, 0, 0, 0, 0, 0])]\n"
     ]
    }
   ],
   "source": [
    "test_ppd4_server_service = test_positive_pairs_day4.map(lambda x: (x, server_service_dict[x.split('-')[2]]))\\\n",
    ".groupByKey().mapValues(list).map(lambda x: (x[0],x[1][0]))\n",
    "print(test_ppd4_server_service.take(3))"
   ]
  },
  {
   "cell_type": "code",
   "execution_count": 344,
   "metadata": {
    "collapsed": true
   },
   "outputs": [],
   "source": [
    "train_up_server_service  = train_unlabled_pairs.map(lambda x: (x, server_service_dict[x.split('-')[2]]))\\\n",
    ".groupByKey().mapValues(list).map(lambda x: (x[0],x[1][0]))\n",
    "test_up_server_service = test_unlabled_pairs.map(lambda x: (x, server_service_dict[x.split('-')[2]]))\\\n",
    ".groupByKey().mapValues(list).map(lambda x: (x[0],x[1][0]))"
   ]
  },
  {
   "cell_type": "code",
   "execution_count": 345,
   "metadata": {
    "collapsed": false
   },
   "outputs": [
    {
     "name": "stdout",
     "output_type": "stream",
     "text": [
      "[('day4-8613851678445-27.115.124.156', [0, 0, 0, 0, 0, 0, 0, 0, 1, 0, 0, 0, 0, 0]), ('day4-8613512544256-221.194.36.147', [0, 0, 0, 0, 0, 5, 0, 0, 0, 0, 0, 0, 0, 0]), ('day4-8615951816800-183.136.158.176', [0, 0, 0, 0, 0, 0, 84, 0, 101, 0, 0, 0, 0, 0])]\n"
     ]
    }
   ],
   "source": [
    "print(test_up_server_service.take(3))"
   ]
  },
  {
   "cell_type": "markdown",
   "metadata": {},
   "source": [
    "### server-sub_service"
   ]
  },
  {
   "cell_type": "code",
   "execution_count": 216,
   "metadata": {
    "collapsed": true
   },
   "outputs": [],
   "source": [
    "server_subservice_f = \"/media/jw/5dccc50e-7c13-4186-bf6b-d894f02410be/wbb/result/pu_learning/server_sub_service_feature/part-*\"\n",
    "server_subservice = sc.textFile(server_subservice_f).map(lambda x: eval(x))"
   ]
  },
  {
   "cell_type": "code",
   "execution_count": 217,
   "metadata": {
    "collapsed": false
   },
   "outputs": [
    {
     "name": "stdout",
     "output_type": "stream",
     "text": [
      "[('14.17.19.77', [0, 0, 0, 0, 0, 0, 0, 0, 0, 0, 0, 0, 0, 0, 0, 0, 0, 0, 204, 0, 0, 0, 0, 0, 0, 0, 0, 0, 0, 0, 0, 575, 0, 0, 0, 0, 0, 0, 0, 0, 0]), ('111.10.27.180', [0, 0, 0, 0, 0, 0, 0, 0, 52, 0, 0, 0, 0, 0, 0, 0, 0, 0, 0, 0, 0, 0, 0, 0, 0, 0, 0, 0, 0, 0, 0, 1, 0, 0, 0, 0, 0, 0, 0, 0, 0]), ('111.30.132.109', [0, 0, 0, 0, 0, 0, 0, 0, 2, 0, 0, 0, 0, 0, 0, 0, 0, 0, 0, 0, 0, 0, 0, 0, 0, 0, 0, 0, 0, 0, 0, 325, 0, 0, 0, 0, 0, 0, 0, 0, 0])]\n"
     ]
    }
   ],
   "source": [
    "print(server_subservice.take(3))"
   ]
  },
  {
   "cell_type": "code",
   "execution_count": 218,
   "metadata": {
    "collapsed": false
   },
   "outputs": [
    {
     "name": "stdout",
     "output_type": "stream",
     "text": [
      "[0, 0, 0, 0, 0, 0, 0, 0, 0, 0, 0, 0, 0, 0, 0, 0, 0, 0, 204, 0, 0, 0, 0, 0, 0, 0, 0, 0, 0, 0, 0, 575, 0, 0, 0, 0, 0, 0, 0, 0, 0]\n"
     ]
    }
   ],
   "source": [
    "server_subservice_dict = {}\n",
    "for key,value in server_subservice.collect():\n",
    "    server_subservice_dict[key] = value\n",
    "print(server_subservice_dict['14.17.19.77'])"
   ]
  },
  {
   "cell_type": "code",
   "execution_count": 226,
   "metadata": {
    "collapsed": true
   },
   "outputs": [],
   "source": [
    "tppd1_server_subservice = train_positive_pairs_day1.map(lambda x: (x, server_subservice_dict[x.split('-')[2]]))\\\n",
    ".groupByKey().mapValues(list).map(lambda x: (x[0],x[1][0]))\n",
    "tppd2_server_subservice = train_positive_pairs_day2.map(lambda x: (x, server_subservice_dict[x.split('-')[2]]))\\\n",
    ".groupByKey().mapValues(list).map(lambda x: (x[0],x[1][0]))\n",
    "tppd3_server_subservice = train_positive_pairs_day3.map(lambda x: (x, server_subservice_dict[x.split('-')[2]]))\\\n",
    ".groupByKey().mapValues(list).map(lambda x: (x[0],x[1][0]))"
   ]
  },
  {
   "cell_type": "code",
   "execution_count": 227,
   "metadata": {
    "collapsed": false
   },
   "outputs": [
    {
     "name": "stdout",
     "output_type": "stream",
     "text": [
      "[('day2-8615850662096-120.196.210.154', [0, 0, 0, 0, 0, 0, 9, 0, 0, 0, 0, 0, 0, 0, 0, 0, 0, 0, 0, 0, 0, 8, 0, 0, 0, 0, 0, 0, 0, 0, 0, 1151, 4, 0, 0, 0, 0, 0, 0, 0, 0]), ('day2-8613770963797-120.198.203.152', [0, 0, 0, 0, 0, 0, 0, 0, 0, 0, 0, 0, 0, 12083, 0, 0, 0, 0, 0, 0, 0, 0, 0, 0, 0, 0, 0, 0, 0, 0, 0, 53, 0, 0, 0, 0, 0, 3, 0, 0, 0]), ('day2-8615951875805-120.198.196.16', [0, 0, 0, 0, 0, 0, 0, 0, 0, 0, 0, 0, 0, 0, 0, 0, 0, 0, 1, 0, 7614, 0, 0, 0, 0, 0, 0, 0, 0, 0, 0, 121, 0, 0, 0, 0, 0, 0, 0, 0, 0])]\n"
     ]
    }
   ],
   "source": [
    "print(tppd2_server_subservice.take(3))"
   ]
  },
  {
   "cell_type": "code",
   "execution_count": 267,
   "metadata": {
    "collapsed": false
   },
   "outputs": [
    {
     "name": "stdout",
     "output_type": "stream",
     "text": [
      "[('day4-8613655196538-117.135.171.239', [0, 0, 0, 0, 0, 0, 1, 0, 0, 0, 0, 0, 0, 0, 0, 0, 0, 0, 0, 8422, 0, 9, 58, 0, 0, 0, 0, 0, 0, 0, 0, 44, 0, 0, 0, 0, 0, 0, 0, 0, 3]), ('day4-8615150584084-120.204.200.174', [0, 0, 0, 0, 0, 0, 0, 0, 0, 0, 0, 0, 0, 0, 0, 0, 0, 0, 523, 0, 0, 0, 0, 0, 0, 0, 0, 0, 0, 0, 0, 40352, 0, 0, 0, 0, 0, 0, 0, 0, 0]), ('day4-8618351960371-120.198.196.16', [0, 0, 0, 0, 0, 0, 0, 0, 0, 0, 0, 0, 0, 0, 0, 0, 0, 0, 1, 0, 7614, 0, 0, 0, 0, 0, 0, 0, 0, 0, 0, 121, 0, 0, 0, 0, 0, 0, 0, 0, 0])]\n"
     ]
    }
   ],
   "source": [
    "test_ppd4_server_subservice = test_positive_pairs_day4.map(lambda x: (x, server_subservice_dict[x.split('-')[2]]))\\\n",
    ".groupByKey().mapValues(list).map(lambda x: (x[0],x[1][0]))\n",
    "print(test_ppd4_server_subservice.take(3))"
   ]
  },
  {
   "cell_type": "code",
   "execution_count": 346,
   "metadata": {
    "collapsed": true
   },
   "outputs": [],
   "source": [
    "train_up_server_subservice  = train_unlabled_pairs.map(lambda x: (x, server_subservice_dict[x.split('-')[2]]))\\\n",
    ".groupByKey().mapValues(list).map(lambda x: (x[0],x[1][0]))\n",
    "test_up_server_subservice = test_unlabled_pairs.map(lambda x: (x, server_subservice_dict[x.split('-')[2]]))\\\n",
    ".groupByKey().mapValues(list).map(lambda x: (x[0],x[1][0]))"
   ]
  },
  {
   "cell_type": "code",
   "execution_count": 347,
   "metadata": {
    "collapsed": false
   },
   "outputs": [
    {
     "name": "stdout",
     "output_type": "stream",
     "text": [
      "[('day4-8613851678445-27.115.124.156', [0, 0, 0, 0, 0, 0, 0, 0, 0, 0, 0, 0, 0, 0, 0, 0, 0, 0, 0, 0, 0, 0, 0, 0, 0, 0, 0, 0, 0, 0, 0, 1, 0, 0, 0, 0, 0, 0, 0, 0, 0]), ('day4-8613512544256-221.194.36.147', [0, 0, 0, 0, 0, 0, 0, 0, 0, 0, 0, 0, 0, 0, 0, 0, 0, 0, 0, 0, 0, 0, 5, 0, 0, 0, 0, 0, 0, 0, 0, 0, 0, 0, 0, 0, 0, 0, 0, 0, 0]), ('day4-8615951816800-183.136.158.176', [0, 0, 0, 0, 0, 0, 0, 0, 0, 0, 0, 0, 0, 27, 0, 0, 0, 0, 57, 0, 0, 0, 0, 0, 0, 0, 0, 0, 0, 0, 0, 101, 0, 0, 0, 0, 0, 0, 0, 0, 0])]\n"
     ]
    }
   ],
   "source": [
    "print(test_up_server_subservice.take(3))"
   ]
  },
  {
   "cell_type": "markdown",
   "metadata": {},
   "source": [
    "### server-activetime"
   ]
  },
  {
   "cell_type": "code",
   "execution_count": 204,
   "metadata": {
    "collapsed": true
   },
   "outputs": [],
   "source": [
    "server_activetime_f = \"/media/jw/5dccc50e-7c13-4186-bf6b-d894f02410be/wbb/result/pu_learning/server_active_time/part-*\"\n",
    "server_activetime = sc.textFile(server_activetime_f).map(lambda x: eval(x))"
   ]
  },
  {
   "cell_type": "code",
   "execution_count": 205,
   "metadata": {
    "collapsed": false
   },
   "outputs": [
    {
     "name": "stdout",
     "output_type": "stream",
     "text": [
      "[('14.17.19.77', [41, 12, 7, 5, 10, 11, 8, 20, 29, 25, 44, 47, 29, 38, 35, 34, 38, 30, 36, 52, 43, 59, 51, 75]), ('111.10.27.180', [1, 0, 2, 3, 3, 0, 1, 3, 4, 1, 6, 2, 1, 6, 2, 2, 2, 1, 7, 1, 0, 1, 4, 0]), ('111.30.132.109', [0, 0, 6, 12, 0, 4, 18, 35, 51, 130, 67, 0, 1, 0, 0, 0, 0, 0, 3, 0, 0, 0, 0, 0])]\n"
     ]
    }
   ],
   "source": [
    "print(server_activetime.take(3))"
   ]
  },
  {
   "cell_type": "code",
   "execution_count": 206,
   "metadata": {
    "collapsed": false
   },
   "outputs": [
    {
     "name": "stdout",
     "output_type": "stream",
     "text": [
      "[41, 12, 7, 5, 10, 11, 8, 20, 29, 25, 44, 47, 29, 38, 35, 34, 38, 30, 36, 52, 43, 59, 51, 75]\n"
     ]
    }
   ],
   "source": [
    "server_activetime_dict = {}\n",
    "for key,value in server_activetime.collect():\n",
    "    server_activetime_dict[key] = value\n",
    "print(server_activetime_dict['14.17.19.77'])"
   ]
  },
  {
   "cell_type": "code",
   "execution_count": 209,
   "metadata": {
    "collapsed": true
   },
   "outputs": [],
   "source": [
    "tppd1_server_activetime = train_positive_pairs_day1.map(lambda x: (x, server_activetime_dict[x.split('-')[2]]))\\\n",
    ".groupByKey().mapValues(list).map(lambda x: (x[0],x[1][0]))\n",
    "tppd2_server_activetime = train_positive_pairs_day2.map(lambda x: (x, server_activetime_dict[x.split('-')[2]]))\\\n",
    ".groupByKey().mapValues(list).map(lambda x: (x[0],x[1][0]))\n",
    "tppd3_server_activetime = train_positive_pairs_day3.map(lambda x: (x, server_activetime_dict[x.split('-')[2]]))\\\n",
    ".groupByKey().mapValues(list).map(lambda x: (x[0],x[1][0]))"
   ]
  },
  {
   "cell_type": "code",
   "execution_count": 210,
   "metadata": {
    "collapsed": false
   },
   "outputs": [
    {
     "name": "stdout",
     "output_type": "stream",
     "text": [
      "[('day2-8615850662096-120.196.210.154', [81, 36, 8, 6, 6, 24, 5, 45, 77, 58, 61, 42, 73, 55, 76, 85, 63, 31, 24, 77, 55, 28, 86, 70]), ('day2-8613770963797-120.198.203.152', [305, 185, 107, 90, 78, 94, 191, 454, 639, 684, 665, 702, 646, 664, 611, 618, 716, 786, 722, 756, 676, 623, 630, 497]), ('day2-8615951875805-120.198.196.16', [295, 202, 158, 162, 231, 132, 205, 325, 322, 390, 354, 391, 421, 373, 353, 391, 392, 348, 359, 366, 445, 381, 397, 343])]\n"
     ]
    }
   ],
   "source": [
    "print(tppd2_server_activetime.take(3))"
   ]
  },
  {
   "cell_type": "code",
   "execution_count": 268,
   "metadata": {
    "collapsed": false
   },
   "outputs": [
    {
     "name": "stdout",
     "output_type": "stream",
     "text": [
      "[('day4-8613655196538-117.135.171.239', [222, 297, 177, 111, 99, 140, 122, 327, 412, 527, 530, 400, 462, 372, 429, 415, 585, 424, 483, 417, 486, 410, 268, 422]), ('day4-8615150584084-120.204.200.174', [2262, 1135, 999, 746, 755, 720, 1023, 1337, 1740, 1946, 2051, 1922, 2027, 1975, 1956, 2028, 1996, 1835, 1998, 1830, 1974, 2204, 2283, 2133]), ('day4-8618351960371-120.198.196.16', [295, 202, 158, 162, 231, 132, 205, 325, 322, 390, 354, 391, 421, 373, 353, 391, 392, 348, 359, 366, 445, 381, 397, 343])]\n"
     ]
    }
   ],
   "source": [
    "test_ppd4_server_activetime = test_positive_pairs_day4.map(lambda x: (x, server_activetime_dict[x.split('-')[2]]))\\\n",
    ".groupByKey().mapValues(list).map(lambda x: (x[0],x[1][0]))\n",
    "print(test_ppd4_server_activetime.take(3))"
   ]
  },
  {
   "cell_type": "code",
   "execution_count": 348,
   "metadata": {
    "collapsed": true
   },
   "outputs": [],
   "source": [
    "train_up_server_activetime  = train_unlabled_pairs.map(lambda x: (x, server_activetime_dict[x.split('-')[2]]))\\\n",
    ".groupByKey().mapValues(list).map(lambda x: (x[0],x[1][0]))\n",
    "test_up_server_activetime = test_unlabled_pairs.map(lambda x: (x, server_activetime_dict[x.split('-')[2]]))\\\n",
    ".groupByKey().mapValues(list).map(lambda x: (x[0],x[1][0]))"
   ]
  },
  {
   "cell_type": "code",
   "execution_count": 349,
   "metadata": {
    "collapsed": false
   },
   "outputs": [
    {
     "name": "stdout",
     "output_type": "stream",
     "text": [
      "[('day123-8615251759820-125.39.207.146', [0, 0, 0, 0, 0, 0, 0, 0, 0, 0, 0, 0, 0, 2, 0, 0, 0, 0, 0, 0, 0, 0, 0, 0]), ('day123-8613851587583-183.195.233.46', [57, 0, 0, 0, 0, 0, 290, 72, 22, 41, 91, 142, 37, 13, 49, 2, 37, 9, 103, 57, 280, 362, 26, 9]), ('day123-8618761679626-111.11.28.170', [0, 0, 0, 0, 0, 0, 0, 0, 0, 0, 0, 0, 4, 0, 0, 0, 0, 0, 0, 6, 0, 0, 1, 0])]\n"
     ]
    }
   ],
   "source": [
    "print(train_up_server_activetime.take(3))"
   ]
  },
  {
   "cell_type": "markdown",
   "metadata": {},
   "source": [
    "### user_diversity #?"
   ]
  },
  {
   "cell_type": "code",
   "execution_count": 277,
   "metadata": {
    "collapsed": false
   },
   "outputs": [],
   "source": [
    "# user: qq_server(category)\n",
    "user_diversity_day1 = qq_5000_user_dpi_day1.map(lambda x: (eval(x)[1], eval(x)[2])).groupByKey().mapValues(set)\\\n",
    ".map(lambda x: (x[0],len(x[1])))\n",
    "user_diversity_day2 = qq_5000_user_dpi_day2.map(lambda x: (eval(x)[1], eval(x)[2])).groupByKey().mapValues(set)\\\n",
    ".map(lambda x: (x[0],len(x[1])))\n",
    "user_diversity_day3 = qq_5000_user_dpi_day3.map(lambda x: (eval(x)[1], eval(x)[2])).groupByKey().mapValues(set)\\\n",
    ".map(lambda x: (x[0],len(x[1])))\n",
    "user_diversity_day4 = qq_5000_user_dpi_day4.map(lambda x: (eval(x)[1], eval(x)[2])).groupByKey().mapValues(set)\\\n",
    ".map(lambda x: (x[0],len(x[1])))"
   ]
  },
  {
   "cell_type": "code",
   "execution_count": 271,
   "metadata": {
    "collapsed": false
   },
   "outputs": [],
   "source": [
    "'''user_diversity_day1.coalesce(4)\\\n",
    ".saveAsTextFile(\"/media/jw/5dccc50e-7c13-4186-bf6b-d894f02410be/wbb/result/pu_learning/user_diversity/1228\")\n",
    "user_diversity_day2.coalesce(4)\\\n",
    ".saveAsTextFile(\"/media/jw/5dccc50e-7c13-4186-bf6b-d894f02410be/wbb/result/pu_learning/user_diversity/1229\")\n",
    "user_diversity_day3.coalesce(4)\\\n",
    ".saveAsTextFile(\"/media/jw/5dccc50e-7c13-4186-bf6b-d894f02410be/wbb/result/pu_learning/user_diversity/1230\")'''\n",
    "user_diversity_day4.coalesce(4)\\\n",
    ".saveAsTextFile(\"/media/jw/5dccc50e-7c13-4186-bf6b-d894f02410be/wbb/result/pu_learning/user_diversity/1231\")"
   ]
  },
  {
   "cell_type": "code",
   "execution_count": 278,
   "metadata": {
    "collapsed": false
   },
   "outputs": [
    {
     "data": {
      "text/plain": [
       "[('8613851429132', 5), ('8613913395739', 7), ('8618260098095', 1)]"
      ]
     },
     "execution_count": 278,
     "metadata": {},
     "output_type": "execute_result"
    }
   ],
   "source": [
    "user_diversity_day4.take(3)"
   ]
  },
  {
   "cell_type": "code",
   "execution_count": 126,
   "metadata": {
    "collapsed": true
   },
   "outputs": [],
   "source": [
    "user_diversity_day1_dict = {}\n",
    "for key, value in user_diversity_day1.collect():\n",
    "    user_diversity_day1_dict[key] = value\n",
    "user_diversity_day2_dict = {}\n",
    "for key, value in user_diversity_day2.collect():\n",
    "    user_diversity_day2_dict[key] = value\n",
    "user_diversity_day3_dict = {}\n",
    "for key, value in user_diversity_day3.collect():\n",
    "    user_diversity_day3_dict[key] = value"
   ]
  },
  {
   "cell_type": "code",
   "execution_count": 280,
   "metadata": {
    "collapsed": false
   },
   "outputs": [
    {
     "name": "stdout",
     "output_type": "stream",
     "text": [
      "7\n"
     ]
    }
   ],
   "source": [
    "user_diversity_day4_dict = {}\n",
    "for key, value in user_diversity_day4.collect():\n",
    "    user_diversity_day4_dict[key] = value\n",
    "print(user_diversity_day4_dict['8613913395739'])"
   ]
  },
  {
   "cell_type": "code",
   "execution_count": null,
   "metadata": {
    "collapsed": true
   },
   "outputs": [],
   "source": []
  },
  {
   "cell_type": "code",
   "execution_count": 148,
   "metadata": {
    "collapsed": true
   },
   "outputs": [],
   "source": [
    "tppd1_user_diversity = train_positive_pairs_day1.map(lambda x: (x, user_diversity_day1_dict[x.split('-')[1]]))\\\n",
    ".groupByKey().mapValues(list)\n",
    "tppd2_user_diversity = train_positive_pairs_day2.map(lambda x: (x, user_diversity_day2_dict[x.split('-')[1]]))\\\n",
    ".groupByKey().mapValues(list)\n",
    "tppd3_user_diversity = train_positive_pairs_day3.map(lambda x: (x, user_diversity_day3_dict[x.split('-')[1]]))\\\n",
    ".groupByKey().mapValues(list)"
   ]
  },
  {
   "cell_type": "code",
   "execution_count": 150,
   "metadata": {
    "collapsed": false
   },
   "outputs": [
    {
     "data": {
      "text/plain": [
       "[('day1-8615150560352-111.30.128.27', [29]),\n",
       " ('day1-8613813010581-117.135.169.19', [12]),\n",
       " ('day1-8615951600106-117.135.169.19', [3])]"
      ]
     },
     "execution_count": 150,
     "metadata": {},
     "output_type": "execute_result"
    }
   ],
   "source": [
    "tppd1_user_diversity.take(3)"
   ]
  },
  {
   "cell_type": "code",
   "execution_count": 283,
   "metadata": {
    "collapsed": false
   },
   "outputs": [
    {
     "name": "stdout",
     "output_type": "stream",
     "text": [
      "[('day4-8613655196538-117.135.171.239', [32]), ('day4-8615150584084-120.204.200.174', [39]), ('day4-8618351960371-120.198.196.16', [10])]\n"
     ]
    }
   ],
   "source": [
    "test_ppd4_user_diversity = test_positive_pairs_day4.map(lambda x: (x, user_diversity_day4_dict[x.split('-')[1]]))\\\n",
    ".groupByKey().mapValues(list)\n",
    "print(test_ppd4_user_diversity.take(3))"
   ]
  },
  {
   "cell_type": "markdown",
   "metadata": {},
   "source": [
    "### user_degree #?"
   ]
  },
  {
   "cell_type": "code",
   "execution_count": 281,
   "metadata": {
    "collapsed": true
   },
   "outputs": [],
   "source": [
    "# user:degree(qq_server_times)\n",
    "user_degree_day1 = qq_5000_user_dpi_day1.map(lambda x: (eval(x)[1],1)).groupByKey().mapValues(len)\n",
    "user_degree_day2 = qq_5000_user_dpi_day2.map(lambda x: (eval(x)[1],1)).groupByKey().mapValues(len)\n",
    "user_degree_day3 = qq_5000_user_dpi_day3.map(lambda x: (eval(x)[1],1)).groupByKey().mapValues(len)\n",
    "\n",
    "user_degree_day4 = qq_5000_user_dpi_day4.map(lambda x: (eval(x)[1],1)).groupByKey().mapValues(len)"
   ]
  },
  {
   "cell_type": "code",
   "execution_count": 27,
   "metadata": {
    "collapsed": false
   },
   "outputs": [],
   "source": [
    "user_degree_day1.coalesce(4)\\\n",
    ".saveAsTextFile(\"/media/jw/5dccc50e-7c13-4186-bf6b-d894f02410be/wbb/result/pu_learning/user_degree/1228\")\n",
    "user_degree_day2.coalesce(4)\\\n",
    ".saveAsTextFile(\"/media/jw/5dccc50e-7c13-4186-bf6b-d894f02410be/wbb/result/pu_learning/user_degree/1229\")\n",
    "user_degree_day3.coalesce(4)\\\n",
    ".saveAsTextFile(\"/media/jw/5dccc50e-7c13-4186-bf6b-d894f02410be/wbb/result/pu_learning/user_degree/1230\")"
   ]
  },
  {
   "cell_type": "code",
   "execution_count": 282,
   "metadata": {
    "collapsed": true
   },
   "outputs": [],
   "source": [
    "user_degree_day4.coalesce(4)\\\n",
    ".saveAsTextFile(\"/media/jw/5dccc50e-7c13-4186-bf6b-d894f02410be/wbb/result/pu_learning/user_degree/1231\")"
   ]
  },
  {
   "cell_type": "code",
   "execution_count": 52,
   "metadata": {
    "collapsed": false
   },
   "outputs": [
    {
     "data": {
      "text/plain": [
       "[('8615722826043', 24), ('8613851429132', 47), ('8615105191420', 71)]"
      ]
     },
     "execution_count": 52,
     "metadata": {},
     "output_type": "execute_result"
    }
   ],
   "source": [
    "user_degree_day3.take(3)"
   ]
  },
  {
   "cell_type": "code",
   "execution_count": 127,
   "metadata": {
    "collapsed": true
   },
   "outputs": [],
   "source": [
    "user_degree_day1_dict = {}\n",
    "for key, value in user_degree_day1.collect():\n",
    "    user_degree_day1_dict[key] = value\n",
    "user_degree_day2_dict = {}\n",
    "for key, value in user_degree_day2.collect():\n",
    "    user_degree_day2_dict[key] = value\n",
    "user_degree_day3_dict = {}\n",
    "for key, value in user_degree_day3.collect():\n",
    "    user_degree_day3_dict[key] = value"
   ]
  },
  {
   "cell_type": "code",
   "execution_count": 89,
   "metadata": {
    "collapsed": false
   },
   "outputs": [
    {
     "data": {
      "text/plain": [
       "71"
      ]
     },
     "execution_count": 89,
     "metadata": {},
     "output_type": "execute_result"
    }
   ],
   "source": [
    "user_degree_day3_dict['8615105191420']"
   ]
  },
  {
   "cell_type": "code",
   "execution_count": 284,
   "metadata": {
    "collapsed": true
   },
   "outputs": [],
   "source": [
    "user_degree_day4_dict = {}\n",
    "for key, value in user_degree_day4.collect():\n",
    "    user_degree_day4_dict[key] = value"
   ]
  },
  {
   "cell_type": "code",
   "execution_count": 151,
   "metadata": {
    "collapsed": true
   },
   "outputs": [],
   "source": [
    "tppd1_user_degree = train_positive_pairs_day1.map(lambda x: (x, user_degree_day1_dict[x.split('-')[1]]))\\\n",
    ".groupByKey().mapValues(list)\n",
    "tppd2_user_degree = train_positive_pairs_day2.map(lambda x: (x, user_degree_day2_dict[x.split('-')[1]]))\\\n",
    ".groupByKey().mapValues(list)\n",
    "tppd3_user_degree = train_positive_pairs_day3.map(lambda x: (x, user_degree_day3_dict[x.split('-')[1]]))\\\n",
    ".groupByKey().mapValues(list)"
   ]
  },
  {
   "cell_type": "code",
   "execution_count": 152,
   "metadata": {
    "collapsed": false
   },
   "outputs": [
    {
     "data": {
      "text/plain": [
       "[('day1-8615150560352-111.30.128.27', [74]),\n",
       " ('day1-8613813010581-117.135.169.19', [72]),\n",
       " ('day1-8615951600106-117.135.169.19', [124])]"
      ]
     },
     "execution_count": 152,
     "metadata": {},
     "output_type": "execute_result"
    }
   ],
   "source": [
    "tppd1_user_degree.take(3)"
   ]
  },
  {
   "cell_type": "code",
   "execution_count": 285,
   "metadata": {
    "collapsed": true
   },
   "outputs": [],
   "source": [
    "test_ppd4_user_degree = test_positive_pairs_day4.map(lambda x: (x, user_degree_day4_dict[x.split('-')[1]]))\\\n",
    ".groupByKey().mapValues(list)"
   ]
  },
  {
   "cell_type": "code",
   "execution_count": 286,
   "metadata": {
    "collapsed": false
   },
   "outputs": [
    {
     "name": "stdout",
     "output_type": "stream",
     "text": [
      "[('day4-8613655196538-117.135.171.239', [225]), ('day4-8615150584084-120.204.200.174', [200]), ('day4-8618351960371-120.198.196.16', [33])]\n"
     ]
    }
   ],
   "source": [
    "print(test_ppd4_user_degree.take(3))"
   ]
  },
  {
   "cell_type": "markdown",
   "metadata": {},
   "source": [
    "### user_duration"
   ]
  },
  {
   "cell_type": "code",
   "execution_count": 287,
   "metadata": {
    "collapsed": false
   },
   "outputs": [],
   "source": [
    "user_duration_day1 = qq_5000_user_dpi_day1.map(lambda x: (eval(x)[1], int(eval(x)[7]))).groupByKey().mapValues(list)\\\n",
    ".map(lambda x: (x[0], sum(x[1])))\n",
    "user_duration_day2 = qq_5000_user_dpi_day2.map(lambda x: (eval(x)[1], int(eval(x)[7]))).groupByKey().mapValues(list)\\\n",
    ".map(lambda x: (x[0], sum(x[1])))\n",
    "user_duration_day3 = qq_5000_user_dpi_day3.map(lambda x: (eval(x)[1], int(eval(x)[7]))).groupByKey().mapValues(list)\\\n",
    ".map(lambda x: (x[0], sum(x[1])))\n",
    "\n",
    "user_duration_day4 = qq_5000_user_dpi_day4.map(lambda x: (eval(x)[1], int(eval(x)[7]))).groupByKey().mapValues(list)\\\n",
    ".map(lambda x: (x[0], sum(x[1])))"
   ]
  },
  {
   "cell_type": "code",
   "execution_count": 44,
   "metadata": {
    "collapsed": false
   },
   "outputs": [],
   "source": [
    "user_duration_day1.coalesce(4)\\\n",
    ".saveAsTextFile(\"/media/jw/5dccc50e-7c13-4186-bf6b-d894f02410be/wbb/result/pu_learning/user_duration/1228\")\n",
    "user_duration_day2.coalesce(4)\\\n",
    ".saveAsTextFile(\"/media/jw/5dccc50e-7c13-4186-bf6b-d894f02410be/wbb/result/pu_learning/user_duration/1229\")\n",
    "user_duration_day3.coalesce(4)\\\n",
    ".saveAsTextFile(\"/media/jw/5dccc50e-7c13-4186-bf6b-d894f02410be/wbb/result/pu_learning/user_duration/1230\")"
   ]
  },
  {
   "cell_type": "code",
   "execution_count": 288,
   "metadata": {
    "collapsed": true
   },
   "outputs": [],
   "source": [
    "user_duration_day4.coalesce(4)\\\n",
    ".saveAsTextFile(\"/media/jw/5dccc50e-7c13-4186-bf6b-d894f02410be/wbb/result/pu_learning/user_duration/1231\")"
   ]
  },
  {
   "cell_type": "code",
   "execution_count": 289,
   "metadata": {
    "collapsed": false
   },
   "outputs": [
    {
     "data": {
      "text/plain": [
       "[('8613851429132', 60463),\n",
       " ('8613913395739', 181016),\n",
       " ('8618260098095', 151488)]"
      ]
     },
     "execution_count": 289,
     "metadata": {},
     "output_type": "execute_result"
    }
   ],
   "source": [
    "user_duration_day4.take(3)"
   ]
  },
  {
   "cell_type": "code",
   "execution_count": 128,
   "metadata": {
    "collapsed": true
   },
   "outputs": [],
   "source": [
    "user_duration_day1_dict = {}\n",
    "for key, value in user_duration_day1.collect():\n",
    "    user_duration_day1_dict[key] = value\n",
    "user_duration_day2_dict = {}\n",
    "for key, value in user_duration_day2.collect():\n",
    "    user_duration_day2_dict[key] = value\n",
    "user_duration_day3_dict = {}\n",
    "for key, value in user_duration_day3.collect():\n",
    "    user_duration_day3_dict[key] = value"
   ]
  },
  {
   "cell_type": "code",
   "execution_count": 290,
   "metadata": {
    "collapsed": true
   },
   "outputs": [],
   "source": [
    "user_duration_day4_dict = {}\n",
    "for key, value in user_duration_day4.collect():\n",
    "    user_duration_day4_dict[key] = value"
   ]
  },
  {
   "cell_type": "code",
   "execution_count": 153,
   "metadata": {
    "collapsed": true
   },
   "outputs": [],
   "source": [
    "tppd1_user_duration = train_positive_pairs_day1.map(lambda x: (x, user_duration_day1_dict[x.split('-')[1]]))\\\n",
    ".groupByKey().mapValues(list)\n",
    "tppd2_user_duration = train_positive_pairs_day2.map(lambda x: (x, user_duration_day2_dict[x.split('-')[1]]))\\\n",
    ".groupByKey().mapValues(list)\n",
    "tppd3_user_duration = train_positive_pairs_day3.map(lambda x: (x, user_duration_day3_dict[x.split('-')[1]]))\\\n",
    ".groupByKey().mapValues(list)"
   ]
  },
  {
   "cell_type": "code",
   "execution_count": 154,
   "metadata": {
    "collapsed": false
   },
   "outputs": [
    {
     "data": {
      "text/plain": [
       "[('day1-8615150560352-111.30.128.27', [560262]),\n",
       " ('day1-8613813010581-117.135.169.19', [168686]),\n",
       " ('day1-8615951600106-117.135.169.19', [133647])]"
      ]
     },
     "execution_count": 154,
     "metadata": {},
     "output_type": "execute_result"
    }
   ],
   "source": [
    "tppd1_user_duration.take(3)"
   ]
  },
  {
   "cell_type": "code",
   "execution_count": 297,
   "metadata": {
    "collapsed": false
   },
   "outputs": [],
   "source": [
    "test_ppd4_user_duration = test_positive_pairs_day4.map(lambda x: (x, user_duration_day4_dict[x.split('-')[1]]))\\\n",
    ".groupByKey().mapValues(list)"
   ]
  },
  {
   "cell_type": "code",
   "execution_count": 298,
   "metadata": {
    "collapsed": false
   },
   "outputs": [
    {
     "data": {
      "text/plain": [
       "[('day4-8613655196538-117.135.171.239', [1508421]),\n",
       " ('day4-8615150584084-120.204.200.174', [1801203]),\n",
       " ('day4-8618351960371-120.198.196.16', [106544])]"
      ]
     },
     "execution_count": 298,
     "metadata": {},
     "output_type": "execute_result"
    }
   ],
   "source": [
    "test_ppd4_user_duration.take(3)"
   ]
  },
  {
   "cell_type": "markdown",
   "metadata": {},
   "source": [
    "### user_uppacket"
   ]
  },
  {
   "cell_type": "code",
   "execution_count": 293,
   "metadata": {
    "collapsed": true
   },
   "outputs": [],
   "source": [
    "user_uppacket_day1 = qq_5000_user_dpi_day1.map(lambda x: (eval(x)[1], int(eval(x)[8]))).groupByKey().mapValues(list)\\\n",
    ".map(lambda x: (x[0], sum(x[1])))\n",
    "user_uppacket_day2 = qq_5000_user_dpi_day2.map(lambda x: (eval(x)[1], int(eval(x)[8]))).groupByKey().mapValues(list)\\\n",
    ".map(lambda x: (x[0], sum(x[1])))\n",
    "user_uppacket_day3 = qq_5000_user_dpi_day3.map(lambda x: (eval(x)[1], int(eval(x)[8]))).groupByKey().mapValues(list)\\\n",
    ".map(lambda x: (x[0], sum(x[1])))\n",
    "\n",
    "user_uppacket_day4 = qq_5000_user_dpi_day4.map(lambda x: (eval(x)[1], int(eval(x)[8]))).groupByKey().mapValues(list)\\\n",
    ".map(lambda x: (x[0], sum(x[1])))"
   ]
  },
  {
   "cell_type": "code",
   "execution_count": 48,
   "metadata": {
    "collapsed": true
   },
   "outputs": [],
   "source": [
    "user_uppacket_day1.coalesce(4)\\\n",
    ".saveAsTextFile(\"/media/jw/5dccc50e-7c13-4186-bf6b-d894f02410be/wbb/result/pu_learning/user_uppacket/1228\")\n",
    "user_uppacket_day2.coalesce(4)\\\n",
    ".saveAsTextFile(\"/media/jw/5dccc50e-7c13-4186-bf6b-d894f02410be/wbb/result/pu_learning/user_uppacket/1229\")\n",
    "user_uppacket_day3.coalesce(4)\\\n",
    ".saveAsTextFile(\"/media/jw/5dccc50e-7c13-4186-bf6b-d894f02410be/wbb/result/pu_learning/user_uppacket/1230\")"
   ]
  },
  {
   "cell_type": "code",
   "execution_count": 294,
   "metadata": {
    "collapsed": true
   },
   "outputs": [],
   "source": [
    "user_uppacket_day4.coalesce(4)\\\n",
    ".saveAsTextFile(\"/media/jw/5dccc50e-7c13-4186-bf6b-d894f02410be/wbb/result/pu_learning/user_uppacket/1231\")"
   ]
  },
  {
   "cell_type": "code",
   "execution_count": 47,
   "metadata": {
    "collapsed": false
   },
   "outputs": [
    {
     "data": {
      "text/plain": [
       "[('8615722826043', 194), ('8613851429132', 207), ('8615105191420', 465)]"
      ]
     },
     "execution_count": 47,
     "metadata": {},
     "output_type": "execute_result"
    }
   ],
   "source": [
    "user_uppacket_day3.take(3)"
   ]
  },
  {
   "cell_type": "code",
   "execution_count": 129,
   "metadata": {
    "collapsed": true
   },
   "outputs": [],
   "source": [
    "user_uppacket_day1_dict = {}\n",
    "for key, value in user_uppacket_day1.collect():\n",
    "    user_uppacket_day1_dict[key] = value\n",
    "user_uppacket_day2_dict = {}\n",
    "for key, value in user_uppacket_day2.collect():\n",
    "    user_uppacket_day2_dict[key] = value\n",
    "user_uppacket_day3_dict = {}\n",
    "for key, value in user_uppacket_day3.collect():\n",
    "    user_uppacket_day3_dict[key] = value"
   ]
  },
  {
   "cell_type": "code",
   "execution_count": 295,
   "metadata": {
    "collapsed": true
   },
   "outputs": [],
   "source": [
    "user_uppacket_day4_dict = {}\n",
    "for key, value in user_uppacket_day4.collect():\n",
    "    user_uppacket_day4_dict[key] = value"
   ]
  },
  {
   "cell_type": "code",
   "execution_count": 155,
   "metadata": {
    "collapsed": true
   },
   "outputs": [],
   "source": [
    "tppd1_user_uppacket = train_positive_pairs_day1.map(lambda x: (x, user_uppacket_day1_dict[x.split('-')[1]]))\\\n",
    ".groupByKey().mapValues(list)\n",
    "tppd2_user_uppacket = train_positive_pairs_day2.map(lambda x: (x, user_uppacket_day2_dict[x.split('-')[1]]))\\\n",
    ".groupByKey().mapValues(list)\n",
    "tppd3_user_uppacket = train_positive_pairs_day3.map(lambda x: (x, user_uppacket_day3_dict[x.split('-')[1]]))\\\n",
    ".groupByKey().mapValues(list)"
   ]
  },
  {
   "cell_type": "code",
   "execution_count": 156,
   "metadata": {
    "collapsed": false
   },
   "outputs": [
    {
     "data": {
      "text/plain": [
       "[('day1-8615150560352-111.30.128.27', [538]),\n",
       " ('day1-8613813010581-117.135.169.19', [353]),\n",
       " ('day1-8615951600106-117.135.169.19', [1024])]"
      ]
     },
     "execution_count": 156,
     "metadata": {},
     "output_type": "execute_result"
    }
   ],
   "source": [
    "tppd1_user_uppacket.take(3)"
   ]
  },
  {
   "cell_type": "code",
   "execution_count": 301,
   "metadata": {
    "collapsed": true
   },
   "outputs": [],
   "source": [
    "test_ppd4_user_uppacket = test_positive_pairs_day4.map(lambda x: (x, user_uppacket_day4_dict[x.split('-')[1]]))\\\n",
    ".groupByKey().mapValues(list)"
   ]
  },
  {
   "cell_type": "code",
   "execution_count": 302,
   "metadata": {
    "collapsed": false
   },
   "outputs": [
    {
     "data": {
      "text/plain": [
       "[('day4-8613655196538-117.135.171.239', [1648]),\n",
       " ('day4-8615150584084-120.204.200.174', [2282]),\n",
       " ('day4-8618351960371-120.198.196.16', [149])]"
      ]
     },
     "execution_count": 302,
     "metadata": {},
     "output_type": "execute_result"
    }
   ],
   "source": [
    "test_ppd4_user_uppacket.take(3)"
   ]
  },
  {
   "cell_type": "markdown",
   "metadata": {},
   "source": [
    "### user-downpacket"
   ]
  },
  {
   "cell_type": "code",
   "execution_count": 303,
   "metadata": {
    "collapsed": true
   },
   "outputs": [],
   "source": [
    "user_downpacket_day1 = qq_5000_user_dpi_day1.map(lambda x: (eval(x)[1], int(eval(x)[9]))).groupByKey().mapValues(list)\\\n",
    ".map(lambda x: (x[0], sum(x[1])))\n",
    "user_downpacket_day2 = qq_5000_user_dpi_day2.map(lambda x: (eval(x)[1], int(eval(x)[9]))).groupByKey().mapValues(list)\\\n",
    ".map(lambda x: (x[0], sum(x[1])))\n",
    "user_downpacket_day3 = qq_5000_user_dpi_day3.map(lambda x: (eval(x)[1], int(eval(x)[9]))).groupByKey().mapValues(list)\\\n",
    ".map(lambda x: (x[0], sum(x[1])))\n",
    "\n",
    "user_downpacket_day4 = qq_5000_user_dpi_day4.map(lambda x: (eval(x)[1], int(eval(x)[9]))).groupByKey().mapValues(list)\\\n",
    ".map(lambda x: (x[0], sum(x[1])))"
   ]
  },
  {
   "cell_type": "code",
   "execution_count": 51,
   "metadata": {
    "collapsed": true
   },
   "outputs": [],
   "source": [
    "user_downpacket_day1.coalesce(4)\\\n",
    ".saveAsTextFile(\"/media/jw/5dccc50e-7c13-4186-bf6b-d894f02410be/wbb/result/pu_learning/user_downpacket/1228\")\n",
    "user_downpacket_day2.coalesce(4)\\\n",
    ".saveAsTextFile(\"/media/jw/5dccc50e-7c13-4186-bf6b-d894f02410be/wbb/result/pu_learning/user_downpacket/1229\")\n",
    "user_downpacket_day3.coalesce(4)\\\n",
    ".saveAsTextFile(\"/media/jw/5dccc50e-7c13-4186-bf6b-d894f02410be/wbb/result/pu_learning/user_downpacket/1230\")"
   ]
  },
  {
   "cell_type": "code",
   "execution_count": 304,
   "metadata": {
    "collapsed": true
   },
   "outputs": [],
   "source": [
    "user_downpacket_day4.coalesce(4)\\\n",
    ".saveAsTextFile(\"/media/jw/5dccc50e-7c13-4186-bf6b-d894f02410be/wbb/result/pu_learning/user_downpacket/1231\")"
   ]
  },
  {
   "cell_type": "code",
   "execution_count": 50,
   "metadata": {
    "collapsed": false
   },
   "outputs": [
    {
     "data": {
      "text/plain": [
       "[('8615722826043', 118), ('8613851429132', 197), ('8615105191420', 448)]"
      ]
     },
     "execution_count": 50,
     "metadata": {},
     "output_type": "execute_result"
    }
   ],
   "source": [
    "user_downpacket_day3.take(3)"
   ]
  },
  {
   "cell_type": "code",
   "execution_count": 130,
   "metadata": {
    "collapsed": false
   },
   "outputs": [],
   "source": [
    "user_downpacket_day1_dict = {}\n",
    "for key, value in user_downpacket_day1.collect():\n",
    "    user_downpacket_day1_dict[key] = value\n",
    "user_downpacket_day2_dict = {}\n",
    "for key, value in user_downpacket_day2.collect():\n",
    "    user_downpacket_day2_dict[key] = value\n",
    "user_downpacket_day3_dict = {}\n",
    "for key, value in user_downpacket_day3.collect():\n",
    "    user_downpacket_day3_dict[key] = value"
   ]
  },
  {
   "cell_type": "code",
   "execution_count": 305,
   "metadata": {
    "collapsed": true
   },
   "outputs": [],
   "source": [
    "user_downpacket_day4_dict = {}\n",
    "for key, value in user_downpacket_day4.collect():\n",
    "    user_downpacket_day4_dict[key] = value"
   ]
  },
  {
   "cell_type": "code",
   "execution_count": 157,
   "metadata": {
    "collapsed": true
   },
   "outputs": [],
   "source": [
    "tppd1_user_downpacket = train_positive_pairs_day1.map(lambda x: (x, user_downpacket_day1_dict[x.split('-')[1]]))\\\n",
    ".groupByKey().mapValues(list)\n",
    "tppd2_user_downpacket = train_positive_pairs_day2.map(lambda x: (x, user_downpacket_day2_dict[x.split('-')[1]]))\\\n",
    ".groupByKey().mapValues(list)\n",
    "tppd3_user_downpacket = train_positive_pairs_day3.map(lambda x: (x, user_downpacket_day3_dict[x.split('-')[1]]))\\\n",
    ".groupByKey().mapValues(list)"
   ]
  },
  {
   "cell_type": "code",
   "execution_count": 158,
   "metadata": {
    "collapsed": false
   },
   "outputs": [
    {
     "data": {
      "text/plain": [
       "[('day1-8615150560352-111.30.128.27', [421]),\n",
       " ('day1-8613813010581-117.135.169.19', [299]),\n",
       " ('day1-8615951600106-117.135.169.19', [469])]"
      ]
     },
     "execution_count": 158,
     "metadata": {},
     "output_type": "execute_result"
    }
   ],
   "source": [
    "tppd1_user_downpacket.take(3)"
   ]
  },
  {
   "cell_type": "code",
   "execution_count": 306,
   "metadata": {
    "collapsed": true
   },
   "outputs": [],
   "source": [
    "test_ppd4_user_downpacket = test_positive_pairs_day4.map(lambda x: (x, user_downpacket_day4_dict[x.split('-')[1]]))\\\n",
    ".groupByKey().mapValues(list)"
   ]
  },
  {
   "cell_type": "code",
   "execution_count": 307,
   "metadata": {
    "collapsed": false
   },
   "outputs": [
    {
     "data": {
      "text/plain": [
       "[('day4-8613655196538-117.135.171.239', [1374]),\n",
       " ('day4-8615150584084-120.204.200.174', [1643]),\n",
       " ('day4-8618351960371-120.198.196.16', [109])]"
      ]
     },
     "execution_count": 307,
     "metadata": {},
     "output_type": "execute_result"
    }
   ],
   "source": [
    "test_ppd4_user_downpacket.take(3)"
   ]
  },
  {
   "cell_type": "markdown",
   "metadata": {},
   "source": [
    "### server-diversity"
   ]
  },
  {
   "cell_type": "code",
   "execution_count": 308,
   "metadata": {
    "collapsed": true
   },
   "outputs": [],
   "source": [
    "# server: users(kinds of users)\n",
    "server_diversity_day1 = qq_5000_user_dpi_day1.map(lambda x: (eval(x)[2], eval(x)[1])).groupByKey().mapValues(set)\\\n",
    ".map(lambda x: (x[0],len(x[1])))\n",
    "server_diversity_day2 = qq_5000_user_dpi_day2.map(lambda x: (eval(x)[2], eval(x)[1])).groupByKey().mapValues(set)\\\n",
    ".map(lambda x: (x[0],len(x[1])))\n",
    "server_diversity_day3 = qq_5000_user_dpi_day3.map(lambda x: (eval(x)[2], eval(x)[1])).groupByKey().mapValues(set)\\\n",
    ".map(lambda x: (x[0],len(x[1])))\n",
    "\n",
    "server_diversity_day4 = qq_5000_user_dpi_day4.map(lambda x: (eval(x)[2], eval(x)[1])).groupByKey().mapValues(set)\\\n",
    ".map(lambda x: (x[0],len(x[1])))"
   ]
  },
  {
   "cell_type": "code",
   "execution_count": 58,
   "metadata": {
    "collapsed": false
   },
   "outputs": [
    {
     "data": {
      "text/plain": [
       "[('14.17.19.77', 196), ('111.10.27.180', 8), ('111.30.132.109', 115)]"
      ]
     },
     "execution_count": 58,
     "metadata": {},
     "output_type": "execute_result"
    }
   ],
   "source": [
    "server_diversity_day3.take(3)"
   ]
  },
  {
   "cell_type": "code",
   "execution_count": 60,
   "metadata": {
    "collapsed": true
   },
   "outputs": [],
   "source": [
    "server_diversity_day1.coalesce(4)\\\n",
    ".saveAsTextFile(\"/media/jw/5dccc50e-7c13-4186-bf6b-d894f02410be/wbb/result/pu_learning/server_diversity/1228\")\n",
    "server_diversity_day2.coalesce(4)\\\n",
    ".saveAsTextFile(\"/media/jw/5dccc50e-7c13-4186-bf6b-d894f02410be/wbb/result/pu_learning/server_diversity/1229\")\n",
    "server_diversity_day3.coalesce(4)\\\n",
    ".saveAsTextFile(\"/media/jw/5dccc50e-7c13-4186-bf6b-d894f02410be/wbb/result/pu_learning/server_diversity/1230\")"
   ]
  },
  {
   "cell_type": "code",
   "execution_count": 309,
   "metadata": {
    "collapsed": true
   },
   "outputs": [],
   "source": [
    "server_diversity_day4.coalesce(4)\\\n",
    ".saveAsTextFile(\"/media/jw/5dccc50e-7c13-4186-bf6b-d894f02410be/wbb/result/pu_learning/server_diversity/1231\")"
   ]
  },
  {
   "cell_type": "code",
   "execution_count": 131,
   "metadata": {
    "collapsed": true
   },
   "outputs": [],
   "source": [
    "server_diversity_day1_dict = {}\n",
    "for key, value in server_diversity_day1.collect():\n",
    "    server_diversity_day1_dict[key] = value\n",
    "server_diversity_day2_dict = {}\n",
    "for key, value in server_diversity_day2.collect():\n",
    "    server_diversity_day2_dict[key] = value\n",
    "server_diversity_day3_dict = {}\n",
    "for key, value in server_diversity_day3.collect():\n",
    "    server_diversity_day3_dict[key] = value"
   ]
  },
  {
   "cell_type": "code",
   "execution_count": 310,
   "metadata": {
    "collapsed": true
   },
   "outputs": [],
   "source": [
    "server_diversity_day4_dict = {}\n",
    "for key, value in server_diversity_day4.collect():\n",
    "    server_diversity_day4_dict[key] = value"
   ]
  },
  {
   "cell_type": "code",
   "execution_count": 159,
   "metadata": {
    "collapsed": true
   },
   "outputs": [],
   "source": [
    "tppd1_server_diversity = train_positive_pairs_day1.map(lambda x: (x, server_diversity_day1_dict[x.split('-')[2]]))\\\n",
    ".groupByKey().mapValues(list)\n",
    "tppd2_server_diversity = train_positive_pairs_day2.map(lambda x: (x, server_diversity_day2_dict[x.split('-')[2]]))\\\n",
    ".groupByKey().mapValues(list)\n",
    "tppd3_server_diversity = train_positive_pairs_day3.map(lambda x: (x, server_diversity_day3_dict[x.split('-')[2]]))\\\n",
    ".groupByKey().mapValues(list)"
   ]
  },
  {
   "cell_type": "code",
   "execution_count": 311,
   "metadata": {
    "collapsed": true
   },
   "outputs": [],
   "source": [
    "test_ppd4_server_diversity = test_positive_pairs_day4.map(lambda x: (x, server_diversity_day4_dict[x.split('-')[2]]))\\\n",
    ".groupByKey().mapValues(list)"
   ]
  },
  {
   "cell_type": "code",
   "execution_count": 312,
   "metadata": {
    "collapsed": false
   },
   "outputs": [
    {
     "data": {
      "text/plain": [
       "[('day4-8613655196538-117.135.171.239', [325]),\n",
       " ('day4-8615150584084-120.204.200.174', [1571]),\n",
       " ('day4-8618351960371-120.198.196.16', [1009])]"
      ]
     },
     "execution_count": 312,
     "metadata": {},
     "output_type": "execute_result"
    }
   ],
   "source": [
    "test_ppd4_server_diversity.take(3)"
   ]
  },
  {
   "cell_type": "code",
   "execution_count": 160,
   "metadata": {
    "collapsed": false
   },
   "outputs": [
    {
     "data": {
      "text/plain": [
       "[('day1-8615150560352-111.30.128.27', [744]),\n",
       " ('day1-8613813010581-117.135.169.19', [2612]),\n",
       " ('day1-8615951600106-117.135.169.19', [2612])]"
      ]
     },
     "execution_count": 160,
     "metadata": {},
     "output_type": "execute_result"
    }
   ],
   "source": [
    "tppd1_server_diversity.take(3)"
   ]
  },
  {
   "cell_type": "markdown",
   "metadata": {},
   "source": [
    "### server-degree"
   ]
  },
  {
   "cell_type": "code",
   "execution_count": 313,
   "metadata": {
    "collapsed": false
   },
   "outputs": [],
   "source": [
    "# server: users(times)\n",
    "server_degree_day1 = qq_5000_user_dpi_day1.map(lambda x: (eval(x)[2], 1)).groupByKey().mapValues(len)\n",
    "server_degree_day2 = qq_5000_user_dpi_day2.map(lambda x: (eval(x)[2], 1)).groupByKey().mapValues(len)\n",
    "server_degree_day3 = qq_5000_user_dpi_day3.map(lambda x: (eval(x)[2], 1)).groupByKey().mapValues(len)\n",
    "\n",
    "server_degree_day4 = qq_5000_user_dpi_day4.map(lambda x: (eval(x)[2], 1)).groupByKey().mapValues(len)"
   ]
  },
  {
   "cell_type": "code",
   "execution_count": 65,
   "metadata": {
    "collapsed": false
   },
   "outputs": [
    {
     "data": {
      "text/plain": [
       "[('14.17.19.77', 265), ('111.10.27.180', 12), ('111.30.132.109', 322)]"
      ]
     },
     "execution_count": 65,
     "metadata": {},
     "output_type": "execute_result"
    }
   ],
   "source": [
    "server_degree_day3.take(3)"
   ]
  },
  {
   "cell_type": "code",
   "execution_count": 66,
   "metadata": {
    "collapsed": true
   },
   "outputs": [],
   "source": [
    "server_degree_day1.coalesce(4)\\\n",
    ".saveAsTextFile(\"/media/jw/5dccc50e-7c13-4186-bf6b-d894f02410be/wbb/result/pu_learning/server_degree/1228\")\n",
    "server_degree_day2.coalesce(4)\\\n",
    ".saveAsTextFile(\"/media/jw/5dccc50e-7c13-4186-bf6b-d894f02410be/wbb/result/pu_learning/server_degree/1229\")\n",
    "server_degree_day3.coalesce(4)\\\n",
    ".saveAsTextFile(\"/media/jw/5dccc50e-7c13-4186-bf6b-d894f02410be/wbb/result/pu_learning/server_degree/1230\")"
   ]
  },
  {
   "cell_type": "code",
   "execution_count": 314,
   "metadata": {
    "collapsed": true
   },
   "outputs": [],
   "source": [
    "server_degree_day4.coalesce(4)\\\n",
    ".saveAsTextFile(\"/media/jw/5dccc50e-7c13-4186-bf6b-d894f02410be/wbb/result/pu_learning/server_degree/1231\")"
   ]
  },
  {
   "cell_type": "code",
   "execution_count": 132,
   "metadata": {
    "collapsed": true
   },
   "outputs": [],
   "source": [
    "server_degree_day1_dict = {}\n",
    "for key, value in server_degree_day1.collect():\n",
    "    server_degree_day1_dict[key] = value\n",
    "server_degree_day2_dict = {}\n",
    "for key, value in server_degree_day2.collect():\n",
    "    server_degree_day2_dict[key] = value\n",
    "server_degree_day3_dict = {}\n",
    "for key, value in server_degree_day3.collect():\n",
    "    server_degree_day3_dict[key] = value"
   ]
  },
  {
   "cell_type": "code",
   "execution_count": 315,
   "metadata": {
    "collapsed": true
   },
   "outputs": [],
   "source": [
    "server_degree_day4_dict = {}\n",
    "for key, value in server_degree_day4.collect():\n",
    "    server_degree_day4_dict[key] = value"
   ]
  },
  {
   "cell_type": "code",
   "execution_count": 161,
   "metadata": {
    "collapsed": true
   },
   "outputs": [],
   "source": [
    "tppd1_server_degree = train_positive_pairs_day1.map(lambda x: (x, server_degree_day1_dict[x.split('-')[2]]))\\\n",
    ".groupByKey().mapValues(list)\n",
    "tppd2_server_degree = train_positive_pairs_day2.map(lambda x: (x, server_degree_day2_dict[x.split('-')[2]]))\\\n",
    ".groupByKey().mapValues(list)\n",
    "tppd3_server_degree = train_positive_pairs_day3.map(lambda x: (x, server_degree_day3_dict[x.split('-')[2]]))\\\n",
    ".groupByKey().mapValues(list)"
   ]
  },
  {
   "cell_type": "code",
   "execution_count": 162,
   "metadata": {
    "collapsed": false
   },
   "outputs": [
    {
     "data": {
      "text/plain": [
       "[('day1-8615150560352-111.30.128.27', [1192]),\n",
       " ('day1-8613813010581-117.135.169.19', [29573]),\n",
       " ('day1-8615951600106-117.135.169.19', [29573])]"
      ]
     },
     "execution_count": 162,
     "metadata": {},
     "output_type": "execute_result"
    }
   ],
   "source": [
    "tppd1_server_degree.take(3)"
   ]
  },
  {
   "cell_type": "code",
   "execution_count": 316,
   "metadata": {
    "collapsed": true
   },
   "outputs": [],
   "source": [
    "test_ppd4_server_degree = test_positive_pairs_day4.map(lambda x: (x, server_degree_day4_dict[x.split('-')[2]]))\\\n",
    ".groupByKey().mapValues(list)"
   ]
  },
  {
   "cell_type": "markdown",
   "metadata": {},
   "source": [
    "### server-duration"
   ]
  },
  {
   "cell_type": "code",
   "execution_count": 318,
   "metadata": {
    "collapsed": false
   },
   "outputs": [],
   "source": [
    "server_duration_day1 = qq_5000_user_dpi_day1.map(lambda x: (eval(x)[2], int(eval(x)[7]))).groupByKey().mapValues(list)\\\n",
    ".map(lambda x: (x[0], sum(x[1])))\n",
    "server_duration_day2 = qq_5000_user_dpi_day2.map(lambda x: (eval(x)[2], int(eval(x)[7]))).groupByKey().mapValues(list)\\\n",
    ".map(lambda x: (x[0], sum(x[1])))\n",
    "server_duration_day3 = qq_5000_user_dpi_day3.map(lambda x: (eval(x)[2], int(eval(x)[7]))).groupByKey().mapValues(list)\\\n",
    ".map(lambda x: (x[0], sum(x[1])))\n",
    "\n",
    "server_duration_day4 = qq_5000_user_dpi_day4.map(lambda x: (eval(x)[2], int(eval(x)[7]))).groupByKey().mapValues(list)\\\n",
    ".map(lambda x: (x[0], sum(x[1])))"
   ]
  },
  {
   "cell_type": "code",
   "execution_count": 71,
   "metadata": {
    "collapsed": false
   },
   "outputs": [
    {
     "data": {
      "text/plain": [
       "[('14.17.19.77', 1917887), ('111.10.27.180', 232371), ('111.30.132.109', 4072)]"
      ]
     },
     "execution_count": 71,
     "metadata": {},
     "output_type": "execute_result"
    }
   ],
   "source": [
    "server_duration_day2.take(3)"
   ]
  },
  {
   "cell_type": "code",
   "execution_count": 72,
   "metadata": {
    "collapsed": true
   },
   "outputs": [],
   "source": [
    "server_duration_day1.coalesce(4)\\\n",
    ".saveAsTextFile(\"/media/jw/5dccc50e-7c13-4186-bf6b-d894f02410be/wbb/result/pu_learning/server_duration/1228\")\n",
    "server_duration_day2.coalesce(4)\\\n",
    ".saveAsTextFile(\"/media/jw/5dccc50e-7c13-4186-bf6b-d894f02410be/wbb/result/pu_learning/server_duration/1229\")\n",
    "server_duration_day3.coalesce(4)\\\n",
    ".saveAsTextFile(\"/media/jw/5dccc50e-7c13-4186-bf6b-d894f02410be/wbb/result/pu_learning/server_duration/1230\")"
   ]
  },
  {
   "cell_type": "code",
   "execution_count": 319,
   "metadata": {
    "collapsed": true
   },
   "outputs": [],
   "source": [
    "server_duration_day4.coalesce(4)\\\n",
    ".saveAsTextFile(\"/media/jw/5dccc50e-7c13-4186-bf6b-d894f02410be/wbb/result/pu_learning/server_duration/1231\")"
   ]
  },
  {
   "cell_type": "code",
   "execution_count": 163,
   "metadata": {
    "collapsed": true
   },
   "outputs": [],
   "source": [
    "server_duration_day1_dict = {}\n",
    "for key, value in server_duration_day1.collect():\n",
    "    server_duration_day1_dict[key] = value\n",
    "server_duration_day2_dict = {}\n",
    "for key, value in server_duration_day2.collect():\n",
    "    server_duration_day2_dict[key] = value\n",
    "server_duration_day3_dict = {}\n",
    "for key, value in server_duration_day3.collect():\n",
    "    server_duration_day3_dict[key] = value"
   ]
  },
  {
   "cell_type": "code",
   "execution_count": 320,
   "metadata": {
    "collapsed": true
   },
   "outputs": [],
   "source": [
    "server_duration_day4_dict = {}\n",
    "for key, value in server_duration_day4.collect():\n",
    "    server_duration_day4_dict[key] = value"
   ]
  },
  {
   "cell_type": "code",
   "execution_count": 164,
   "metadata": {
    "collapsed": true
   },
   "outputs": [],
   "source": [
    "tppd1_server_duration = train_positive_pairs_day1.map(lambda x: (x, server_duration_day1_dict[x.split('-')[2]]))\\\n",
    ".groupByKey().mapValues(list)\n",
    "tppd2_server_duration = train_positive_pairs_day2.map(lambda x: (x, server_duration_day2_dict[x.split('-')[2]]))\\\n",
    ".groupByKey().mapValues(list)\n",
    "tppd3_server_duration = train_positive_pairs_day3.map(lambda x: (x, server_duration_day3_dict[x.split('-')[2]]))\\\n",
    ".groupByKey().mapValues(list)"
   ]
  },
  {
   "cell_type": "code",
   "execution_count": 165,
   "metadata": {
    "collapsed": false
   },
   "outputs": [
    {
     "data": {
      "text/plain": [
       "[('day1-8615150560352-111.30.128.27', [9376983]),\n",
       " ('day1-8613813010581-117.135.169.19', [76969374]),\n",
       " ('day1-8615951600106-117.135.169.19', [76969374])]"
      ]
     },
     "execution_count": 165,
     "metadata": {},
     "output_type": "execute_result"
    }
   ],
   "source": [
    "tppd1_server_duration.take(3)"
   ]
  },
  {
   "cell_type": "code",
   "execution_count": 321,
   "metadata": {
    "collapsed": true
   },
   "outputs": [],
   "source": [
    "test_ppd4_server_duration = test_positive_pairs_day4.map(lambda x: (x, server_duration_day4_dict[x.split('-')[2]]))\\\n",
    ".groupByKey().mapValues(list)"
   ]
  },
  {
   "cell_type": "markdown",
   "metadata": {},
   "source": [
    "### server-uppacket"
   ]
  },
  {
   "cell_type": "code",
   "execution_count": 322,
   "metadata": {
    "collapsed": true
   },
   "outputs": [],
   "source": [
    "server_uppacket_day1 = qq_5000_user_dpi_day1.map(lambda x: (eval(x)[2], int(eval(x)[8]))).groupByKey().mapValues(list)\\\n",
    ".map(lambda x: (x[0], sum(x[1])))\n",
    "server_uppacket_day2 = qq_5000_user_dpi_day2.map(lambda x: (eval(x)[2], int(eval(x)[8]))).groupByKey().mapValues(list)\\\n",
    ".map(lambda x: (x[0], sum(x[1])))\n",
    "server_uppacket_day3 = qq_5000_user_dpi_day3.map(lambda x: (eval(x)[2], int(eval(x)[8]))).groupByKey().mapValues(list)\\\n",
    ".map(lambda x: (x[0], sum(x[1])))\n",
    "\n",
    "server_uppacket_day4 = qq_5000_user_dpi_day4.map(lambda x: (eval(x)[2], int(eval(x)[8]))).groupByKey().mapValues(list)\\\n",
    ".map(lambda x: (x[0], sum(x[1])))"
   ]
  },
  {
   "cell_type": "code",
   "execution_count": 74,
   "metadata": {
    "collapsed": false
   },
   "outputs": [
    {
     "data": {
      "text/plain": [
       "[('14.17.19.77', 1626), ('111.10.27.180', 1403), ('111.30.132.109', 14)]"
      ]
     },
     "execution_count": 74,
     "metadata": {},
     "output_type": "execute_result"
    }
   ],
   "source": [
    "server_uppacket_day2.take(3)"
   ]
  },
  {
   "cell_type": "code",
   "execution_count": 75,
   "metadata": {
    "collapsed": true
   },
   "outputs": [],
   "source": [
    "server_uppacket_day1.coalesce(4)\\\n",
    ".saveAsTextFile(\"/media/jw/5dccc50e-7c13-4186-bf6b-d894f02410be/wbb/result/pu_learning/server_uppacket/1228\")\n",
    "server_uppacket_day2.coalesce(4)\\\n",
    ".saveAsTextFile(\"/media/jw/5dccc50e-7c13-4186-bf6b-d894f02410be/wbb/result/pu_learning/server_uppacket/1229\")\n",
    "server_uppacket_day3.coalesce(4)\\\n",
    ".saveAsTextFile(\"/media/jw/5dccc50e-7c13-4186-bf6b-d894f02410be/wbb/result/pu_learning/server_uppacket/1230\")"
   ]
  },
  {
   "cell_type": "code",
   "execution_count": 323,
   "metadata": {
    "collapsed": true
   },
   "outputs": [],
   "source": [
    "server_uppacket_day4.coalesce(4)\\\n",
    ".saveAsTextFile(\"/media/jw/5dccc50e-7c13-4186-bf6b-d894f02410be/wbb/result/pu_learning/server_uppacket/1231\")"
   ]
  },
  {
   "cell_type": "code",
   "execution_count": 134,
   "metadata": {
    "collapsed": true
   },
   "outputs": [],
   "source": [
    "server_uppacket_day1_dict = {}\n",
    "for key, value in server_uppacket_day1.collect():\n",
    "    server_uppacket_day1_dict[key] = value\n",
    "server_uppacket_day2_dict = {}\n",
    "for key, value in server_uppacket_day2.collect():\n",
    "    server_uppacket_day2_dict[key] = value\n",
    "server_uppacket_day3_dict = {}\n",
    "for key, value in server_uppacket_day3.collect():\n",
    "    server_uppacket_day3_dict[key] = value"
   ]
  },
  {
   "cell_type": "code",
   "execution_count": 324,
   "metadata": {
    "collapsed": true
   },
   "outputs": [],
   "source": [
    "server_uppacket_day4_dict = {}\n",
    "for key, value in server_uppacket_day4.collect():\n",
    "    server_uppacket_day4_dict[key] = value"
   ]
  },
  {
   "cell_type": "code",
   "execution_count": 166,
   "metadata": {
    "collapsed": true
   },
   "outputs": [],
   "source": [
    "tppd1_server_uppacket = train_positive_pairs_day1.map(lambda x: (x, server_uppacket_day1_dict[x.split('-')[2]]))\\\n",
    ".groupByKey().mapValues(list)\n",
    "tppd2_server_uppacket = train_positive_pairs_day2.map(lambda x: (x, server_uppacket_day2_dict[x.split('-')[2]]))\\\n",
    ".groupByKey().mapValues(list)\n",
    "tppd3_server_uppacket = train_positive_pairs_day3.map(lambda x: (x, server_uppacket_day3_dict[x.split('-')[2]]))\\\n",
    ".groupByKey().mapValues(list)"
   ]
  },
  {
   "cell_type": "code",
   "execution_count": 167,
   "metadata": {
    "collapsed": false
   },
   "outputs": [
    {
     "data": {
      "text/plain": [
       "[('day1-8615150560352-111.30.128.27', [5236]),\n",
       " ('day1-8613813010581-117.135.169.19', [147879]),\n",
       " ('day1-8615951600106-117.135.169.19', [147879])]"
      ]
     },
     "execution_count": 167,
     "metadata": {},
     "output_type": "execute_result"
    }
   ],
   "source": [
    "tppd1_server_uppacket.take(3)"
   ]
  },
  {
   "cell_type": "code",
   "execution_count": 325,
   "metadata": {
    "collapsed": true
   },
   "outputs": [],
   "source": [
    "test_ppd4_server_uppacket = test_positive_pairs_day4.map(lambda x: (x, server_uppacket_day4_dict[x.split('-')[2]]))\\\n",
    ".groupByKey().mapValues(list)"
   ]
  },
  {
   "cell_type": "markdown",
   "metadata": {},
   "source": [
    "### server-downpacket"
   ]
  },
  {
   "cell_type": "code",
   "execution_count": 326,
   "metadata": {
    "collapsed": true
   },
   "outputs": [],
   "source": [
    "server_downpacket_day1 = qq_5000_user_dpi_day1.map(lambda x: (eval(x)[2], int(eval(x)[9]))).groupByKey().mapValues(list)\\\n",
    ".map(lambda x: (x[0], sum(x[1])))\n",
    "server_downpacket_day2 = qq_5000_user_dpi_day2.map(lambda x: (eval(x)[2], int(eval(x)[9]))).groupByKey().mapValues(list)\\\n",
    ".map(lambda x: (x[0], sum(x[1])))\n",
    "server_downpacket_day3 = qq_5000_user_dpi_day3.map(lambda x: (eval(x)[2], int(eval(x)[9]))).groupByKey().mapValues(list)\\\n",
    ".map(lambda x: (x[0], sum(x[1])))\n",
    "\n",
    "server_downpacket_day4 = qq_5000_user_dpi_day4.map(lambda x: (eval(x)[2], int(eval(x)[9]))).groupByKey().mapValues(list)\\\n",
    ".map(lambda x: (x[0], sum(x[1])))\n"
   ]
  },
  {
   "cell_type": "code",
   "execution_count": 77,
   "metadata": {
    "collapsed": false
   },
   "outputs": [
    {
     "data": {
      "text/plain": [
       "[('14.17.19.77', 1271), ('111.10.27.180', 2006), ('111.30.132.109', 16)]"
      ]
     },
     "execution_count": 77,
     "metadata": {},
     "output_type": "execute_result"
    }
   ],
   "source": [
    "server_downpacket_day2.take(3)"
   ]
  },
  {
   "cell_type": "code",
   "execution_count": 78,
   "metadata": {
    "collapsed": true
   },
   "outputs": [],
   "source": [
    "server_downpacket_day1.coalesce(4)\\\n",
    ".saveAsTextFile(\"/media/jw/5dccc50e-7c13-4186-bf6b-d894f02410be/wbb/result/pu_learning/server_downpacket/1228\")\n",
    "server_downpacket_day2.coalesce(4)\\\n",
    ".saveAsTextFile(\"/media/jw/5dccc50e-7c13-4186-bf6b-d894f02410be/wbb/result/pu_learning/server_downpacket/1229\")\n",
    "server_downpacket_day3.coalesce(4)\\\n",
    ".saveAsTextFile(\"/media/jw/5dccc50e-7c13-4186-bf6b-d894f02410be/wbb/result/pu_learning/server_downpacket/1230\")"
   ]
  },
  {
   "cell_type": "code",
   "execution_count": 327,
   "metadata": {
    "collapsed": true
   },
   "outputs": [],
   "source": [
    "server_downpacket_day4.coalesce(4)\\\n",
    ".saveAsTextFile(\"/media/jw/5dccc50e-7c13-4186-bf6b-d894f02410be/wbb/result/pu_learning/server_downpacket/1231\")"
   ]
  },
  {
   "cell_type": "code",
   "execution_count": 135,
   "metadata": {
    "collapsed": true
   },
   "outputs": [],
   "source": [
    "server_downpacket_day1_dict = {}\n",
    "for key, value in server_downpacket_day1.collect():\n",
    "    server_downpacket_day1_dict[key] = value\n",
    "server_downpacket_day2_dict = {}\n",
    "for key, value in server_downpacket_day2.collect():\n",
    "    server_downpacket_day2_dict[key] = value\n",
    "server_downpacket_day3_dict = {}\n",
    "for key, value in server_downpacket_day3.collect():\n",
    "    server_downpacket_day3_dict[key] = value"
   ]
  },
  {
   "cell_type": "code",
   "execution_count": 328,
   "metadata": {
    "collapsed": true
   },
   "outputs": [],
   "source": [
    "server_downpacket_day4_dict = {}\n",
    "for key, value in server_downpacket_day4.collect():\n",
    "    server_downpacket_day4_dict[key] = value"
   ]
  },
  {
   "cell_type": "code",
   "execution_count": 168,
   "metadata": {
    "collapsed": true
   },
   "outputs": [],
   "source": [
    "tppd1_server_downpacket = train_positive_pairs_day1.map(lambda x: (x, server_downpacket_day1_dict[x.split('-')[2]]))\\\n",
    ".groupByKey().mapValues(list)\n",
    "tppd2_server_downpacket = train_positive_pairs_day2.map(lambda x: (x, server_downpacket_day2_dict[x.split('-')[2]]))\\\n",
    ".groupByKey().mapValues(list)\n",
    "tppd3_server_downpacket = train_positive_pairs_day3.map(lambda x: (x, server_downpacket_day3_dict[x.split('-')[2]]))\\\n",
    ".groupByKey().mapValues(list)"
   ]
  },
  {
   "cell_type": "code",
   "execution_count": 169,
   "metadata": {
    "collapsed": false
   },
   "outputs": [
    {
     "data": {
      "text/plain": [
       "[('day1-8615150560352-111.30.128.27', [3886]),\n",
       " ('day1-8613813010581-117.135.169.19', [141772]),\n",
       " ('day1-8615951600106-117.135.169.19', [141772])]"
      ]
     },
     "execution_count": 169,
     "metadata": {},
     "output_type": "execute_result"
    }
   ],
   "source": [
    "tppd1_server_downpacket.take(3)"
   ]
  },
  {
   "cell_type": "code",
   "execution_count": 329,
   "metadata": {
    "collapsed": true
   },
   "outputs": [],
   "source": [
    "test_ppd4_server_downpacket = test_positive_pairs_day4.map(lambda x: (x, server_downpacket_day4_dict[x.split('-')[2]]))\\\n",
    ".groupByKey().mapValues(list)"
   ]
  },
  {
   "cell_type": "markdown",
   "metadata": {},
   "source": [
    "## merge feature"
   ]
  },
  {
   "cell_type": "code",
   "execution_count": 228,
   "metadata": {
    "collapsed": false
   },
   "outputs": [],
   "source": [
    "tppd1_features = sc.union([tppd1_user_brand, tppd1_user_activetime, tppd1_server_service,\\\n",
    "                           tppd1_server_subservice, tppd1_server_activetime,\\\n",
    "                           tppd1_user_diversity,tppd1_user_degree,tppd1_user_duration,\\\n",
    "                           tppd1_user_uppacket,tppd1_user_downpacket,\\\n",
    "                          tppd1_server_diversity,tppd1_server_degree,tppd1_server_duration,\\\n",
    "                           tppd1_server_uppacket,tppd1_server_downpacket])\\\n",
    ".groupByKey().mapValues(list)\n",
    "\n",
    "tppd2_features = sc.union([tppd2_user_brand, tppd2_user_activetime, tppd2_server_service,\\\n",
    "                           tppd2_server_subservice, tppd2_server_activetime,\\\n",
    "                           tppd2_user_diversity,tppd2_user_degree,tppd2_user_duration,\\\n",
    "                           tppd2_user_uppacket,tppd2_user_downpacket,\\\n",
    "                          tppd2_server_diversity,tppd2_server_degree,tppd2_server_duration,\\\n",
    "                           tppd2_server_uppacket,tppd2_server_downpacket])\\\n",
    ".groupByKey().mapValues(list)\n",
    "\n",
    "tppd3_features = sc.union([tppd3_user_brand, tppd3_user_activetime, tppd3_server_service,\\\n",
    "                           tppd3_server_subservice, tppd3_server_activetime,\\\n",
    "                           tppd3_user_diversity,tppd3_user_degree,tppd3_user_duration,\\\n",
    "                           tppd3_user_uppacket,tppd3_user_downpacket,\\\n",
    "                          tppd3_server_diversity,tppd3_server_degree,tppd3_server_duration,\\\n",
    "                           tppd3_server_uppacket,tppd3_server_downpacket])\\\n",
    ".groupByKey().mapValues(list)"
   ]
  },
  {
   "cell_type": "code",
   "execution_count": 222,
   "metadata": {
    "collapsed": false
   },
   "outputs": [
    {
     "name": "stdout",
     "output_type": "stream",
     "text": [
      "[('day1-8615005274456-112.90.143.146', [[0, 0, 0, 0, 0, 0, 0, 0, 0, 0, 0, 0, 0, 0, 0, 0, 0, 0, 0, 0, 0, 0, 0, 0, 0, 0, 0, 0, 0, 0, 0, 0, 0, 1, 0, 0, 0, 0, 0, 0, 0, 0, 0, 0, 0, 0, 0, 0, 0, 0, 0, 0, 0, 0, 0, 0, 0, 0, 0, 0, 0, 0, 0], [128, 0, 0, 0, 0, 0, 0, 24, 2, 103, 52, 20, 40, 13, 4, 20, 47, 61, 46, 78, 50, 66, 50, 566], [0, 0, 0, 0, 0, 0, 3, 0, 305, 0, 0, 0, 0, 0], [0, 0, 0, 0, 0, 0, 0, 0, 0, 0, 0, 0, 0, 0, 0, 0, 0, 0, 3, 0, 0, 0, 0, 0, 0, 0, 0, 0, 0, 0, 0, 305, 0, 0, 0, 0, 0, 0, 0, 0, 0], [22, 2, 7, 2, 1, 0, 1, 4, 5, 8, 5, 16, 26, 13, 21, 18, 22, 22, 26, 10, 6, 36, 24, 11], [81], [312], [533688], [1652], [1533], [53], [94], [383197], [515], [389]]), ('day1-8615951015057-112.25.58.184', [[0, 0, 0, 0, 0, 0, 0, 0, 0, 0, 0, 0, 0, 0, 0, 0, 0, 0, 0, 0, 0, 0, 0, 0, 0, 0, 0, 0, 0, 0, 0, 0, 0, 1, 0, 0, 0, 0, 0, 0, 0, 0, 0, 0, 0, 0, 0, 0, 0, 0, 0, 0, 0, 0, 0, 0, 0, 0, 0, 0, 0, 0, 0], [6, 4, 4, 0, 0, 0, 0, 9, 35, 30, 0, 50, 3, 8, 277, 72, 14, 136, 54, 116, 6, 2, 10, 9], [0, 0, 0, 0, 0, 0, 1732, 0, 2150, 0, 0, 0, 254, 0], [0, 0, 0, 0, 0, 0, 3, 0, 2, 0, 0, 0, 0, 830, 0, 0, 0, 0, 902, 0, 0, 0, 0, 0, 0, 0, 0, 0, 0, 249, 0, 2150, 0, 0, 0, 0, 0, 0, 0, 0, 0], [65, 46, 27, 26, 1, 42, 23, 69, 169, 437, 212, 277, 259, 240, 135, 93, 154, 159, 227, 378, 302, 227, 270, 298], [32], [177], [214046], [735], [726], [292], [1269], [11096159], [13722], [16246]]), ('day1-8618751972605-183.207.233.94', [[0, 0, 0, 0, 0, 0, 0, 0, 0, 0, 0, 0, 0, 0, 0, 1, 0, 0, 0, 0, 0, 0, 0, 0, 0, 0, 0, 0, 0, 0, 0, 0, 0, 0, 0, 0, 0, 0, 0, 0, 0, 0, 0, 0, 0, 0, 0, 0, 0, 0, 0, 0, 0, 0, 0, 0, 0, 0, 0, 0, 0, 0, 0], [3, 0, 4, 2, 1, 2, 0, 6, 1, 2, 16, 3, 21, 4, 0, 17, 53, 5, 22, 12, 6, 12, 8, 9], [0, 103, 0, 0, 6, 2, 184, 0, 12318, 0, 0, 94, 422, 0], [0, 0, 0, 0, 94, 0, 388, 0, 5, 0, 0, 0, 0, 159, 0, 0, 0, 0, 25, 0, 0, 0, 2, 0, 0, 0, 0, 0, 0, 29, 0, 12318, 103, 0, 0, 0, 0, 0, 0, 0, 6], [972, 348, 118, 155, 114, 126, 319, 623, 546, 554, 591, 532, 625, 469, 459, 469, 519, 543, 596, 708, 891, 808, 897, 1147], [19], [56], [645960], [373], [323], [743], [6335], [46377859], [57860], [53226]])]\n"
     ]
    }
   ],
   "source": [
    "print(tppd1_features.take(3))"
   ]
  },
  {
   "cell_type": "code",
   "execution_count": 229,
   "metadata": {
    "collapsed": true
   },
   "outputs": [],
   "source": [
    "tppd1_features.coalesce(4)\\\n",
    ".saveAsTextFile(\"/media/jw/5dccc50e-7c13-4186-bf6b-d894f02410be/wbb/result/pu_learning/tpp_features/1228\")\n",
    "tppd2_features.coalesce(4)\\\n",
    ".saveAsTextFile(\"/media/jw/5dccc50e-7c13-4186-bf6b-d894f02410be/wbb/result/pu_learning/tpp_features/1229\")\n",
    "tppd3_features.coalesce(4)\\\n",
    ".saveAsTextFile(\"/media/jw/5dccc50e-7c13-4186-bf6b-d894f02410be/wbb/result/pu_learning/tpp_features/1230\")"
   ]
  },
  {
   "cell_type": "code",
   "execution_count": 330,
   "metadata": {
    "collapsed": true
   },
   "outputs": [],
   "source": [
    "test_ppd4_features = sc.union([test_ppd4_user_brand, test_ppd4_user_activetime, test_ppd4_server_service,\\\n",
    "                           test_ppd4_server_subservice, test_ppd4_server_activetime,\\\n",
    "                           test_ppd4_user_diversity,test_ppd4_user_degree,test_ppd4_user_duration,\\\n",
    "                           test_ppd4_user_uppacket,test_ppd4_user_downpacket,\\\n",
    "                          test_ppd4_server_diversity,test_ppd4_server_degree,test_ppd4_server_duration,\\\n",
    "                           test_ppd4_server_uppacket,test_ppd4_server_downpacket])\\\n",
    ".groupByKey().mapValues(list)"
   ]
  },
  {
   "cell_type": "code",
   "execution_count": 331,
   "metadata": {
    "collapsed": false
   },
   "outputs": [
    {
     "name": "stdout",
     "output_type": "stream",
     "text": [
      "[('day4-8613913395739-223.85.133.151', [[0, 0, 0, 0, 0, 0, 0, 0, 0, 0, 0, 0, 0, 0, 0, 1, 0, 0, 0, 0, 0, 0, 0, 0, 0, 0, 0, 0, 0, 0, 0, 0, 0, 0, 0, 0, 0, 0, 0, 0, 0, 0, 0, 0, 0, 0, 0, 0, 0, 0, 0, 0, 0, 0, 0, 0, 0, 0, 0, 0, 0, 0, 0], [0, 0, 0, 0, 0, 2, 1, 0, 5, 4, 8, 2, 7, 13, 2, 0, 5, 12, 2, 3, 17, 11, 3, 11], [0, 0, 0, 0, 0, 0, 11329, 0, 60, 0, 0, 0, 0, 0], [0, 0, 0, 0, 0, 0, 0, 0, 0, 0, 0, 0, 0, 11329, 0, 0, 0, 0, 0, 0, 0, 0, 0, 0, 0, 0, 0, 0, 0, 0, 0, 60, 0, 0, 0, 0, 0, 0, 0, 0, 0], [297, 139, 126, 109, 79, 97, 204, 430, 565, 591, 628, 690, 616, 615, 606, 599, 644, 693, 716, 729, 595, 626, 558, 437], [7], [40], [181016], [210], [215], [1847], [3947], [10613233], [17696], [14643]]), ('day4-8613951684695-113.108.67.102', [[0, 0, 0, 0, 0, 0, 0, 0, 0, 0, 0, 0, 0, 0, 0, 0, 0, 0, 0, 0, 0, 0, 0, 0, 0, 0, 0, 0, 0, 0, 0, 1, 0, 0, 0, 0, 0, 0, 0, 0, 0, 0, 0, 0, 0, 0, 0, 0, 0, 0, 0, 0, 0, 0, 0, 0, 0, 0, 0, 0, 0, 0, 0], [3, 0, 0, 0, 0, 6, 9, 8, 8, 10, 31, 17, 17, 16, 20, 60, 21, 24, 6, 26, 31, 19, 6, 14], [0, 0, 0, 0, 0, 0, 172, 0, 536, 0, 0, 0, 0, 0], [0, 0, 0, 0, 0, 0, 0, 0, 0, 0, 0, 0, 0, 0, 0, 0, 0, 0, 172, 0, 0, 0, 0, 0, 0, 0, 0, 0, 0, 0, 0, 536, 0, 0, 0, 0, 0, 0, 0, 0, 0], [31, 20, 12, 3, 4, 2, 8, 25, 24, 32, 30, 28, 31, 29, 29, 38, 20, 34, 44, 46, 55, 47, 43, 73], [23], [107], [757980], [606], [501], [182], [261], [2651591], [1756], [1373]]), ('day4-8615062163671-117.135.128.24', [[0, 0, 0, 0, 0, 0, 0, 0, 0, 0, 0, 0, 0, 0, 0, 0, 0, 0, 0, 0, 0, 0, 0, 0, 0, 0, 0, 0, 0, 0, 0, 0, 0, 0, 0, 0, 0, 1, 0, 0, 0, 0, 0, 0, 0, 0, 0, 0, 0, 0, 0, 0, 0, 0, 0, 0, 0, 0, 0, 0, 0, 0, 0], [16, 22, 31, 27, 29, 21, 21, 39, 21, 145, 15, 155, 10, 5, 3, 12, 21, 9, 27, 5, 18, 132, 33, 2], [0, 0, 0, 0, 0, 0, 0, 0, 2572, 0, 0, 0, 0, 0], [0, 0, 0, 0, 0, 0, 0, 0, 0, 0, 0, 0, 0, 0, 0, 0, 0, 0, 0, 0, 0, 0, 0, 0, 0, 0, 0, 0, 0, 0, 0, 2572, 0, 0, 0, 0, 0, 0, 0, 0, 0], [81, 53, 72, 26, 54, 28, 57, 125, 167, 146, 127, 147, 155, 108, 114, 96, 124, 132, 129, 131, 145, 121, 98, 136], [33], [329], [561591], [1535], [1288], [361], [807], [2669993], [4805], [3577]])]\n"
     ]
    }
   ],
   "source": [
    "print(test_ppd4_features.take(3))"
   ]
  },
  {
   "cell_type": "code",
   "execution_count": 332,
   "metadata": {
    "collapsed": true
   },
   "outputs": [],
   "source": [
    "test_ppd4_features.coalesce(4)\\\n",
    ".saveAsTextFile(\"/media/jw/5dccc50e-7c13-4186-bf6b-d894f02410be/wbb/result/pu_learning/test_pp_features/1231\")"
   ]
  },
  {
   "cell_type": "code",
   "execution_count": 371,
   "metadata": {
    "collapsed": true
   },
   "outputs": [],
   "source": [
    "train_up_others = train_unlabled_pairs.map(lambda x: (x,[[0] for i in range(10)]))"
   ]
  },
  {
   "cell_type": "code",
   "execution_count": 372,
   "metadata": {
    "collapsed": false
   },
   "outputs": [
    {
     "name": "stdout",
     "output_type": "stream",
     "text": [
      "[('day123-8615195968155-120.192.85.163', [[0], [0], [0], [0], [0], [0], [0], [0], [0], [0]]), ('day123-8613770563324-180.153.82.27', [[0], [0], [0], [0], [0], [0], [0], [0], [0], [0]]), ('day123-8613601430826-223.82.245.29', [[0], [0], [0], [0], [0], [0], [0], [0], [0], [0]])]\n"
     ]
    }
   ],
   "source": [
    "print(train_up_others.take(3))"
   ]
  },
  {
   "cell_type": "code",
   "execution_count": 401,
   "metadata": {
    "collapsed": true
   },
   "outputs": [],
   "source": [
    "train_unlabled_features = sc.union([train_up_user_brand, train_up_user_activetime, train_up_server_service,\\\n",
    "                           train_up_server_subservice, train_up_server_activetime,\\\n",
    "                           train_up_others])\\\n",
    ".groupByKey().mapValues(list).map(lambda x: (x[0], [j for j in x[1][:-1]]+[i for i in x[1][-1]]))"
   ]
  },
  {
   "cell_type": "code",
   "execution_count": 402,
   "metadata": {
    "collapsed": false
   },
   "outputs": [
    {
     "name": "stdout",
     "output_type": "stream",
     "text": [
      "[('day123-8615261441153-119.188.94.24', [[0, 0, 0, 0, 0, 0, 0, 0, 0, 0, 0, 0, 0, 0, 0, 0, 0, 0, 0, 0, 0, 0, 0, 0, 0, 0, 0, 0, 0, 0, 0, 0, 0, 1, 0, 0, 0, 0, 0, 0, 0, 0, 0, 0, 0, 0, 0, 0, 0, 0, 0, 0, 0, 0, 0, 0, 0, 0, 0, 0, 0, 0, 0], [3, 0, 11, 0, 0, 0, 0, 0, 0, 0, 0, 63, 8, 3, 18, 0, 8, 2, 15, 1, 8, 6, 1, 4], [0, 0, 0, 0, 0, 2, 0, 0, 0, 0, 0, 0, 0, 0], [0, 0, 0, 0, 0, 0, 0, 0, 0, 0, 0, 0, 0, 0, 0, 0, 0, 0, 0, 0, 0, 0, 2, 0, 0, 0, 0, 0, 0, 0, 0, 0, 0, 0, 0, 0, 0, 0, 0, 0, 0], [2, 0, 0, 0, 0, 0, 0, 0, 0, 0, 0, 0, 0, 0, 0, 0, 0, 0, 0, 0, 0, 0, 0, 0], [0], [0], [0], [0], [0], [0], [0], [0], [0], [0]]), ('day123-8615861619510-111.4.118.162', [[0, 0, 0, 0, 0, 0, 0, 0, 0, 0, 0, 0, 0, 0, 0, 1, 0, 0, 0, 0, 0, 0, 0, 0, 0, 0, 0, 0, 0, 0, 0, 0, 0, 0, 0, 0, 0, 0, 0, 0, 0, 0, 0, 0, 0, 0, 0, 0, 0, 0, 0, 0, 0, 0, 0, 0, 0, 0, 0, 0, 0, 0, 0], [0, 0, 0, 0, 0, 0, 0, 0, 14, 28, 36, 47, 102, 17, 60, 9, 16, 8, 0, 16, 0, 6, 0, 0], [0, 0, 0, 0, 0, 0, 0, 0, 10, 0, 0, 0, 0, 0], [0, 0, 0, 0, 0, 0, 0, 0, 0, 0, 0, 0, 0, 0, 0, 0, 0, 0, 0, 0, 0, 0, 0, 0, 0, 0, 0, 0, 0, 0, 0, 10, 0, 0, 0, 0, 0, 0, 0, 0, 0], [0, 0, 0, 3, 0, 0, 7, 0, 0, 0, 0, 0, 0, 0, 0, 0, 0, 0, 0, 0, 0, 0, 0, 0], [0], [0], [0], [0], [0], [0], [0], [0], [0], [0]]), ('day123-8613584007903-111.10.27.137', [[0, 0, 0, 0, 0, 0, 0, 0, 0, 0, 0, 0, 0, 0, 0, 1, 0, 0, 0, 0, 0, 0, 0, 0, 0, 0, 0, 0, 0, 0, 0, 0, 0, 0, 0, 0, 0, 0, 0, 0, 0, 0, 0, 0, 0, 0, 0, 0, 0, 0, 0, 0, 0, 0, 0, 0, 0, 0, 0, 0, 0, 0, 0], [25, 30, 12, 8, 0, 0, 1, 3, 3, 0, 3, 2, 0, 2, 5, 4, 4, 24, 30, 30, 45, 43, 8, 9], [0, 0, 0, 0, 0, 107, 0, 0, 1, 0, 0, 0, 0, 0], [0, 0, 0, 0, 0, 0, 0, 0, 0, 0, 0, 0, 0, 0, 0, 0, 0, 0, 0, 0, 0, 0, 107, 0, 0, 0, 0, 0, 0, 0, 0, 1, 0, 0, 0, 0, 0, 0, 0, 0, 0], [6, 4, 4, 8, 0, 0, 0, 1, 4, 2, 1, 3, 3, 6, 7, 9, 6, 2, 3, 1, 12, 13, 4, 9], [0], [0], [0], [0], [0], [0], [0], [0], [0], [0]])]\n"
     ]
    }
   ],
   "source": [
    "print(train_unlabled_features.take(3))"
   ]
  },
  {
   "cell_type": "code",
   "execution_count": 403,
   "metadata": {
    "collapsed": true
   },
   "outputs": [],
   "source": [
    "train_unlabled_features.coalesce(100)\\\n",
    ".saveAsTextFile(\"/media/jw/5dccc50e-7c13-4186-bf6b-d894f02410be/wbb/result/pu_learning/train_unlabled_features\")"
   ]
  },
  {
   "cell_type": "code",
   "execution_count": 404,
   "metadata": {
    "collapsed": true
   },
   "outputs": [],
   "source": [
    "test_up_others = test_unlabled_pairs.map(lambda x: (x,[[0] for i in range(10)]))"
   ]
  },
  {
   "cell_type": "code",
   "execution_count": 405,
   "metadata": {
    "collapsed": true
   },
   "outputs": [],
   "source": [
    "test_unlabled_features = sc.union([test_up_user_brand, test_up_user_activetime, test_up_server_service,\\\n",
    "                           test_up_server_subservice, test_up_server_activetime,\\\n",
    "                           test_up_others])\\\n",
    ".groupByKey().mapValues(list).map(lambda x: (x[0], [j for j in x[1][:-1]] + [i for i in x[1][-1]]))"
   ]
  },
  {
   "cell_type": "code",
   "execution_count": 406,
   "metadata": {
    "collapsed": false
   },
   "outputs": [
    {
     "name": "stdout",
     "output_type": "stream",
     "text": [
      "[('day4-8613851678445-27.115.124.156', [[0, 0, 0, 0, 0, 0, 0, 0, 0, 0, 0, 0, 0, 0, 0, 0, 0, 0, 0, 0, 0, 0, 0, 0, 0, 1, 0, 0, 0, 0, 0, 0, 0, 0, 0, 0, 0, 0, 0, 0, 0, 0, 0, 0, 0, 0, 0, 0, 0, 0, 0, 0, 0, 0, 0, 0, 0, 0, 0, 0, 0, 0, 0], [0, 0, 0, 0, 0, 0, 0, 25, 0, 0, 26, 26, 84, 15, 0, 14, 48, 15, 20, 9, 0, 63, 145, 28], [0, 0, 0, 0, 0, 0, 0, 0, 1, 0, 0, 0, 0, 0], [0, 0, 0, 0, 0, 0, 0, 0, 0, 0, 0, 0, 0, 0, 0, 0, 0, 0, 0, 0, 0, 0, 0, 0, 0, 0, 0, 0, 0, 0, 0, 1, 0, 0, 0, 0, 0, 0, 0, 0, 0], [0, 1, 0, 0, 0, 0, 0, 0, 0, 0, 0, 0, 0, 0, 0, 0, 0, 0, 0, 0, 0, 0, 0, 0], [0], [0], [0], [0], [0], [0], [0], [0], [0], [0]]), ('day4-8615240246213-111.1.21.49', [[0, 0, 0, 0, 0, 0, 0, 0, 0, 0, 0, 0, 0, 0, 0, 0, 0, 0, 0, 0, 0, 0, 0, 0, 0, 1, 0, 0, 0, 0, 0, 0, 0, 0, 0, 0, 0, 0, 0, 0, 0, 0, 0, 0, 0, 0, 0, 0, 0, 0, 0, 0, 0, 0, 0, 0, 0, 0, 0, 0, 0, 0, 0], [0, 0, 0, 0, 0, 0, 0, 0, 0, 0, 0, 38, 0, 0, 0, 0, 0, 0, 0, 16, 3, 0, 0, 0], [0, 0, 0, 0, 0, 0, 3, 0, 0, 0, 0, 0, 2, 0], [0, 0, 0, 0, 0, 0, 0, 0, 2, 0, 0, 1, 0, 0, 0, 0, 0, 0, 2, 0, 0, 0, 0, 0, 0, 0, 0, 0, 0, 0, 0, 0, 0, 0, 0, 0, 0, 0, 0, 0, 0], [0, 0, 0, 0, 0, 0, 0, 0, 0, 0, 1, 0, 0, 0, 1, 0, 0, 0, 1, 2, 0, 0, 0, 0], [0], [0], [0], [0], [0], [0], [0], [0], [0], [0]]), ('day4-8613776502983-111.1.21.8', [[0, 0, 0, 0, 0, 0, 0, 0, 0, 0, 0, 0, 0, 0, 0, 1, 0, 0, 0, 0, 0, 0, 0, 0, 0, 0, 0, 0, 0, 0, 0, 0, 0, 0, 0, 0, 0, 0, 0, 0, 0, 0, 0, 0, 0, 0, 0, 0, 0, 0, 0, 0, 0, 0, 0, 0, 0, 0, 0, 0, 0, 0, 0], [0, 0, 5, 1, 0, 0, 0, 7, 6, 2, 2, 7, 4, 9, 22, 58, 13, 6, 3, 4, 1, 0, 0, 1], [0, 0, 0, 0, 0, 193, 0, 0, 3, 0, 0, 0, 0, 0], [0, 0, 0, 0, 0, 0, 0, 0, 0, 0, 0, 0, 0, 0, 0, 0, 0, 0, 0, 0, 0, 0, 193, 0, 0, 0, 0, 0, 0, 0, 0, 3, 0, 0, 0, 0, 0, 0, 0, 0, 0], [24, 6, 0, 0, 0, 2, 0, 10, 7, 13, 15, 5, 2, 6, 11, 7, 1, 6, 29, 4, 12, 13, 18, 5], [0], [0], [0], [0], [0], [0], [0], [0], [0], [0]])]\n"
     ]
    }
   ],
   "source": [
    "print(test_unlabled_features.take(3))"
   ]
  },
  {
   "cell_type": "code",
   "execution_count": 407,
   "metadata": {
    "collapsed": true
   },
   "outputs": [],
   "source": [
    "test_unlabled_features.coalesce(100)\\\n",
    ".saveAsTextFile(\"/media/jw/5dccc50e-7c13-4186-bf6b-d894f02410be/wbb/result/pu_learning/test_unlabled_features\")"
   ]
  },
  {
   "cell_type": "code",
   "execution_count": null,
   "metadata": {
    "collapsed": true
   },
   "outputs": [],
   "source": []
  },
  {
   "cell_type": "code",
   "execution_count": null,
   "metadata": {
    "collapsed": true
   },
   "outputs": [],
   "source": []
  },
  {
   "cell_type": "code",
   "execution_count": null,
   "metadata": {
    "collapsed": true
   },
   "outputs": [],
   "source": []
  },
  {
   "cell_type": "code",
   "execution_count": null,
   "metadata": {
    "collapsed": true
   },
   "outputs": [],
   "source": []
  },
  {
   "cell_type": "code",
   "execution_count": null,
   "metadata": {
    "collapsed": true
   },
   "outputs": [],
   "source": []
  },
  {
   "cell_type": "code",
   "execution_count": null,
   "metadata": {
    "collapsed": true
   },
   "outputs": [],
   "source": []
  },
  {
   "cell_type": "code",
   "execution_count": null,
   "metadata": {
    "collapsed": true
   },
   "outputs": [],
   "source": []
  },
  {
   "cell_type": "code",
   "execution_count": null,
   "metadata": {
    "collapsed": true
   },
   "outputs": [],
   "source": []
  },
  {
   "cell_type": "code",
   "execution_count": null,
   "metadata": {
    "collapsed": true
   },
   "outputs": [],
   "source": []
  },
  {
   "cell_type": "code",
   "execution_count": null,
   "metadata": {
    "collapsed": false
   },
   "outputs": [],
   "source": []
  },
  {
   "cell_type": "code",
   "execution_count": null,
   "metadata": {
    "collapsed": true
   },
   "outputs": [],
   "source": []
  },
  {
   "cell_type": "code",
   "execution_count": null,
   "metadata": {
    "collapsed": true
   },
   "outputs": [],
   "source": []
  },
  {
   "cell_type": "code",
   "execution_count": null,
   "metadata": {
    "collapsed": true
   },
   "outputs": [],
   "source": []
  },
  {
   "cell_type": "code",
   "execution_count": 392,
   "metadata": {
    "collapsed": true
   },
   "outputs": [],
   "source": [
    "r1 = sc.parallelize([('a',[[0] for i in range(10)]),('b',[[0] for i in range(10)])])\n",
    "r2 = sc.parallelize([('b',[1,2,3]),('a',[4,5,6])])\n",
    "r3 = sc.parallelize([('b',5),('a',3)])"
   ]
  },
  {
   "cell_type": "code",
   "execution_count": 394,
   "metadata": {
    "collapsed": false
   },
   "outputs": [
    {
     "data": {
      "text/plain": [
       "[('a', [[4, 5, 6], 3, [[0], [0], [0], [0], [0], [0], [0], [0], [0], [0]]]),\n",
       " ('b', [[1, 2, 3], 5, [[0], [0], [0], [0], [0], [0], [0], [0], [0], [0]]])]"
      ]
     },
     "execution_count": 394,
     "metadata": {},
     "output_type": "execute_result"
    }
   ],
   "source": [
    "sc.union([r2,r3,r1]).groupByKey().mapValues(list).collect()"
   ]
  },
  {
   "cell_type": "code",
   "execution_count": null,
   "metadata": {
    "collapsed": true
   },
   "outputs": [],
   "source": [
    "[[[0], [0]], [1, 2, 3]]"
   ]
  },
  {
   "cell_type": "code",
   "execution_count": 230,
   "metadata": {
    "collapsed": true
   },
   "outputs": [],
   "source": [
    "a = [[0, 0, 0, 0, 0, 0, 0, 0, 0, 0, 0, 0, 0, 0, 0, 1, 0, 0, 0, 0, 0, 0, 0, 0, 0, 0, 0, 0, 0, 0, 0, 0, 0, 0, 0, 0, 0, 0, 0, 0, 0, 0, 0, 0, 0, 0, 0, 0, 0, 0, 0, 0, 0, 0, 0, 0, 0, 0, 0, 0, 0, 0, 0], [360, 294, 272, 290, 255, 260, 409, 291, 213, 86, 86, 59, 23, 308, 123, 167, 192, 170, 202, 338, 47, 15, 219, 134], [0, 0, 0, 0, 0, 0, 0, 0, 831, 0, 0, 0, 0, 0], [0, 0, 0, 0, 0, 0, 0, 0, 0, 0, 0, 0, 0, 0, 0, 0, 0, 0, 0, 0, 0, 0, 0, 0, 0, 0, 0, 0, 0, 0, 0, 6, 0, 0, 0, 0, 0, 0, 825, 0, 0], [47, 29, 12, 5, 13, 4, 26, 27, 39, 66, 65, 46, 60, 30, 30, 40, 39, 58, 52, 21, 46, 38, 20, 18], [36], [2153], [9018882], [13089], [9747], [94], [281], [1333259], [1953], [1869]]"
   ]
  },
  {
   "cell_type": "code",
   "execution_count": 231,
   "metadata": {
    "collapsed": true
   },
   "outputs": [],
   "source": [
    "aa = [item for i in a for item in i]"
   ]
  },
  {
   "cell_type": "code",
   "execution_count": 234,
   "metadata": {
    "collapsed": false
   },
   "outputs": [
    {
     "name": "stdout",
     "output_type": "stream",
     "text": [
      "[0, 0, 0, 0, 0, 0, 0, 0, 0, 0, 0, 0, 0, 0, 0, 1, 0, 0, 0, 0, 0, 0, 0, 0, 0, 0, 0, 0, 0, 0, 0, 0, 0, 0, 0, 0, 0, 0, 0, 0, 0, 0, 0, 0, 0, 0, 0, 0, 0, 0, 0, 0, 0, 0, 0, 0, 0, 0, 0, 0, 0, 0, 0, 360, 294, 272, 290, 255, 260, 409, 291, 213, 86, 86, 59, 23, 308, 123, 167, 192, 170, 202, 338, 47, 15, 219, 134, 0, 0, 0, 0, 0, 0, 0, 0, 831, 0, 0, 0, 0, 0, 0, 0, 0, 0, 0, 0, 0, 0, 0, 0, 0, 0, 0, 0, 0, 0, 0, 0, 0, 0, 0, 0, 0, 0, 0, 0, 0, 0, 0, 0, 0, 6, 0, 0, 0, 0, 0, 0, 825, 0, 0, 47, 29, 12, 5, 13, 4, 26, 27, 39, 66, 65, 46, 60, 30, 30, 40, 39, 58, 52, 21, 46, 38, 20, 18, 36, 2153, 9018882, 13089, 9747, 94, 281, 1333259, 1953, 1869]\n",
      "176\n"
     ]
    }
   ],
   "source": [
    "print(aa)\n",
    "print(len(aa))"
   ]
  },
  {
   "cell_type": "code",
   "execution_count": 103,
   "metadata": {
    "collapsed": false
   },
   "outputs": [
    {
     "data": {
      "text/plain": [
       "[('day1-8615150560352-111.30.128.27', [[560262], [74], [29]]),\n",
       " ('day1-8613813010581-117.135.169.19', [[168686], [72], [12]]),\n",
       " ('day1-8615951600106-117.135.169.19', [[133647], [124], [3]])]"
      ]
     },
     "execution_count": 103,
     "metadata": {},
     "output_type": "execute_result"
    }
   ],
   "source": [
    "sc.union([tppd1_user_duration,tppd1_user_degree,tppd1_user_diversity]).groupByKey().mapValues(list).take(3)"
   ]
  },
  {
   "cell_type": "code",
   "execution_count": 333,
   "metadata": {
    "collapsed": false
   },
   "outputs": [
    {
     "data": {
      "text/plain": [
       "[[0], [0], [0]]"
      ]
     },
     "execution_count": 333,
     "metadata": {},
     "output_type": "execute_result"
    }
   ],
   "source": []
  },
  {
   "cell_type": "code",
   "execution_count": null,
   "metadata": {
    "collapsed": true
   },
   "outputs": [],
   "source": []
  }
 ],
 "metadata": {
  "kernelspec": {
   "display_name": "Python [default]",
   "language": "python",
   "name": "python3"
  },
  "language_info": {
   "codemirror_mode": {
    "name": "ipython",
    "version": 3
   },
   "file_extension": ".py",
   "mimetype": "text/x-python",
   "name": "python",
   "nbconvert_exporter": "python",
   "pygments_lexer": "ipython3",
   "version": "3.5.2"
  }
 },
 "nbformat": 4,
 "nbformat_minor": 1
}
