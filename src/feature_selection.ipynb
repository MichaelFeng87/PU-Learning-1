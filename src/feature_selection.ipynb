{
 "cells": [
  {
   "cell_type": "markdown",
   "metadata": {},
   "source": [
    "### 数据格式"
   ]
  },
  {
   "cell_type": "code",
   "execution_count": 1,
   "metadata": {
    "collapsed": false
   },
   "outputs": [
    {
     "name": "stdout",
     "output_type": "stream",
     "text": [
      "['2013-12-28 23:40:34', '8613770773315', '111.30.132.39', 'web', 'wspeed.qq.com', 'qq', '-', '1087', '3', '3', '8', '2148', '-1']\r\n",
      "['2013-12-28 23:41:41', '8613770773315', '111.30.132.38', 'web', 'wspeed.qq.com', 'qq', '-', '1621', '5', '5', '8', '2148', '-1']\r\n",
      "['2013-12-28 23:43:52', '8613770773315', '111.30.132.39', 'web', 'wspeed.qq.com', 'qq', '-', '1140', '5', '5', '8', '2148', '-1']\r\n"
     ]
    }
   ],
   "source": [
    "!head -3 /media/jw/5dccc50e-7c13-4186-bf6b-d894f02410be/wbb/result/qq_5000_user_data/qq_5000_user_dpi/3days/20131228/part-19143"
   ]
  },
  {
   "cell_type": "raw",
   "metadata": {},
   "source": [
    "0:    2. 2013-12-28 02:56:08      记录时间，年月日时分秒\n",
    "1:    5. 8613851651044        用户账号/手机号\n",
    "2:    28. 111.30.132.34       服务器IP地址，点分十进制IP\n",
    "3:    34. web             业务类型，取值web/wap1/wap2/mms/txt等\n",
    "4:    36. isdspeed.qq.com     WEB/WAP请求HOST\n",
    "5:    37. qq              根据HOST提取的一级域名\n",
    "6:    41. Mozilla/5.0 (Linux; U; Android 4.2.1; zh-cn; Coolpad8720Q Build/JOP40D) AppleWebKit/534.30 (KHTML, like \n",
    "          Gecko) Version/4.0 Mobil    WEB/WAP请求User Agent \n",
    "7:    47. 2795            连接时长，即（流结束时间-流开始时间）\n",
    "8:    48. 10              上行报文数\n",
    "9:    49. 7               下行报文数\n",
    "10:   60. 8               大类业务ID\n",
    "11:   61. 2148            小类业务ID\n",
    "12:   78. 宇龙          终端厂家，UTF-8"
   ]
  },
  {
   "cell_type": "raw",
   "metadata": {},
   "source": [
    "PU_learning_doc.txt\n",
    "\n",
    "----------特征------------\n",
    "\n",
    "共选取5000个qq用户,1684个qq服务器ip\n",
    "以下特征均基于选取的这些用户和服务器的连接数据\n",
    "\n",
    "-----\n",
    "user_3digit: 用户的前三位手机号\n",
    "\n",
    "user_brand: 用户终端品牌,共有62个\n",
    "\n",
    "user_activetime: 用户活跃时间,每天24小时每小时的记录数\n",
    "\n",
    "user_diversity: 用户每天跟几个qq服务器发生连接\n",
    "\n",
    "user_indegree: 用户入度，每天跟服务器发生连接的次数\n",
    "\n",
    "user_in_strength: 用户每天下行报文数\n",
    "\n",
    "user_out_strength: 用户上行报文数\n",
    "\n",
    "user_duration: 用户每天和qq服务器之间的连接时长\n",
    "-----\n",
    "server_category: 服务器业务类型，（几乎都是web类型，统计没有太大意义，去掉这个特征。）\n",
    "\n",
    "server_diversity: 服务器每天跟几个qq用户发生连接\n",
    "\n",
    "server_service_ID: 大类业务ID\n",
    "\n",
    "server_service_id: 小类业务id\n",
    "\n",
    "server_active_time: 服务器活跃时间，每天24小时每小时的记录数\n",
    "\n",
    "server_indegree: 服务器入度，每天跟用户发生连接的次数\n",
    "\n",
    "server_in_strength: 服务器每天下行报文数\n",
    "\n",
    "server_out_strength: 服务器上行报文数\n",
    "\n",
    "server_duration: 每个qq服务器每天与qq用户之间的连接总时长\n",
    "------"
   ]
  },
  {
   "cell_type": "code",
   "execution_count": 2,
   "metadata": {
    "collapsed": true
   },
   "outputs": [],
   "source": [
    "# 过滤出需要用户和字段的三天数据\n",
    "qq_5000_user_dpi_day1_f = \"/media/jw/5dccc50e-7c13-4186-bf6b-d894f02410be/wbb/result/qq_5000_user_data/qq_5000_user_dpi/3days/20131228/part-*\"\n",
    "qq_5000_user_dpi_day2_f = \"/media/jw/5dccc50e-7c13-4186-bf6b-d894f02410be/wbb/result/qq_5000_user_data/qq_5000_user_dpi/3days/20131229/part-*\"\n",
    "qq_5000_user_dpi_day3_f = \"/media/jw/5dccc50e-7c13-4186-bf6b-d894f02410be/wbb/result/qq_5000_user_data/qq_5000_user_dpi/3days/20131230/part-*\"\n",
    "\n",
    "qq_5000_user_dpi_day4_f = \"/media/jw/5dccc50e-7c13-4186-bf6b-d894f02410be/wbb/result/qq_5000_user_data/qq_5000_user_dpi/20131231/part-*\"\n",
    "\n",
    "qq_5000_user_dpi_3days_f = \"/media/jw/5dccc50e-7c13-4186-bf6b-d894f02410be/wbb/result/qq_5000_user_data/qq_5000_user_dpi/3days/*/part-*\""
   ]
  },
  {
   "cell_type": "code",
   "execution_count": 35,
   "metadata": {
    "collapsed": true
   },
   "outputs": [],
   "source": [
    "qq_5000_user_dpi_day1 = sc.textFile(qq_5000_user_dpi_day1_f).coalesce(50)  # repartition\n",
    "qq_5000_user_dpi_day2 = sc.textFile(qq_5000_user_dpi_day2_f).coalesce(50)\n",
    "qq_5000_user_dpi_day3 = sc.textFile(qq_5000_user_dpi_day3_f).coalesce(50)\n",
    "\n",
    "qq_5000_user_dpi_day4 = sc.textFile(qq_5000_user_dpi_day4_f).coalesce(50)\n",
    "\n",
    "qq_5000_user_dpi_3days = sc.textFile(qq_5000_user_dpi_3days_f).coalesce(50)  "
   ]
  },
  {
   "cell_type": "markdown",
   "metadata": {},
   "source": [
    "### 获取特征"
   ]
  },
  {
   "cell_type": "code",
   "execution_count": 6,
   "metadata": {
    "collapsed": true
   },
   "outputs": [],
   "source": [
    "# 路径\n",
    "base_path = \"/media/jw/5dccc50e-7c13-4186-bf6b-d894f02410be/wbb/result/qq_prediction/\""
   ]
  },
  {
   "cell_type": "markdown",
   "metadata": {},
   "source": [
    "#### user_3digits"
   ]
  },
  {
   "cell_type": "code",
   "execution_count": 16,
   "metadata": {
    "collapsed": false
   },
   "outputs": [
    {
     "data": {
      "text/plain": [
       "[('8615195898003', '151'), ('8615905145554', '159')]"
      ]
     },
     "execution_count": 16,
     "metadata": {},
     "output_type": "execute_result"
    }
   ],
   "source": [
    "qq_user_phone_3digits = sc.textFile(base_path + \"qq_user_phone_5000/part-*\").map(lambda x: (x, x[2:5]))\n",
    "qq_user_phone_3digits.take(2)"
   ]
  },
  {
   "cell_type": "code",
   "execution_count": 17,
   "metadata": {
    "collapsed": false
   },
   "outputs": [
    {
     "name": "stdout",
     "output_type": "stream",
     "text": [
      "18 ['188', '134', '158', '182', '157', '159', '152', '147', '184', '137', '183', '138', '135', '150', '151', '187', '136', '139']\n"
     ]
    }
   ],
   "source": [
    "all_3digits = list(set(qq_user_phone_3digits.map(lambda x: x[1]).collect()))\n",
    "print(len(all_3digits), all_3digits)"
   ]
  },
  {
   "cell_type": "code",
   "execution_count": 21,
   "metadata": {
    "collapsed": true
   },
   "outputs": [],
   "source": [
    "def get_feature_vector(feature, all_feature):\n",
    "    feature_vector = [0 for i in range(len(all_feature))]\n",
    "    feature_vector[all_feature.index(feature)] = 1\n",
    "    return feature_vector"
   ]
  },
  {
   "cell_type": "code",
   "execution_count": 22,
   "metadata": {
    "collapsed": false
   },
   "outputs": [
    {
     "data": {
      "text/plain": [
       "[('8615195898003', [0, 0, 0, 0, 0, 0, 0, 0, 0, 0, 0, 0, 0, 0, 1, 0, 0, 0]),\n",
       " ('8615905145554', [0, 0, 0, 0, 0, 1, 0, 0, 0, 0, 0, 0, 0, 0, 0, 0, 0, 0])]"
      ]
     },
     "execution_count": 22,
     "metadata": {},
     "output_type": "execute_result"
    }
   ],
   "source": [
    "qq_user_phone_3digits_vec = qq_user_phone_3digits.map(lambda x: (x[0], get_feature_vector(x[1], all_3digits)))\n",
    "qq_user_phone_3digits_vec.take(2)"
   ]
  },
  {
   "cell_type": "code",
   "execution_count": 25,
   "metadata": {
    "collapsed": false
   },
   "outputs": [],
   "source": [
    "qq_user_phone_3digits_vec.saveAsTextFile(base_path + \"qq_user_phone_3digits\")"
   ]
  },
  {
   "cell_type": "markdown",
   "metadata": {},
   "source": [
    "#### user_brand"
   ]
  },
  {
   "cell_type": "code",
   "execution_count": 54,
   "metadata": {
    "collapsed": false
   },
   "outputs": [],
   "source": [
    "# 计算过程见feature_1.ipynb\n",
    "user_brand_vec = sc.textFile(base_path + \"user_brand_vec/part-*\").map(lambda x: eval(x))"
   ]
  },
  {
   "cell_type": "code",
   "execution_count": 56,
   "metadata": {
    "collapsed": false
   },
   "outputs": [
    {
     "name": "stdout",
     "output_type": "stream",
     "text": [
      "[('8615951423477', [0, 0, 0, 0, 0, 0, 0, 0, 0, 0, 0, 0, 0, 0, 0, 0, 0, 0, 0, 0, 0, 0, 0, 0, 0, 0, 0, 0, 0, 0, 0, 0, 0, 1, 0, 0, 0, 0, 0, 0, 0, 0, 0, 0, 0, 0, 0, 0, 0, 0, 0, 0, 0, 0, 0, 0, 0, 0, 0, 0, 0, 0, 0]), ('8613913928726', [0, 0, 0, 0, 0, 0, 0, 0, 0, 0, 0, 0, 0, 0, 0, 0, 0, 0, 0, 0, 0, 1, 0, 0, 0, 0, 0, 0, 0, 0, 0, 0, 0, 0, 0, 0, 0, 0, 0, 0, 0, 0, 0, 0, 0, 0, 0, 0, 0, 0, 0, 0, 0, 0, 0, 0, 0, 0, 0, 0, 0, 0, 0])]\n"
     ]
    }
   ],
   "source": [
    "print(user_brand_vec.take(2))"
   ]
  },
  {
   "cell_type": "code",
   "execution_count": 34,
   "metadata": {
    "collapsed": false
   },
   "outputs": [
    {
     "data": {
      "text/plain": [
       "5000"
      ]
     },
     "execution_count": 34,
     "metadata": {},
     "output_type": "execute_result"
    }
   ],
   "source": [
    "user_brand_vec.count()"
   ]
  },
  {
   "cell_type": "code",
   "execution_count": 2,
   "metadata": {
    "collapsed": false
   },
   "outputs": [
    {
     "data": {
      "text/plain": [
       "63"
      ]
     },
     "execution_count": 2,
     "metadata": {},
     "output_type": "execute_result"
    }
   ],
   "source": [
    "len([0, 0, 0, 0, 0, 0, 0, 0, 0, 0, 0, 0, 0, 0, 0, 0, 0, 0, 0, 0, 0, 1, 0, 0, 0, 0, 0, 0, 0, 0, 0, 0, 0, 0, 0, 0, 0, 0, 0, 0, 0, 0, 0, 0, 0, 0, 0, 0, 0, 0, 0, 0, 0, 0, 0, 0, 0, 0, 0, 0, 0, 0, 0])"
   ]
  },
  {
   "cell_type": "markdown",
   "metadata": {},
   "source": [
    "#### user_activetime: 用户活跃时间,每天24小时每小时的记录数"
   ]
  },
  {
   "cell_type": "code",
   "execution_count": 74,
   "metadata": {
    "collapsed": true
   },
   "outputs": [],
   "source": [
    "from collections import Counter\n",
    "import numpy as np"
   ]
  },
  {
   "cell_type": "code",
   "execution_count": 62,
   "metadata": {
    "collapsed": true
   },
   "outputs": [],
   "source": [
    "user_activetime_day1 = qq_5000_user_dpi_day1.map(lambda x: (eval(x)[1], eval(x)[0][-8:-6])).groupByKey().mapValues(list)\\\n",
    ".map(lambda x: (x[0], dict(Counter(x[1]))))\n",
    "user_activetime_day2 = qq_5000_user_dpi_day2.map(lambda x: (eval(x)[1], eval(x)[0][-8:-6])).groupByKey().mapValues(list)\\\n",
    ".map(lambda x: (x[0], dict(Counter(x[1]))))\n",
    "user_activetime_day3 = qq_5000_user_dpi_day3.map(lambda x: (eval(x)[1], eval(x)[0][-8:-6])).groupByKey().mapValues(list)\\\n",
    ".map(lambda x: (x[0], dict(Counter(x[1]))))"
   ]
  },
  {
   "cell_type": "code",
   "execution_count": 304,
   "metadata": {
    "collapsed": true
   },
   "outputs": [],
   "source": [
    "# 由于‘day4’已经被定义为前三天的取平均，所以第4天DPI中提取的数据被定义为‘day5‘，以下'day5'均是指数据是来自第4天的\n",
    "user_activetime_day5 = qq_5000_user_dpi_day4.map(lambda x: (eval(x)[1], eval(x)[0][-8:-6])).groupByKey().mapValues(list)\\\n",
    ".map(lambda x: (x[0], dict(Counter(x[1]))))"
   ]
  },
  {
   "cell_type": "code",
   "execution_count": 63,
   "metadata": {
    "collapsed": false
   },
   "outputs": [
    {
     "name": "stdout",
     "output_type": "stream",
     "text": [
      "5000 [('8613851429132', {'12': 4, '14': 5, '11': 10}), ('8613913395739', {'12': 2, '23': 7, '17': 6, '11': 2, '13': 9, '16': 1, '06': 1, '08': 1, '09': 4, '21': 7})]\n"
     ]
    }
   ],
   "source": [
    "print(user_activetime_day1.count(), user_activetime_day1.take(2))"
   ]
  },
  {
   "cell_type": "code",
   "execution_count": 64,
   "metadata": {
    "collapsed": false
   },
   "outputs": [],
   "source": [
    "def get_feature(feature_dict, all_feature):\n",
    "    res = [0 for i in range(len(all_feature))]\n",
    "    for i in range(len(all_feature)):\n",
    "        res[i] = feature_dict.get(all_feature[i],0)\n",
    "    return res"
   ]
  },
  {
   "cell_type": "code",
   "execution_count": 65,
   "metadata": {
    "collapsed": true
   },
   "outputs": [],
   "source": [
    "time_hour = ['00', '01', '02', '03', '04', '05', '06', '07', '08', '09', '10', '11', '12', '13', '14', '15', '16', '17', '18', '19', '20', '21', '22', '23']"
   ]
  },
  {
   "cell_type": "code",
   "execution_count": 66,
   "metadata": {
    "collapsed": true
   },
   "outputs": [],
   "source": [
    "user_activetime_day1_vec = user_activetime_day1.map(lambda x: (x[0], get_feature(x[1], time_hour)))\n",
    "user_activetime_day2_vec = user_activetime_day2.map(lambda x: (x[0], get_feature(x[1], time_hour)))\n",
    "user_activetime_day3_vec = user_activetime_day3.map(lambda x: (x[0], get_feature(x[1], time_hour)))"
   ]
  },
  {
   "cell_type": "code",
   "execution_count": 305,
   "metadata": {
    "collapsed": true
   },
   "outputs": [],
   "source": [
    "user_activetime_day5_vec = user_activetime_day5.map(lambda x: (x[0], get_feature(x[1], time_hour)))"
   ]
  },
  {
   "cell_type": "code",
   "execution_count": 70,
   "metadata": {
    "collapsed": false
   },
   "outputs": [
    {
     "data": {
      "text/plain": [
       "[('8613851429132',\n",
       "  [0, 0, 0, 0, 0, 0, 0, 0, 0, 0, 0, 10, 4, 0, 5, 0, 0, 0, 0, 0, 0, 0, 0, 0]),\n",
       " ('8613913395739',\n",
       "  [0, 0, 0, 0, 0, 0, 1, 0, 1, 4, 0, 2, 2, 9, 0, 0, 1, 6, 0, 0, 0, 7, 0, 7])]"
      ]
     },
     "execution_count": 70,
     "metadata": {},
     "output_type": "execute_result"
    }
   ],
   "source": [
    "user_activetime_day1_vec.take(2)"
   ]
  },
  {
   "cell_type": "code",
   "execution_count": 71,
   "metadata": {
    "collapsed": false
   },
   "outputs": [],
   "source": [
    "user_activetime_day1_vec.coalesce(2).saveAsTextFile(base_path + \"user_activetime/day1/\")\n",
    "user_activetime_day2_vec.coalesce(2).saveAsTextFile(base_path + \"user_activetime/day2/\")\n",
    "user_activetime_day3_vec.coalesce(2).saveAsTextFile(base_path + \"user_activetime/day3/\")"
   ]
  },
  {
   "cell_type": "code",
   "execution_count": 306,
   "metadata": {
    "collapsed": true
   },
   "outputs": [],
   "source": [
    "user_activetime_day5_vec.coalesce(2).saveAsTextFile(base_path + \"user_activetime/day5/\")"
   ]
  },
  {
   "cell_type": "code",
   "execution_count": 81,
   "metadata": {
    "collapsed": false
   },
   "outputs": [],
   "source": [
    "# 第4天的根据前三天的取平均\n",
    "user_activetime_day4_vec = sc.union([user_activetime_day1_vec, user_activetime_day2_vec, user_activetime_day3_vec])\\\n",
    ".groupByKey().mapValues(list).map(lambda x: (x[0], list(np.mean(np.array(x[1]), axis=0, dtype=np.int16))))"
   ]
  },
  {
   "cell_type": "code",
   "execution_count": 82,
   "metadata": {
    "collapsed": false
   },
   "outputs": [
    {
     "data": {
      "text/plain": [
       "[('8613851429132',\n",
       "  [0, 0, 0, 0, 0, 0, 0, 0, 0, 0, 0, 3, 1, 0, 4, 0, 0, 0, 0, 13, 2, 0, 0, 0]),\n",
       " ('8615722826043',\n",
       "  [0, 0, 0, 0, 0, 0, 0, 6, 0, 0, 0, 0, 0, 0, 0, 1, 1, 0, 0, 0, 10, 6, 0, 1]),\n",
       " ('8618260098095',\n",
       "  [0, 0, 0, 0, 0, 0, 0, 0, 0, 0, 2, 0, 0, 0, 0, 0, 0, 0, 0, 0, 0, 0, 8, 21])]"
      ]
     },
     "execution_count": 82,
     "metadata": {},
     "output_type": "execute_result"
    }
   ],
   "source": [
    "user_activetime_day4_vec.take(3)"
   ]
  },
  {
   "cell_type": "code",
   "execution_count": 83,
   "metadata": {
    "collapsed": true
   },
   "outputs": [],
   "source": [
    "user_activetime_day4_vec.coalesce(2).saveAsTextFile(base_path + \"user_activetime/day4/\")"
   ]
  },
  {
   "cell_type": "markdown",
   "metadata": {},
   "source": [
    "#### user_diversity: 用户每天跟几个qq服务器发生连接"
   ]
  },
  {
   "cell_type": "code",
   "execution_count": 105,
   "metadata": {
    "collapsed": true
   },
   "outputs": [],
   "source": [
    "user_diversity_day1_vec = qq_5000_user_dpi_day1.map(lambda x: (eval(x)[1], eval(x)[2])).groupByKey().mapValues(set)\\\n",
    ".map(lambda x: (x[0], [len(x[1])]))\n",
    "user_diversity_day2_vec = qq_5000_user_dpi_day2.map(lambda x: (eval(x)[1], eval(x)[2])).groupByKey().mapValues(set)\\\n",
    ".map(lambda x: (x[0], [len(x[1])]))\n",
    "user_diversity_day3_vec = qq_5000_user_dpi_day3.map(lambda x: (eval(x)[1], eval(x)[2])).groupByKey().mapValues(set)\\\n",
    ".map(lambda x: (x[0], [len(x[1])]))"
   ]
  },
  {
   "cell_type": "code",
   "execution_count": 307,
   "metadata": {
    "collapsed": true
   },
   "outputs": [],
   "source": [
    "user_diversity_day5_vec = qq_5000_user_dpi_day4.map(lambda x: (eval(x)[1], eval(x)[2])).groupByKey().mapValues(set)\\\n",
    ".map(lambda x: (x[0], [len(x[1])]))"
   ]
  },
  {
   "cell_type": "code",
   "execution_count": 308,
   "metadata": {
    "collapsed": true
   },
   "outputs": [],
   "source": [
    "user_diversity_day5_vec.coalesce(2).saveAsTextFile(base_path + \"user_diversity/day5/\")"
   ]
  },
  {
   "cell_type": "code",
   "execution_count": 106,
   "metadata": {
    "collapsed": false
   },
   "outputs": [
    {
     "data": {
      "text/plain": [
       "[('8613851429132', [3]), ('8615722826043', [1])]"
      ]
     },
     "execution_count": 106,
     "metadata": {},
     "output_type": "execute_result"
    }
   ],
   "source": [
    "user_diversity_day2_vec.take(2)"
   ]
  },
  {
   "cell_type": "code",
   "execution_count": 107,
   "metadata": {
    "collapsed": true
   },
   "outputs": [],
   "source": [
    "user_diversity_day4_vec = sc.union([user_diversity_day1_vec, user_diversity_day2_vec, user_diversity_day3_vec])\\\n",
    ".groupByKey().mapValues(list).map(lambda x: (x[0], list(np.mean(np.array(x[1]), axis=0, dtype=np.int16))))"
   ]
  },
  {
   "cell_type": "code",
   "execution_count": 108,
   "metadata": {
    "collapsed": false
   },
   "outputs": [
    {
     "data": {
      "text/plain": [
       "[('8613851429132', [6]), ('8615722826043', [3])]"
      ]
     },
     "execution_count": 108,
     "metadata": {},
     "output_type": "execute_result"
    }
   ],
   "source": [
    "user_diversity_day4_vec.take(2)"
   ]
  },
  {
   "cell_type": "code",
   "execution_count": 109,
   "metadata": {
    "collapsed": true
   },
   "outputs": [],
   "source": [
    "user_diversity_day1_vec.coalesce(2).saveAsTextFile(base_path + \"user_diversity/day1/\")\n",
    "user_diversity_day2_vec.coalesce(2).saveAsTextFile(base_path + \"user_diversity/day2/\")\n",
    "user_diversity_day3_vec.coalesce(2).saveAsTextFile(base_path + \"user_diversity/day3/\")\n",
    "user_diversity_day4_vec.coalesce(2).saveAsTextFile(base_path + \"user_diversity/day4/\")"
   ]
  },
  {
   "cell_type": "markdown",
   "metadata": {},
   "source": [
    "#### user_indegree: 用户入度，每天跟qq服务器发生连接的次数"
   ]
  },
  {
   "cell_type": "code",
   "execution_count": 98,
   "metadata": {
    "collapsed": false
   },
   "outputs": [],
   "source": [
    "user_indegree_day1_vec = qq_5000_user_dpi_day1.map(lambda x: (eval(x)[1], eval(x)[2])).groupByKey().mapValues(list)\\\n",
    ".map(lambda x: (x[0], [len(x[1])]))\n",
    "user_indegree_day2_vec = qq_5000_user_dpi_day2.map(lambda x: (eval(x)[1], eval(x)[2])).groupByKey().mapValues(list)\\\n",
    ".map(lambda x: (x[0], [len(x[1])]))\n",
    "user_indegree_day3_vec = qq_5000_user_dpi_day3.map(lambda x: (eval(x)[1], eval(x)[2])).groupByKey().mapValues(list)\\\n",
    ".map(lambda x: (x[0], [len(x[1])]))"
   ]
  },
  {
   "cell_type": "code",
   "execution_count": 309,
   "metadata": {
    "collapsed": true
   },
   "outputs": [],
   "source": [
    "user_indegree_day5_vec = qq_5000_user_dpi_day4.map(lambda x: (eval(x)[1], eval(x)[2])).groupByKey().mapValues(list)\\\n",
    ".map(lambda x: (x[0], [len(x[1])]))"
   ]
  },
  {
   "cell_type": "code",
   "execution_count": 310,
   "metadata": {
    "collapsed": true
   },
   "outputs": [],
   "source": [
    "user_indegree_day5_vec.coalesce(2).saveAsTextFile(base_path + \"user_indegree/day5/\")"
   ]
  },
  {
   "cell_type": "code",
   "execution_count": 99,
   "metadata": {
    "collapsed": false
   },
   "outputs": [
    {
     "data": {
      "text/plain": [
       "[('8613851429132', [7]), ('8615722826043', [22])]"
      ]
     },
     "execution_count": 99,
     "metadata": {},
     "output_type": "execute_result"
    }
   ],
   "source": [
    "user_indegree_day2_vec.take(2)"
   ]
  },
  {
   "cell_type": "code",
   "execution_count": 102,
   "metadata": {
    "collapsed": true
   },
   "outputs": [],
   "source": [
    "user_indegree_day4_vec = sc.union([user_indegree_day1_vec, user_indegree_day2_vec, user_indegree_day3_vec])\\\n",
    ".groupByKey().mapValues(list).map(lambda x: (x[0], list(np.mean(np.array(x[1]), axis=0, dtype=np.int16))))"
   ]
  },
  {
   "cell_type": "code",
   "execution_count": 103,
   "metadata": {
    "collapsed": false
   },
   "outputs": [
    {
     "data": {
      "text/plain": [
       "[('8613851429132', [24]), ('8615722826043', [29])]"
      ]
     },
     "execution_count": 103,
     "metadata": {},
     "output_type": "execute_result"
    }
   ],
   "source": [
    "user_indegree_day4_vec.take(2)"
   ]
  },
  {
   "cell_type": "code",
   "execution_count": 104,
   "metadata": {
    "collapsed": true
   },
   "outputs": [],
   "source": [
    "user_indegree_day1_vec.coalesce(2).saveAsTextFile(base_path + \"user_indegree/day1/\")\n",
    "user_indegree_day2_vec.coalesce(2).saveAsTextFile(base_path + \"user_indegree/day2/\")\n",
    "user_indegree_day3_vec.coalesce(2).saveAsTextFile(base_path + \"user_indegree/day3/\")\n",
    "user_indegree_day4_vec.coalesce(2).saveAsTextFile(base_path + \"user_indegree/day4/\")"
   ]
  },
  {
   "cell_type": "markdown",
   "metadata": {},
   "source": [
    "#### user_in_strength: 用户每天下行报文数"
   ]
  },
  {
   "cell_type": "code",
   "execution_count": 110,
   "metadata": {
    "collapsed": true
   },
   "outputs": [],
   "source": [
    "user_in_strength_day1_vec = qq_5000_user_dpi_day1.map(lambda x: (eval(x)[1], int(eval(x)[9]))).groupByKey().mapValues(list)\\\n",
    ".map(lambda x: (x[0], [sum(x[1])]))\n",
    "user_in_strength_day2_vec = qq_5000_user_dpi_day2.map(lambda x: (eval(x)[1], int(eval(x)[9]))).groupByKey().mapValues(list)\\\n",
    ".map(lambda x: (x[0], [sum(x[1])]))\n",
    "user_in_strength_day3_vec = qq_5000_user_dpi_day3.map(lambda x: (eval(x)[1], int(eval(x)[9]))).groupByKey().mapValues(list)\\\n",
    ".map(lambda x: (x[0], [sum(x[1])]))"
   ]
  },
  {
   "cell_type": "code",
   "execution_count": 311,
   "metadata": {
    "collapsed": true
   },
   "outputs": [],
   "source": [
    "user_in_strength_day5_vec = qq_5000_user_dpi_day4.map(lambda x: (eval(x)[1], int(eval(x)[9]))).groupByKey().mapValues(list)\\\n",
    ".map(lambda x: (x[0], [sum(x[1])]))"
   ]
  },
  {
   "cell_type": "code",
   "execution_count": 312,
   "metadata": {
    "collapsed": true
   },
   "outputs": [],
   "source": [
    "user_in_strength_day5_vec.coalesce(2).saveAsTextFile(base_path + \"user_in_strength/day5/\")"
   ]
  },
  {
   "cell_type": "code",
   "execution_count": 111,
   "metadata": {
    "collapsed": false
   },
   "outputs": [
    {
     "data": {
      "text/plain": [
       "[('8613851429132', [34]), ('8615722826043', [106])]"
      ]
     },
     "execution_count": 111,
     "metadata": {},
     "output_type": "execute_result"
    }
   ],
   "source": [
    "user_in_strength_day2_vec.take(2)"
   ]
  },
  {
   "cell_type": "code",
   "execution_count": 112,
   "metadata": {
    "collapsed": true
   },
   "outputs": [],
   "source": [
    "user_in_strength_day4_vec = sc.union([user_in_strength_day1_vec, user_in_strength_day2_vec, user_in_strength_day3_vec])\\\n",
    ".groupByKey().mapValues(list).map(lambda x: (x[0], list(np.mean(np.array(x[1]), axis=0, dtype=np.int16))))"
   ]
  },
  {
   "cell_type": "code",
   "execution_count": 113,
   "metadata": {
    "collapsed": false
   },
   "outputs": [
    {
     "data": {
      "text/plain": [
       "[('8613851429132', [109]), ('8615722826043', [174])]"
      ]
     },
     "execution_count": 113,
     "metadata": {},
     "output_type": "execute_result"
    }
   ],
   "source": [
    "user_in_strength_day4_vec.take(2)"
   ]
  },
  {
   "cell_type": "code",
   "execution_count": 114,
   "metadata": {
    "collapsed": true
   },
   "outputs": [],
   "source": [
    "user_in_strength_day1_vec.coalesce(2).saveAsTextFile(base_path + \"user_in_strength/day1/\")\n",
    "user_in_strength_day2_vec.coalesce(2).saveAsTextFile(base_path + \"user_in_strength/day2/\")\n",
    "user_in_strength_day3_vec.coalesce(2).saveAsTextFile(base_path + \"user_in_strength/day3/\")\n",
    "user_in_strength_day4_vec.coalesce(2).saveAsTextFile(base_path + \"user_in_strength/day4/\")"
   ]
  },
  {
   "cell_type": "markdown",
   "metadata": {},
   "source": [
    "#### user_out_strength: 用户上行报文数"
   ]
  },
  {
   "cell_type": "code",
   "execution_count": 115,
   "metadata": {
    "collapsed": true
   },
   "outputs": [],
   "source": [
    "user_out_strength_day1_vec = qq_5000_user_dpi_day1.map(lambda x: (eval(x)[1], int(eval(x)[8]))).groupByKey().mapValues(list)\\\n",
    ".map(lambda x: (x[0], [sum(x[1])]))\n",
    "user_out_strength_day2_vec = qq_5000_user_dpi_day2.map(lambda x: (eval(x)[1], int(eval(x)[8]))).groupByKey().mapValues(list)\\\n",
    ".map(lambda x: (x[0], [sum(x[1])]))\n",
    "user_out_strength_day3_vec = qq_5000_user_dpi_day3.map(lambda x: (eval(x)[1], int(eval(x)[8]))).groupByKey().mapValues(list)\\\n",
    ".map(lambda x: (x[0], [sum(x[1])]))"
   ]
  },
  {
   "cell_type": "code",
   "execution_count": 313,
   "metadata": {
    "collapsed": true
   },
   "outputs": [],
   "source": [
    "user_out_strength_day5_vec = qq_5000_user_dpi_day4.map(lambda x: (eval(x)[1], int(eval(x)[8]))).groupByKey().mapValues(list)\\\n",
    ".map(lambda x: (x[0], [sum(x[1])]))"
   ]
  },
  {
   "cell_type": "code",
   "execution_count": 315,
   "metadata": {
    "collapsed": false
   },
   "outputs": [],
   "source": [
    "user_out_strength_day5_vec.coalesce(2).saveAsTextFile(base_path + \"user_out_strength/day5/\")"
   ]
  },
  {
   "cell_type": "code",
   "execution_count": 116,
   "metadata": {
    "collapsed": true
   },
   "outputs": [],
   "source": [
    "user_out_strength_day4_vec = sc.union([user_out_strength_day1_vec, user_out_strength_day2_vec, user_out_strength_day3_vec])\\\n",
    ".groupByKey().mapValues(list).map(lambda x: (x[0], list(np.mean(np.array(x[1]), axis=0, dtype=np.int16))))"
   ]
  },
  {
   "cell_type": "code",
   "execution_count": 117,
   "metadata": {
    "collapsed": true
   },
   "outputs": [],
   "source": [
    "user_out_strength_day1_vec.coalesce(2).saveAsTextFile(base_path + \"user_out_strength/day1/\")\n",
    "user_out_strength_day2_vec.coalesce(2).saveAsTextFile(base_path + \"user_out_strength/day2/\")\n",
    "user_out_strength_day3_vec.coalesce(2).saveAsTextFile(base_path + \"user_out_strength/day3/\")\n",
    "user_out_strength_day4_vec.coalesce(2).saveAsTextFile(base_path + \"user_out_strength/day4/\")"
   ]
  },
  {
   "cell_type": "markdown",
   "metadata": {},
   "source": [
    "#### user_duration: 用户每天和qq服务器之间的连接时长"
   ]
  },
  {
   "cell_type": "code",
   "execution_count": 343,
   "metadata": {
    "collapsed": true
   },
   "outputs": [],
   "source": [
    "user_duration_day1_vec = qq_5000_user_dpi_day1.map(lambda x: (eval(x)[1], int(eval(x)[7]))).groupByKey().mapValues(list)\\\n",
    ".map(lambda x: (x[0], [sum(x[1])]))\n",
    "user_duration_day2_vec = qq_5000_user_dpi_day2.map(lambda x: (eval(x)[1], int(eval(x)[7]))).groupByKey().mapValues(list)\\\n",
    ".map(lambda x: (x[0], [sum(x[1])]))\n",
    "user_duration_day3_vec = qq_5000_user_dpi_day3.map(lambda x: (eval(x)[1], int(eval(x)[7]))).groupByKey().mapValues(list)\\\n",
    ".map(lambda x: (x[0], [sum(x[1])]))"
   ]
  },
  {
   "cell_type": "code",
   "execution_count": 344,
   "metadata": {
    "collapsed": true
   },
   "outputs": [],
   "source": [
    "user_duration_day5_vec = qq_5000_user_dpi_day4.map(lambda x: (eval(x)[1], int(eval(x)[7]))).groupByKey().mapValues(list)\\\n",
    ".map(lambda x: (x[0], [sum(x[1])]))"
   ]
  },
  {
   "cell_type": "code",
   "execution_count": 346,
   "metadata": {
    "collapsed": false
   },
   "outputs": [],
   "source": [
    "user_duration_day1_vec.coalesce(2).saveAsTextFile(base_path + \"user_duration/day1/\")\n",
    "user_duration_day2_vec.coalesce(2).saveAsTextFile(base_path + \"user_duration/day2/\")\n",
    "user_duration_day3_vec.coalesce(2).saveAsTextFile(base_path + \"user_duration/day3/\")\n",
    "user_duration_day5_vec.coalesce(2).saveAsTextFile(base_path + \"user_duration/day5/\")"
   ]
  },
  {
   "cell_type": "code",
   "execution_count": 347,
   "metadata": {
    "collapsed": true
   },
   "outputs": [],
   "source": [
    "user_duration_day4_vec = sc.union([user_duration_day1_vec, user_duration_day2_vec, user_duration_day3_vec])\\\n",
    ".groupByKey().mapValues(list).map(lambda x: (x[0], list(np.mean(np.array(x[1]), axis=0, dtype=np.int16))))"
   ]
  },
  {
   "cell_type": "code",
   "execution_count": 348,
   "metadata": {
    "collapsed": true
   },
   "outputs": [],
   "source": [
    "user_duration_day4_vec.coalesce(2).saveAsTextFile(base_path + \"user_duration/day4/\")"
   ]
  },
  {
   "cell_type": "code",
   "execution_count": 349,
   "metadata": {
    "collapsed": false
   },
   "outputs": [
    {
     "data": {
      "text/plain": [
       "[('8613851429132', [60463]), ('8613913395739', [181016])]"
      ]
     },
     "execution_count": 349,
     "metadata": {},
     "output_type": "execute_result"
    }
   ],
   "source": [
    "user_duration_day5_vec.take(2)"
   ]
  },
  {
   "cell_type": "markdown",
   "metadata": {},
   "source": [
    "#### server_category: 服务器业务类型\n",
    "\n",
    "几乎都是web类型，统计没有太大意义，去掉这个特征。"
   ]
  },
  {
   "cell_type": "code",
   "execution_count": 120,
   "metadata": {
    "collapsed": true
   },
   "outputs": [],
   "source": [
    "server_category_day1_vec = qq_5000_user_dpi_day1.map(lambda x: (eval(x)[2], eval(x)[3])).groupByKey().mapValues(set)"
   ]
  },
  {
   "cell_type": "code",
   "execution_count": 121,
   "metadata": {
    "collapsed": false
   },
   "outputs": [
    {
     "data": {
      "text/plain": [
       "[('14.17.19.77', {'web'}),\n",
       " ('111.10.27.180', {'web'}),\n",
       " ('111.30.132.109', {'web'})]"
      ]
     },
     "execution_count": 121,
     "metadata": {},
     "output_type": "execute_result"
    }
   ],
   "source": [
    "server_category_day1_vec.take(3)"
   ]
  },
  {
   "cell_type": "markdown",
   "metadata": {},
   "source": [
    "#### server_diversity: 服务器每天跟几个qq用户发生连接"
   ]
  },
  {
   "cell_type": "code",
   "execution_count": 122,
   "metadata": {
    "collapsed": true
   },
   "outputs": [],
   "source": [
    "server_diversity_day1_vec = qq_5000_user_dpi_day1.map(lambda x: (eval(x)[2], eval(x)[1])).groupByKey().mapValues(set)\\\n",
    ".map(lambda x: (x[0], [len(x[1])]))\n",
    "server_diversity_day2_vec = qq_5000_user_dpi_day2.map(lambda x: (eval(x)[2], eval(x)[1])).groupByKey().mapValues(set)\\\n",
    ".map(lambda x: (x[0], [len(x[1])]))\n",
    "server_diversity_day3_vec = qq_5000_user_dpi_day3.map(lambda x: (eval(x)[2], eval(x)[1])).groupByKey().mapValues(set)\\\n",
    ".map(lambda x: (x[0], [len(x[1])]))"
   ]
  },
  {
   "cell_type": "code",
   "execution_count": 316,
   "metadata": {
    "collapsed": true
   },
   "outputs": [],
   "source": [
    "server_diversity_day5_vec = qq_5000_user_dpi_day4.map(lambda x: (eval(x)[2], eval(x)[1])).groupByKey().mapValues(set)\\\n",
    ".map(lambda x: (x[0], [len(x[1])]))"
   ]
  },
  {
   "cell_type": "code",
   "execution_count": 317,
   "metadata": {
    "collapsed": true
   },
   "outputs": [],
   "source": [
    "server_diversity_day5_vec.coalesce(2).saveAsTextFile(base_path + \"server_diversity/day5/\")"
   ]
  },
  {
   "cell_type": "code",
   "execution_count": 123,
   "metadata": {
    "collapsed": false
   },
   "outputs": [
    {
     "data": {
      "text/plain": [
       "[('14.17.19.77', [192]), ('111.10.27.180', [12])]"
      ]
     },
     "execution_count": 123,
     "metadata": {},
     "output_type": "execute_result"
    }
   ],
   "source": [
    "server_diversity_day1_vec.take(2)"
   ]
  },
  {
   "cell_type": "code",
   "execution_count": 426,
   "metadata": {
    "collapsed": true
   },
   "outputs": [],
   "source": [
    "server_diversity_day4_vec = sc.union([server_diversity_day1_vec, server_diversity_day2_vec, server_diversity_day3_vec])\\\n",
    ".groupByKey().mapValues(list).map(lambda x: (x[0], [int(sum([i for j in x[1] for i in j])/3)]))"
   ]
  },
  {
   "cell_type": "code",
   "execution_count": 427,
   "metadata": {
    "collapsed": false
   },
   "outputs": [
    {
     "data": {
      "text/plain": [
       "[('111.10.27.180', [10]), ('117.135.148.48', [4])]"
      ]
     },
     "execution_count": 427,
     "metadata": {},
     "output_type": "execute_result"
    }
   ],
   "source": [
    "server_diversity_day4_vec.take(2)"
   ]
  },
  {
   "cell_type": "code",
   "execution_count": 428,
   "metadata": {
    "collapsed": true
   },
   "outputs": [],
   "source": [
    "server_diversity_day4_vec.coalesce(2).saveAsTextFile(base_path + \"server_diversity/day4/\")"
   ]
  },
  {
   "cell_type": "code",
   "execution_count": 126,
   "metadata": {
    "collapsed": true
   },
   "outputs": [],
   "source": [
    "server_diversity_day1_vec.coalesce(2).saveAsTextFile(base_path + \"server_diversity/day1/\")\n",
    "server_diversity_day2_vec.coalesce(2).saveAsTextFile(base_path + \"server_diversity/day2/\")\n",
    "server_diversity_day3_vec.coalesce(2).saveAsTextFile(base_path + \"server_diversity/day3/\")"
   ]
  },
  {
   "cell_type": "markdown",
   "metadata": {},
   "source": [
    "#### server_service_ID: 大类业务ID; 统计的是每类业务的记录数"
   ]
  },
  {
   "cell_type": "code",
   "execution_count": 129,
   "metadata": {
    "collapsed": false
   },
   "outputs": [
    {
     "name": "stdout",
     "output_type": "stream",
     "text": [
      "['24', '18', '14', '10', '3', '2', '7', '0', '4', '23', '1', '8', '6', '21']\n"
     ]
    }
   ],
   "source": [
    "all_server_service_ID = list(set(qq_5000_user_dpi_3days.map(lambda x: eval(x)[10]).collect()))\n",
    "print(all_server_service_ID)"
   ]
  },
  {
   "cell_type": "code",
   "execution_count": 437,
   "metadata": {
    "collapsed": false
   },
   "outputs": [
    {
     "name": "stdout",
     "output_type": "stream",
     "text": [
      "14\n"
     ]
    }
   ],
   "source": [
    "print(len(all_server_service_ID))"
   ]
  },
  {
   "cell_type": "code",
   "execution_count": 230,
   "metadata": {
    "collapsed": true
   },
   "outputs": [],
   "source": [
    "server_service_ID_day1_vec = qq_5000_user_dpi_day1.map(lambda x: (eval(x)[2], eval(x)[10])).groupByKey().mapValues(list)\\\n",
    ".map(lambda x: (x[0], dict(Counter(x[1])))).map(lambda x: (x[0], get_feature(x[1], all_server_service_ID)))\n",
    "server_service_ID_day2_vec = qq_5000_user_dpi_day2.map(lambda x: (eval(x)[2], eval(x)[10])).groupByKey().mapValues(list)\\\n",
    ".map(lambda x: (x[0], dict(Counter(x[1])))).map(lambda x: (x[0], get_feature(x[1], all_server_service_ID)))\n",
    "server_service_ID_day3_vec = qq_5000_user_dpi_day3.map(lambda x: (eval(x)[2], eval(x)[10])).groupByKey().mapValues(list)\\\n",
    ".map(lambda x: (x[0], dict(Counter(x[1])))).map(lambda x: (x[0], get_feature(x[1], all_server_service_ID)))"
   ]
  },
  {
   "cell_type": "code",
   "execution_count": 318,
   "metadata": {
    "collapsed": true
   },
   "outputs": [],
   "source": [
    "server_service_ID_day5_vec = qq_5000_user_dpi_day4.map(lambda x: (eval(x)[2], eval(x)[10])).groupByKey().mapValues(list)\\\n",
    ".map(lambda x: (x[0], dict(Counter(x[1])))).map(lambda x: (x[0], get_feature(x[1], all_server_service_ID)))"
   ]
  },
  {
   "cell_type": "code",
   "execution_count": 319,
   "metadata": {
    "collapsed": true
   },
   "outputs": [],
   "source": [
    "server_service_ID_day5_vec.coalesce(2).saveAsTextFile(base_path + \"server_service_ID/day5/\")"
   ]
  },
  {
   "cell_type": "code",
   "execution_count": 231,
   "metadata": {
    "collapsed": false
   },
   "outputs": [
    {
     "data": {
      "text/plain": [
       "[('14.17.19.77', [0, 0, 0, 0, 0, 0, 66, 0, 199, 0, 0, 0, 0, 0]),\n",
       " ('111.10.27.180', [0, 0, 0, 0, 0, 0, 0, 0, 0, 0, 0, 0, 12, 0]),\n",
       " ('111.30.132.109', [0, 0, 0, 0, 0, 0, 0, 0, 320, 0, 0, 0, 2, 0])]"
      ]
     },
     "execution_count": 231,
     "metadata": {},
     "output_type": "execute_result"
    }
   ],
   "source": [
    "server_service_ID_day3_vec.take(3)"
   ]
  },
  {
   "cell_type": "code",
   "execution_count": 423,
   "metadata": {
    "collapsed": true
   },
   "outputs": [],
   "source": [
    "server_service_ID_day4_vec = sc.union([server_service_ID_day1_vec, server_service_ID_day2_vec, server_service_ID_day3_vec])\\\n",
    ".groupByKey().mapValues(list).map(lambda x: (x[0], [int(i/3) for i in np.sum(x[1], axis=0)]))"
   ]
  },
  {
   "cell_type": "code",
   "execution_count": 424,
   "metadata": {
    "collapsed": false
   },
   "outputs": [
    {
     "data": {
      "text/plain": [
       "[('111.10.27.180', [0, 0, 0, 0, 0, 0, 0, 0, 0, 0, 0, 0, 17, 0]),\n",
       " ('117.135.148.48', [0, 0, 0, 0, 0, 0, 0, 0, 39, 0, 0, 0, 1, 0]),\n",
       " ('122.228.70.172', [0, 0, 0, 0, 0, 0, 0, 0, 0, 0, 0, 0, 1, 0])]"
      ]
     },
     "execution_count": 424,
     "metadata": {},
     "output_type": "execute_result"
    }
   ],
   "source": [
    "server_service_ID_day4_vec.take(3)"
   ]
  },
  {
   "cell_type": "code",
   "execution_count": 425,
   "metadata": {
    "collapsed": true
   },
   "outputs": [],
   "source": [
    "server_service_ID_day4_vec.coalesce(2).saveAsTextFile(base_path + \"server_service_ID/day4/\")"
   ]
  },
  {
   "cell_type": "code",
   "execution_count": 234,
   "metadata": {
    "collapsed": true
   },
   "outputs": [],
   "source": [
    "server_service_ID_day1_vec.coalesce(2).saveAsTextFile(base_path + \"server_service_ID/day1/\")\n",
    "server_service_ID_day2_vec.coalesce(2).saveAsTextFile(base_path + \"server_service_ID/day2/\")\n",
    "server_service_ID_day3_vec.coalesce(2).saveAsTextFile(base_path + \"server_service_ID/day3/\")"
   ]
  },
  {
   "cell_type": "markdown",
   "metadata": {},
   "source": [
    "#### server_service_id: 小类业务id"
   ]
  },
  {
   "cell_type": "code",
   "execution_count": 135,
   "metadata": {
    "collapsed": false
   },
   "outputs": [
    {
     "name": "stdout",
     "output_type": "stream",
     "text": [
      "['2091', '14', '782', '1844', '2087', '1035', '1544', '1049', '1029', '2346', '2171', '2573', '258', '1827', '2082', '337', '1043', '2148', '2088', '1793', '1545', '339', '515', '0', '1553', '1050', '2570', '2149', '323', '1326', '1073', '1025', '1042', '1322', '1041', '528', '1072', '322', '1074', '802', '777']\n"
     ]
    }
   ],
   "source": [
    "all_server_service_id = list(set(qq_5000_user_dpi_3days.map(lambda x: eval(x)[11]).collect()))\n",
    "print(all_server_service_id)"
   ]
  },
  {
   "cell_type": "code",
   "execution_count": 436,
   "metadata": {
    "collapsed": false
   },
   "outputs": [
    {
     "name": "stdout",
     "output_type": "stream",
     "text": [
      "41\n"
     ]
    }
   ],
   "source": [
    "print(len(all_server_service_id))"
   ]
  },
  {
   "cell_type": "code",
   "execution_count": 235,
   "metadata": {
    "collapsed": true
   },
   "outputs": [],
   "source": [
    "server_service_id_day1_vec = qq_5000_user_dpi_day1.map(lambda x: (eval(x)[2], eval(x)[11])).groupByKey().mapValues(list)\\\n",
    ".map(lambda x: (x[0], dict(Counter(x[1])))).map(lambda x: (x[0], get_feature(x[1], all_server_service_id)))\n",
    "server_service_id_day2_vec = qq_5000_user_dpi_day2.map(lambda x: (eval(x)[2], eval(x)[11])).groupByKey().mapValues(list)\\\n",
    ".map(lambda x: (x[0], dict(Counter(x[1])))).map(lambda x: (x[0], get_feature(x[1], all_server_service_id)))\n",
    "server_service_id_day3_vec = qq_5000_user_dpi_day3.map(lambda x: (eval(x)[2], eval(x)[11])).groupByKey().mapValues(list)\\\n",
    ".map(lambda x: (x[0], dict(Counter(x[1])))).map(lambda x: (x[0], get_feature(x[1], all_server_service_id)))"
   ]
  },
  {
   "cell_type": "code",
   "execution_count": 320,
   "metadata": {
    "collapsed": true
   },
   "outputs": [],
   "source": [
    "server_service_id_day5_vec = qq_5000_user_dpi_day4.map(lambda x: (eval(x)[2], eval(x)[11])).groupByKey().mapValues(list)\\\n",
    ".map(lambda x: (x[0], dict(Counter(x[1])))).map(lambda x: (x[0], get_feature(x[1], all_server_service_id)))"
   ]
  },
  {
   "cell_type": "code",
   "execution_count": 321,
   "metadata": {
    "collapsed": true
   },
   "outputs": [],
   "source": [
    "server_service_id_day5_vec.coalesce(2).saveAsTextFile(base_path + \"server_service_id/day5/\")"
   ]
  },
  {
   "cell_type": "code",
   "execution_count": 236,
   "metadata": {
    "collapsed": false
   },
   "outputs": [
    {
     "name": "stdout",
     "output_type": "stream",
     "text": [
      "[('14.17.19.77', [0, 0, 0, 0, 0, 0, 0, 0, 0, 0, 0, 0, 0, 0, 0, 0, 0, 0, 0, 75, 0, 0, 0, 0, 0, 0, 0, 0, 0, 0, 0, 193, 0, 0, 0, 0, 0, 0, 0, 0, 0]), ('111.10.27.180', [0, 0, 0, 0, 0, 0, 0, 0, 18, 0, 0, 0, 0, 0, 0, 0, 0, 0, 0, 0, 0, 0, 0, 0, 0, 0, 0, 0, 0, 0, 0, 0, 0, 0, 0, 0, 0, 0, 0, 0, 0])]\n"
     ]
    }
   ],
   "source": [
    "print(server_service_id_day1_vec.take(2))"
   ]
  },
  {
   "cell_type": "code",
   "execution_count": 420,
   "metadata": {
    "collapsed": true
   },
   "outputs": [],
   "source": [
    "server_service_id_day4_vec = sc.union([server_service_id_day1_vec, server_service_id_day2_vec, server_service_id_day3_vec])\\\n",
    ".groupByKey().mapValues(list).map(lambda x: (x[0], [int(i/3) for i in np.sum(x[1], axis=0)]))"
   ]
  },
  {
   "cell_type": "code",
   "execution_count": 421,
   "metadata": {
    "collapsed": false
   },
   "outputs": [
    {
     "name": "stdout",
     "output_type": "stream",
     "text": [
      "[('111.10.27.180', [0, 0, 0, 0, 0, 0, 0, 0, 17, 0, 0, 0, 0, 0, 0, 0, 0, 0, 0, 0, 0, 0, 0, 0, 0, 0, 0, 0, 0, 0, 0, 0, 0, 0, 0, 0, 0, 0, 0, 0, 0]), ('117.135.148.48', [0, 0, 0, 0, 0, 0, 1, 0, 0, 0, 0, 0, 0, 0, 0, 0, 0, 0, 0, 0, 0, 0, 0, 0, 0, 0, 0, 0, 0, 0, 0, 39, 0, 0, 0, 0, 0, 0, 0, 0, 0])]\n"
     ]
    }
   ],
   "source": [
    "print(server_service_id_day4_vec.take(2))"
   ]
  },
  {
   "cell_type": "code",
   "execution_count": 422,
   "metadata": {
    "collapsed": true
   },
   "outputs": [],
   "source": [
    "server_service_id_day4_vec.coalesce(2).saveAsTextFile(base_path + \"server_service_id/day4/\")"
   ]
  },
  {
   "cell_type": "code",
   "execution_count": 239,
   "metadata": {
    "collapsed": true
   },
   "outputs": [],
   "source": [
    "server_service_id_day1_vec.coalesce(2).saveAsTextFile(base_path + \"server_service_id/day1/\")\n",
    "server_service_id_day2_vec.coalesce(2).saveAsTextFile(base_path + \"server_service_id/day2/\")\n",
    "server_service_id_day3_vec.coalesce(2).saveAsTextFile(base_path + \"server_service_id/day3/\")"
   ]
  },
  {
   "cell_type": "markdown",
   "metadata": {},
   "source": [
    "#### server_active_time: 服务器活跃时间，每天24小时每小时的记录数"
   ]
  },
  {
   "cell_type": "code",
   "execution_count": 143,
   "metadata": {
    "collapsed": true
   },
   "outputs": [],
   "source": [
    "server_activetime_day1_vec = qq_5000_user_dpi_day1.map(lambda x: (eval(x)[2], eval(x)[0][-8:-6])).groupByKey().mapValues(list)\\\n",
    ".map(lambda x: (x[0], dict(Counter(x[1])))).map(lambda x: (x[0], get_feature(x[1], time_hour)))\n",
    "server_activetime_day2_vec = qq_5000_user_dpi_day2.map(lambda x: (eval(x)[2], eval(x)[0][-8:-6])).groupByKey().mapValues(list)\\\n",
    ".map(lambda x: (x[0], dict(Counter(x[1])))).map(lambda x: (x[0], get_feature(x[1], time_hour)))\n",
    "server_activetime_day3_vec = qq_5000_user_dpi_day3.map(lambda x: (eval(x)[2], eval(x)[0][-8:-6])).groupByKey().mapValues(list)\\\n",
    ".map(lambda x: (x[0], dict(Counter(x[1])))).map(lambda x: (x[0], get_feature(x[1], time_hour)))"
   ]
  },
  {
   "cell_type": "code",
   "execution_count": 322,
   "metadata": {
    "collapsed": true
   },
   "outputs": [],
   "source": [
    "server_activetime_day5_vec = qq_5000_user_dpi_day4.map(lambda x: (eval(x)[2], eval(x)[0][-8:-6])).groupByKey().mapValues(list)\\\n",
    ".map(lambda x: (x[0], dict(Counter(x[1])))).map(lambda x: (x[0], get_feature(x[1], time_hour)))"
   ]
  },
  {
   "cell_type": "code",
   "execution_count": 323,
   "metadata": {
    "collapsed": true
   },
   "outputs": [],
   "source": [
    "server_activetime_day5_vec.coalesce(2).saveAsTextFile(base_path + \"server_activetime/day5/\")"
   ]
  },
  {
   "cell_type": "code",
   "execution_count": 145,
   "metadata": {
    "collapsed": false
   },
   "outputs": [
    {
     "name": "stdout",
     "output_type": "stream",
     "text": [
      "[('14.17.19.77', [14, 3, 0, 1, 6, 5, 3, 6, 9, 9, 12, 12, 5, 11, 5, 8, 10, 9, 13, 20, 15, 22, 19, 29]), ('111.10.27.180', [0, 0, 0, 3, 3, 0, 1, 3, 0, 1, 0, 0, 1, 4, 1, 1, 1, 0, 3, 1, 0, 0, 0, 0]), ('111.30.132.109', [0, 0, 0, 0, 0, 0, 0, 0, 0, 0, 0, 0, 0, 0, 0, 0, 0, 0, 3, 0, 0, 0, 0, 0])]\n"
     ]
    }
   ],
   "source": [
    "print(server_activetime_day2_vec.take(3))"
   ]
  },
  {
   "cell_type": "code",
   "execution_count": 417,
   "metadata": {
    "collapsed": true
   },
   "outputs": [],
   "source": [
    "server_activetime_day4_vec = sc.union([server_activetime_day1_vec, server_activetime_day2_vec, server_activetime_day3_vec])\\\n",
    ".groupByKey().mapValues(list).map(lambda x: (x[0], [int(i/3) for i in np.sum(x[1], axis=0)]))"
   ]
  },
  {
   "cell_type": "code",
   "execution_count": 418,
   "metadata": {
    "collapsed": false
   },
   "outputs": [
    {
     "data": {
      "text/plain": [
       "[('111.10.27.180',\n",
       "  [0, 0, 0, 1, 1, 0, 0, 1, 1, 0, 2, 0, 0, 2, 0, 0, 0, 0, 2, 0, 0, 0, 1, 0]),\n",
       " ('117.135.148.48',\n",
       "  [2, 2, 1, 0, 1, 0, 0, 0, 1, 0, 1, 4, 0, 0, 0, 1, 0, 0, 0, 7, 4, 2, 4, 5])]"
      ]
     },
     "execution_count": 418,
     "metadata": {},
     "output_type": "execute_result"
    }
   ],
   "source": [
    "server_activetime_day4_vec.take(2)"
   ]
  },
  {
   "cell_type": "code",
   "execution_count": 419,
   "metadata": {
    "collapsed": true
   },
   "outputs": [],
   "source": [
    "server_activetime_day4_vec.coalesce(2).saveAsTextFile(base_path + \"server_activetime/day4/\")"
   ]
  },
  {
   "cell_type": "code",
   "execution_count": 147,
   "metadata": {
    "collapsed": true
   },
   "outputs": [],
   "source": [
    "server_activetime_day1_vec.coalesce(2).saveAsTextFile(base_path + \"server_activetime/day1/\")\n",
    "server_activetime_day2_vec.coalesce(2).saveAsTextFile(base_path + \"server_activetime/day2/\")\n",
    "server_activetime_day3_vec.coalesce(2).saveAsTextFile(base_path + \"server_activetime/day3/\")"
   ]
  },
  {
   "cell_type": "markdown",
   "metadata": {},
   "source": [
    "#### server_indegree: 服务器入度，每天跟用户发生连接的次数"
   ]
  },
  {
   "cell_type": "code",
   "execution_count": 148,
   "metadata": {
    "collapsed": true
   },
   "outputs": [],
   "source": [
    "server_indegree_day1_vec = qq_5000_user_dpi_day1.map(lambda x: (eval(x)[2], eval(x)[1])).groupByKey().mapValues(list)\\\n",
    ".map(lambda x: (x[0], [len(x[1])]))\n",
    "server_indegree_day2_vec = qq_5000_user_dpi_day2.map(lambda x: (eval(x)[2], eval(x)[1])).groupByKey().mapValues(list)\\\n",
    ".map(lambda x: (x[0], [len(x[1])]))\n",
    "server_indegree_day3_vec = qq_5000_user_dpi_day3.map(lambda x: (eval(x)[2], eval(x)[1])).groupByKey().mapValues(list)\\\n",
    ".map(lambda x: (x[0], [len(x[1])]))"
   ]
  },
  {
   "cell_type": "code",
   "execution_count": 324,
   "metadata": {
    "collapsed": true
   },
   "outputs": [],
   "source": [
    "server_indegree_day5_vec = qq_5000_user_dpi_day4.map(lambda x: (eval(x)[2], eval(x)[1])).groupByKey().mapValues(list)\\\n",
    ".map(lambda x: (x[0], [len(x[1])]))"
   ]
  },
  {
   "cell_type": "code",
   "execution_count": 325,
   "metadata": {
    "collapsed": true
   },
   "outputs": [],
   "source": [
    "server_indegree_day5_vec.coalesce(2).saveAsTextFile(base_path + \"server_indegree/day5/\")"
   ]
  },
  {
   "cell_type": "code",
   "execution_count": 149,
   "metadata": {
    "collapsed": false
   },
   "outputs": [
    {
     "data": {
      "text/plain": [
       "[('14.17.19.77', [246]), ('111.10.27.180', [23])]"
      ]
     },
     "execution_count": 149,
     "metadata": {},
     "output_type": "execute_result"
    }
   ],
   "source": [
    "server_indegree_day2_vec.take(2)"
   ]
  },
  {
   "cell_type": "code",
   "execution_count": 414,
   "metadata": {
    "collapsed": true
   },
   "outputs": [],
   "source": [
    "server_indegree_day4_vec = sc.union([server_indegree_day1_vec, server_indegree_day2_vec, server_indegree_day3_vec])\\\n",
    ".groupByKey().mapValues(list).map(lambda x: (x[0], [int(sum([i for j in x[1] for i in j])/3)]))"
   ]
  },
  {
   "cell_type": "code",
   "execution_count": 415,
   "metadata": {
    "collapsed": true
   },
   "outputs": [],
   "source": [
    "server_indegree_day4_vec.coalesce(2).saveAsTextFile(base_path + \"server_indegree/day4/\")"
   ]
  },
  {
   "cell_type": "code",
   "execution_count": 151,
   "metadata": {
    "collapsed": true
   },
   "outputs": [],
   "source": [
    "server_indegree_day1_vec.coalesce(2).saveAsTextFile(base_path + \"server_indegree/day1/\")\n",
    "server_indegree_day2_vec.coalesce(2).saveAsTextFile(base_path + \"server_indegree/day2/\")\n",
    "server_indegree_day3_vec.coalesce(2).saveAsTextFile(base_path + \"server_indegree/day3/\")"
   ]
  },
  {
   "cell_type": "markdown",
   "metadata": {},
   "source": [
    "#### server_in_strength: 服务器每天下行报文数"
   ]
  },
  {
   "cell_type": "code",
   "execution_count": 154,
   "metadata": {
    "collapsed": true
   },
   "outputs": [],
   "source": [
    "server_in_strength_day1_vec = qq_5000_user_dpi_day1.map(lambda x: (eval(x)[2], int(eval(x)[8]))).groupByKey().mapValues(list)\\\n",
    ".map(lambda x: (x[0], [sum(x[1])]))\n",
    "server_in_strength_day2_vec = qq_5000_user_dpi_day2.map(lambda x: (eval(x)[2], int(eval(x)[8]))).groupByKey().mapValues(list)\\\n",
    ".map(lambda x: (x[0], [sum(x[1])]))\n",
    "server_in_strength_day3_vec = qq_5000_user_dpi_day3.map(lambda x: (eval(x)[2], int(eval(x)[8]))).groupByKey().mapValues(list)\\\n",
    ".map(lambda x: (x[0], [sum(x[1])]))"
   ]
  },
  {
   "cell_type": "code",
   "execution_count": 326,
   "metadata": {
    "collapsed": true
   },
   "outputs": [],
   "source": [
    "server_in_strength_day5_vec = qq_5000_user_dpi_day4.map(lambda x: (eval(x)[2], int(eval(x)[8]))).groupByKey().mapValues(list)\\\n",
    ".map(lambda x: (x[0], [sum(x[1])]))"
   ]
  },
  {
   "cell_type": "code",
   "execution_count": 327,
   "metadata": {
    "collapsed": true
   },
   "outputs": [],
   "source": [
    "server_in_strength_day5_vec.coalesce(2).saveAsTextFile(base_path + \"server_in_strength/day5/\")"
   ]
  },
  {
   "cell_type": "code",
   "execution_count": 155,
   "metadata": {
    "collapsed": false
   },
   "outputs": [
    {
     "data": {
      "text/plain": [
       "[('14.17.19.77', [2235]), ('111.10.27.180', [983])]"
      ]
     },
     "execution_count": 155,
     "metadata": {},
     "output_type": "execute_result"
    }
   ],
   "source": [
    "server_in_strength_day1_vec.take(2)"
   ]
  },
  {
   "cell_type": "code",
   "execution_count": 412,
   "metadata": {
    "collapsed": true
   },
   "outputs": [],
   "source": [
    "server_in_strength_day4_vec = sc.union([server_in_strength_day1_vec, server_in_strength_day2_vec, server_in_strength_day3_vec])\\\n",
    ".groupByKey().mapValues(list).map(lambda x: (x[0], [int(sum([i for j in x[1] for i in j])/3)]))"
   ]
  },
  {
   "cell_type": "code",
   "execution_count": 413,
   "metadata": {
    "collapsed": true
   },
   "outputs": [],
   "source": [
    "server_in_strength_day4_vec.coalesce(2).saveAsTextFile(base_path + \"server_in_strength/day4/\")"
   ]
  },
  {
   "cell_type": "code",
   "execution_count": 157,
   "metadata": {
    "collapsed": true
   },
   "outputs": [],
   "source": [
    "server_in_strength_day1_vec.coalesce(2).saveAsTextFile(base_path + \"server_in_strength/day1/\")\n",
    "server_in_strength_day2_vec.coalesce(2).saveAsTextFile(base_path + \"server_in_strength/day2/\")\n",
    "server_in_strength_day3_vec.coalesce(2).saveAsTextFile(base_path + \"server_in_strength/day3/\")"
   ]
  },
  {
   "cell_type": "markdown",
   "metadata": {},
   "source": [
    "#### server_out_strength: 服务器上行报文数"
   ]
  },
  {
   "cell_type": "code",
   "execution_count": 158,
   "metadata": {
    "collapsed": true
   },
   "outputs": [],
   "source": [
    "server_out_strength_day1_vec = qq_5000_user_dpi_day1.map(lambda x: (eval(x)[2], int(eval(x)[9]))).groupByKey().mapValues(list)\\\n",
    ".map(lambda x: (x[0], [sum(x[1])]))\n",
    "server_out_strength_day2_vec = qq_5000_user_dpi_day2.map(lambda x: (eval(x)[2], int(eval(x)[9]))).groupByKey().mapValues(list)\\\n",
    ".map(lambda x: (x[0], [sum(x[1])]))\n",
    "server_out_strength_day3_vec = qq_5000_user_dpi_day3.map(lambda x: (eval(x)[2], int(eval(x)[9]))).groupByKey().mapValues(list)\\\n",
    ".map(lambda x: (x[0], [sum(x[1])]))"
   ]
  },
  {
   "cell_type": "code",
   "execution_count": 328,
   "metadata": {
    "collapsed": true
   },
   "outputs": [],
   "source": [
    "server_out_strength_day5_vec = qq_5000_user_dpi_day4.map(lambda x: (eval(x)[2], int(eval(x)[9]))).groupByKey().mapValues(list)\\\n",
    ".map(lambda x: (x[0], [sum(x[1])]))"
   ]
  },
  {
   "cell_type": "code",
   "execution_count": 329,
   "metadata": {
    "collapsed": true
   },
   "outputs": [],
   "source": [
    "server_out_strength_day5_vec.coalesce(2).saveAsTextFile(base_path + \"server_out_strength/day5/\")"
   ]
  },
  {
   "cell_type": "code",
   "execution_count": 409,
   "metadata": {
    "collapsed": false
   },
   "outputs": [
    {
     "data": {
      "text/plain": [
       "[('111.10.27.180', [1506]), ('117.135.148.48', [374])]"
      ]
     },
     "execution_count": 409,
     "metadata": {},
     "output_type": "execute_result"
    }
   ],
   "source": [
    "server_out_strength_day4_vec.take(2)"
   ]
  },
  {
   "cell_type": "code",
   "execution_count": 407,
   "metadata": {
    "collapsed": true
   },
   "outputs": [],
   "source": [
    "server_out_strength_day4_vec = sc.union([server_out_strength_day1_vec, server_out_strength_day2_vec, server_out_strength_day3_vec])\\\n",
    ".groupByKey().mapValues(list).map(lambda x: (x[0], [int(sum([i for j in x[1] for i in j])/3)]))"
   ]
  },
  {
   "cell_type": "code",
   "execution_count": 410,
   "metadata": {
    "collapsed": true
   },
   "outputs": [],
   "source": [
    "server_out_strength_day4_vec.coalesce(2).saveAsTextFile(base_path + \"server_out_strength/day4/\")"
   ]
  },
  {
   "cell_type": "code",
   "execution_count": 161,
   "metadata": {
    "collapsed": true
   },
   "outputs": [],
   "source": [
    "server_out_strength_day1_vec.coalesce(2).saveAsTextFile(base_path + \"server_out_strength/day1/\")\n",
    "server_out_strength_day2_vec.coalesce(2).saveAsTextFile(base_path + \"server_out_strength/day2/\")\n",
    "server_out_strength_day3_vec.coalesce(2).saveAsTextFile(base_path + \"server_out_strength/day3/\")"
   ]
  },
  {
   "cell_type": "markdown",
   "metadata": {},
   "source": [
    "#### server_duration: 每个qq服务器每天与qq用户之间的连接总时长"
   ]
  },
  {
   "cell_type": "code",
   "execution_count": 350,
   "metadata": {
    "collapsed": true
   },
   "outputs": [],
   "source": [
    "server_duration_day1_vec = qq_5000_user_dpi_day1.map(lambda x: (eval(x)[2], int(eval(x)[7]))).groupByKey().mapValues(list)\\\n",
    ".map(lambda x: (x[0], [sum(x[1])]))\n",
    "server_duration_day2_vec = qq_5000_user_dpi_day2.map(lambda x: (eval(x)[2], int(eval(x)[7]))).groupByKey().mapValues(list)\\\n",
    ".map(lambda x: (x[0], [sum(x[1])]))\n",
    "server_duration_day3_vec = qq_5000_user_dpi_day3.map(lambda x: (eval(x)[2], int(eval(x)[7]))).groupByKey().mapValues(list)\\\n",
    ".map(lambda x: (x[0], [sum(x[1])]))"
   ]
  },
  {
   "cell_type": "code",
   "execution_count": 351,
   "metadata": {
    "collapsed": true
   },
   "outputs": [],
   "source": [
    "server_duration_day5_vec = qq_5000_user_dpi_day4.map(lambda x: (eval(x)[2], int(eval(x)[7]))).groupByKey().mapValues(list)\\\n",
    ".map(lambda x: (x[0], [sum(x[1])]))"
   ]
  },
  {
   "cell_type": "code",
   "execution_count": 402,
   "metadata": {
    "collapsed": true
   },
   "outputs": [],
   "source": [
    "server_duration_day4_vec = sc.union([server_duration_day1_vec, server_duration_day2_vec, server_duration_day3_vec])\\\n",
    ".groupByKey().mapValues(list).map(lambda x: (x[0], [int(sum([i for j in x[1] for i in j])/3)]))"
   ]
  },
  {
   "cell_type": "code",
   "execution_count": 411,
   "metadata": {
    "collapsed": true
   },
   "outputs": [],
   "source": [
    "server_duration_day4_vec.coalesce(2).saveAsTextFile(base_path + \"server_duration/day4/\")"
   ]
  },
  {
   "cell_type": "code",
   "execution_count": 353,
   "metadata": {
    "collapsed": true
   },
   "outputs": [],
   "source": [
    "server_duration_day1_vec.coalesce(2).saveAsTextFile(base_path + \"server_duration/day1/\")\n",
    "server_duration_day2_vec.coalesce(2).saveAsTextFile(base_path + \"server_duration/day2/\")\n",
    "server_duration_day3_vec.coalesce(2).saveAsTextFile(base_path + \"server_duration/day3/\")\n",
    "server_duration_day5_vec.coalesce(2).saveAsTextFile(base_path + \"server_duration/day5/\")"
   ]
  },
  {
   "cell_type": "code",
   "execution_count": 397,
   "metadata": {
    "collapsed": false
   },
   "outputs": [
    {
     "data": {
      "text/plain": [
       "[3]"
      ]
     },
     "execution_count": 397,
     "metadata": {},
     "output_type": "execute_result"
    }
   ],
   "source": [
    "list(np.mean(np.array([[1],[3],[5]]), axis=0, dtype=np.int16))"
   ]
  },
  {
   "cell_type": "code",
   "execution_count": 404,
   "metadata": {
    "collapsed": false
   },
   "outputs": [
    {
     "data": {
      "text/plain": [
       "[('111.10.27.180', [222873]), ('117.135.148.48', [264432])]"
      ]
     },
     "execution_count": 404,
     "metadata": {},
     "output_type": "execute_result"
    }
   ],
   "source": [
    "server_duration_day4_vec.take(2)"
   ]
  },
  {
   "cell_type": "markdown",
   "metadata": {},
   "source": [
    "## 边的信息去掉。。\n",
    "#### edge_duration: 用户和服务器之间连接时长  \n",
    "\n",
    "第4天边的信息怎么处理？根据前三天的取平均？？"
   ]
  },
  {
   "cell_type": "code",
   "execution_count": 164,
   "metadata": {
    "collapsed": true
   },
   "outputs": [],
   "source": [
    "edge_duration_day1_vec = qq_5000_user_dpi_day1.map(lambda x: ('day1-'+eval(x)[1]+'-'+eval(x)[2], int(eval(x)[7])))\\\n",
    ".groupByKey().mapValues(list).map(lambda x: (x[0], [sum(x[1])]))\n",
    "edge_duration_day2_vec = qq_5000_user_dpi_day2.map(lambda x: ('day2-'+eval(x)[1]+'-'+eval(x)[2], int(eval(x)[7])))\\\n",
    ".groupByKey().mapValues(list).map(lambda x: (x[0], [sum(x[1])]))\n",
    "edge_duration_day3_vec = qq_5000_user_dpi_day3.map(lambda x: ('day3-'+eval(x)[1]+'-'+eval(x)[2], int(eval(x)[7])))\\\n",
    ".groupByKey().mapValues(list).map(lambda x: (x[0], [sum(x[1])]))"
   ]
  },
  {
   "cell_type": "code",
   "execution_count": 163,
   "metadata": {
    "collapsed": false
   },
   "outputs": [
    {
     "data": {
      "text/plain": [
       "[('day1-8618795929560-120.198.199.170', [35360]),\n",
       " ('day1-8615240232099-120.198.203.152', [1877])]"
      ]
     },
     "execution_count": 163,
     "metadata": {},
     "output_type": "execute_result"
    }
   ],
   "source": [
    "edge_duration_day1_vec.take(2)"
   ]
  },
  {
   "cell_type": "code",
   "execution_count": 186,
   "metadata": {
    "collapsed": false
   },
   "outputs": [],
   "source": [
    "edge_duration_day4_vec = sc.union([edge_duration_day1_vec, edge_duration_day2_vec, edge_duration_day3_vec])\\\n",
    ".map(lambda x: (x[0][5:], x[1])).groupByKey().mapValues(list)\\\n",
    ".map(lambda x: (x[0], [sum(sum(i) for i in x[1])//3]))"
   ]
  },
  {
   "cell_type": "code",
   "execution_count": 187,
   "metadata": {
    "collapsed": false
   },
   "outputs": [
    {
     "data": {
      "text/plain": [
       "[('8613913350889-58.250.132.244', [1278]),\n",
       " ('8615922094581-120.196.210.176', [16177]),\n",
       " ('8613813395208-117.135.169.180', [286])]"
      ]
     },
     "execution_count": 187,
     "metadata": {},
     "output_type": "execute_result"
    }
   ],
   "source": [
    "edge_duration_day4_vec.take(3)"
   ]
  },
  {
   "cell_type": "code",
   "execution_count": 189,
   "metadata": {
    "collapsed": true
   },
   "outputs": [],
   "source": [
    "edge_duration_day1_vec.coalesce(24).saveAsTextFile(base_path + \"edge_duration/day1/\")\n",
    "edge_duration_day2_vec.coalesce(24).saveAsTextFile(base_path + \"edge_duration/day2/\")\n",
    "edge_duration_day3_vec.coalesce(24).saveAsTextFile(base_path + \"edge_duration/day3/\")\n",
    "edge_duration_day4_vec.coalesce(24).saveAsTextFile(base_path + \"edge_duration/day4/\")"
   ]
  },
  {
   "cell_type": "markdown",
   "metadata": {},
   "source": [
    "#### edge_uppacket: 上行报文数"
   ]
  },
  {
   "cell_type": "code",
   "execution_count": 190,
   "metadata": {
    "collapsed": true
   },
   "outputs": [],
   "source": [
    "edge_uppacket_day1_vec = qq_5000_user_dpi_day1.map(lambda x: ('day1-'+eval(x)[1]+'-'+eval(x)[2], int(eval(x)[8])))\\\n",
    ".groupByKey().mapValues(list).map(lambda x: (x[0], [sum(x[1])]))\n",
    "edge_uppacket_day2_vec = qq_5000_user_dpi_day2.map(lambda x: ('day2-'+eval(x)[1]+'-'+eval(x)[2], int(eval(x)[8])))\\\n",
    ".groupByKey().mapValues(list).map(lambda x: (x[0], [sum(x[1])]))\n",
    "edge_uppacket_day3_vec = qq_5000_user_dpi_day3.map(lambda x: ('day3-'+eval(x)[1]+'-'+eval(x)[2], int(eval(x)[8])))\\\n",
    ".groupByKey().mapValues(list).map(lambda x: (x[0], [sum(x[1])]))"
   ]
  },
  {
   "cell_type": "code",
   "execution_count": 191,
   "metadata": {
    "collapsed": false
   },
   "outputs": [
    {
     "data": {
      "text/plain": [
       "[('day1-8618795929560-120.198.199.170', [76]),\n",
       " ('day1-8615240232099-120.198.203.152', [9])]"
      ]
     },
     "execution_count": 191,
     "metadata": {},
     "output_type": "execute_result"
    }
   ],
   "source": [
    "edge_uppacket_day1_vec.take(2)"
   ]
  },
  {
   "cell_type": "code",
   "execution_count": 192,
   "metadata": {
    "collapsed": true
   },
   "outputs": [],
   "source": [
    "edge_uppacket_day4_vec = sc.union([edge_uppacket_day1_vec, edge_uppacket_day2_vec, edge_uppacket_day3_vec])\\\n",
    ".map(lambda x: (x[0][5:], x[1])).groupByKey().mapValues(list)\\\n",
    ".map(lambda x: (x[0], [sum(sum(i) for i in x[1])//3]))"
   ]
  },
  {
   "cell_type": "code",
   "execution_count": 193,
   "metadata": {
    "collapsed": false
   },
   "outputs": [
    {
     "data": {
      "text/plain": [
       "[('8613913350889-58.250.132.244', [6]), ('8615922094581-120.196.210.176', [7])]"
      ]
     },
     "execution_count": 193,
     "metadata": {},
     "output_type": "execute_result"
    }
   ],
   "source": [
    "edge_uppacket_day4_vec.take(2)"
   ]
  },
  {
   "cell_type": "code",
   "execution_count": 194,
   "metadata": {
    "collapsed": true
   },
   "outputs": [],
   "source": [
    "edge_uppacket_day1_vec.coalesce(24).saveAsTextFile(base_path + \"edge_uppacket/day1/\")\n",
    "edge_uppacket_day2_vec.coalesce(24).saveAsTextFile(base_path + \"edge_uppacket/day2/\")\n",
    "edge_uppacket_day3_vec.coalesce(24).saveAsTextFile(base_path + \"edge_uppacket/day3/\")\n",
    "edge_uppacket_day4_vec.coalesce(24).saveAsTextFile(base_path + \"edge_uppacket/day4/\")"
   ]
  },
  {
   "cell_type": "markdown",
   "metadata": {},
   "source": [
    "#### edge_downpacket: 下行报文数"
   ]
  },
  {
   "cell_type": "code",
   "execution_count": 195,
   "metadata": {
    "collapsed": true
   },
   "outputs": [],
   "source": [
    "edge_downpacket_day1_vec = qq_5000_user_dpi_day1.map(lambda x: ('day1-'+eval(x)[1]+'-'+eval(x)[2], int(eval(x)[9])))\\\n",
    ".groupByKey().mapValues(list).map(lambda x: (x[0], [sum(x[1])]))\n",
    "edge_downpacket_day2_vec = qq_5000_user_dpi_day2.map(lambda x: ('day2-'+eval(x)[1]+'-'+eval(x)[2], int(eval(x)[9])))\\\n",
    ".groupByKey().mapValues(list).map(lambda x: (x[0], [sum(x[1])]))\n",
    "edge_downpacket_day3_vec = qq_5000_user_dpi_day3.map(lambda x: ('day3-'+eval(x)[1]+'-'+eval(x)[2], int(eval(x)[9])))\\\n",
    ".groupByKey().mapValues(list).map(lambda x: (x[0], [sum(x[1])]))"
   ]
  },
  {
   "cell_type": "code",
   "execution_count": 196,
   "metadata": {
    "collapsed": false
   },
   "outputs": [
    {
     "data": {
      "text/plain": [
       "[('day3-8613952055100-111.30.135.151', [10]),\n",
       " ('day3-8613451804425-183.232.88.148', [970])]"
      ]
     },
     "execution_count": 196,
     "metadata": {},
     "output_type": "execute_result"
    }
   ],
   "source": [
    "edge_downpacket_day3_vec.take(2)"
   ]
  },
  {
   "cell_type": "code",
   "execution_count": 197,
   "metadata": {
    "collapsed": true
   },
   "outputs": [],
   "source": [
    "edge_downpacket_day4_vec = sc.union([edge_downpacket_day1_vec, edge_downpacket_day2_vec, edge_downpacket_day3_vec])\\\n",
    ".map(lambda x: (x[0][5:], x[1])).groupByKey().mapValues(list)\\\n",
    ".map(lambda x: (x[0], [sum(sum(i) for i in x[1])//3]))"
   ]
  },
  {
   "cell_type": "code",
   "execution_count": 198,
   "metadata": {
    "collapsed": false
   },
   "outputs": [
    {
     "data": {
      "text/plain": [
       "[('8613913350889-58.250.132.244', [4]), ('8615922094581-120.196.210.176', [5])]"
      ]
     },
     "execution_count": 198,
     "metadata": {},
     "output_type": "execute_result"
    }
   ],
   "source": [
    "edge_downpacket_day4_vec.take(2)"
   ]
  },
  {
   "cell_type": "code",
   "execution_count": 199,
   "metadata": {
    "collapsed": true
   },
   "outputs": [],
   "source": [
    "edge_downpacket_day1_vec.coalesce(24).saveAsTextFile(base_path + \"edge_downpacket/day1/\")\n",
    "edge_downpacket_day2_vec.coalesce(24).saveAsTextFile(base_path + \"edge_downpacket/day2/\")\n",
    "edge_downpacket_day3_vec.coalesce(24).saveAsTextFile(base_path + \"edge_downpacket/day3/\")\n",
    "edge_downpacket_day4_vec.coalesce(24).saveAsTextFile(base_path + \"edge_downpacket/day4/\")"
   ]
  },
  {
   "cell_type": "code",
   "execution_count": null,
   "metadata": {
    "collapsed": false
   },
   "outputs": [],
   "source": []
  },
  {
   "cell_type": "markdown",
   "metadata": {},
   "source": [
    "## merge features"
   ]
  },
  {
   "cell_type": "markdown",
   "metadata": {},
   "source": [
    "#### positive pairs"
   ]
  },
  {
   "cell_type": "code",
   "execution_count": 209,
   "metadata": {
    "collapsed": true
   },
   "outputs": [],
   "source": [
    "positive_pairs_day1 = sc.parallelize(list(set(qq_5000_user_dpi_day1.map(lambda x: 'day1-'+eval(x)[1]+'-'+eval(x)[2]).collect())))\n",
    "positive_pairs_day2 = sc.parallelize(list(set(qq_5000_user_dpi_day2.map(lambda x: 'day2-'+eval(x)[1]+'-'+eval(x)[2]).collect())))\n",
    "positive_pairs_day3 = sc.parallelize(list(set(qq_5000_user_dpi_day3.map(lambda x: 'day3-'+eval(x)[1]+'-'+eval(x)[2]).collect())))"
   ]
  },
  {
   "cell_type": "code",
   "execution_count": 210,
   "metadata": {
    "collapsed": true
   },
   "outputs": [],
   "source": [
    "def phone_of(x):\n",
    "    return x.split('-')[1]\n",
    "def server_of(x):\n",
    "    return x.split('-')[2]"
   ]
  },
  {
   "cell_type": "code",
   "execution_count": 240,
   "metadata": {
    "collapsed": true
   },
   "outputs": [],
   "source": [
    "#将(key, value)的形式变成字典\n",
    "qq_user_phone_3digits_dict = qq_user_phone_3digits_vec.collectAsMap()\n",
    "user_brand_dict = user_brand_vec.collectAsMap()"
   ]
  },
  {
   "cell_type": "code",
   "execution_count": 356,
   "metadata": {
    "collapsed": true
   },
   "outputs": [],
   "source": [
    "user_activetime_day1_dict = user_activetime_day1_vec.collectAsMap()\n",
    "user_diversity_day1_dict = user_diversity_day1_vec.collectAsMap()\n",
    "user_indegree_day1_dict = user_indegree_day1_vec.collectAsMap()\n",
    "user_in_strength_day1_dict = user_in_strength_day1_vec.collectAsMap()\n",
    "user_out_strength_day1_dict = user_out_strength_day1_vec.collectAsMap()\n",
    "user_duration_day1_dict = user_duration_day1_vec.collectAsMap()\n",
    "server_diversity_day1_dict = server_diversity_day1_vec.collectAsMap()\n",
    "server_service_ID_day1_dict = server_service_ID_day1_vec.collectAsMap()\n",
    "server_service_id_day1_dict = server_service_id_day1_vec.collectAsMap()\n",
    "server_activetime_day1_dict = server_activetime_day1_vec.collectAsMap()\n",
    "server_indegree_day1_dict = server_indegree_day1_vec.collectAsMap() \n",
    "server_in_strength_day1_dict = server_in_strength_day1_vec.collectAsMap()\n",
    "server_out_strength_day1_dict = server_out_strength_day1_vec.collectAsMap()\n",
    "server_duration_day1_dict = server_duration_day1_vec.collectAsMap()\n",
    "#edge_duration_day1_dict = edge_duration_day1_vec.collectAsMap()\n",
    "#edge_uppacket_day1_dict = edge_uppacket_day1_vec.collectAsMap()\n",
    "#edge_downpacket_day1_dict = edge_downpacket_day1_vec.collectAsMap()"
   ]
  },
  {
   "cell_type": "code",
   "execution_count": 359,
   "metadata": {
    "collapsed": false
   },
   "outputs": [],
   "source": [
    "positive_pairs_features_day1 = positive_pairs_day1.map(lambda x: (x, [qq_user_phone_3digits_dict[phone_of(x)], \\\n",
    "                                                                     user_brand_dict[phone_of(x)], \\\n",
    "                                                                     user_activetime_day1_dict[phone_of(x)],\\\n",
    "                                                                     user_diversity_day1_dict[phone_of(x)], \\\n",
    "                                                                     user_indegree_day1_dict[phone_of(x)], \\\n",
    "                                                                     user_in_strength_day1_dict[phone_of(x)], \\\n",
    "                                                                     user_out_strength_day1_dict[phone_of(x)], \\\n",
    "                                                                     user_duration_day1_dict[phone_of(x)], \\\n",
    "                                                                     server_diversity_day1_dict[server_of(x)], \\\n",
    "                                                                     server_service_ID_day1_dict[server_of(x)], \\\n",
    "                                                                     server_service_id_day1_dict[server_of(x)], \\\n",
    "                                                                     server_activetime_day1_dict[server_of(x)], \\\n",
    "                                                                     server_indegree_day1_dict[server_of(x)], \\\n",
    "                                                                     server_in_strength_day1_dict[server_of(x)], \\\n",
    "                                                                     server_out_strength_day1_dict[server_of(x)],\\\n",
    "                                                                     server_duration_day1_dict[server_of(x)]]))"
   ]
  },
  {
   "cell_type": "code",
   "execution_count": 360,
   "metadata": {
    "collapsed": false
   },
   "outputs": [
    {
     "name": "stdout",
     "output_type": "stream",
     "text": [
      "[('day1-8613851906441-221.179.19.156', [[0, 0, 0, 0, 0, 0, 0, 0, 0, 0, 0, 1, 0, 0, 0, 0, 0, 0], [0, 0, 0, 0, 0, 0, 0, 0, 0, 0, 0, 0, 0, 0, 0, 0, 0, 0, 0, 0, 0, 0, 0, 0, 0, 0, 0, 0, 0, 0, 0, 0, 0, 1, 0, 0, 0, 0, 0, 0, 0, 0, 0, 0, 0, 0, 0, 0, 0, 0, 0, 0, 0, 0, 0, 0, 0, 0, 0, 0, 0, 0, 0], [0, 0, 0, 0, 0, 0, 2, 2, 0, 41, 8, 2, 9, 23, 3, 13, 2, 20, 1, 3, 12, 0, 2, 2], [42], [145], [1595], [1629], [1709003], [131], [0, 0, 0, 0, 0, 0, 147, 0, 71, 0, 0, 0, 0, 0], [0, 0, 0, 0, 0, 0, 0, 0, 0, 0, 0, 0, 0, 0, 0, 0, 0, 0, 0, 147, 0, 0, 0, 0, 0, 0, 0, 0, 0, 0, 0, 71, 0, 0, 0, 0, 0, 0, 0, 0, 0], [10, 1, 3, 3, 5, 6, 4, 6, 13, 23, 10, 10, 7, 13, 12, 15, 19, 11, 6, 10, 6, 14, 6, 5], [218], [1253], [931], [1739364]]), ('day1-8618252050428-111.30.128.27', [[0, 0, 0, 1, 0, 0, 0, 0, 0, 0, 0, 0, 0, 0, 0, 0, 0, 0], [0, 0, 0, 0, 0, 0, 0, 0, 0, 0, 0, 0, 0, 0, 0, 1, 0, 0, 0, 0, 0, 0, 0, 0, 0, 0, 0, 0, 0, 0, 0, 0, 0, 0, 0, 0, 0, 0, 0, 0, 0, 0, 0, 0, 0, 0, 0, 0, 0, 0, 0, 0, 0, 0, 0, 0, 0, 0, 0, 0, 0, 0, 0], [0, 0, 0, 0, 0, 0, 0, 0, 13, 0, 4, 1, 0, 0, 9, 121, 3, 0, 0, 8, 33, 0, 1, 0], [67], [193], [1026], [1068], [174984], [744], [0, 0, 0, 0, 0, 0, 92, 0, 1100, 0, 0, 0, 0, 0], [0, 0, 0, 0, 0, 0, 0, 0, 0, 0, 0, 0, 0, 0, 0, 0, 0, 0, 0, 92, 0, 0, 0, 0, 0, 0, 0, 0, 0, 0, 0, 1100, 0, 0, 0, 0, 0, 0, 0, 0, 0], [48, 30, 24, 21, 45, 34, 47, 56, 61, 63, 52, 52, 47, 62, 51, 55, 55, 66, 53, 51, 54, 44, 67, 54], [1192], [5236], [3886], [9376983]])]\n"
     ]
    }
   ],
   "source": [
    "print(positive_pairs_features_day1.take(2))"
   ]
  },
  {
   "cell_type": "code",
   "execution_count": 361,
   "metadata": {
    "collapsed": false
   },
   "outputs": [
    {
     "data": {
      "text/plain": [
       "16"
      ]
     },
     "execution_count": 361,
     "metadata": {},
     "output_type": "execute_result"
    }
   ],
   "source": [
    "len([[0, 0, 0, 0, 0, 0, 0, 0, 0, 0, 0, 1, 0, 0, 0, 0, 0, 0], [0, 0, 0, 0, 0, 0, 0, 0, 0, 0, 0, 0, 0, 0, 0, 0, 0, 0, 0, 0, 0, 0, 0, 0, 0, 0, 0, 0, 0, 0, 0, 0, 0, 1, 0, 0, 0, 0, 0, 0, 0, 0, 0, 0, 0, 0, 0, 0, 0, 0, 0, 0, 0, 0, 0, 0, 0, 0, 0, 0, 0, 0, 0], [0, 0, 0, 0, 0, 0, 2, 2, 0, 41, 8, 2, 9, 23, 3, 13, 2, 20, 1, 3, 12, 0, 2, 2], [42], [145], [1595], [1629], [1709003], [131], [0, 0, 0, 0, 0, 0, 147, 0, 71, 0, 0, 0, 0, 0], [0, 0, 0, 0, 0, 0, 0, 0, 0, 0, 0, 0, 0, 0, 0, 0, 0, 0, 0, 147, 0, 0, 0, 0, 0, 0, 0, 0, 0, 0, 0, 71, 0, 0, 0, 0, 0, 0, 0, 0, 0], [10, 1, 3, 3, 5, 6, 4, 6, 13, 23, 10, 10, 7, 13, 12, 15, 19, 11, 6, 10, 6, 14, 6, 5], [218], [1253], [931], [1739364]])"
   ]
  },
  {
   "cell_type": "code",
   "execution_count": 362,
   "metadata": {
    "collapsed": false
   },
   "outputs": [],
   "source": [
    "positive_pairs_features_day1.coalesce(10).saveAsTextFile(base_path + \"new_positive_pairs_features/day1/\")"
   ]
  },
  {
   "cell_type": "code",
   "execution_count": 363,
   "metadata": {
    "collapsed": false
   },
   "outputs": [],
   "source": [
    "user_activetime_day2_dict = user_activetime_day2_vec.collectAsMap()\n",
    "user_diversity_day2_dict = user_diversity_day2_vec.collectAsMap()\n",
    "user_indegree_day2_dict = user_indegree_day2_vec.collectAsMap()\n",
    "user_in_strength_day2_dict = user_in_strength_day2_vec.collectAsMap()\n",
    "user_out_strength_day2_dict = user_out_strength_day2_vec.collectAsMap()\n",
    "user_duration_day2_dict = user_duration_day2_vec.collectAsMap()\n",
    "server_diversity_day2_dict = server_diversity_day2_vec.collectAsMap()\n",
    "server_service_ID_day2_dict = server_service_ID_day2_vec.collectAsMap()\n",
    "server_service_id_day2_dict = server_service_id_day2_vec.collectAsMap()\n",
    "server_activetime_day2_dict = server_activetime_day2_vec.collectAsMap()\n",
    "server_indegree_day2_dict = server_indegree_day2_vec.collectAsMap() \n",
    "server_in_strength_day2_dict = server_in_strength_day2_vec.collectAsMap()\n",
    "server_out_strength_day2_dict = server_out_strength_day2_vec.collectAsMap()\n",
    "server_duration_day2_dict = server_duration_day2_vec.collectAsMap()"
   ]
  },
  {
   "cell_type": "code",
   "execution_count": 364,
   "metadata": {
    "collapsed": false
   },
   "outputs": [],
   "source": [
    "positive_pairs_features_day2 = positive_pairs_day2.map(lambda x: (x, [qq_user_phone_3digits_dict[phone_of(x)], \\\n",
    "                                                                     user_brand_dict[phone_of(x)], \\\n",
    "                                                                     user_activetime_day2_dict[phone_of(x)],\\\n",
    "                                                                     user_diversity_day2_dict[phone_of(x)], \\\n",
    "                                                                     user_indegree_day2_dict[phone_of(x)], \\\n",
    "                                                                     user_in_strength_day2_dict[phone_of(x)], \\\n",
    "                                                                     user_out_strength_day2_dict[phone_of(x)], \\\n",
    "                                                                     user_duration_day2_dict[phone_of(x)], \\\n",
    "                                                                     server_diversity_day2_dict[server_of(x)], \\\n",
    "                                                                     server_service_ID_day2_dict[server_of(x)], \\\n",
    "                                                                     server_service_id_day2_dict[server_of(x)], \\\n",
    "                                                                     server_activetime_day2_dict[server_of(x)], \\\n",
    "                                                                     server_indegree_day2_dict[server_of(x)], \\\n",
    "                                                                     server_in_strength_day2_dict[server_of(x)], \\\n",
    "                                                                     server_out_strength_day2_dict[server_of(x)],\\\n",
    "                                                                     server_duration_day2_dict[server_of(x)]]))"
   ]
  },
  {
   "cell_type": "code",
   "execution_count": 365,
   "metadata": {
    "collapsed": true
   },
   "outputs": [],
   "source": [
    "positive_pairs_features_day2.coalesce(10).saveAsTextFile(base_path + \"new_positive_pairs_features/day2/\")"
   ]
  },
  {
   "cell_type": "code",
   "execution_count": 368,
   "metadata": {
    "collapsed": true
   },
   "outputs": [],
   "source": [
    "user_activetime_day3_dict = user_activetime_day3_vec.collectAsMap()\n",
    "user_diversity_day3_dict = user_diversity_day3_vec.collectAsMap()\n",
    "user_indegree_day3_dict = user_indegree_day3_vec.collectAsMap()\n",
    "user_in_strength_day3_dict = user_in_strength_day3_vec.collectAsMap()\n",
    "user_out_strength_day3_dict = user_out_strength_day3_vec.collectAsMap()\n",
    "user_duration_day3_dict = user_duration_day3_vec.collectAsMap()\n",
    "server_diversity_day3_dict = server_diversity_day3_vec.collectAsMap()\n",
    "server_service_ID_day3_dict = server_service_ID_day3_vec.collectAsMap()\n",
    "server_service_id_day3_dict = server_service_id_day3_vec.collectAsMap()\n",
    "server_activetime_day3_dict = server_activetime_day3_vec.collectAsMap()\n",
    "server_indegree_day3_dict = server_indegree_day3_vec.collectAsMap() \n",
    "server_in_strength_day3_dict = server_in_strength_day3_vec.collectAsMap()\n",
    "server_out_strength_day3_dict = server_out_strength_day3_vec.collectAsMap()\n",
    "server_duration_day3_dict = server_duration_day3_vec.collectAsMap()"
   ]
  },
  {
   "cell_type": "code",
   "execution_count": 369,
   "metadata": {
    "collapsed": true
   },
   "outputs": [],
   "source": [
    "positive_pairs_features_day3 = positive_pairs_day3.map(lambda x: (x, [qq_user_phone_3digits_dict[phone_of(x)], \\\n",
    "                                                                     user_brand_dict[phone_of(x)], \\\n",
    "                                                                     user_activetime_day3_dict[phone_of(x)],\\\n",
    "                                                                     user_diversity_day3_dict[phone_of(x)], \\\n",
    "                                                                     user_indegree_day3_dict[phone_of(x)], \\\n",
    "                                                                     user_in_strength_day3_dict[phone_of(x)], \\\n",
    "                                                                     user_out_strength_day3_dict[phone_of(x)], \\\n",
    "                                                                     user_duration_day3_dict[phone_of(x)], \\\n",
    "                                                                     server_diversity_day3_dict[server_of(x)], \\\n",
    "                                                                     server_service_ID_day3_dict[server_of(x)], \\\n",
    "                                                                     server_service_id_day3_dict[server_of(x)], \\\n",
    "                                                                     server_activetime_day3_dict[server_of(x)], \\\n",
    "                                                                     server_indegree_day3_dict[server_of(x)], \\\n",
    "                                                                     server_in_strength_day3_dict[server_of(x)], \\\n",
    "                                                                     server_out_strength_day3_dict[server_of(x)],\\\n",
    "                                                                     server_duration_day3_dict[server_of(x)]]))"
   ]
  },
  {
   "cell_type": "code",
   "execution_count": 371,
   "metadata": {
    "collapsed": false
   },
   "outputs": [],
   "source": [
    "positive_pairs_features_day3.coalesce(10).saveAsTextFile(base_path + \"new_positive_pairs_features/day3/\")"
   ]
  },
  {
   "cell_type": "code",
   "execution_count": 429,
   "metadata": {
    "collapsed": true
   },
   "outputs": [],
   "source": [
    "# 以下均是对前三天的取平均\n",
    "user_activetime_day4_dict = user_activetime_day4_vec.collectAsMap()\n",
    "user_diversity_day4_dict = user_diversity_day4_vec.collectAsMap()\n",
    "user_indegree_day4_dict = user_indegree_day4_vec.collectAsMap()\n",
    "user_in_strength_day4_dict = user_in_strength_day4_vec.collectAsMap()\n",
    "user_out_strength_day4_dict = user_out_strength_day4_vec.collectAsMap()\n",
    "user_duration_day4_dict = user_duration_day4_vec.collectAsMap()\n",
    "server_diversity_day4_dict = server_diversity_day4_vec.collectAsMap()\n",
    "server_service_ID_day4_dict = server_service_ID_day4_vec.collectAsMap()\n",
    "server_service_id_day4_dict = server_service_id_day4_vec.collectAsMap()\n",
    "server_activetime_day4_dict = server_activetime_day4_vec.collectAsMap()\n",
    "server_indegree_day4_dict = server_indegree_day4_vec.collectAsMap() \n",
    "server_in_strength_day4_dict = server_in_strength_day4_vec.collectAsMap()\n",
    "server_out_strength_day4_dict = server_out_strength_day4_vec.collectAsMap()\n",
    "server_duration_day4_dict = server_duration_day4_vec.collectAsMap()"
   ]
  },
  {
   "cell_type": "code",
   "execution_count": 373,
   "metadata": {
    "collapsed": true
   },
   "outputs": [],
   "source": [
    "# 以下均是取自真实的第四天数据\n",
    "user_activetime_day5_dict = user_activetime_day5_vec.collectAsMap()\n",
    "user_diversity_day5_dict = user_diversity_day5_vec.collectAsMap()\n",
    "user_indegree_day5_dict = user_indegree_day5_vec.collectAsMap()\n",
    "user_in_strength_day5_dict = user_in_strength_day5_vec.collectAsMap()\n",
    "user_out_strength_day5_dict = user_out_strength_day5_vec.collectAsMap()\n",
    "user_duration_day5_dict = user_duration_day5_vec.collectAsMap()\n",
    "server_diversity_day5_dict = server_diversity_day5_vec.collectAsMap()\n",
    "server_service_ID_day5_dict = server_service_ID_day5_vec.collectAsMap()\n",
    "server_service_id_day5_dict = server_service_id_day5_vec.collectAsMap()\n",
    "server_activetime_day5_dict = server_activetime_day5_vec.collectAsMap()\n",
    "server_indegree_day5_dict = server_indegree_day5_vec.collectAsMap() \n",
    "server_in_strength_day5_dict = server_in_strength_day5_vec.collectAsMap()\n",
    "server_out_strength_day5_dict = server_out_strength_day5_vec.collectAsMap()\n",
    "server_duration_day5_dict = server_duration_day5_vec.collectAsMap()"
   ]
  },
  {
   "cell_type": "markdown",
   "metadata": {},
   "source": [
    "#### unlabled pairs\n",
    "\n",
    "unlabled对的特征怎么处理？"
   ]
  },
  {
   "cell_type": "code",
   "execution_count": 259,
   "metadata": {
    "collapsed": true
   },
   "outputs": [],
   "source": [
    "user_phone_5000 = sc.textFile(base_path + \"qq_user_phone_5000/part-*\").collect()\n",
    "server_ip_1684 = sc.textFile(base_path + \"server_ip_1684/part-*\").collect()"
   ]
  },
  {
   "cell_type": "code",
   "execution_count": 260,
   "metadata": {
    "collapsed": false
   },
   "outputs": [],
   "source": [
    "all_edges = [] # 5000 * 1684 = 8420000\n",
    "for u in user_phone_5000:\n",
    "    for s in server_ip_1684:\n",
    "        edge = u + '-' + s\n",
    "        all_edges.append(edge)"
   ]
  },
  {
   "cell_type": "code",
   "execution_count": 262,
   "metadata": {
    "collapsed": false
   },
   "outputs": [],
   "source": [
    "positive_pairs_3days = qq_5000_user_dpi_3days.map(lambda x: eval(x)[1] + '-' + eval(x)[2]).collect()"
   ]
  },
  {
   "cell_type": "code",
   "execution_count": 270,
   "metadata": {
    "collapsed": false
   },
   "outputs": [],
   "source": [
    "# 三天都没有过连接的user-server对作为unlabled数据\n",
    "unlabled_edges = sc.parallelize(list(set(all_edges)-set(positive_pairs_3days))).map(lambda x: 'day123-' + x) # 8268837"
   ]
  },
  {
   "cell_type": "code",
   "execution_count": 271,
   "metadata": {
    "collapsed": false
   },
   "outputs": [
    {
     "name": "stdout",
     "output_type": "stream",
     "text": [
      "8268837 ['day123-8615151840328-119.167.195.26', 'day123-8615850607902-203.205.161.165', 'day123-8615151857865-117.135.171.164']\n"
     ]
    }
   ],
   "source": [
    "print(unlabled_edges.count(), unlabled_edges.take(3))"
   ]
  },
  {
   "cell_type": "code",
   "execution_count": 431,
   "metadata": {
    "collapsed": true
   },
   "outputs": [],
   "source": [
    "unlabled_pairs_features = unlabled_edges.map(lambda x: (x, [qq_user_phone_3digits_dict[phone_of(x)], \\\n",
    "                                                             user_brand_dict[phone_of(x)], \\\n",
    "                                                             user_activetime_day4_dict[phone_of(x)],\\\n",
    "                                                             user_diversity_day4_dict[phone_of(x)], \\\n",
    "                                                             user_indegree_day4_dict[phone_of(x)], \\\n",
    "                                                             user_in_strength_day4_dict[phone_of(x)], \\\n",
    "                                                             user_out_strength_day4_dict[phone_of(x)], \\\n",
    "                                                             user_duration_day4_dict[phone_of(x)], \\\n",
    "                                                             server_diversity_day4_dict[server_of(x)], \\\n",
    "                                                             server_service_ID_day4_dict[server_of(x)], \\\n",
    "                                                             server_service_id_day4_dict[server_of(x)], \\\n",
    "                                                             server_activetime_day4_dict[server_of(x)], \\\n",
    "                                                             server_indegree_day4_dict[server_of(x)], \\\n",
    "                                                             server_in_strength_day4_dict[server_of(x)], \\\n",
    "                                                             server_out_strength_day4_dict[server_of(x)],\\\n",
    "                                                             server_duration_day4_dict[server_of(x)]]))"
   ]
  },
  {
   "cell_type": "code",
   "execution_count": 432,
   "metadata": {
    "collapsed": false
   },
   "outputs": [
    {
     "name": "stdout",
     "output_type": "stream",
     "text": [
      "[('day123-8615151840328-119.167.195.26', [[0, 0, 0, 0, 0, 0, 0, 0, 0, 0, 0, 0, 0, 0, 1, 0, 0, 0], [0, 0, 0, 0, 0, 0, 0, 0, 0, 0, 0, 0, 0, 0, 0, 1, 0, 0, 0, 0, 0, 0, 0, 0, 0, 0, 0, 0, 0, 0, 0, 0, 0, 0, 0, 0, 0, 0, 0, 0, 0, 0, 0, 0, 0, 0, 0, 0, 0, 0, 0, 0, 0, 0, 0, 0, 0, 0, 0, 0, 0, 0, 0], [1, 0, 0, 0, 0, 1, 2, 1, 4, 1, 1, 1, 0, 1, 0, 2, 0, 2, 4, 2, 0, 0, 0, 0], [13], [32], [164], [189], [2086], [0], [0, 0, 0, 0, 0, 0, 0, 0, 0, 0, 0, 0, 0, 0], [0, 0, 0, 0, 0, 0, 0, 0, 0, 0, 0, 0, 0, 0, 0, 0, 0, 0, 0, 0, 0, 0, 0, 0, 0, 0, 0, 0, 0, 0, 0, 0, 0, 0, 0, 0, 0, 0, 0, 0, 0], [0, 0, 0, 0, 0, 0, 0, 1, 0, 0, 0, 0, 0, 0, 0, 0, 0, 0, 0, 0, 0, 0, 0, 0], [1], [8], [9], [2905]]), ('day123-8615850607902-203.205.161.165', [[0, 0, 1, 0, 0, 0, 0, 0, 0, 0, 0, 0, 0, 0, 0, 0, 0, 0], [0, 0, 0, 0, 0, 0, 0, 0, 0, 0, 0, 0, 0, 0, 0, 0, 0, 0, 0, 0, 0, 0, 0, 0, 0, 0, 0, 0, 0, 0, 0, 0, 0, 0, 0, 0, 0, 0, 0, 0, 0, 0, 0, 1, 0, 0, 0, 0, 0, 0, 0, 0, 0, 0, 0, 0, 0, 0, 0, 0, 0, 0, 0], [14, 4, 9, 2, 1, 1, 0, 7, 2, 6, 9, 9, 7, 8, 11, 9, 6, 4, 11, 6, 5, 9, 15, 2], [12], [165], [726], [1398], [-89], [2], [0, 0, 0, 0, 0, 0, 16, 0, 1, 0, 0, 0, 0, 0], [0, 0, 0, 0, 0, 0, 0, 0, 0, 0, 0, 0, 0, 16, 0, 0, 0, 0, 0, 0, 0, 0, 0, 0, 0, 0, 0, 0, 0, 0, 0, 1, 0, 0, 0, 0, 0, 0, 0, 0, 0], [0, 0, 0, 0, 0, 0, 0, 0, 0, 0, 0, 0, 0, 3, 5, 7, 0, 0, 0, 0, 0, 0, 0, 0], [17], [154], [126], [143823]])]\n"
     ]
    }
   ],
   "source": [
    "print(unlabled_pairs_features.take(2))"
   ]
  },
  {
   "cell_type": "code",
   "execution_count": 433,
   "metadata": {
    "collapsed": true
   },
   "outputs": [],
   "source": [
    "unlabled_pairs_features.coalesce(50).saveAsTextFile(base_path + \"new_unlabled_pairs_features/\")"
   ]
  },
  {
   "cell_type": "markdown",
   "metadata": {},
   "source": [
    "### Test Data"
   ]
  },
  {
   "cell_type": "code",
   "execution_count": 286,
   "metadata": {
    "collapsed": true
   },
   "outputs": [],
   "source": [
    "positive_pairs_day4 = sc.parallelize(list(set(qq_5000_user_dpi_day4.filter(lambda x: eval(x)[2] in server_ip_1684)\\\n",
    "                                    .map(lambda x: 'day4-' + eval(x)[1] + '-' + eval(x)[2]).collect())))"
   ]
  },
  {
   "cell_type": "code",
   "execution_count": 287,
   "metadata": {
    "collapsed": false
   },
   "outputs": [
    {
     "name": "stdout",
     "output_type": "stream",
     "text": [
      "77653 ['day4-8615005274456-120.198.199.176', 'day4-8613770922916-112.25.58.180']\n"
     ]
    }
   ],
   "source": [
    "print(positive_pairs_day4.count(), positive_pairs_day4.take(2))"
   ]
  },
  {
   "cell_type": "code",
   "execution_count": 283,
   "metadata": {
    "collapsed": true
   },
   "outputs": [],
   "source": [
    "positive_pairs_day4.coalesce(10).saveAsTextFile(base_path + \"test_positive_pairs/\")"
   ]
  },
  {
   "cell_type": "code",
   "execution_count": 281,
   "metadata": {
    "collapsed": true
   },
   "outputs": [],
   "source": [
    "all_pairs = sc.parallelize(all_edges).map(lambda x: 'day4-' + x)"
   ]
  },
  {
   "cell_type": "code",
   "execution_count": 438,
   "metadata": {
    "collapsed": true
   },
   "outputs": [],
   "source": [
    "test_pairs_features = all_pairs.map(lambda x: (x, [qq_user_phone_3digits_dict[phone_of(x)], \\\n",
    "                                                 user_brand_dict[phone_of(x)], \\\n",
    "                                                 user_activetime_day5_dict[phone_of(x)],\\\n",
    "                                                 user_diversity_day5_dict[phone_of(x)], \\\n",
    "                                                 user_indegree_day5_dict[phone_of(x)], \\\n",
    "                                                 user_in_strength_day5_dict[phone_of(x)], \\\n",
    "                                                 user_out_strength_day5_dict[phone_of(x)], \\\n",
    "                                                 user_duration_day5_dict[phone_of(x)], \\\n",
    "                                                 server_diversity_day5_dict.get(server_of(x),[0]), \\\n",
    "                                                 server_service_ID_day5_dict.get(server_of(x),[0 for i in range(14)]), \\\n",
    "                                                 server_service_id_day5_dict.get(server_of(x),[0 for i in range(41)]), \\\n",
    "                                                 server_activetime_day5_dict.get(server_of(x),[0 for i in range(24)]), \\\n",
    "                                                 server_indegree_day5_dict.get(server_of(x),[0]), \\\n",
    "                                                 server_in_strength_day5_dict.get(server_of(x),[0]), \\\n",
    "                                                 server_out_strength_day5_dict.get(server_of(x),[0]),\\\n",
    "                                                 server_duration_day5_dict.get(server_of(x),[0])]))"
   ]
  },
  {
   "cell_type": "code",
   "execution_count": 439,
   "metadata": {
    "collapsed": false
   },
   "outputs": [
    {
     "name": "stdout",
     "output_type": "stream",
     "text": [
      "8420000 [('day4-8615195898003-14.17.19.77', [[0, 0, 0, 0, 0, 0, 0, 0, 0, 0, 0, 0, 0, 0, 1, 0, 0, 0], [0, 0, 0, 0, 0, 0, 0, 0, 0, 0, 0, 0, 0, 0, 0, 0, 1, 0, 0, 0, 0, 0, 0, 0, 0, 0, 0, 0, 0, 0, 0, 0, 0, 0, 0, 0, 0, 0, 0, 0, 0, 0, 0, 0, 0, 0, 0, 0, 0, 0, 0, 0, 0, 0, 0, 0, 0, 0, 0, 0, 0, 0, 0], [0, 1, 0, 0, 0, 0, 3, 2, 6, 0, 0, 0, 0, 0, 0, 0, 0, 0, 0, 0, 0, 0, 0, 0], [5], [12], [26], [41], [39064], [169], [0, 0, 0, 0, 0, 0, 62, 0, 179, 0, 0, 0, 0, 0], [0, 0, 0, 0, 0, 0, 0, 0, 0, 0, 0, 0, 0, 0, 0, 0, 0, 0, 0, 62, 0, 0, 0, 0, 0, 0, 0, 0, 0, 0, 0, 179, 0, 0, 0, 0, 0, 0, 0, 0, 0], [8, 5, 2, 0, 1, 1, 3, 7, 8, 14, 9, 11, 10, 11, 13, 12, 9, 11, 11, 13, 15, 16, 27, 24], [241], [1710], [1328], [2603900]]), ('day4-8615195898003-111.10.27.180', [[0, 0, 0, 0, 0, 0, 0, 0, 0, 0, 0, 0, 0, 0, 1, 0, 0, 0], [0, 0, 0, 0, 0, 0, 0, 0, 0, 0, 0, 0, 0, 0, 0, 0, 1, 0, 0, 0, 0, 0, 0, 0, 0, 0, 0, 0, 0, 0, 0, 0, 0, 0, 0, 0, 0, 0, 0, 0, 0, 0, 0, 0, 0, 0, 0, 0, 0, 0, 0, 0, 0, 0, 0, 0, 0, 0, 0, 0, 0, 0, 0], [0, 1, 0, 0, 0, 0, 3, 2, 6, 0, 0, 0, 0, 0, 0, 0, 0, 0, 0, 0, 0, 0, 0, 0], [5], [12], [26], [41], [39064], [3], [0, 0, 0, 0, 0, 0, 3, 0, 0, 0, 0, 0, 2, 0], [0, 0, 0, 0, 0, 0, 0, 0, 2, 0, 0, 0, 0, 0, 0, 0, 0, 0, 0, 3, 0, 0, 0, 0, 0, 0, 0, 0, 0, 0, 0, 0, 0, 0, 0, 0, 0, 0, 0, 0, 0], [0, 0, 0, 0, 0, 0, 0, 0, 0, 0, 0, 0, 3, 0, 0, 0, 0, 1, 0, 0, 0, 0, 1, 0], [5], [409], [620], [89159]]), ('day4-8615195898003-111.30.132.109', [[0, 0, 0, 0, 0, 0, 0, 0, 0, 0, 0, 0, 0, 0, 1, 0, 0, 0], [0, 0, 0, 0, 0, 0, 0, 0, 0, 0, 0, 0, 0, 0, 0, 0, 1, 0, 0, 0, 0, 0, 0, 0, 0, 0, 0, 0, 0, 0, 0, 0, 0, 0, 0, 0, 0, 0, 0, 0, 0, 0, 0, 0, 0, 0, 0, 0, 0, 0, 0, 0, 0, 0, 0, 0, 0, 0, 0, 0, 0, 0, 0], [0, 1, 0, 0, 0, 0, 3, 2, 6, 0, 0, 0, 0, 0, 0, 0, 0, 0, 0, 0, 0, 0, 0, 0], [5], [12], [26], [41], [39064], [3], [0, 0, 0, 0, 0, 0, 0, 0, 4, 0, 0, 0, 0, 0], [0, 0, 0, 0, 0, 0, 0, 0, 0, 0, 0, 0, 0, 0, 0, 0, 0, 0, 0, 0, 0, 0, 0, 0, 0, 0, 0, 0, 0, 0, 0, 4, 0, 0, 0, 0, 0, 0, 0, 0, 0], [0, 0, 0, 0, 0, 0, 0, 0, 0, 3, 0, 0, 0, 1, 0, 0, 0, 0, 0, 0, 0, 0, 0, 0], [4], [29], [27], [27390]])]\n"
     ]
    }
   ],
   "source": [
    "print(test_pairs_features.count(), test_pairs_features.take(3))"
   ]
  },
  {
   "cell_type": "code",
   "execution_count": 440,
   "metadata": {
    "collapsed": false
   },
   "outputs": [],
   "source": [
    "test_pairs_features.coalesce(100).saveAsTextFile(base_path + \"new_test_pairs_features/\")"
   ]
  },
  {
   "cell_type": "code",
   "execution_count": null,
   "metadata": {
    "collapsed": true
   },
   "outputs": [],
   "source": []
  }
 ],
 "metadata": {
  "anaconda-cloud": {},
  "kernelspec": {
   "display_name": "Python [default]",
   "language": "python",
   "name": "python3"
  },
  "language_info": {
   "codemirror_mode": {
    "name": "ipython",
    "version": 3
   },
   "file_extension": ".py",
   "mimetype": "text/x-python",
   "name": "python",
   "nbconvert_exporter": "python",
   "pygments_lexer": "ipython3",
   "version": "3.5.2"
  }
 },
 "nbformat": 4,
 "nbformat_minor": 1
}
