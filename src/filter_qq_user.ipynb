{
 "cells": [
  {
   "cell_type": "code",
   "execution_count": 1,
   "metadata": {
    "collapsed": false
   },
   "outputs": [
    {
     "name": "stdout",
     "output_type": "stream",
     "text": [
      "['2013-12-28 16:28:25', '8613032261669', '120.198.203.152', 'web', 'dns.weixin.qq.com', 'qq', 'MicroMessenger Client', '4366', '6', '5', '7', '1827', 'ƻ��']\r\n",
      "['2013-12-28 16:28:35', '8613032261669', '111.30.135.151', 'web', 'dns.weixin.qq.com', 'qq', 'MicroMessenger Client', '9920', '20', '13', '7', '1827', 'ƻ��']\r\n",
      "['2013-12-28 16:28:34', '8613032261669', '117.135.169.19', 'web', 'short.weixin.qq.com', 'qq', 'Mozilla/4.0', '12392', '8', '6', '7', '1827', 'ƻ��']\r\n"
     ]
    }
   ],
   "source": [
    "!head -3 /media/jw/5dccc50e-7c13-4186-bf6b-d894f02410be/wbb/result/qq_user_all/20131228/part-00000"
   ]
  },
  {
   "cell_type": "code",
   "execution_count": null,
   "metadata": {
    "collapsed": true
   },
   "outputs": [],
   "source": []
  },
  {
   "cell_type": "markdown",
   "metadata": {},
   "source": [
    "# 筛选出四天都有数据的一部分用户来做进一步分析"
   ]
  },
  {
   "cell_type": "code",
   "execution_count": 6,
   "metadata": {
    "collapsed": false
   },
   "outputs": [
    {
     "name": "stdout",
     "output_type": "stream",
     "text": [
      "('8615895961950', 149)\r\n",
      "('8615950593628', 149)\r\n",
      "('8613824297918', 149)\r\n",
      "('8615850506821', 149)\r\n",
      "('8613814145811', 149)\r\n"
     ]
    }
   ],
   "source": [
    "!head -5 /media/jw/5dccc50e-7c13-4186-bf6b-d894f02410be/wbb/result/qq_user_times/20131229/part-00003"
   ]
  },
  {
   "cell_type": "code",
   "execution_count": 50,
   "metadata": {
    "collapsed": true
   },
   "outputs": [],
   "source": [
    "#qq_user_times_filepath = \"t*.txt\"\n",
    "qq_user_times_filepath = \"/media/jw/5dccc50e-7c13-4186-bf6b-d894f02410be/wbb/result/qq_user_times/*/part-*\""
   ]
  },
  {
   "cell_type": "code",
   "execution_count": 51,
   "metadata": {
    "collapsed": false
   },
   "outputs": [],
   "source": [
    "qq_user_times = sc.textFile(qq_user_times_filepath) # 载入所有QQ用户12.28-12.31四天访问qq的次数信息"
   ]
  },
  {
   "cell_type": "code",
   "execution_count": 52,
   "metadata": {
    "collapsed": true
   },
   "outputs": [],
   "source": [
    "# 将每个qq用户4天的访问次数和到一个list里面\n",
    "qq_user_times_4days = qq_user_times.map(lambda line: eval(line)).groupByKey().mapValues(list) \n",
    "# qq_user_times_4days: ('8615905164699', [64, 1, 42]) ('8613585154570', [182, 11, 25])"
   ]
  },
  {
   "cell_type": "code",
   "execution_count": 54,
   "metadata": {
    "collapsed": false
   },
   "outputs": [
    {
     "data": {
      "text/plain": [
       "[('8615905164699', [64, 1, 42]),\n",
       " ('8613585154570', [182, 11, 25]),\n",
       " ('8613605164420', [20, 24, 25, 6]),\n",
       " ('8613770626973', [26, 11, 93, 143]),\n",
       " ('8613601463848', [5]),\n",
       " ('8615996410957', [16, 63, 181, 28]),\n",
       " ('8618738607127', [3]),\n",
       " ('8615751886018', [127, 736, 118, 56]),\n",
       " ('8613705169075', [7]),\n",
       " ('8615751886086', [52, 104, 48, 113])]"
      ]
     },
     "execution_count": 54,
     "metadata": {},
     "output_type": "execute_result"
    }
   ],
   "source": [
    "qq_user_times_4days.take(10)"
   ]
  },
  {
   "cell_type": "code",
   "execution_count": 55,
   "metadata": {
    "collapsed": true
   },
   "outputs": [],
   "source": [
    "qq_user_4days_yes = qq_user_times_4days.filter(lambda x: len(x[1]) == 4) # 过滤出四天都有数据的QQ用户及访问次数\n",
    "# qq_user_4days_yes: ('8613605164420', [20, 24, 25, 6]),('8613770626973', [26, 11, 93, 143])"
   ]
  },
  {
   "cell_type": "code",
   "execution_count": 57,
   "metadata": {
    "collapsed": false
   },
   "outputs": [
    {
     "data": {
      "text/plain": [
       "[('8613605164420', [20, 24, 25, 6]),\n",
       " ('8613770626973', [26, 11, 93, 143]),\n",
       " ('8615996410957', [16, 63, 181, 28]),\n",
       " ('8615751886018', [127, 736, 118, 56]),\n",
       " ('8615751886086', [52, 104, 48, 113])]"
      ]
     },
     "execution_count": 57,
     "metadata": {},
     "output_type": "execute_result"
    }
   ],
   "source": [
    "qq_user_4days_yes.take(5)"
   ]
  },
  {
   "cell_type": "code",
   "execution_count": 58,
   "metadata": {
    "collapsed": false
   },
   "outputs": [
    {
     "data": {
      "text/plain": [
       "1384149"
      ]
     },
     "execution_count": 58,
     "metadata": {},
     "output_type": "execute_result"
    }
   ],
   "source": [
    "qq_user_4days_yes.count()  # 四天都有数据的用户共有1384149"
   ]
  },
  {
   "cell_type": "code",
   "execution_count": 59,
   "metadata": {
    "collapsed": true
   },
   "outputs": [],
   "source": [
    "# 4天都有数据的用户存到文件,格式：('8613584029812', [236, 83, 183, 269])\n",
    "qq_user_4days_yes.saveAsTextFile(\"/media/jw/5dccc50e-7c13-4186-bf6b-d894f02410be/wbb/result/qq_user_4days_times\")"
   ]
  },
  {
   "cell_type": "code",
   "execution_count": 64,
   "metadata": {
    "collapsed": true
   },
   "outputs": [],
   "source": [
    "# 取5000个用户做进一步分析,####未排序，随机选的####\n",
    "qq_user_4days_yes_5000 = qq_user_4days_yes.take(5000)"
   ]
  },
  {
   "cell_type": "code",
   "execution_count": 65,
   "metadata": {
    "collapsed": false
   },
   "outputs": [
    {
     "data": {
      "text/plain": [
       "('8613584029812', [236, 83, 183, 269])"
      ]
     },
     "execution_count": 65,
     "metadata": {},
     "output_type": "execute_result"
    }
   ],
   "source": [
    "qq_user_4days_yes_5000[-1]"
   ]
  },
  {
   "cell_type": "code",
   "execution_count": 66,
   "metadata": {
    "collapsed": true
   },
   "outputs": [],
   "source": [
    "# 将这5000个用户保存到文件。格式：('8613584029812', [236, 83, 183, 269])\n",
    "sc.parallelize(qq_user_4days_yes_5000).saveAsTextFile(\"/media/jw/5dccc50e-7c13-4186-bf6b-d894f02410be/wbb/result/qq_user_times_5000\")"
   ]
  },
  {
   "cell_type": "code",
   "execution_count": 71,
   "metadata": {
    "collapsed": true
   },
   "outputs": [],
   "source": [
    "# 将这5000个用户的号码保存到文件。格式：'8613605164420'\n",
    "qq_user_5000 = sc.parallelize(qq_user_4days_yes_5000).map(lambda x: x[0])\n",
    "qq_user_5000.saveAsTextFile(\"/media/jw/5dccc50e-7c13-4186-bf6b-d894f02410be/wbb/result/qq_user_phone_5000\")"
   ]
  },
  {
   "cell_type": "code",
   "execution_count": 72,
   "metadata": {
    "collapsed": false
   },
   "outputs": [
    {
     "data": {
      "text/plain": [
       "['8613605164420',\n",
       " '8613770626973',\n",
       " '8615996410957',\n",
       " '8615751886018',\n",
       " '8615751886086']"
      ]
     },
     "execution_count": 72,
     "metadata": {},
     "output_type": "execute_result"
    }
   ],
   "source": [
    "qq_user_5000.take(5)"
   ]
  },
  {
   "cell_type": "code",
   "execution_count": 75,
   "metadata": {
    "collapsed": false
   },
   "outputs": [
    {
     "name": "stdout",
     "output_type": "stream",
     "text": [
      "8613584029812\n"
     ]
    }
   ],
   "source": [
    "qq_user_5000_list = qq_user_5000.collect()\n",
    "print(qq_user_5000_list[-1])"
   ]
  },
  {
   "cell_type": "code",
   "execution_count": null,
   "metadata": {
    "collapsed": true
   },
   "outputs": [],
   "source": []
  },
  {
   "cell_type": "markdown",
   "metadata": {},
   "source": [
    "### 筛选出这5000个用户的dpi记录"
   ]
  },
  {
   "cell_type": "code",
   "execution_count": 20,
   "metadata": {
    "collapsed": true
   },
   "outputs": [],
   "source": [
    "# 5000个QQ用户的id\n",
    "qq_user_5000_list = sc.textFile(\"/media/jw/5dccc50e-7c13-4186-bf6b-d894f02410be/wbb/result/qq_user_phone_5000\").collect()"
   ]
  },
  {
   "cell_type": "code",
   "execution_count": 31,
   "metadata": {
    "collapsed": true
   },
   "outputs": [],
   "source": [
    "qq_user_all_filepath = \"/media/jw/5dccc50e-7c13-4186-bf6b-d894f02410be/wbb/result/qq_user_all/20131231/part-*\""
   ]
  },
  {
   "cell_type": "code",
   "execution_count": 32,
   "metadata": {
    "collapsed": false
   },
   "outputs": [],
   "source": [
    "qq_user_all = sc.textFile(qq_user_all_filepath)"
   ]
  },
  {
   "cell_type": "code",
   "execution_count": 33,
   "metadata": {
    "collapsed": false
   },
   "outputs": [],
   "source": [
    "# 过滤出这5000个用户的dpi记录并保存到文件\n",
    "qq_user_5000_dpi = qq_user_all.map(lambda x: eval(x)).filter(lambda x: x[1] in qq_user_5000_list)"
   ]
  },
  {
   "cell_type": "code",
   "execution_count": 34,
   "metadata": {
    "collapsed": false
   },
   "outputs": [
    {
     "data": {
      "text/plain": [
       "'print(qq_user_5000_dpi.count())\\nprint(qq_user_5000_dpi.take(3))'"
      ]
     },
     "execution_count": 34,
     "metadata": {},
     "output_type": "execute_result"
    }
   ],
   "source": [
    "'''print(qq_user_5000_dpi.count())\n",
    "print(qq_user_5000_dpi.take(3))'''"
   ]
  },
  {
   "cell_type": "code",
   "execution_count": 35,
   "metadata": {
    "collapsed": true
   },
   "outputs": [],
   "source": [
    "qq_user_5000_dpi.saveAsTextFile(\"/media/jw/5dccc50e-7c13-4186-bf6b-d894f02410be/wbb/result/qq_5000_user_dpi/20131231\")"
   ]
  },
  {
   "cell_type": "code",
   "execution_count": null,
   "metadata": {
    "collapsed": true
   },
   "outputs": [],
   "source": []
  }
 ],
 "metadata": {
  "anaconda-cloud": {},
  "kernelspec": {
   "display_name": "Python [default]",
   "language": "python",
   "name": "python3"
  },
  "language_info": {
   "codemirror_mode": {
    "name": "ipython",
    "version": 3
   },
   "file_extension": ".py",
   "mimetype": "text/x-python",
   "name": "python",
   "nbconvert_exporter": "python",
   "pygments_lexer": "ipython3",
   "version": "3.5.2"
  }
 },
 "nbformat": 4,
 "nbformat_minor": 1
}
