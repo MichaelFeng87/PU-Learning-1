{
 "cells": [
  {
   "cell_type": "code",
   "execution_count": 1,
   "metadata": {
    "collapsed": false
   },
   "outputs": [
    {
     "name": "stdout",
     "output_type": "stream",
     "text": [
      "1388246280.520000\t2013-12-28 23:58:00\t1388246279.548000\t1388246280.520000\t8613851992471\t0123370032238318\t460001993548600\t5\tcmwap\t2\t1\t1\t1\tIPHONE_4\tG112\tS10103\t-1\t-1\t320100\t320000\t320100\t5\t221.177.143.145\t221.177.140.132\t20950\t41108\t10.62.188.76\t42.62.62.4\t6\t49410\t80\t1100000\t0\tweb\tPOST\tgs1.anyplaygame.com\tanyplaygame\t-\t/\t-\tVenus/1.0.5 (iPhone; iOS 6.1; Scale/2.00)\t200\t478\ttext/json\t-\t1\t972\t3\t4\t1099\t2085\t1099\t2085\t0\t0\t0\t0\t1\t-\t4\t1025\t1\t0\t194\thttp\t-\tNJSGSN03BHW\tNJGGSN12BHW\t221.177.140.129\t221.177.143.145\t460\t5\t00\tNJ-G3-BSC36-2\t-1\t320000\t320100\tƻ��\t2044028400007814113\t-\t-\t-\t0\t16569241107951950879\t478\t1836\t0\t0\r",
      "\r\n"
     ]
    }
   ],
   "source": [
    "!head -1 /media/jw/5dccc50e-7c13-4186-bf6b-d894f02410be/data/userurl/gn/cm/jiangsu/nanjing/20131228/39server/userurl_20131228_235801_001039.log"
   ]
  },
  {
   "cell_type": "raw",
   "metadata": {},
   "source": [
    "1. 1388170568.241000\t\t记录时间，等于流结束时间，UTC格式\n",
    "2. 2013-12-28 02:56:08\t\t记录时间，年月日时分秒\n",
    "3. 1388170565.446000\t\t流开始时间，UTC格式\n",
    "4. 1388170568.241000\t\t流结束时间，UTC格式\n",
    "5. 8613851651044\t\t用户账号/手机号\n",
    "27. 10.203.55.167\t\t用户IP地址，点分十进制IP\n",
    "28. 111.30.132.34\t\t服务器IP地址，点分十进制IP\n",
    "34. web\t\t\t\t业务类型，取值web/wap1/wap2/mms/txt等\n",
    "35. GET\t\t\t\tWEB/WAP请求方法\n",
    "36. isdspeed.qq.com\t\tWEB/WAP请求HOST\n",
    "37. qq\t\t\t\t根据HOST提取的一级域名\n",
    "39. /cgi-bin/r.cgi?1=338&flag1=7832&flag2=7&flag3=1\tWEB/WAP请求URI\n",
    "40. web.p.qq.com/qqmpmobile/coupon/shop.html?sid=AeHCjiFXNLIhwQDrfGuvBeJz&_bid=108&_lv=20119\tWEB/WAP请求Referer\n",
    "41. Mozilla/5.0 (Linux; U; Android 4.2.1; zh-cn; Coolpad8720Q Build/JOP40D) AppleWebKit/534.30 (KHTML, like Gecko) Version/4.0 Mobil\tWEB/WAP请求User Agent\t\n",
    "47. 2795\t\t\t连接时长，即（流结束时间-流开始时间）\n",
    "48. 10\t\t\t\t上行报文数\n",
    "49. 7\t\t\t\t下行报文数\n",
    "50. 2542\t\t\t上行字节数\n",
    "51. 525\t\t\t\t下行字节数\n",
    "60. 8\t\t\t\t大类业务ID\n",
    "61. 2148\t\t\t小类业务ID\n",
    "65. http\t\t\t承载协议类型\n",
    "78. 宇龙\t\t\t终端厂家，UTF-8"
   ]
  },
  {
   "cell_type": "raw",
   "metadata": {},
   "source": [
    "# we needed\n",
    "0:    2. 2013-12-28 02:56:08      记录时间，年月日时分秒\n",
    "1:    5. 8613851651044        用户账号/手机号\n",
    "2:    28. 111.30.132.34       服务器IP地址，点分十进制IP\n",
    "3:    34. web             业务类型，取值web/wap1/wap2/mms/txt等\n",
    "4:    36. isdspeed.qq.com     WEB/WAP请求HOST\n",
    "5:    37. qq              根据HOST提取的一级域名\n",
    "6:    41. Mozilla/5.0 (Linux; U; Android 4.2.1; zh-cn; Coolpad8720Q Build/JOP40D) AppleWebKit/534.30 (KHTML, like Gecko) Version/4.0 Mobil    WEB/WAP请求User Agent \n",
    "7:    47. 2795            连接时长，即（流结束时间-流开始时间）\n",
    "8:    48. 10              上行报文数\n",
    "9:    49. 7               下行报文数\n",
    "10:   60. 8               大类业务ID\n",
    "11:   61. 2148            小类业务ID\n",
    "12:   78. 宇龙          终端厂家，UTF-8"
   ]
  },
  {
   "cell_type": "markdown",
   "metadata": {},
   "source": [
    "# 过滤出所有QQ的流量记录及我们需要的几个字段。"
   ]
  },
  {
   "cell_type": "code",
   "execution_count": 12,
   "metadata": {
    "collapsed": true
   },
   "outputs": [],
   "source": [
    "#filePath = 'test.txt'\n",
    "filePath = '/media/jw/5dccc50e-7c13-4186-bf6b-d894f02410be/data/userurl/gn/cm/jiangsu/nanjing/20131231/*/*.log'\n",
    "#filePath = '/media/jw/5dccc50e-7c13-4186-bf6b-d894f02410be/data/userurl/gn/cm/jiangsu/nanjing/20131228/39server/userurl_20131228_235801_001039.log'"
   ]
  },
  {
   "cell_type": "code",
   "execution_count": 13,
   "metadata": {
    "collapsed": false
   },
   "outputs": [],
   "source": [
    "textFile = sc.textFile(filePath)  # import source file"
   ]
  },
  {
   "cell_type": "code",
   "execution_count": 14,
   "metadata": {
    "collapsed": false
   },
   "outputs": [],
   "source": [
    "lines_split = textFile.map(lambda line:line.split('\\t')).filter(lambda x: len(x)==88 and x[36] == 'qq') # split every line"
   ]
  },
  {
   "cell_type": "code",
   "execution_count": 15,
   "metadata": {
    "collapsed": true
   },
   "outputs": [],
   "source": [
    "def filter_all(line):\n",
    "    res = []\n",
    "    for i in [2,5,28,34,36,37,41,47,48,49,60,61,78]:  # length: 13\n",
    "        res.append(line[i-1])\n",
    "    return res"
   ]
  },
  {
   "cell_type": "code",
   "execution_count": null,
   "metadata": {
    "collapsed": true
   },
   "outputs": [],
   "source": [
    "qq_user_info = lines_split.map(lambda line: filter_all(line)).sortBy(lambda x: x[1])"
   ]
  },
  {
   "cell_type": "code",
   "execution_count": null,
   "metadata": {
    "collapsed": false
   },
   "outputs": [],
   "source": [
    "# qq_user_info.first()"
   ]
  },
  {
   "cell_type": "code",
   "execution_count": null,
   "metadata": {
    "collapsed": false
   },
   "outputs": [],
   "source": [
    "# 把所有QQ用户的信息存下来\n",
    "qq_user_info.saveAsTextFile('/media/jw/5dccc50e-7c13-4186-bf6b-d894f02410be/wbb/result/qq_user_all/20131231')\n",
    "qq_user_info.count()"
   ]
  },
  {
   "cell_type": "code",
   "execution_count": null,
   "metadata": {
    "collapsed": false
   },
   "outputs": [
    {
     "data": {
      "text/plain": [
       "194109920"
      ]
     },
     "execution_count": 18,
     "metadata": {},
     "output_type": "execute_result"
    }
   ],
   "source": [
    "qq_user_info.count()"
   ]
  },
  {
   "cell_type": "code",
   "execution_count": null,
   "metadata": {
    "collapsed": false,
    "scrolled": true
   },
   "outputs": [
    {
     "name": "stdout",
     "output_type": "stream",
     "text": [
      "2291133\n",
      "[('8613913353166', 262402), ('8613705160965', 93803), ('8613770621210', 53013), ('8618362055135', 26325), ('8613951645652', 25566), ('8613951615399', 21265), ('8618362933427', 20155), ('8613951637299', 19718), ('8613851828849', 19298), ('8613621583761', 18278)]\n"
     ]
    }
   ],
   "source": [
    "qq_user_times = qq_user_info.map(lambda x: (x[1], 1)).countByKey().items()  # (user,times)\n",
    "qq_user_times_des = sc.parallelize(qq_user_times).sortBy(lambda x: x[1], False)\n",
    "qq_user_times_des.saveAsTextFile('/media/jw/5dccc50e-7c13-4186-bf6b-d894f02410be/wbb/result/qq_user_times/20131231')\n",
    "print(len(qq_user_times_des.collect()))\n",
    "print(qq_user_times_des.take(10))"
   ]
  },
  {
   "cell_type": "code",
   "execution_count": null,
   "metadata": {
    "collapsed": false
   },
   "outputs": [],
   "source": []
  },
  {
   "cell_type": "code",
   "execution_count": null,
   "metadata": {
    "collapsed": false,
    "scrolled": true
   },
   "outputs": [
    {
     "name": "stdout",
     "output_type": "stream",
     "text": [
      "5365\n",
      "[('10.0.0.172', 31740806), ('117.135.171.159', 12740255), ('117.135.169.19', 10645330), ('120.196.210.95', 8626900), ('183.207.233.95', 7211981), ('120.204.200.161', 4712803), ('120.204.200.177', 4711612), ('120.204.200.174', 4705417), ('120.204.200.164', 4700120), ('120.204.201.199', 4088280)]\n"
     ]
    }
   ],
   "source": [
    "qq_server_times = qq_user_info.map(lambda x: (x[2], 1)).countByKey().items()\n",
    "qq_server_times_des = sc.parallelize(qq_server_times).sortBy(lambda x: x[1],False)\n",
    "print(len(qq_server_times_des.collect()))\n",
    "print(qq_server_times_des.take(10))\n",
    "qq_server_times_des.saveAsTextFile('/media/jw/5dccc50e-7c13-4186-bf6b-d894f02410be/wbb/result/qq_server_times/20131231')"
   ]
  },
  {
   "cell_type": "code",
   "execution_count": null,
   "metadata": {
    "collapsed": true
   },
   "outputs": [],
   "source": []
  },
  {
   "cell_type": "code",
   "execution_count": null,
   "metadata": {
    "collapsed": true
   },
   "outputs": [],
   "source": []
  },
  {
   "cell_type": "code",
   "execution_count": null,
   "metadata": {
    "collapsed": true
   },
   "outputs": [],
   "source": []
  }
 ],
 "metadata": {
  "kernelspec": {
   "display_name": "Python [default]",
   "language": "python",
   "name": "python3"
  },
  "language_info": {
   "codemirror_mode": {
    "name": "ipython",
    "version": 3
   },
   "file_extension": ".py",
   "mimetype": "text/x-python",
   "name": "python",
   "nbconvert_exporter": "python",
   "pygments_lexer": "ipython3",
   "version": "3.5.2"
  }
 },
 "nbformat": 4,
 "nbformat_minor": 1
}
