{
 "cells": [
  {
   "cell_type": "code",
   "execution_count": 2,
   "metadata": {
    "collapsed": true
   },
   "outputs": [],
   "source": [
    "path_all = \"/media/jw/5dccc50e-7c13-4186-bf6b-d894f02410be/wbb/result/pu_learning/\"\n",
    "train_pos_features_f = path_all + \"tpp_features/12*/part-*\"\n",
    "train_unlabled_features_f = path_all + \"train_unlabled_features/part-*\"\n",
    "test_pos_features_f = path_all + \"test_pp_features/1231/part-*\"\n",
    "test_unlabled_features_f = path_all + \"test_unlabled_features/part-*\""
   ]
  },
  {
   "cell_type": "code",
   "execution_count": 3,
   "metadata": {
    "collapsed": true
   },
   "outputs": [],
   "source": [
    "train_pos_features = sc.textFile(train_pos_features_f).coalesce(50).map(lambda x: (eval(x)[0], [i for y in eval(x)[1] for i in y ]))\n",
    "train_unlabled_features = sc.textFile(train_unlabled_features_f).coalesce(100).map(lambda x: (eval(x)[0], [i for y in eval(x)[1] for i in y ]))\n",
    "test_pos_features = sc.textFile(test_pos_features_f).coalesce(50).map(lambda x: (eval(x)[0], [i for y in eval(x)[1] for i in y ]))\n",
    "test_unlabled_features = sc.textFile(test_unlabled_features_f).coalesce(100).map(lambda x: (eval(x)[0], [i for y in eval(x)[1] for i in y ]))"
   ]
  },
  {
   "cell_type": "code",
   "execution_count": 5,
   "metadata": {
    "collapsed": false
   },
   "outputs": [
    {
     "name": "stdout",
     "output_type": "stream",
     "text": [
      "235586\n",
      "8268837\n",
      "77653\n",
      "8342347\n"
     ]
    }
   ],
   "source": [
    "\"\"\"\n",
    "print(train_pos_features.count())  # 235586\n",
    "print(train_unlabled_features.count())  # 8268837\n",
    "print(test_pos_features.count())  # 77653\n",
    "print(test_unlabled_features.count())  # 8342347\n",
    "\"\"\""
   ]
  },
  {
   "cell_type": "code",
   "execution_count": 6,
   "metadata": {
    "collapsed": false,
    "scrolled": true
   },
   "outputs": [
    {
     "name": "stdout",
     "output_type": "stream",
     "text": [
      "[('day2-8618362927897-117.135.171.240', [0, 0, 0, 0, 0, 0, 0, 0, 0, 0, 0, 0, 0, 0, 0, 0, 0, 0, 0, 0, 0, 0, 0, 0, 0, 0, 0, 0, 0, 0, 0, 0, 0, 1, 0, 0, 0, 0, 0, 0, 0, 0, 0, 0, 0, 0, 0, 0, 0, 0, 0, 0, 0, 0, 0, 0, 0, 0, 0, 0, 0, 0, 0, 28, 0, 0, 0, 0, 0, 16, 6, 2, 14, 2, 41, 53, 42, 41, 30, 62, 52, 8, 51, 77, 33, 49, 32, 0, 56, 0, 0, 0, 3, 2, 0, 379, 0, 0, 2152, 19, 0, 0, 0, 0, 0, 0, 0, 19, 0, 0, 0, 0, 0, 0, 0, 0, 0, 0, 0, 2, 2152, 0, 0, 3, 0, 0, 0, 0, 0, 0, 0, 0, 379, 56, 0, 0, 0, 0, 0, 0, 0, 0, 123, 52, 18, 27, 17, 14, 24, 76, 167, 123, 149, 101, 168, 95, 94, 182, 156, 80, 179, 178, 156, 133, 134, 165, 59, 174, 2477873, 2028, 1720, 314, 838, 3367283, 4658, 3970]), ('day2-8614751797338-120.204.200.177', [0, 0, 0, 0, 0, 0, 0, 0, 0, 0, 0, 0, 1, 0, 0, 0, 0, 0, 0, 0, 0, 0, 0, 0, 0, 0, 0, 0, 0, 0, 0, 0, 0, 0, 0, 0, 0, 0, 0, 0, 0, 0, 0, 0, 0, 0, 0, 0, 0, 0, 0, 0, 0, 0, 0, 0, 0, 0, 0, 0, 0, 0, 0, 3, 0, 0, 0, 0, 0, 6, 85, 0, 0, 0, 0, 2, 0, 27, 7, 48, 52, 24, 7, 15, 0, 18, 41, 0, 0, 0, 0, 0, 0, 479, 0, 40914, 0, 0, 0, 0, 0, 0, 0, 0, 0, 0, 0, 0, 0, 0, 0, 0, 0, 0, 0, 0, 0, 0, 0, 479, 0, 0, 0, 0, 0, 0, 0, 0, 0, 0, 0, 0, 40914, 0, 0, 0, 0, 0, 0, 0, 0, 0, 2269, 1133, 1234, 867, 1021, 916, 999, 1433, 1612, 1995, 1946, 1813, 1716, 1924, 1773, 2109, 1989, 1942, 1983, 2043, 2153, 2187, 2201, 2135, 69, 232, 316377, 2820, 2064, 1455, 13786, 261126711, 76090, 57067])]\n",
      "[('day123-8618795992500-123.151.10.172', [0, 0, 0, 0, 0, 0, 0, 0, 0, 0, 0, 0, 0, 0, 0, 0, 0, 0, 0, 0, 0, 0, 0, 0, 0, 0, 0, 0, 0, 0, 0, 0, 0, 0, 0, 0, 0, 0, 0, 0, 0, 0, 0, 0, 0, 0, 0, 0, 0, 0, 0, 0, 0, 0, 0, 1, 0, 0, 0, 0, 0, 0, 0, 1, 0, 0, 0, 0, 24, 2, 0, 0, 16, 1, 17, 19, 6, 3, 4, 2, 2, 10, 0, 14, 3, 3, 29, 0, 0, 0, 0, 0, 0, 149, 0, 2, 0, 0, 0, 0, 0, 0, 0, 0, 0, 0, 0, 0, 0, 0, 0, 0, 0, 0, 149, 0, 0, 0, 0, 0, 0, 0, 0, 0, 0, 0, 0, 0, 0, 0, 0, 0, 2, 0, 0, 0, 0, 0, 0, 0, 0, 0, 2, 2, 0, 2, 0, 1, 5, 6, 11, 7, 16, 8, 6, 6, 10, 4, 8, 14, 4, 8, 10, 5, 7, 9, 0, 0, 0, 0, 0, 0, 0, 0, 0, 0]), ('day123-8613851451197-117.135.169.42', [0, 0, 0, 0, 0, 0, 0, 0, 0, 0, 0, 0, 0, 0, 0, 1, 0, 0, 0, 0, 0, 0, 0, 0, 0, 0, 0, 0, 0, 0, 0, 0, 0, 0, 0, 0, 0, 0, 0, 0, 0, 0, 0, 0, 0, 0, 0, 0, 0, 0, 0, 0, 0, 0, 0, 0, 0, 0, 0, 0, 0, 0, 0, 133, 94, 0, 0, 0, 0, 0, 53, 11, 10, 0, 34, 0, 0, 8, 0, 74, 0, 12, 0, 24, 21, 0, 164, 0, 0, 0, 0, 0, 0, 252, 0, 226, 0, 0, 0, 2, 0, 0, 0, 0, 0, 0, 0, 2, 0, 0, 0, 0, 2, 0, 226, 0, 0, 0, 0, 24, 0, 0, 0, 0, 0, 0, 0, 0, 0, 0, 0, 0, 226, 0, 0, 0, 0, 0, 0, 0, 0, 0, 10, 16, 1, 1, 0, 17, 1, 12, 5, 11, 59, 34, 12, 9, 0, 13, 26, 13, 21, 45, 39, 45, 73, 17, 0, 0, 0, 0, 0, 0, 0, 0, 0, 0])]\n",
      "[('day4-8613913000675-117.135.171.159', [0, 0, 0, 0, 0, 0, 0, 0, 0, 0, 0, 0, 0, 0, 0, 0, 0, 0, 0, 0, 0, 0, 0, 0, 0, 0, 0, 0, 0, 0, 0, 0, 0, 1, 0, 0, 0, 0, 0, 0, 0, 0, 0, 0, 0, 0, 0, 0, 0, 0, 0, 0, 0, 0, 0, 0, 0, 0, 0, 0, 0, 0, 0, 0, 0, 0, 0, 0, 0, 0, 1, 0, 1, 1, 5, 0, 0, 2, 1, 1, 0, 0, 0, 2, 0, 1, 0, 0, 0, 0, 0, 0, 0, 107368, 0, 358, 0, 0, 0, 14, 0, 0, 0, 0, 0, 0, 0, 14, 0, 0, 0, 0, 0, 0, 107368, 0, 0, 0, 0, 0, 0, 0, 0, 0, 0, 0, 0, 0, 0, 0, 0, 0, 358, 0, 0, 0, 0, 0, 0, 0, 0, 0, 2918, 1895, 1559, 1227, 1173, 1218, 2186, 3875, 5260, 5597, 5913, 6167, 5713, 5760, 5842, 5805, 5818, 6271, 6378, 6173, 6043, 5785, 5220, 3944, 6, 12, 73387, 129, 113, 2830, 36043, 121866619, 195840, 181916]), ('day4-8618205085997-120.204.201.199', [1, 0, 0, 0, 0, 0, 0, 0, 0, 0, 0, 0, 0, 0, 0, 0, 0, 0, 0, 0, 0, 0, 0, 0, 0, 0, 0, 0, 0, 0, 0, 0, 0, 0, 0, 0, 0, 0, 0, 0, 0, 0, 0, 0, 0, 0, 0, 0, 0, 0, 0, 0, 0, 0, 0, 0, 0, 0, 0, 0, 0, 0, 0, 39, 18, 4, 4, 29, 2, 10, 4, 93, 12, 13, 22, 172, 76, 227, 104, 145, 111, 62, 59, 269, 81, 63, 57, 0, 0, 0, 0, 0, 0, 0, 0, 35144, 0, 0, 0, 0, 0, 0, 0, 0, 0, 0, 0, 0, 0, 0, 0, 0, 0, 0, 0, 0, 0, 0, 0, 0, 0, 0, 0, 0, 0, 0, 0, 0, 0, 0, 0, 0, 35144, 0, 0, 0, 0, 0, 0, 0, 0, 0, 1555, 847, 658, 621, 691, 770, 824, 1344, 1467, 1554, 1704, 1668, 1578, 1602, 1570, 1720, 1736, 1719, 1824, 1793, 2001, 1966, 2037, 1895, 68, 763, 6961473, 11162, 11948, 1219, 10752, 19312614, 55635, 50674])]\n",
      "[('day4-8613451918220-183.61.38.165', [0, 0, 0, 0, 0, 0, 0, 0, 0, 0, 0, 0, 0, 0, 0, 1, 0, 0, 0, 0, 0, 0, 0, 0, 0, 0, 0, 0, 0, 0, 0, 0, 0, 0, 0, 0, 0, 0, 0, 0, 0, 0, 0, 0, 0, 0, 0, 0, 0, 0, 0, 0, 0, 0, 0, 0, 0, 0, 0, 0, 0, 0, 0, 0, 0, 0, 0, 0, 0, 38, 17, 7, 0, 0, 0, 2, 0, 15, 46, 0, 0, 0, 28, 117, 0, 0, 42, 0, 0, 0, 0, 0, 0, 228, 0, 2, 0, 0, 0, 0, 0, 0, 0, 0, 0, 0, 0, 0, 0, 0, 0, 0, 0, 0, 228, 0, 0, 0, 0, 0, 0, 0, 0, 0, 0, 0, 0, 0, 0, 0, 0, 0, 2, 0, 0, 0, 0, 0, 0, 0, 0, 0, 2, 6, 0, 0, 16, 0, 0, 5, 2, 2, 0, 3, 4, 19, 24, 13, 38, 17, 31, 25, 6, 9, 4, 4, 0, 0, 0, 0, 0, 0, 0, 0, 0, 0]), ('day4-8613851451075-120.198.201.60', [0, 0, 0, 0, 0, 0, 0, 0, 0, 0, 0, 0, 0, 0, 0, 1, 0, 0, 0, 0, 0, 0, 0, 0, 0, 0, 0, 0, 0, 0, 0, 0, 0, 0, 0, 0, 0, 0, 0, 0, 0, 0, 0, 0, 0, 0, 0, 0, 0, 0, 0, 0, 0, 0, 0, 0, 0, 0, 0, 0, 0, 0, 0, 0, 0, 0, 0, 0, 0, 0, 0, 0, 0, 0, 0, 1, 3, 0, 0, 11, 1, 1, 0, 0, 0, 0, 0, 0, 0, 0, 0, 0, 0, 2307, 0, 8745, 0, 0, 0, 0, 0, 0, 0, 0, 0, 0, 0, 0, 0, 0, 0, 0, 0, 0, 0, 0, 0, 0, 0, 2307, 0, 0, 0, 0, 0, 0, 0, 0, 0, 0, 0, 0, 8745, 0, 0, 0, 0, 0, 0, 0, 0, 0, 500, 188, 151, 163, 186, 138, 257, 334, 562, 548, 420, 541, 576, 446, 476, 546, 598, 522, 668, 557, 664, 547, 603, 861, 0, 0, 0, 0, 0, 0, 0, 0, 0, 0])]\n"
     ]
    }
   ],
   "source": [
    "print(train_pos_features.take(2))  # length of feature: 176\n",
    "print(train_unlabled_features.take(2))\n",
    "print(test_pos_features.take(2))\n",
    "print(test_unlabled_features.take(2))"
   ]
  },
  {
   "cell_type": "code",
   "execution_count": 3,
   "metadata": {
    "collapsed": false
   },
   "outputs": [
    {
     "data": {
      "text/plain": [
       "176"
      ]
     },
     "execution_count": 3,
     "metadata": {},
     "output_type": "execute_result"
    }
   ],
   "source": [
    "len([0, 0, 0, 0, 0, 0, 0, 0, 0, 0, 0, 0, 0, 0, 0, 1, 0, 0, 0, 0, 0, 0, 0, 0, 0, 0, 0, 0, 0, 0, 0, 0, 0, 0, 0, 0, 0, 0, 0, 0, 0, 0, 0, 0, 0, 0, 0, 0, 0, 0, 0, 0, 0, 0, 0, 0, 0, 0, 0, 0, 0, 0, 0, 0, 0, 0, 0, 0, 0, 38, 17, 7, 0, 0, 0, 2, 0, 15, 46, 0, 0, 0, 28, 117, 0, 0, 42, 0, 0, 0, 0, 0, 0, 228, 0, 2, 0, 0, 0, 0, 0, 0, 0, 0, 0, 0, 0, 0, 0, 0, 0, 0, 0, 0, 228, 0, 0, 0, 0, 0, 0, 0, 0, 0, 0, 0, 0, 0, 0, 0, 0, 0, 2, 0, 0, 0, 0, 0, 0, 0, 0, 0, 2, 6, 0, 0, 16, 0, 0, 5, 2, 2, 0, 3, 4, 19, 24, 13, 38, 17, 31, 25, 6, 9, 4, 4, 0, 0, 0, 0, 0, 0, 0, 0, 0, 0])"
   ]
  },
  {
   "cell_type": "code",
   "execution_count": 3,
   "metadata": {
    "collapsed": false
   },
   "outputs": [],
   "source": [
    "import random"
   ]
  },
  {
   "cell_type": "code",
   "execution_count": 4,
   "metadata": {
    "collapsed": true
   },
   "outputs": [],
   "source": [
    "alfa = 0.1  "
   ]
  },
  {
   "cell_type": "code",
   "execution_count": 5,
   "metadata": {
    "collapsed": false
   },
   "outputs": [],
   "source": [
    "# 从unlabled中抽取alfa作为negative\n",
    "# train_neg_features = random.sample(train_unlabled_features.collect(), int(alfa * 8268837))  # 太慢了\n",
    "# train_neg_features = train_unlabled_features.takeSample(False, int(alfa * 8268837))\n",
    "# sc.parallelize(train_neg_features).coalesce(10).saveAsTextFile(path_all + \"train_neg_features_01\")\n",
    "train_neg_features = sc.textFile(path_all + \"train_neg_features_01\").map(lambda x: eval(x)).collect()"
   ]
  },
  {
   "cell_type": "code",
   "execution_count": null,
   "metadata": {
    "collapsed": true
   },
   "outputs": [],
   "source": []
  },
  {
   "cell_type": "code",
   "execution_count": 6,
   "metadata": {
    "collapsed": false
   },
   "outputs": [],
   "source": [
    "# test_neg_features = random.sample(test_unlabled_features.collect(), int(alfa * 8342347))\n",
    "# test_neg_features = test_unlabled_features.takeSample(False, int(alfa * 8342347))\n",
    "# sc.parallelize(test_neg_features).coalesce(10).saveAsTextFile(path_all + \"test_neg_features_01\")\n",
    "test_neg_features = sc.textFile(path_all + \"test_neg_features_01\").map(lambda x: eval(x)).collect()"
   ]
  },
  {
   "cell_type": "code",
   "execution_count": null,
   "metadata": {
    "collapsed": true
   },
   "outputs": [],
   "source": []
  },
  {
   "cell_type": "code",
   "execution_count": 7,
   "metadata": {
    "collapsed": false
   },
   "outputs": [
    {
     "name": "stdout",
     "output_type": "stream",
     "text": [
      "826883\n",
      "834234\n"
     ]
    }
   ],
   "source": [
    "print(len(train_neg_features))\n",
    "print(len(test_neg_features))"
   ]
  },
  {
   "cell_type": "code",
   "execution_count": 8,
   "metadata": {
    "collapsed": false
   },
   "outputs": [
    {
     "name": "stdout",
     "output_type": "stream",
     "text": [
      "[('day123-8613805158315-125.39.200.219', [0, 0, 0, 0, 0, 0, 0, 0, 0, 0, 0, 0, 0, 0, 0, 0, 0, 0, 0, 0, 0, 0, 0, 0, 0, 0, 0, 0, 0, 0, 0, 0, 0, 1, 0, 0, 0, 0, 0, 0, 0, 0, 0, 0, 0, 0, 0, 0, 0, 0, 0, 0, 0, 0, 0, 0, 0, 0, 0, 0, 0, 0, 0, 7, 0, 5, 0, 0, 0, 0, 0, 0, 0, 0, 0, 0, 27, 46, 10, 0, 8, 4, 10, 4, 8, 0, 2, 0, 0, 0, 0, 0, 0, 0, 0, 1, 0, 0, 0, 0, 0, 0, 0, 0, 0, 0, 0, 0, 0, 0, 0, 0, 0, 0, 0, 0, 0, 0, 0, 0, 0, 0, 0, 0, 0, 0, 0, 0, 0, 0, 0, 0, 1, 0, 0, 0, 0, 0, 0, 0, 0, 0, 0, 1, 0, 0, 0, 0, 0, 0, 0, 0, 0, 0, 0, 0, 0, 0, 0, 0, 0, 0, 0, 0, 0, 0, 0, 0, 0, 0, 0, 0, 0, 0, 0, 0]), ('day123-8613915962684-101.226.103.87', [0, 0, 0, 0, 0, 0, 0, 0, 0, 0, 0, 0, 0, 0, 0, 0, 0, 0, 0, 0, 0, 0, 0, 0, 0, 1, 0, 0, 0, 0, 0, 0, 0, 0, 0, 0, 0, 0, 0, 0, 0, 0, 0, 0, 0, 0, 0, 0, 0, 0, 0, 0, 0, 0, 0, 0, 0, 0, 0, 0, 0, 0, 0, 0, 0, 0, 0, 0, 0, 32, 10, 20, 0, 0, 24, 62, 176, 90, 31, 3, 34, 17, 0, 0, 1, 6, 2, 0, 0, 0, 0, 0, 0, 0, 0, 1, 0, 0, 0, 0, 0, 0, 0, 0, 0, 0, 0, 0, 0, 0, 0, 0, 0, 0, 0, 0, 0, 0, 0, 0, 0, 0, 0, 0, 0, 0, 0, 0, 0, 0, 0, 0, 1, 0, 0, 0, 0, 0, 0, 0, 0, 0, 0, 0, 0, 0, 0, 0, 0, 0, 1, 0, 0, 0, 0, 0, 0, 0, 0, 0, 0, 0, 0, 0, 0, 0, 0, 0, 0, 0, 0, 0, 0, 0, 0, 0])]\n",
      "[('day4-8615251823731-124.228.42.48', [0, 0, 0, 0, 0, 0, 0, 0, 0, 0, 0, 0, 0, 0, 0, 1, 0, 0, 0, 0, 0, 0, 0, 0, 0, 0, 0, 0, 0, 0, 0, 0, 0, 0, 0, 0, 0, 0, 0, 0, 0, 0, 0, 0, 0, 0, 0, 0, 0, 0, 0, 0, 0, 0, 0, 0, 0, 0, 0, 0, 0, 0, 0, 3, 2, 3, 1, 1, 5, 1, 11, 0, 0, 0, 22, 1, 12, 2, 4, 0, 10, 0, 8, 6, 4, 10, 1, 0, 0, 0, 0, 0, 0, 0, 0, 103, 0, 0, 0, 0, 0, 0, 0, 0, 0, 0, 0, 0, 103, 0, 0, 0, 0, 0, 0, 0, 0, 0, 0, 0, 0, 0, 0, 0, 0, 0, 0, 0, 0, 0, 0, 0, 0, 0, 0, 0, 0, 0, 0, 0, 0, 0, 0, 0, 1, 0, 0, 0, 0, 1, 1, 15, 2, 11, 1, 2, 2, 2, 42, 5, 5, 5, 0, 4, 1, 3, 0, 0, 0, 0, 0, 0, 0, 0, 0, 0]), ('day4-8613770978385-61.177.126.144', [0, 0, 0, 0, 0, 0, 0, 0, 0, 0, 0, 0, 0, 0, 0, 1, 0, 0, 0, 0, 0, 0, 0, 0, 0, 0, 0, 0, 0, 0, 0, 0, 0, 0, 0, 0, 0, 0, 0, 0, 0, 0, 0, 0, 0, 0, 0, 0, 0, 0, 0, 0, 0, 0, 0, 0, 0, 0, 0, 0, 0, 0, 0, 10, 0, 22, 0, 3, 0, 5, 25, 3, 6, 16, 2, 3, 7, 4, 0, 0, 0, 1, 15, 12, 6, 4, 1, 0, 0, 0, 0, 0, 9, 0, 0, 0, 0, 0, 0, 0, 0, 0, 0, 0, 0, 0, 0, 0, 0, 0, 0, 0, 0, 0, 0, 0, 0, 0, 0, 0, 0, 0, 0, 9, 0, 0, 0, 0, 0, 0, 0, 0, 0, 0, 0, 0, 0, 0, 0, 0, 0, 0, 0, 0, 0, 6, 0, 0, 0, 1, 0, 0, 0, 0, 0, 0, 0, 0, 0, 0, 0, 0, 1, 0, 1, 0, 0, 0, 0, 0, 0, 0, 0, 0, 0, 0])]\n"
     ]
    }
   ],
   "source": [
    "print(train_neg_features[:2])\n",
    "print(test_neg_features[:2])"
   ]
  },
  {
   "cell_type": "code",
   "execution_count": 7,
   "metadata": {
    "collapsed": true
   },
   "outputs": [],
   "source": [
    "blta = 0.8"
   ]
  },
  {
   "cell_type": "code",
   "execution_count": 8,
   "metadata": {
    "collapsed": false,
    "scrolled": true
   },
   "outputs": [],
   "source": [
    "pnsplit = int(train_pos_features.count()*blta)   # pnsplit以前的部分作为pu_pos, 以后的部分作为pu_neg"
   ]
  },
  {
   "cell_type": "code",
   "execution_count": 9,
   "metadata": {
    "collapsed": false
   },
   "outputs": [
    {
     "name": "stdout",
     "output_type": "stream",
     "text": [
      "47118\n"
     ]
    }
   ],
   "source": [
    "print(train_pos_features.count()-pnsplit)"
   ]
  },
  {
   "cell_type": "code",
   "execution_count": 10,
   "metadata": {
    "collapsed": false,
    "scrolled": true
   },
   "outputs": [],
   "source": [
    "pu_pos_features = train_pos_features.collect()[:pnsplit]\n",
    "pu_neg_features = train_pos_features.collect()[pnsplit:] + train_neg_features"
   ]
  },
  {
   "cell_type": "code",
   "execution_count": 11,
   "metadata": {
    "collapsed": false
   },
   "outputs": [
    {
     "name": "stdout",
     "output_type": "stream",
     "text": [
      "188468 874001\n"
     ]
    }
   ],
   "source": [
    "print(len(pu_pos_features),len(pu_neg_features))"
   ]
  },
  {
   "cell_type": "code",
   "execution_count": 12,
   "metadata": {
    "collapsed": true
   },
   "outputs": [],
   "source": [
    "gamma=0.6"
   ]
  },
  {
   "cell_type": "code",
   "execution_count": 13,
   "metadata": {
    "collapsed": false,
    "scrolled": true
   },
   "outputs": [],
   "source": [
    "pu_train_pos = sc.parallelize(pu_pos_features, 50).takeSample(False, int(len(pu_pos_features) * gamma))  # list\n",
    "# random.sample(pu_pos_features, int(len(pu_pos_features) * gamma))\n",
    "# pu_test_pos = [item for item in pu_pos_features if item not in pu_train_pos]\n",
    "pu_test_pos = sc.parallelize(pu_pos_features).subtractByKey(sc.parallelize(pu_train_pos)).collect()"
   ]
  },
  {
   "cell_type": "code",
   "execution_count": 14,
   "metadata": {
    "collapsed": false
   },
   "outputs": [
    {
     "name": "stdout",
     "output_type": "stream",
     "text": [
      "113080 75388\n"
     ]
    }
   ],
   "source": [
    "print(len(pu_train_pos), len(pu_test_pos))"
   ]
  },
  {
   "cell_type": "code",
   "execution_count": 15,
   "metadata": {
    "collapsed": false
   },
   "outputs": [],
   "source": [
    "# pu_train_neg = random.sample(pu_neg_features, int(len(pu_neg_features) * gamma))\n",
    "# pu_test_neg = [item for item in pu_neg_features if item not in pu_train_neg]\n",
    "pu_train_neg = sc.parallelize(pu_neg_features, 50).takeSample(False, int(len(pu_neg_features) * gamma))  # list\n",
    "pu_test_neg = sc.parallelize(pu_neg_features).subtractByKey(sc.parallelize(pu_train_neg)).collect()"
   ]
  },
  {
   "cell_type": "code",
   "execution_count": 16,
   "metadata": {
    "collapsed": false
   },
   "outputs": [
    {
     "name": "stdout",
     "output_type": "stream",
     "text": [
      "524400 349601\n"
     ]
    }
   ],
   "source": [
    "print(len(pu_train_neg), len(pu_test_neg))"
   ]
  },
  {
   "cell_type": "code",
   "execution_count": 17,
   "metadata": {
    "collapsed": false
   },
   "outputs": [
    {
     "name": "stdout",
     "output_type": "stream",
     "text": [
      "[('day123-8613770860504-61.135.157.223', [0, 0, 0, 0, 0, 0, 0, 0, 0, 0, 0, 0, 0, 0, 0, 1, 0, 0, 0, 0, 0, 0, 0, 0, 0, 0, 0, 0, 0, 0, 0, 0, 0, 0, 0, 0, 0, 0, 0, 0, 0, 0, 0, 0, 0, 0, 0, 0, 0, 0, 0, 0, 0, 0, 0, 0, 0, 0, 0, 0, 0, 0, 0, 1, 2, 2, 0, 0, 2, 13, 1, 4, 0, 0, 4, 9, 4, 1, 5, 15, 3, 4, 13, 22, 1, 1, 3, 0, 0, 0, 0, 0, 0, 0, 0, 18, 0, 0, 0, 0, 0, 0, 0, 0, 0, 0, 0, 0, 0, 0, 0, 0, 0, 0, 0, 0, 0, 0, 0, 0, 0, 0, 0, 0, 0, 0, 0, 0, 0, 0, 0, 0, 18, 0, 0, 0, 0, 0, 0, 0, 0, 0, 0, 0, 0, 0, 0, 0, 0, 0, 0, 0, 0, 0, 0, 0, 0, 0, 0, 0, 0, 3, 0, 15, 0, 0, 0, 0, 0, 0, 0, 0, 0, 0, 0, 0]), ('day123-8613645160816-61.177.126.152', [0, 0, 0, 0, 0, 0, 0, 0, 0, 0, 0, 0, 0, 0, 0, 0, 0, 0, 0, 1, 0, 0, 0, 0, 0, 0, 0, 0, 0, 0, 0, 0, 0, 0, 0, 0, 0, 0, 0, 0, 0, 0, 0, 0, 0, 0, 0, 0, 0, 0, 0, 0, 0, 0, 0, 0, 0, 0, 0, 0, 0, 0, 0, 0, 0, 0, 0, 0, 0, 0, 0, 80, 208, 3, 391, 205, 7, 10, 23, 288, 427, 11, 11, 23, 108, 218, 267, 0, 0, 0, 0, 0, 0, 4, 0, 41, 0, 0, 0, 0, 0, 0, 0, 0, 0, 0, 0, 0, 0, 0, 0, 0, 0, 0, 3, 0, 0, 0, 0, 1, 0, 0, 0, 0, 0, 0, 0, 0, 0, 0, 0, 0, 41, 0, 0, 0, 0, 0, 0, 0, 0, 0, 0, 0, 2, 0, 0, 1, 9, 1, 4, 0, 1, 1, 3, 2, 0, 2, 1, 2, 6, 1, 1, 3, 4, 1, 0, 0, 0, 0, 0, 0, 0, 0, 0, 0])]\n"
     ]
    }
   ],
   "source": [
    "print(pu_train_neg[:2])"
   ]
  },
  {
   "cell_type": "code",
   "execution_count": null,
   "metadata": {
    "collapsed": true
   },
   "outputs": [],
   "source": []
  },
  {
   "cell_type": "code",
   "execution_count": 44,
   "metadata": {
    "collapsed": true
   },
   "outputs": [],
   "source": [
    "from pyspark.sql import Row\n",
    "from pyspark.ml.linalg import Vectors\n",
    "from pyspark.ml.classification import LogisticRegression\n",
    "from pyspark.ml.classification import DecisionTreeClassifier\n"
   ]
  },
  {
   "cell_type": "code",
   "execution_count": 19,
   "metadata": {
    "collapsed": false
   },
   "outputs": [],
   "source": [
    "pu_train_data = sc.parallelize(pu_train_pos).map(lambda x: Row(label=1.0, features=Vectors.dense(x[1])))\\\n",
    "            .union(sc.parallelize(pu_train_neg).map(lambda x: Row(label=0.0, features=Vectors.dense(x[1]))))"
   ]
  },
  {
   "cell_type": "code",
   "execution_count": 20,
   "metadata": {
    "collapsed": false
   },
   "outputs": [
    {
     "data": {
      "text/plain": [
       "[Row(features=DenseVector([0.0, 0.0, 0.0, 0.0, 0.0, 0.0, 0.0, 0.0, 0.0, 0.0, 0.0, 0.0, 0.0, 0.0, 0.0, 0.0, 0.0, 0.0, 0.0, 0.0, 0.0, 0.0, 0.0, 0.0, 0.0, 1.0, 0.0, 0.0, 0.0, 0.0, 0.0, 0.0, 0.0, 0.0, 0.0, 0.0, 0.0, 0.0, 0.0, 0.0, 0.0, 0.0, 0.0, 0.0, 0.0, 0.0, 0.0, 0.0, 0.0, 0.0, 0.0, 0.0, 0.0, 0.0, 0.0, 0.0, 0.0, 0.0, 0.0, 0.0, 0.0, 0.0, 0.0, 30.0, 3.0, 0.0, 1.0, 4.0, 0.0, 16.0, 19.0, 0.0, 1.0, 0.0, 26.0, 1.0, 1.0, 0.0, 1.0, 30.0, 11.0, 0.0, 11.0, 6.0, 16.0, 57.0, 88.0, 0.0, 0.0, 0.0, 0.0, 0.0, 0.0, 2.0, 0.0, 639.0, 0.0, 0.0, 0.0, 0.0, 0.0, 0.0, 0.0, 0.0, 0.0, 0.0, 0.0, 0.0, 0.0, 0.0, 0.0, 0.0, 0.0, 0.0, 0.0, 0.0, 0.0, 0.0, 0.0, 2.0, 0.0, 0.0, 0.0, 0.0, 0.0, 0.0, 0.0, 0.0, 0.0, 0.0, 0.0, 0.0, 639.0, 0.0, 0.0, 0.0, 0.0, 0.0, 0.0, 0.0, 0.0, 0.0, 8.0, 2.0, 4.0, 2.0, 2.0, 0.0, 13.0, 17.0, 28.0, 44.0, 31.0, 43.0, 40.0, 47.0, 49.0, 31.0, 25.0, 26.0, 12.0, 33.0, 21.0, 33.0, 82.0, 48.0, 24.0, 86.0, 790513.0, 649.0, 591.0, 47.0, 276.0, 1519964.0, 1552.0, 1743.0]), label=1.0),\n",
       " Row(features=DenseVector([0.0, 0.0, 0.0, 0.0, 0.0, 0.0, 0.0, 0.0, 0.0, 0.0, 0.0, 0.0, 0.0, 0.0, 0.0, 0.0, 0.0, 0.0, 0.0, 0.0, 0.0, 0.0, 0.0, 0.0, 0.0, 1.0, 0.0, 0.0, 0.0, 0.0, 0.0, 0.0, 0.0, 0.0, 0.0, 0.0, 0.0, 0.0, 0.0, 0.0, 0.0, 0.0, 0.0, 0.0, 0.0, 0.0, 0.0, 0.0, 0.0, 0.0, 0.0, 0.0, 0.0, 0.0, 0.0, 0.0, 0.0, 0.0, 0.0, 0.0, 0.0, 0.0, 0.0, 1.0, 0.0, 0.0, 1.0, 0.0, 4.0, 1.0, 0.0, 0.0, 5.0, 0.0, 11.0, 4.0, 1.0, 5.0, 0.0, 16.0, 5.0, 1.0, 0.0, 0.0, 0.0, 7.0, 1.0, 0.0, 0.0, 0.0, 0.0, 0.0, 0.0, 513.0, 0.0, 40283.0, 0.0, 0.0, 0.0, 0.0, 0.0, 0.0, 0.0, 0.0, 0.0, 0.0, 0.0, 0.0, 0.0, 0.0, 0.0, 0.0, 0.0, 0.0, 0.0, 0.0, 0.0, 0.0, 0.0, 513.0, 0.0, 0.0, 0.0, 0.0, 0.0, 0.0, 0.0, 0.0, 0.0, 0.0, 0.0, 0.0, 40283.0, 0.0, 0.0, 0.0, 0.0, 0.0, 0.0, 0.0, 0.0, 0.0, 1934.0, 1122.0, 951.0, 975.0, 907.0, 855.0, 860.0, 1426.0, 1618.0, 1966.0, 1992.0, 1925.0, 1797.0, 1975.0, 1863.0, 1988.0, 1759.0, 1966.0, 2177.0, 2188.0, 2132.0, 2039.0, 2309.0, 2072.0, 10.0, 14.0, 94657.0, 163.0, 202.0, 1511.0, 13620.0, 767194181.0, 75788.0, 56690.0]), label=1.0)]"
      ]
     },
     "execution_count": 20,
     "metadata": {},
     "output_type": "execute_result"
    }
   ],
   "source": [
    "pu_train_data.take(2)"
   ]
  },
  {
   "cell_type": "code",
   "execution_count": 21,
   "metadata": {
    "collapsed": true
   },
   "outputs": [],
   "source": [
    "pu_test_data = sc.parallelize(pu_test_pos).map(lambda x: Row(label=1.0, features=Vectors.dense(x[1])))\\\n",
    "            .union(sc.parallelize(pu_test_neg).map(lambda x: Row(label=0.0, features=Vectors.dense(x[1])))).toDF()"
   ]
  },
  {
   "cell_type": "code",
   "execution_count": 22,
   "metadata": {
    "collapsed": false
   },
   "outputs": [
    {
     "name": "stdout",
     "output_type": "stream",
     "text": [
      "+--------------------+-----+\n",
      "|            features|label|\n",
      "+--------------------+-----+\n",
      "|[0.0,0.0,0.0,0.0,...|  1.0|\n",
      "|[0.0,0.0,0.0,0.0,...|  1.0|\n",
      "|[0.0,0.0,0.0,0.0,...|  1.0|\n",
      "|[0.0,0.0,0.0,0.0,...|  1.0|\n",
      "|[0.0,0.0,0.0,0.0,...|  1.0|\n",
      "|[0.0,0.0,0.0,0.0,...|  1.0|\n",
      "|[0.0,0.0,0.0,0.0,...|  1.0|\n",
      "|[0.0,0.0,0.0,0.0,...|  1.0|\n",
      "|[0.0,0.0,0.0,0.0,...|  1.0|\n",
      "|[0.0,0.0,0.0,0.0,...|  1.0|\n",
      "+--------------------+-----+\n",
      "only showing top 10 rows\n",
      "\n"
     ]
    }
   ],
   "source": [
    "pu_train_data.toDF().show(10)"
   ]
  },
  {
   "cell_type": "code",
   "execution_count": 23,
   "metadata": {
    "collapsed": false
   },
   "outputs": [
    {
     "name": "stdout",
     "output_type": "stream",
     "text": [
      "+--------------------+-----+\n",
      "|            features|label|\n",
      "+--------------------+-----+\n",
      "|[0.0,0.0,0.0,0.0,...|  1.0|\n",
      "|[0.0,0.0,0.0,0.0,...|  1.0|\n",
      "|[0.0,0.0,0.0,0.0,...|  1.0|\n",
      "|[0.0,0.0,0.0,0.0,...|  1.0|\n",
      "|[0.0,0.0,0.0,0.0,...|  1.0|\n",
      "|[0.0,0.0,0.0,0.0,...|  1.0|\n",
      "|[0.0,0.0,0.0,0.0,...|  1.0|\n",
      "|[0.0,1.0,0.0,0.0,...|  1.0|\n",
      "|[0.0,0.0,0.0,0.0,...|  1.0|\n",
      "|[0.0,0.0,0.0,0.0,...|  1.0|\n",
      "+--------------------+-----+\n",
      "only showing top 10 rows\n",
      "\n"
     ]
    }
   ],
   "source": [
    "pu_test_data.show(10)"
   ]
  },
  {
   "cell_type": "code",
   "execution_count": 24,
   "metadata": {
    "collapsed": false
   },
   "outputs": [
    {
     "data": {
      "text/plain": [
       "[Row(features=DenseVector([0.0, 0.0, 0.0, 0.0, 0.0, 0.0, 0.0, 0.0, 0.0, 0.0, 0.0, 0.0, 0.0, 0.0, 0.0, 0.0, 0.0, 0.0, 0.0, 0.0, 0.0, 0.0, 0.0, 0.0, 0.0, 0.0, 0.0, 0.0, 0.0, 0.0, 0.0, 0.0, 0.0, 0.0, 0.0, 0.0, 0.0, 0.0, 0.0, 0.0, 0.0, 0.0, 0.0, 0.0, 0.0, 0.0, 0.0, 0.0, 0.0, 0.0, 0.0, 0.0, 0.0, 0.0, 0.0, 0.0, 0.0, 0.0, 0.0, 0.0, 0.0, 0.0, 1.0, 0.0, 0.0, 0.0, 0.0, 0.0, 0.0, 0.0, 3.0, 15.0, 60.0, 36.0, 0.0, 0.0, 16.0, 0.0, 0.0, 5.0, 0.0, 0.0, 0.0, 0.0, 0.0, 0.0, 0.0, 0.0, 0.0, 0.0, 0.0, 0.0, 0.0, 548.0, 0.0, 41168.0, 0.0, 0.0, 0.0, 0.0, 0.0, 0.0, 0.0, 0.0, 0.0, 0.0, 0.0, 0.0, 0.0, 0.0, 0.0, 0.0, 0.0, 0.0, 1.0, 0.0, 0.0, 0.0, 0.0, 547.0, 0.0, 0.0, 0.0, 0.0, 0.0, 0.0, 0.0, 0.0, 0.0, 0.0, 0.0, 0.0, 41168.0, 0.0, 0.0, 0.0, 0.0, 0.0, 0.0, 0.0, 0.0, 0.0, 2219.0, 1390.0, 972.0, 842.0, 781.0, 856.0, 1075.0, 1487.0, 1581.0, 1824.0, 1975.0, 2039.0, 1864.0, 2041.0, 1826.0, 2101.0, 1974.0, 1943.0, 2300.0, 2017.0, 2043.0, 2120.0, 2365.0, 2081.0, 21.0, 51.0, 33627.0, 203.0, 234.0, 1528.0, 14152.0, 365388707.0, 78298.0, 58434.0]), label=1.0),\n",
       " Row(features=DenseVector([0.0, 0.0, 0.0, 0.0, 0.0, 0.0, 0.0, 0.0, 0.0, 0.0, 0.0, 0.0, 0.0, 0.0, 0.0, 0.0, 0.0, 0.0, 0.0, 0.0, 0.0, 0.0, 0.0, 0.0, 0.0, 0.0, 0.0, 0.0, 0.0, 0.0, 0.0, 0.0, 0.0, 0.0, 0.0, 0.0, 0.0, 0.0, 0.0, 0.0, 0.0, 0.0, 0.0, 0.0, 0.0, 0.0, 0.0, 1.0, 0.0, 0.0, 0.0, 0.0, 0.0, 0.0, 0.0, 0.0, 0.0, 0.0, 0.0, 0.0, 0.0, 0.0, 0.0, 0.0, 0.0, 0.0, 0.0, 0.0, 14.0, 0.0, 0.0, 17.0, 0.0, 0.0, 26.0, 0.0, 0.0, 0.0, 23.0, 0.0, 2.0, 41.0, 38.0, 7.0, 0.0, 0.0, 0.0, 0.0, 103.0, 0.0, 0.0, 6.0, 2.0, 184.0, 0.0, 12318.0, 0.0, 0.0, 94.0, 422.0, 0.0, 0.0, 0.0, 0.0, 0.0, 94.0, 0.0, 388.0, 0.0, 5.0, 0.0, 0.0, 0.0, 0.0, 159.0, 0.0, 0.0, 0.0, 0.0, 25.0, 0.0, 0.0, 0.0, 2.0, 0.0, 0.0, 0.0, 0.0, 0.0, 0.0, 29.0, 0.0, 12318.0, 103.0, 0.0, 0.0, 0.0, 0.0, 0.0, 0.0, 0.0, 6.0, 972.0, 348.0, 118.0, 155.0, 114.0, 126.0, 319.0, 623.0, 546.0, 554.0, 591.0, 532.0, 625.0, 469.0, 459.0, 469.0, 519.0, 543.0, 596.0, 708.0, 891.0, 808.0, 897.0, 1147.0, 26.0, 72.0, 409932.0, 902.0, 1283.0, 743.0, 6335.0, 46377859.0, 57860.0, 53226.0]), label=1.0),\n",
       " Row(features=DenseVector([0.0, 0.0, 0.0, 0.0, 0.0, 0.0, 0.0, 0.0, 0.0, 0.0, 0.0, 0.0, 0.0, 0.0, 0.0, 0.0, 0.0, 0.0, 0.0, 0.0, 0.0, 0.0, 0.0, 0.0, 0.0, 0.0, 0.0, 0.0, 0.0, 0.0, 0.0, 0.0, 0.0, 0.0, 0.0, 1.0, 0.0, 0.0, 0.0, 0.0, 0.0, 0.0, 0.0, 0.0, 0.0, 0.0, 0.0, 0.0, 0.0, 0.0, 0.0, 0.0, 0.0, 0.0, 0.0, 0.0, 0.0, 0.0, 0.0, 0.0, 0.0, 0.0, 0.0, 7.0, 16.0, 12.0, 15.0, 10.0, 13.0, 3.0, 15.0, 78.0, 64.0, 19.0, 8.0, 4.0, 16.0, 6.0, 5.0, 3.0, 13.0, 10.0, 0.0, 4.0, 24.0, 97.0, 11.0, 0.0, 0.0, 0.0, 0.0, 0.0, 0.0, 0.0, 0.0, 153.0, 0.0, 0.0, 0.0, 0.0, 0.0, 0.0, 0.0, 0.0, 0.0, 0.0, 0.0, 0.0, 0.0, 0.0, 0.0, 0.0, 0.0, 0.0, 0.0, 0.0, 0.0, 0.0, 0.0, 0.0, 0.0, 0.0, 0.0, 0.0, 0.0, 0.0, 0.0, 0.0, 0.0, 0.0, 0.0, 0.0, 153.0, 0.0, 0.0, 0.0, 0.0, 0.0, 0.0, 0.0, 0.0, 0.0, 3.0, 6.0, 1.0, 0.0, 0.0, 1.0, 0.0, 1.0, 5.0, 7.0, 9.0, 1.0, 3.0, 3.0, 17.0, 24.0, 25.0, 4.0, 19.0, 0.0, 7.0, 3.0, 9.0, 5.0, 10.0, 80.0, 271678.0, 334.0, 379.0, 22.0, 76.0, 280792.0, 294.0, 234.0]), label=1.0)]"
      ]
     },
     "execution_count": 24,
     "metadata": {},
     "output_type": "execute_result"
    }
   ],
   "source": [
    "pu_test_data.take(3)"
   ]
  },
  {
   "cell_type": "markdown",
   "metadata": {},
   "source": [
    "## LR"
   ]
  },
  {
   "cell_type": "code",
   "execution_count": 138,
   "metadata": {
    "collapsed": false
   },
   "outputs": [],
   "source": [
    "publr = LogisticRegression(maxIter=15, regParam=0.024).fit(pu_train_data.toDF())"
   ]
  },
  {
   "cell_type": "code",
   "execution_count": 139,
   "metadata": {
    "collapsed": true
   },
   "outputs": [],
   "source": [
    "test_data_preRes = publr.transform(pu_test_data.select(\"features\"))"
   ]
  },
  {
   "cell_type": "code",
   "execution_count": 140,
   "metadata": {
    "collapsed": false
   },
   "outputs": [
    {
     "name": "stdout",
     "output_type": "stream",
     "text": [
      "+--------------------+--------------------+--------------------+----------+\n",
      "|            features|       rawPrediction|         probability|prediction|\n",
      "+--------------------+--------------------+--------------------+----------+\n",
      "|[0.0,0.0,0.0,0.0,...|[-2.1999183648052...|[0.09975782022657...|       1.0|\n",
      "|[0.0,0.0,0.0,0.0,...|[-0.8102314395605...|[0.30784117952365...|       1.0|\n",
      "|[0.0,0.0,0.0,0.0,...|[2.08294518457997...|[0.88923445649487...|       0.0|\n",
      "+--------------------+--------------------+--------------------+----------+\n",
      "only showing top 3 rows\n",
      "\n"
     ]
    }
   ],
   "source": [
    "test_data_preRes.show(3)"
   ]
  },
  {
   "cell_type": "code",
   "execution_count": 141,
   "metadata": {
    "collapsed": false
   },
   "outputs": [],
   "source": [
    "pu_test_data_preRes = test_data_preRes.join(pu_test_data, 'features')"
   ]
  },
  {
   "cell_type": "code",
   "execution_count": 142,
   "metadata": {
    "collapsed": false
   },
   "outputs": [],
   "source": [
    "# pu_test_data_preRes.take(3)"
   ]
  },
  {
   "cell_type": "code",
   "execution_count": 143,
   "metadata": {
    "collapsed": false
   },
   "outputs": [
    {
     "name": "stdout",
     "output_type": "stream",
     "text": [
      "+--------------------+--------------------+--------------------+----------+-----+\n",
      "|            features|       rawPrediction|         probability|prediction|label|\n",
      "+--------------------+--------------------+--------------------+----------+-----+\n",
      "|[0.0,0.0,0.0,0.0,...|[1.94588873672304...|[0.87499765800735...|       0.0|  0.0|\n",
      "|[0.0,0.0,0.0,0.0,...|[2.90051803689316...|[0.94787203939368...|       0.0|  0.0|\n",
      "|[0.0,0.0,0.0,0.0,...|[2.79909440546769...|[0.94262686785740...|       0.0|  0.0|\n",
      "+--------------------+--------------------+--------------------+----------+-----+\n",
      "only showing top 3 rows\n",
      "\n"
     ]
    }
   ],
   "source": [
    "pu_test_data_preRes.show(3)"
   ]
  },
  {
   "cell_type": "code",
   "execution_count": 144,
   "metadata": {
    "collapsed": false
   },
   "outputs": [],
   "source": [
    "aaa = pu_test_data_preRes.filter(pu_test_data_preRes.prediction == 0).filter(pu_test_data_preRes.label == 0)\\\n",
    ".select('features', 'probability').collect()"
   ]
  },
  {
   "cell_type": "code",
   "execution_count": 145,
   "metadata": {
    "collapsed": false
   },
   "outputs": [],
   "source": [
    "predict_to_0_prob = []\n",
    "for i in aaa:\n",
    "    if i.features[-1] != 0 and i.features[-2] != 0:\n",
    "        predict_to_0_prob.append(i.probability[0])"
   ]
  },
  {
   "cell_type": "code",
   "execution_count": 146,
   "metadata": {
    "collapsed": false
   },
   "outputs": [
    {
     "name": "stdout",
     "output_type": "stream",
     "text": [
      "5763 0.954429296538 0.500052106906 0.682315499268\n"
     ]
    }
   ],
   "source": [
    "print(len(predict_to_0_prob), max(predict_to_0_prob), min(predict_to_0_prob), sum(predict_to_0_prob)/len(predict_to_0_prob))"
   ]
  },
  {
   "cell_type": "code",
   "execution_count": 147,
   "metadata": {
    "collapsed": false
   },
   "outputs": [],
   "source": [
    "bbb = pu_test_data_preRes.filter(pu_test_data_preRes.label == 0).select('features', 'probability').collect()"
   ]
  },
  {
   "cell_type": "code",
   "execution_count": 150,
   "metadata": {
    "collapsed": false
   },
   "outputs": [],
   "source": [
    "RN = []\n",
    "for i in bbb:\n",
    "    if i.probability[0] > max(predict_to_0_prob):\n",
    "        RN.append(i.features)"
   ]
  },
  {
   "cell_type": "code",
   "execution_count": 151,
   "metadata": {
    "collapsed": false
   },
   "outputs": [
    {
     "name": "stdout",
     "output_type": "stream",
     "text": [
      "102662 [DenseVector([0.0, 0.0, 0.0, 0.0, 0.0, 0.0, 0.0, 0.0, 0.0, 0.0, 0.0, 0.0, 0.0, 0.0, 0.0, 0.0, 0.0, 0.0, 0.0, 0.0, 0.0, 0.0, 0.0, 0.0, 0.0, 0.0, 0.0, 0.0, 0.0, 0.0, 0.0, 0.0, 0.0, 0.0, 0.0, 0.0, 0.0, 0.0, 0.0, 0.0, 0.0, 0.0, 0.0, 0.0, 0.0, 0.0, 0.0, 0.0, 0.0, 0.0, 0.0, 0.0, 0.0, 0.0, 0.0, 0.0, 0.0, 0.0, 0.0, 0.0, 0.0, 0.0, 1.0, 7.0, 5.0, 3.0, 8.0, 3.0, 3.0, 5.0, 7.0, 10.0, 8.0, 0.0, 11.0, 6.0, 7.0, 3.0, 0.0, 0.0, 0.0, 0.0, 0.0, 10.0, 9.0, 7.0, 12.0, 0.0, 0.0, 0.0, 0.0, 0.0, 0.0, 0.0, 0.0, 30.0, 0.0, 0.0, 0.0, 0.0, 0.0, 0.0, 0.0, 0.0, 0.0, 0.0, 0.0, 0.0, 0.0, 0.0, 0.0, 0.0, 0.0, 0.0, 0.0, 0.0, 0.0, 0.0, 0.0, 0.0, 0.0, 0.0, 0.0, 0.0, 0.0, 0.0, 0.0, 0.0, 0.0, 0.0, 0.0, 0.0, 8.0, 0.0, 0.0, 0.0, 0.0, 22.0, 0.0, 0.0, 0.0, 0.0, 0.0, 0.0, 0.0, 0.0, 0.0, 0.0, 0.0, 0.0, 0.0, 0.0, 0.0, 0.0, 0.0, 0.0, 0.0, 23.0, 0.0, 0.0, 0.0, 0.0, 0.0, 0.0, 7.0, 0.0, 0.0, 0.0, 0.0, 0.0, 0.0, 0.0, 0.0, 0.0, 0.0, 0.0]), DenseVector([0.0, 0.0, 0.0, 0.0, 0.0, 0.0, 0.0, 0.0, 0.0, 0.0, 0.0, 0.0, 0.0, 0.0, 0.0, 0.0, 0.0, 0.0, 0.0, 0.0, 0.0, 0.0, 0.0, 0.0, 0.0, 0.0, 0.0, 0.0, 0.0, 0.0, 0.0, 0.0, 0.0, 0.0, 0.0, 0.0, 0.0, 0.0, 0.0, 0.0, 0.0, 0.0, 0.0, 0.0, 0.0, 0.0, 0.0, 0.0, 0.0, 0.0, 0.0, 0.0, 0.0, 0.0, 0.0, 0.0, 0.0, 0.0, 0.0, 0.0, 0.0, 0.0, 1.0, 9.0, 0.0, 16.0, 0.0, 0.0, 5.0, 19.0, 25.0, 3.0, 4.0, 46.0, 59.0, 180.0, 59.0, 16.0, 4.0, 4.0, 32.0, 32.0, 14.0, 5.0, 24.0, 60.0, 22.0, 0.0, 0.0, 0.0, 0.0, 0.0, 5.0, 0.0, 0.0, 0.0, 0.0, 0.0, 0.0, 0.0, 0.0, 0.0, 0.0, 0.0, 0.0, 0.0, 0.0, 0.0, 0.0, 0.0, 0.0, 0.0, 0.0, 0.0, 0.0, 0.0, 0.0, 0.0, 0.0, 0.0, 0.0, 0.0, 0.0, 5.0, 0.0, 0.0, 0.0, 0.0, 0.0, 0.0, 0.0, 0.0, 0.0, 0.0, 0.0, 0.0, 0.0, 0.0, 0.0, 0.0, 0.0, 0.0, 0.0, 0.0, 0.0, 0.0, 0.0, 0.0, 0.0, 0.0, 0.0, 0.0, 0.0, 0.0, 0.0, 0.0, 1.0, 0.0, 0.0, 0.0, 0.0, 0.0, 0.0, 0.0, 2.0, 2.0, 0.0, 0.0, 0.0, 0.0, 0.0, 0.0, 0.0, 0.0, 0.0, 0.0])]\n"
     ]
    }
   ],
   "source": [
    "print(len(RN), RN[3:5])"
   ]
  },
  {
   "cell_type": "code",
   "execution_count": null,
   "metadata": {
    "collapsed": true
   },
   "outputs": [],
   "source": []
  },
  {
   "cell_type": "code",
   "execution_count": 154,
   "metadata": {
    "collapsed": false
   },
   "outputs": [],
   "source": [
    "train_data = train_pos_features.map(lambda x: Row(label=1.0, features=Vectors.dense(x[1])))\\\n",
    "            .union(sc.parallelize(RN).map(lambda x: Row(label=0.0, features=x))).toDF()"
   ]
  },
  {
   "cell_type": "code",
   "execution_count": 158,
   "metadata": {
    "collapsed": false
   },
   "outputs": [
    {
     "name": "stdout",
     "output_type": "stream",
     "text": [
      "+--------------------+-----+\n",
      "|            features|label|\n",
      "+--------------------+-----+\n",
      "|[0.0,0.0,0.0,0.0,...|  1.0|\n",
      "|[0.0,0.0,0.0,0.0,...|  1.0|\n",
      "|[0.0,0.0,0.0,0.0,...|  1.0|\n",
      "+--------------------+-----+\n",
      "only showing top 3 rows\n",
      "\n"
     ]
    }
   ],
   "source": [
    "train_data.show(3)"
   ]
  },
  {
   "cell_type": "code",
   "execution_count": 162,
   "metadata": {
    "collapsed": false
   },
   "outputs": [
    {
     "name": "stdout",
     "output_type": "stream",
     "text": [
      "+--------------------+-----+\n",
      "|            features|label|\n",
      "+--------------------+-----+\n",
      "|[0.0,0.0,0.0,0.0,...|  1.0|\n",
      "|[1.0,0.0,0.0,0.0,...|  1.0|\n",
      "|[0.0,0.0,0.0,0.0,...|  1.0|\n",
      "+--------------------+-----+\n",
      "only showing top 3 rows\n",
      "\n"
     ]
    }
   ],
   "source": [
    "test_data = test_pos_features.map(lambda x: Row(label=1.0, features=Vectors.dense(x[1])))\\\n",
    "            .union(sc.parallelize(test_neg_features).map(lambda x: Row(label=0.0, features=Vectors.dense(x[1])))).toDF()\n",
    "test_data.show(3)"
   ]
  },
  {
   "cell_type": "code",
   "execution_count": 159,
   "metadata": {
    "collapsed": true
   },
   "outputs": [],
   "source": [
    "LR =  LogisticRegression(maxIter=15, regParam=0.024).fit(train_data)"
   ]
  },
  {
   "cell_type": "code",
   "execution_count": 163,
   "metadata": {
    "collapsed": true
   },
   "outputs": [],
   "source": [
    "predict_4th_day = LR.transform(test_data.select('features')).join(test_data, 'features')"
   ]
  },
  {
   "cell_type": "code",
   "execution_count": 164,
   "metadata": {
    "collapsed": false
   },
   "outputs": [
    {
     "name": "stdout",
     "output_type": "stream",
     "text": [
      "+--------------------+--------------------+--------------------+----------+-----+\n",
      "|            features|       rawPrediction|         probability|prediction|label|\n",
      "+--------------------+--------------------+--------------------+----------+-----+\n",
      "|[0.0,0.0,0.0,0.0,...|[-0.9250310962497...|[0.28393388379432...|       1.0|  1.0|\n",
      "|[0.0,0.0,0.0,0.0,...|[0.45967818271642...|[0.61293782935837...|       0.0|  0.0|\n",
      "|[0.0,0.0,0.0,0.0,...|[0.50623568456964...|[0.62392361732420...|       0.0|  0.0|\n",
      "+--------------------+--------------------+--------------------+----------+-----+\n",
      "only showing top 3 rows\n",
      "\n"
     ]
    }
   ],
   "source": [
    "predict_4th_day.show(3)"
   ]
  },
  {
   "cell_type": "code",
   "execution_count": 166,
   "metadata": {
    "collapsed": false
   },
   "outputs": [],
   "source": [
    "accuracy = (predict_4th_day.filter(predict_4th_day.prediction == predict_4th_day.label).count())/(predict_4th_day.count())"
   ]
  },
  {
   "cell_type": "code",
   "execution_count": 167,
   "metadata": {
    "collapsed": false
   },
   "outputs": [
    {
     "data": {
      "text/plain": [
       "0.9644634841674585"
      ]
     },
     "execution_count": 167,
     "metadata": {},
     "output_type": "execute_result"
    }
   ],
   "source": [
    "accuracy"
   ]
  },
  {
   "cell_type": "raw",
   "metadata": {},
   "source": [
    "1.不用PU的情况\n",
    "2.用不同算法的情况\n",
    "3.改变alpha，belta的情况"
   ]
  },
  {
   "cell_type": "markdown",
   "metadata": {},
   "source": [
    "### without PU"
   ]
  },
  {
   "cell_type": "code",
   "execution_count": 168,
   "metadata": {
    "collapsed": false
   },
   "outputs": [
    {
     "name": "stdout",
     "output_type": "stream",
     "text": [
      "+--------------------+-----+\n",
      "|            features|label|\n",
      "+--------------------+-----+\n",
      "|[0.0,0.0,0.0,0.0,...|  1.0|\n",
      "|[0.0,0.0,0.0,0.0,...|  1.0|\n",
      "|[0.0,0.0,0.0,0.0,...|  1.0|\n",
      "+--------------------+-----+\n",
      "only showing top 3 rows\n",
      "\n"
     ]
    }
   ],
   "source": [
    "train_data_noPU = train_pos_features.map(lambda x: Row(label=1.0, features=Vectors.dense(x[1])))\\\n",
    "            .union(sc.parallelize(train_neg_features).map(lambda x: Row(label=0.0, features=Vectors.dense(x[1])))).toDF()\n",
    "train_data_noPU.show(3)"
   ]
  },
  {
   "cell_type": "code",
   "execution_count": 170,
   "metadata": {
    "collapsed": false
   },
   "outputs": [
    {
     "data": {
      "text/plain": [
       "2"
      ]
     },
     "execution_count": 170,
     "metadata": {},
     "output_type": "execute_result"
    }
   ],
   "source": [
    "1+1"
   ]
  },
  {
   "cell_type": "code",
   "execution_count": null,
   "metadata": {
    "collapsed": true
   },
   "outputs": [],
   "source": []
  },
  {
   "cell_type": "code",
   "execution_count": null,
   "metadata": {
    "collapsed": true
   },
   "outputs": [],
   "source": []
  },
  {
   "cell_type": "code",
   "execution_count": null,
   "metadata": {
    "collapsed": true
   },
   "outputs": [],
   "source": []
  },
  {
   "cell_type": "code",
   "execution_count": null,
   "metadata": {
    "collapsed": true
   },
   "outputs": [],
   "source": []
  },
  {
   "cell_type": "code",
   "execution_count": null,
   "metadata": {
    "collapsed": true
   },
   "outputs": [],
   "source": []
  },
  {
   "cell_type": "code",
   "execution_count": null,
   "metadata": {
    "collapsed": true
   },
   "outputs": [],
   "source": []
  },
  {
   "cell_type": "code",
   "execution_count": 113,
   "metadata": {
    "collapsed": true
   },
   "outputs": [],
   "source": [
    "from pyspark.mllib.classification import SVMWithSGD, SVMModel\n",
    "from pyspark.mllib.regression import LabeledPoint\n",
    "from pyspark.mllib.classification import LogisticRegressionWithLBFGS, LogisticRegressionModel, LogisticRegressionWithSGD"
   ]
  },
  {
   "cell_type": "code",
   "execution_count": null,
   "metadata": {
    "collapsed": true
   },
   "outputs": [],
   "source": []
  },
  {
   "cell_type": "code",
   "execution_count": null,
   "metadata": {
    "collapsed": true
   },
   "outputs": [],
   "source": []
  },
  {
   "cell_type": "code",
   "execution_count": 22,
   "metadata": {
    "collapsed": true
   },
   "outputs": [],
   "source": [
    "pu_train_data = sc.parallelize(pu_train_pos).map(lambda x: LabeledPoint(1, x[1]))\\\n",
    "            .union(sc.parallelize(pu_train_neg).map(lambda x: LabeledPoint(0, x[1])))"
   ]
  },
  {
   "cell_type": "code",
   "execution_count": 23,
   "metadata": {
    "collapsed": false
   },
   "outputs": [
    {
     "data": {
      "text/plain": [
       "[LabeledPoint(1.0, [0.0,0.0,0.0,0.0,0.0,0.0,0.0,0.0,0.0,0.0,0.0,0.0,0.0,0.0,0.0,0.0,0.0,0.0,0.0,0.0,0.0,0.0,0.0,0.0,0.0,0.0,0.0,0.0,0.0,0.0,0.0,0.0,0.0,0.0,0.0,0.0,0.0,0.0,0.0,0.0,0.0,0.0,0.0,0.0,0.0,0.0,0.0,1.0,0.0,0.0,0.0,0.0,0.0,0.0,0.0,0.0,0.0,0.0,0.0,0.0,0.0,0.0,0.0,0.0,0.0,0.0,0.0,0.0,0.0,11.0,7.0,75.0,7.0,14.0,66.0,52.0,37.0,38.0,31.0,88.0,20.0,24.0,21.0,17.0,36.0,0.0,0.0,0.0,0.0,0.0,0.0,0.0,0.0,2307.0,0.0,8745.0,0.0,0.0,0.0,0.0,0.0,0.0,0.0,0.0,0.0,0.0,0.0,0.0,0.0,0.0,0.0,0.0,0.0,0.0,0.0,0.0,0.0,0.0,0.0,2307.0,0.0,0.0,0.0,0.0,0.0,0.0,0.0,0.0,0.0,0.0,0.0,0.0,8745.0,0.0,0.0,0.0,0.0,0.0,0.0,0.0,0.0,0.0,500.0,188.0,151.0,163.0,186.0,138.0,257.0,334.0,562.0,548.0,420.0,541.0,576.0,446.0,476.0,546.0,598.0,522.0,668.0,557.0,664.0,547.0,603.0,861.0,35.0,157.0,753310.0,1120.0,970.0,694.0,3630.0,113353777.0,20110.0,15026.0]),\n",
       " LabeledPoint(1.0, [0.0,0.0,0.0,0.0,0.0,0.0,0.0,0.0,0.0,0.0,0.0,0.0,0.0,0.0,0.0,1.0,0.0,0.0,0.0,0.0,0.0,0.0,0.0,0.0,0.0,0.0,0.0,0.0,0.0,0.0,0.0,0.0,0.0,0.0,0.0,0.0,0.0,0.0,0.0,0.0,0.0,0.0,0.0,0.0,0.0,0.0,0.0,0.0,0.0,0.0,0.0,0.0,0.0,0.0,0.0,0.0,0.0,0.0,0.0,0.0,0.0,0.0,0.0,24.0,12.0,44.0,3.0,2.0,0.0,0.0,1.0,1.0,0.0,1.0,57.0,5.0,63.0,31.0,5.0,4.0,19.0,24.0,14.0,28.0,16.0,16.0,82.0,0.0,1.0,0.0,0.0,0.0,0.0,22.0,0.0,1370.0,0.0,0.0,0.0,4.0,0.0,0.0,0.0,0.0,0.0,0.0,0.0,1.0,0.0,0.0,0.0,0.0,0.0,0.0,9.0,0.0,0.0,0.0,0.0,13.0,0.0,0.0,0.0,0.0,0.0,0.0,0.0,0.0,0.0,0.0,3.0,0.0,1370.0,1.0,0.0,0.0,0.0,0.0,0.0,0.0,0.0,0.0,394.0,0.0,3.0,3.0,47.0,0.0,3.0,5.0,36.0,34.0,28.0,34.0,14.0,16.0,10.0,12.0,10.0,2.0,27.0,49.0,96.0,554.0,8.0,12.0,79.0,241.0,2109512.0,1949.0,2181.0,120.0,885.0,2672838.0,4769.0,5924.0])]"
      ]
     },
     "execution_count": 23,
     "metadata": {},
     "output_type": "execute_result"
    }
   ],
   "source": [
    "pu_train_data.take(2)"
   ]
  },
  {
   "cell_type": "code",
   "execution_count": 24,
   "metadata": {
    "collapsed": true
   },
   "outputs": [],
   "source": [
    "pu_test_data = sc.parallelize(pu_test_pos).map(lambda x: LabeledPoint(1, x[1]))\\\n",
    "            .union(sc.parallelize(pu_test_neg).map(lambda x: LabeledPoint(0, x[1])))"
   ]
  },
  {
   "cell_type": "code",
   "execution_count": 25,
   "metadata": {
    "collapsed": false
   },
   "outputs": [
    {
     "data": {
      "text/plain": [
       "[LabeledPoint(1.0, [0.0,0.0,0.0,0.0,0.0,0.0,0.0,0.0,0.0,0.0,0.0,0.0,0.0,0.0,0.0,0.0,0.0,0.0,0.0,0.0,0.0,0.0,0.0,0.0,0.0,0.0,0.0,0.0,0.0,0.0,0.0,0.0,0.0,1.0,0.0,0.0,0.0,0.0,0.0,0.0,0.0,0.0,0.0,0.0,0.0,0.0,0.0,0.0,0.0,0.0,0.0,0.0,0.0,0.0,0.0,0.0,0.0,0.0,0.0,0.0,0.0,0.0,0.0,2.0,0.0,6.0,0.0,0.0,0.0,8.0,22.0,59.0,61.0,43.0,64.0,70.0,40.0,56.0,42.0,48.0,53.0,77.0,71.0,22.0,44.0,20.0,5.0,0.0,0.0,0.0,0.0,0.0,0.0,12515.0,0.0,58.0,0.0,0.0,0.0,0.0,0.0,0.0,0.0,0.0,0.0,0.0,0.0,0.0,0.0,0.0,0.0,0.0,0.0,0.0,12515.0,0.0,0.0,0.0,0.0,0.0,0.0,0.0,0.0,0.0,0.0,0.0,0.0,0.0,0.0,0.0,0.0,0.0,58.0,0.0,0.0,0.0,0.0,0.0,0.0,0.0,0.0,0.0,312.0,200.0,133.0,95.0,86.0,100.0,196.0,436.0,642.0,765.0,699.0,764.0,657.0,633.0,715.0,679.0,756.0,756.0,737.0,730.0,672.0,636.0,625.0,549.0,46.0,300.0,1837822.0,3210.0,2742.0,1892.0,4159.0,10110646.0,18168.0,15662.0]),\n",
       " LabeledPoint(1.0, [0.0,0.0,0.0,0.0,0.0,0.0,0.0,0.0,0.0,0.0,0.0,0.0,0.0,0.0,0.0,0.0,0.0,0.0,0.0,0.0,0.0,0.0,0.0,0.0,0.0,0.0,0.0,0.0,0.0,0.0,0.0,0.0,0.0,0.0,0.0,0.0,0.0,0.0,0.0,0.0,0.0,0.0,0.0,0.0,0.0,0.0,0.0,0.0,0.0,0.0,0.0,0.0,0.0,0.0,0.0,0.0,0.0,0.0,0.0,0.0,0.0,0.0,1.0,0.0,0.0,0.0,0.0,0.0,0.0,0.0,3.0,15.0,60.0,36.0,0.0,0.0,16.0,0.0,0.0,5.0,0.0,0.0,0.0,0.0,0.0,0.0,0.0,0.0,0.0,0.0,0.0,0.0,0.0,548.0,0.0,41168.0,0.0,0.0,0.0,0.0,0.0,0.0,0.0,0.0,0.0,0.0,0.0,0.0,0.0,0.0,0.0,0.0,0.0,0.0,1.0,0.0,0.0,0.0,0.0,547.0,0.0,0.0,0.0,0.0,0.0,0.0,0.0,0.0,0.0,0.0,0.0,0.0,41168.0,0.0,0.0,0.0,0.0,0.0,0.0,0.0,0.0,0.0,2219.0,1390.0,972.0,842.0,781.0,856.0,1075.0,1487.0,1581.0,1824.0,1975.0,2039.0,1864.0,2041.0,1826.0,2101.0,1974.0,1943.0,2300.0,2017.0,2043.0,2120.0,2365.0,2081.0,21.0,51.0,33627.0,203.0,234.0,1528.0,14152.0,365388707.0,78298.0,58434.0])]"
      ]
     },
     "execution_count": 25,
     "metadata": {},
     "output_type": "execute_result"
    }
   ],
   "source": [
    "pu_test_data.take(2)"
   ]
  },
  {
   "cell_type": "code",
   "execution_count": null,
   "metadata": {
    "collapsed": true
   },
   "outputs": [],
   "source": []
  },
  {
   "cell_type": "code",
   "execution_count": 141,
   "metadata": {
    "collapsed": false
   },
   "outputs": [],
   "source": [
    "pulr = LogisticRegressionWithLBFGS.train(pu_train_data)"
   ]
  },
  {
   "cell_type": "code",
   "execution_count": 144,
   "metadata": {
    "collapsed": false
   },
   "outputs": [
    {
     "data": {
      "text/plain": [
       "0.5"
      ]
     },
     "execution_count": 144,
     "metadata": {},
     "output_type": "execute_result"
    }
   ],
   "source": [
    "pulr.threshold"
   ]
  },
  {
   "cell_type": "code",
   "execution_count": 126,
   "metadata": {
    "collapsed": true
   },
   "outputs": [],
   "source": [
    "filter_data = pu_test_data.filter(lambda p: p.label==0.0 and pulr.predict(p.features)==0 and p.features[-1] != 0)"
   ]
  },
  {
   "cell_type": "code",
   "execution_count": 127,
   "metadata": {
    "collapsed": false
   },
   "outputs": [
    {
     "data": {
      "text/plain": [
       "5228"
      ]
     },
     "execution_count": 127,
     "metadata": {},
     "output_type": "execute_result"
    }
   ],
   "source": [
    "filter_data.count()"
   ]
  },
  {
   "cell_type": "code",
   "execution_count": 128,
   "metadata": {
    "collapsed": false
   },
   "outputs": [
    {
     "data": {
      "text/plain": [
       "[LabeledPoint(0.0, [0.0,0.0,0.0,0.0,0.0,0.0,0.0,0.0,0.0,0.0,0.0,0.0,0.0,0.0,0.0,0.0,0.0,0.0,0.0,0.0,0.0,0.0,0.0,0.0,0.0,0.0,0.0,0.0,0.0,0.0,0.0,0.0,0.0,0.0,0.0,0.0,0.0,0.0,0.0,0.0,0.0,0.0,0.0,0.0,0.0,0.0,0.0,0.0,0.0,0.0,0.0,0.0,0.0,0.0,0.0,0.0,0.0,0.0,0.0,1.0,0.0,0.0,0.0,1.0,2.0,1.0,3.0,0.0,0.0,0.0,12.0,0.0,0.0,4.0,0.0,18.0,0.0,0.0,1.0,9.0,2.0,7.0,14.0,104.0,46.0,22.0,0.0,0.0,0.0,0.0,0.0,0.0,0.0,0.0,0.0,2375.0,0.0,0.0,0.0,0.0,0.0,0.0,0.0,0.0,0.0,0.0,0.0,0.0,0.0,0.0,0.0,0.0,0.0,0.0,0.0,0.0,0.0,0.0,0.0,0.0,0.0,0.0,0.0,0.0,0.0,0.0,0.0,0.0,0.0,0.0,0.0,0.0,2375.0,0.0,0.0,0.0,0.0,0.0,0.0,0.0,0.0,0.0,92.0,50.0,52.0,30.0,31.0,39.0,58.0,69.0,103.0,138.0,121.0,131.0,154.0,94.0,119.0,114.0,112.0,160.0,129.0,102.0,114.0,136.0,102.0,125.0,17.0,57.0,116924.0,310.0,309.0,382.0,833.0,2140123.0,4745.0,3555.0]),\n",
       " LabeledPoint(0.0, [0.0,0.0,0.0,0.0,0.0,0.0,0.0,0.0,0.0,0.0,0.0,0.0,0.0,0.0,0.0,0.0,0.0,0.0,0.0,0.0,0.0,0.0,0.0,0.0,0.0,0.0,0.0,0.0,0.0,0.0,0.0,0.0,0.0,1.0,0.0,0.0,0.0,0.0,0.0,0.0,0.0,0.0,0.0,0.0,0.0,0.0,0.0,0.0,0.0,0.0,0.0,0.0,0.0,0.0,0.0,0.0,0.0,0.0,0.0,0.0,0.0,0.0,0.0,3.0,2.0,0.0,0.0,0.0,0.0,0.0,84.0,833.0,632.0,441.0,521.0,26.0,9.0,461.0,644.0,361.0,304.0,198.0,601.0,420.0,373.0,7.0,19.0,0.0,0.0,0.0,0.0,0.0,2390.0,0.0,0.0,55.0,0.0,0.0,0.0,0.0,0.0,0.0,0.0,0.0,0.0,0.0,0.0,0.0,0.0,0.0,0.0,0.0,0.0,0.0,0.0,0.0,0.0,0.0,0.0,0.0,0.0,0.0,0.0,2390.0,0.0,0.0,0.0,0.0,0.0,0.0,0.0,0.0,55.0,0.0,0.0,0.0,0.0,0.0,0.0,0.0,0.0,0.0,181.0,59.0,33.0,7.0,8.0,5.0,22.0,125.0,63.0,108.0,337.0,82.0,85.0,64.0,48.0,116.0,87.0,94.0,210.0,110.0,150.0,138.0,91.0,222.0,33.0,1625.0,2530426.0,7428.0,6131.0,211.0,907.0,6066842.0,13129.0,15631.0])]"
      ]
     },
     "execution_count": 128,
     "metadata": {},
     "output_type": "execute_result"
    }
   ],
   "source": [
    "filter_data.take(2)"
   ]
  },
  {
   "cell_type": "code",
   "execution_count": 129,
   "metadata": {
    "collapsed": true
   },
   "outputs": [],
   "source": [
    "filter_data_features = filter_data.map(lambda p: p.features).collect()"
   ]
  },
  {
   "cell_type": "code",
   "execution_count": 130,
   "metadata": {
    "collapsed": false
   },
   "outputs": [
    {
     "data": {
      "text/plain": [
       "5228"
      ]
     },
     "execution_count": 130,
     "metadata": {},
     "output_type": "execute_result"
    }
   ],
   "source": [
    "len(filter_data_features)"
   ]
  },
  {
   "cell_type": "code",
   "execution_count": 131,
   "metadata": {
    "collapsed": true
   },
   "outputs": [],
   "source": [
    "pulr.clearThreshold()"
   ]
  },
  {
   "cell_type": "code",
   "execution_count": 132,
   "metadata": {
    "collapsed": true
   },
   "outputs": [],
   "source": [
    "probs = pulr.predict(sc.parallelize(filter_data_features)).collect()"
   ]
  },
  {
   "cell_type": "code",
   "execution_count": 133,
   "metadata": {
    "collapsed": false
   },
   "outputs": [
    {
     "name": "stdout",
     "output_type": "stream",
     "text": [
      "5228 [0.3125792659406652, 0.0957220706459546, 0.28150147338129455]\n"
     ]
    }
   ],
   "source": [
    "print(len(probs), probs[:3])"
   ]
  },
  {
   "cell_type": "code",
   "execution_count": 134,
   "metadata": {
    "collapsed": false
   },
   "outputs": [
    {
     "name": "stdout",
     "output_type": "stream",
     "text": [
      "8.0545225660964e-06 0.49985779660426866 0.3055247133897707\n"
     ]
    }
   ],
   "source": [
    "print(min(probs), max(probs), sum(probs)/len(probs))"
   ]
  },
  {
   "cell_type": "code",
   "execution_count": 147,
   "metadata": {
    "collapsed": true
   },
   "outputs": [],
   "source": [
    "asa = pu_test_data.filter(lambda p: pulr.predict(p.features) > max(probs) and pulr.predict(p.features)<0.5 and p.features[-1] == 0)"
   ]
  },
  {
   "cell_type": "code",
   "execution_count": 148,
   "metadata": {
    "collapsed": false
   },
   "outputs": [
    {
     "data": {
      "text/plain": [
       "0"
      ]
     },
     "execution_count": 148,
     "metadata": {},
     "output_type": "execute_result"
    }
   ],
   "source": [
    "asa.count()"
   ]
  },
  {
   "cell_type": "code",
   "execution_count": 137,
   "metadata": {
    "collapsed": false
   },
   "outputs": [
    {
     "data": {
      "text/plain": [
       "[LabeledPoint(0.0, [0.0,0.0,0.0,0.0,0.0,0.0,0.0,0.0,0.0,0.0,0.0,0.0,0.0,0.0,0.0,0.0,0.0,0.0,0.0,0.0,0.0,0.0,0.0,0.0,0.0,0.0,0.0,0.0,0.0,0.0,0.0,0.0,0.0,0.0,0.0,0.0,0.0,0.0,0.0,0.0,0.0,1.0,0.0,0.0,0.0,0.0,0.0,0.0,0.0,0.0,0.0,0.0,0.0,0.0,0.0,0.0,0.0,0.0,0.0,0.0,0.0,0.0,0.0,0.0,0.0,0.0,0.0,0.0,0.0,0.0,0.0,0.0,0.0,4.0,0.0,0.0,27.0,68.0,68.0,4.0,0.0,0.0,0.0,18.0,0.0,0.0,2.0,0.0,0.0,0.0,0.0,0.0,0.0,0.0,0.0,3.0,0.0,0.0,0.0,0.0,0.0,0.0,0.0,0.0,0.0,0.0,0.0,0.0,0.0,0.0,0.0,0.0,0.0,0.0,0.0,0.0,0.0,0.0,0.0,0.0,0.0,0.0,0.0,0.0,0.0,0.0,0.0,0.0,0.0,0.0,0.0,0.0,3.0,0.0,0.0,0.0,0.0,0.0,0.0,0.0,0.0,0.0,0.0,0.0,0.0,0.0,0.0,0.0,0.0,0.0,0.0,0.0,0.0,0.0,0.0,0.0,0.0,1.0,2.0,0.0,0.0,0.0,0.0,0.0,0.0,0.0,0.0,0.0,0.0,0.0,0.0,0.0,0.0,0.0,0.0,0.0]),\n",
       " LabeledPoint(0.0, [0.0,0.0,0.0,0.0,0.0,0.0,0.0,0.0,0.0,0.0,0.0,0.0,0.0,0.0,0.0,1.0,0.0,0.0,0.0,0.0,0.0,0.0,0.0,0.0,0.0,0.0,0.0,0.0,0.0,0.0,0.0,0.0,0.0,0.0,0.0,0.0,0.0,0.0,0.0,0.0,0.0,0.0,0.0,0.0,0.0,0.0,0.0,0.0,0.0,0.0,0.0,0.0,0.0,0.0,0.0,0.0,0.0,0.0,0.0,0.0,0.0,0.0,0.0,0.0,0.0,0.0,0.0,0.0,0.0,0.0,0.0,17.0,25.0,5.0,3.0,3.0,22.0,1.0,0.0,0.0,0.0,0.0,0.0,0.0,0.0,0.0,0.0,1054.0,2945.0,0.0,0.0,2.0,3254.0,29408.0,4.0,233257.0,6.0,3622.0,3726.0,8426.0,41.0,3.0,0.0,0.0,0.0,146.0,228556.0,7281.0,0.0,0.0,41.0,2.0,3.0,6.0,21112.0,1.0,0.0,0.0,357.0,321.0,3215.0,7972.0,3616.0,3253.0,4.0,1054.0,6.0,0.0,2.0,0.0,1145.0,1.0,10.0,2943.0,0.0,2.0,1.0,3.0,0.0,4687.0,2.0,0.0,11175.0,6593.0,5246.0,4881.0,4500.0,5821.0,6604.0,12273.0,13294.0,13905.0,14239.0,13537.0,13822.0,13977.0,12947.0,11062.0,12050.0,14237.0,14255.0,15301.0,16393.0,16603.0,16652.0,16378.0,0.0,0.0,0.0,0.0,0.0,0.0,0.0,0.0,0.0,0.0]),\n",
       " LabeledPoint(0.0, [0.0,0.0,0.0,0.0,0.0,0.0,0.0,0.0,0.0,0.0,0.0,0.0,0.0,0.0,0.0,0.0,0.0,0.0,0.0,0.0,0.0,0.0,0.0,0.0,0.0,1.0,0.0,0.0,0.0,0.0,0.0,0.0,0.0,0.0,0.0,0.0,0.0,0.0,0.0,0.0,0.0,0.0,0.0,0.0,0.0,0.0,0.0,0.0,0.0,0.0,0.0,0.0,0.0,0.0,0.0,0.0,0.0,0.0,0.0,0.0,0.0,0.0,0.0,0.0,0.0,0.0,0.0,0.0,0.0,0.0,0.0,1.0,1.0,0.0,0.0,7.0,13.0,0.0,8.0,1.0,0.0,1.0,12.0,9.0,17.0,6.0,0.0,0.0,0.0,0.0,0.0,0.0,0.0,107368.0,0.0,358.0,0.0,0.0,0.0,14.0,0.0,0.0,0.0,0.0,0.0,0.0,0.0,14.0,0.0,0.0,0.0,0.0,0.0,0.0,107368.0,0.0,0.0,0.0,0.0,0.0,0.0,0.0,0.0,0.0,0.0,0.0,0.0,0.0,0.0,0.0,0.0,0.0,358.0,0.0,0.0,0.0,0.0,0.0,0.0,0.0,0.0,0.0,2918.0,1895.0,1559.0,1227.0,1173.0,1218.0,2186.0,3875.0,5260.0,5597.0,5913.0,6167.0,5713.0,5760.0,5842.0,5805.0,5818.0,6271.0,6378.0,6173.0,6043.0,5785.0,5220.0,3944.0,0.0,0.0,0.0,0.0,0.0,0.0,0.0,0.0,0.0,0.0])]"
      ]
     },
     "execution_count": 137,
     "metadata": {},
     "output_type": "execute_result"
    }
   ],
   "source": [
    "asa.take(3)"
   ]
  },
  {
   "cell_type": "code",
   "execution_count": null,
   "metadata": {
    "collapsed": true
   },
   "outputs": [],
   "source": []
  },
  {
   "cell_type": "code",
   "execution_count": null,
   "metadata": {
    "collapsed": true
   },
   "outputs": [],
   "source": []
  },
  {
   "cell_type": "code",
   "execution_count": null,
   "metadata": {
    "collapsed": true
   },
   "outputs": [],
   "source": []
  },
  {
   "cell_type": "code",
   "execution_count": null,
   "metadata": {
    "collapsed": true
   },
   "outputs": [],
   "source": []
  },
  {
   "cell_type": "code",
   "execution_count": null,
   "metadata": {
    "collapsed": true
   },
   "outputs": [],
   "source": []
  },
  {
   "cell_type": "code",
   "execution_count": null,
   "metadata": {
    "collapsed": true
   },
   "outputs": [],
   "source": []
  },
  {
   "cell_type": "code",
   "execution_count": null,
   "metadata": {
    "collapsed": true
   },
   "outputs": [],
   "source": []
  },
  {
   "cell_type": "code",
   "execution_count": null,
   "metadata": {
    "collapsed": true
   },
   "outputs": [],
   "source": []
  },
  {
   "cell_type": "code",
   "execution_count": null,
   "metadata": {
    "collapsed": true
   },
   "outputs": [],
   "source": []
  },
  {
   "cell_type": "code",
   "execution_count": null,
   "metadata": {
    "collapsed": true
   },
   "outputs": [],
   "source": []
  },
  {
   "cell_type": "code",
   "execution_count": 248,
   "metadata": {
    "collapsed": true
   },
   "outputs": [],
   "source": [
    "lr_pred1to0_data = pu_test_data.filter(lambda p: p.label==1.0 and pulr.predict(p.features)==0)\n",
    "lr_pred0to1_data = pu_test_data.filter(lambda p: p.label==0.0 and pulr.predict(p.features)==1)"
   ]
  },
  {
   "cell_type": "code",
   "execution_count": 249,
   "metadata": {
    "collapsed": false
   },
   "outputs": [
    {
     "name": "stdout",
     "output_type": "stream",
     "text": [
      "16883 13720\n"
     ]
    }
   ],
   "source": [
    "print(lr_pred1to0_data.count(), lr_pred0to1_data.count())"
   ]
  },
  {
   "cell_type": "code",
   "execution_count": 250,
   "metadata": {
    "collapsed": false
   },
   "outputs": [
    {
     "data": {
      "text/plain": [
       "[LabeledPoint(1.0, [0.0,0.0,0.0,0.0,0.0,0.0,0.0,0.0,0.0,0.0,0.0,0.0,0.0,0.0,0.0,0.0,0.0,0.0,0.0,0.0,0.0,0.0,0.0,0.0,0.0,0.0,0.0,0.0,0.0,0.0,0.0,0.0,0.0,0.0,0.0,1.0,0.0,0.0,0.0,0.0,0.0,0.0,0.0,0.0,0.0,0.0,0.0,0.0,0.0,0.0,0.0,0.0,0.0,0.0,0.0,0.0,0.0,0.0,0.0,0.0,0.0,0.0,0.0,7.0,16.0,12.0,15.0,10.0,13.0,3.0,15.0,78.0,64.0,19.0,8.0,4.0,16.0,6.0,5.0,3.0,13.0,10.0,0.0,4.0,24.0,97.0,11.0,0.0,0.0,0.0,0.0,0.0,0.0,0.0,0.0,153.0,0.0,0.0,0.0,0.0,0.0,0.0,0.0,0.0,0.0,0.0,0.0,0.0,0.0,0.0,0.0,0.0,0.0,0.0,0.0,0.0,0.0,0.0,0.0,0.0,0.0,0.0,0.0,0.0,0.0,0.0,0.0,0.0,0.0,0.0,0.0,0.0,153.0,0.0,0.0,0.0,0.0,0.0,0.0,0.0,0.0,0.0,3.0,6.0,1.0,0.0,0.0,1.0,0.0,1.0,5.0,7.0,9.0,1.0,3.0,3.0,17.0,24.0,25.0,4.0,19.0,0.0,7.0,3.0,9.0,5.0,10.0,80.0,271678.0,334.0,379.0,22.0,76.0,280792.0,294.0,234.0]),\n",
       " LabeledPoint(1.0, [0.0,0.0,0.0,0.0,0.0,0.0,0.0,0.0,0.0,0.0,0.0,0.0,0.0,0.0,0.0,0.0,0.0,0.0,0.0,0.0,0.0,0.0,0.0,0.0,0.0,0.0,0.0,0.0,0.0,0.0,0.0,0.0,0.0,1.0,0.0,0.0,0.0,0.0,0.0,0.0,0.0,0.0,0.0,0.0,0.0,0.0,0.0,0.0,0.0,0.0,0.0,0.0,0.0,0.0,0.0,0.0,0.0,0.0,0.0,0.0,0.0,0.0,0.0,2.0,4.0,0.0,0.0,0.0,0.0,6.0,3.0,6.0,28.0,18.0,45.0,7.0,14.0,14.0,20.0,5.0,26.0,3.0,10.0,8.0,23.0,29.0,3.0,0.0,0.0,0.0,0.0,0.0,0.0,439.0,0.0,5.0,0.0,0.0,0.0,0.0,0.0,0.0,0.0,0.0,0.0,0.0,0.0,0.0,0.0,0.0,0.0,0.0,0.0,0.0,439.0,0.0,0.0,0.0,0.0,0.0,0.0,0.0,0.0,0.0,0.0,0.0,0.0,0.0,0.0,0.0,0.0,0.0,5.0,0.0,0.0,0.0,0.0,0.0,0.0,0.0,0.0,0.0,28.0,11.0,17.0,5.0,7.0,5.0,3.0,44.0,20.0,13.0,25.0,14.0,25.0,15.0,13.0,28.0,17.0,13.0,21.0,34.0,24.0,33.0,15.0,14.0,11.0,110.0,296893.0,740.0,564.0,32.0,151.0,521785.0,801.0,782.0])]"
      ]
     },
     "execution_count": 250,
     "metadata": {},
     "output_type": "execute_result"
    }
   ],
   "source": [
    "lr_pred1to0_data.take(2)"
   ]
  },
  {
   "cell_type": "code",
   "execution_count": 251,
   "metadata": {
    "collapsed": true
   },
   "outputs": [],
   "source": [
    "lr_pred1to0_data_features = lr_pred1to0_data.map(lambda p: p.features).collect()\n",
    "lr_pred0to1_data_features = lr_pred0to1_data.map(lambda p: p.features).collect()"
   ]
  },
  {
   "cell_type": "code",
   "execution_count": 252,
   "metadata": {
    "collapsed": false
   },
   "outputs": [
    {
     "data": {
      "text/plain": [
       "[DenseVector([0.0, 0.0, 0.0, 0.0, 0.0, 0.0, 0.0, 0.0, 0.0, 0.0, 0.0, 0.0, 0.0, 0.0, 0.0, 0.0, 0.0, 0.0, 0.0, 0.0, 0.0, 0.0, 0.0, 0.0, 0.0, 0.0, 0.0, 0.0, 0.0, 0.0, 0.0, 0.0, 0.0, 0.0, 0.0, 1.0, 0.0, 0.0, 0.0, 0.0, 0.0, 0.0, 0.0, 0.0, 0.0, 0.0, 0.0, 0.0, 0.0, 0.0, 0.0, 0.0, 0.0, 0.0, 0.0, 0.0, 0.0, 0.0, 0.0, 0.0, 0.0, 0.0, 0.0, 7.0, 16.0, 12.0, 15.0, 10.0, 13.0, 3.0, 15.0, 78.0, 64.0, 19.0, 8.0, 4.0, 16.0, 6.0, 5.0, 3.0, 13.0, 10.0, 0.0, 4.0, 24.0, 97.0, 11.0, 0.0, 0.0, 0.0, 0.0, 0.0, 0.0, 0.0, 0.0, 153.0, 0.0, 0.0, 0.0, 0.0, 0.0, 0.0, 0.0, 0.0, 0.0, 0.0, 0.0, 0.0, 0.0, 0.0, 0.0, 0.0, 0.0, 0.0, 0.0, 0.0, 0.0, 0.0, 0.0, 0.0, 0.0, 0.0, 0.0, 0.0, 0.0, 0.0, 0.0, 0.0, 0.0, 0.0, 0.0, 0.0, 153.0, 0.0, 0.0, 0.0, 0.0, 0.0, 0.0, 0.0, 0.0, 0.0, 3.0, 6.0, 1.0, 0.0, 0.0, 1.0, 0.0, 1.0, 5.0, 7.0, 9.0, 1.0, 3.0, 3.0, 17.0, 24.0, 25.0, 4.0, 19.0, 0.0, 7.0, 3.0, 9.0, 5.0, 10.0, 80.0, 271678.0, 334.0, 379.0, 22.0, 76.0, 280792.0, 294.0, 234.0]),\n",
       " DenseVector([0.0, 0.0, 0.0, 0.0, 0.0, 0.0, 0.0, 0.0, 0.0, 0.0, 0.0, 0.0, 0.0, 0.0, 0.0, 0.0, 0.0, 0.0, 0.0, 0.0, 0.0, 0.0, 0.0, 0.0, 0.0, 0.0, 0.0, 0.0, 0.0, 0.0, 0.0, 0.0, 0.0, 1.0, 0.0, 0.0, 0.0, 0.0, 0.0, 0.0, 0.0, 0.0, 0.0, 0.0, 0.0, 0.0, 0.0, 0.0, 0.0, 0.0, 0.0, 0.0, 0.0, 0.0, 0.0, 0.0, 0.0, 0.0, 0.0, 0.0, 0.0, 0.0, 0.0, 2.0, 4.0, 0.0, 0.0, 0.0, 0.0, 6.0, 3.0, 6.0, 28.0, 18.0, 45.0, 7.0, 14.0, 14.0, 20.0, 5.0, 26.0, 3.0, 10.0, 8.0, 23.0, 29.0, 3.0, 0.0, 0.0, 0.0, 0.0, 0.0, 0.0, 439.0, 0.0, 5.0, 0.0, 0.0, 0.0, 0.0, 0.0, 0.0, 0.0, 0.0, 0.0, 0.0, 0.0, 0.0, 0.0, 0.0, 0.0, 0.0, 0.0, 0.0, 439.0, 0.0, 0.0, 0.0, 0.0, 0.0, 0.0, 0.0, 0.0, 0.0, 0.0, 0.0, 0.0, 0.0, 0.0, 0.0, 0.0, 0.0, 5.0, 0.0, 0.0, 0.0, 0.0, 0.0, 0.0, 0.0, 0.0, 0.0, 28.0, 11.0, 17.0, 5.0, 7.0, 5.0, 3.0, 44.0, 20.0, 13.0, 25.0, 14.0, 25.0, 15.0, 13.0, 28.0, 17.0, 13.0, 21.0, 34.0, 24.0, 33.0, 15.0, 14.0, 11.0, 110.0, 296893.0, 740.0, 564.0, 32.0, 151.0, 521785.0, 801.0, 782.0])]"
      ]
     },
     "execution_count": 252,
     "metadata": {},
     "output_type": "execute_result"
    }
   ],
   "source": [
    "lr_pred1to0_data_features[:2]"
   ]
  },
  {
   "cell_type": "code",
   "execution_count": 253,
   "metadata": {
    "collapsed": false
   },
   "outputs": [
    {
     "data": {
      "text/plain": [
       "16883"
      ]
     },
     "execution_count": 253,
     "metadata": {},
     "output_type": "execute_result"
    }
   ],
   "source": [
    "len(lr_pred1to0_data_features)"
   ]
  },
  {
   "cell_type": "code",
   "execution_count": 254,
   "metadata": {
    "collapsed": true
   },
   "outputs": [],
   "source": [
    "pulr.clearThreshold()"
   ]
  },
  {
   "cell_type": "code",
   "execution_count": 272,
   "metadata": {
    "collapsed": true
   },
   "outputs": [],
   "source": [
    "lr_pred1to0_data_Prob = sc.parallelize(lr_pred1to0_data_features).map(lambda x: (pulr.predict(x), x))\n",
    "lr_pred0to1_data_Prob = sc.parallelize(lr_pred0to1_data_features).map(lambda x: (pulr.predict(x), x))"
   ]
  },
  {
   "cell_type": "code",
   "execution_count": 264,
   "metadata": {
    "collapsed": false
   },
   "outputs": [
    {
     "data": {
      "text/plain": [
       "[(0.08435131126792532,\n",
       "  DenseVector([0.0, 0.0, 0.0, 0.0, 0.0, 0.0, 0.0, 0.0, 0.0, 0.0, 0.0, 0.0, 0.0, 0.0, 0.0, 0.0, 0.0, 0.0, 0.0, 0.0, 0.0, 0.0, 0.0, 0.0, 0.0, 0.0, 0.0, 0.0, 0.0, 0.0, 0.0, 0.0, 0.0, 0.0, 0.0, 1.0, 0.0, 0.0, 0.0, 0.0, 0.0, 0.0, 0.0, 0.0, 0.0, 0.0, 0.0, 0.0, 0.0, 0.0, 0.0, 0.0, 0.0, 0.0, 0.0, 0.0, 0.0, 0.0, 0.0, 0.0, 0.0, 0.0, 0.0, 7.0, 16.0, 12.0, 15.0, 10.0, 13.0, 3.0, 15.0, 78.0, 64.0, 19.0, 8.0, 4.0, 16.0, 6.0, 5.0, 3.0, 13.0, 10.0, 0.0, 4.0, 24.0, 97.0, 11.0, 0.0, 0.0, 0.0, 0.0, 0.0, 0.0, 0.0, 0.0, 153.0, 0.0, 0.0, 0.0, 0.0, 0.0, 0.0, 0.0, 0.0, 0.0, 0.0, 0.0, 0.0, 0.0, 0.0, 0.0, 0.0, 0.0, 0.0, 0.0, 0.0, 0.0, 0.0, 0.0, 0.0, 0.0, 0.0, 0.0, 0.0, 0.0, 0.0, 0.0, 0.0, 0.0, 0.0, 0.0, 0.0, 153.0, 0.0, 0.0, 0.0, 0.0, 0.0, 0.0, 0.0, 0.0, 0.0, 3.0, 6.0, 1.0, 0.0, 0.0, 1.0, 0.0, 1.0, 5.0, 7.0, 9.0, 1.0, 3.0, 3.0, 17.0, 24.0, 25.0, 4.0, 19.0, 0.0, 7.0, 3.0, 9.0, 5.0, 10.0, 80.0, 271678.0, 334.0, 379.0, 22.0, 76.0, 280792.0, 294.0, 234.0])),\n",
       " (0.08508050936487402,\n",
       "  DenseVector([0.0, 0.0, 0.0, 0.0, 0.0, 0.0, 0.0, 0.0, 0.0, 0.0, 0.0, 0.0, 0.0, 0.0, 0.0, 0.0, 0.0, 0.0, 0.0, 0.0, 0.0, 0.0, 0.0, 0.0, 0.0, 0.0, 0.0, 0.0, 0.0, 0.0, 0.0, 0.0, 0.0, 1.0, 0.0, 0.0, 0.0, 0.0, 0.0, 0.0, 0.0, 0.0, 0.0, 0.0, 0.0, 0.0, 0.0, 0.0, 0.0, 0.0, 0.0, 0.0, 0.0, 0.0, 0.0, 0.0, 0.0, 0.0, 0.0, 0.0, 0.0, 0.0, 0.0, 2.0, 4.0, 0.0, 0.0, 0.0, 0.0, 6.0, 3.0, 6.0, 28.0, 18.0, 45.0, 7.0, 14.0, 14.0, 20.0, 5.0, 26.0, 3.0, 10.0, 8.0, 23.0, 29.0, 3.0, 0.0, 0.0, 0.0, 0.0, 0.0, 0.0, 439.0, 0.0, 5.0, 0.0, 0.0, 0.0, 0.0, 0.0, 0.0, 0.0, 0.0, 0.0, 0.0, 0.0, 0.0, 0.0, 0.0, 0.0, 0.0, 0.0, 0.0, 439.0, 0.0, 0.0, 0.0, 0.0, 0.0, 0.0, 0.0, 0.0, 0.0, 0.0, 0.0, 0.0, 0.0, 0.0, 0.0, 0.0, 0.0, 5.0, 0.0, 0.0, 0.0, 0.0, 0.0, 0.0, 0.0, 0.0, 0.0, 28.0, 11.0, 17.0, 5.0, 7.0, 5.0, 3.0, 44.0, 20.0, 13.0, 25.0, 14.0, 25.0, 15.0, 13.0, 28.0, 17.0, 13.0, 21.0, 34.0, 24.0, 33.0, 15.0, 14.0, 11.0, 110.0, 296893.0, 740.0, 564.0, 32.0, 151.0, 521785.0, 801.0, 782.0]))]"
      ]
     },
     "execution_count": 264,
     "metadata": {},
     "output_type": "execute_result"
    }
   ],
   "source": [
    "lr_pred1to0_data_Prob.take(2)"
   ]
  },
  {
   "cell_type": "code",
   "execution_count": 258,
   "metadata": {
    "collapsed": false
   },
   "outputs": [
    {
     "data": {
      "text/plain": [
       "[(0.941271771554098,\n",
       "  DenseVector([0.0, 0.0, 0.0, 0.0, 0.0, 0.0, 0.0, 0.0, 0.0, 0.0, 0.0, 0.0, 0.0, 0.0, 0.0, 0.0, 1.0, 0.0, 0.0, 0.0, 0.0, 0.0, 0.0, 0.0, 0.0, 0.0, 0.0, 0.0, 0.0, 0.0, 0.0, 0.0, 0.0, 0.0, 0.0, 0.0, 0.0, 0.0, 0.0, 0.0, 0.0, 0.0, 0.0, 0.0, 0.0, 0.0, 0.0, 0.0, 0.0, 0.0, 0.0, 0.0, 0.0, 0.0, 0.0, 0.0, 0.0, 0.0, 0.0, 0.0, 0.0, 0.0, 0.0, 9.0, 6.0, 1.0, 1.0, 4.0, 26.0, 2.0, 2.0, 20.0, 42.0, 12.0, 14.0, 13.0, 14.0, 11.0, 13.0, 1.0, 37.0, 10.0, 37.0, 30.0, 75.0, 22.0, 1.0, 0.0, 0.0, 0.0, 0.0, 0.0, 0.0, 51.0, 0.0, 12784.0, 0.0, 0.0, 0.0, 6.0, 0.0, 0.0, 0.0, 0.0, 0.0, 0.0, 0.0, 6.0, 0.0, 0.0, 0.0, 0.0, 0.0, 0.0, 0.0, 0.0, 0.0, 0.0, 0.0, 51.0, 0.0, 0.0, 0.0, 0.0, 0.0, 0.0, 0.0, 0.0, 0.0, 0.0, 0.0, 0.0, 12784.0, 0.0, 0.0, 0.0, 0.0, 0.0, 0.0, 0.0, 0.0, 0.0, 926.0, 402.0, 183.0, 155.0, 54.0, 39.0, 136.0, 542.0, 469.0, 685.0, 565.0, 458.0, 534.0, 397.0, 480.0, 521.0, 554.0, 497.0, 717.0, 875.0, 616.0, 802.0, 921.0, 1313.0, 41.0, 177.0, 367863.0, 929.0, 852.0, 433.0, 4082.0, 24779670.0, 26288.0, 21007.0])),\n",
       " (0.9168651310042781,\n",
       "  DenseVector([0.0, 0.0, 0.0, 0.0, 0.0, 0.0, 0.0, 0.0, 0.0, 0.0, 0.0, 0.0, 0.0, 0.0, 0.0, 0.0, 0.0, 0.0, 0.0, 0.0, 0.0, 0.0, 0.0, 0.0, 0.0, 0.0, 0.0, 0.0, 0.0, 0.0, 0.0, 0.0, 0.0, 1.0, 0.0, 0.0, 0.0, 0.0, 0.0, 0.0, 0.0, 0.0, 0.0, 0.0, 0.0, 0.0, 0.0, 0.0, 0.0, 0.0, 0.0, 0.0, 0.0, 0.0, 0.0, 0.0, 0.0, 0.0, 0.0, 0.0, 0.0, 0.0, 0.0, 355.0, 77.0, 11.0, 24.0, 0.0, 0.0, 0.0, 9.0, 0.0, 0.0, 0.0, 118.0, 43.0, 22.0, 3.0, 80.0, 67.0, 21.0, 74.0, 118.0, 31.0, 29.0, 27.0, 13.0, 0.0, 0.0, 0.0, 0.0, 0.0, 0.0, 17.0, 0.0, 1035.0, 0.0, 0.0, 0.0, 0.0, 0.0, 0.0, 0.0, 0.0, 0.0, 0.0, 0.0, 0.0, 0.0, 0.0, 0.0, 0.0, 0.0, 0.0, 0.0, 0.0, 0.0, 0.0, 0.0, 17.0, 0.0, 0.0, 0.0, 0.0, 0.0, 0.0, 0.0, 0.0, 0.0, 0.0, 0.0, 0.0, 1035.0, 0.0, 0.0, 0.0, 0.0, 0.0, 0.0, 0.0, 0.0, 0.0, 53.0, 27.0, 15.0, 2.0, 8.0, 24.0, 9.0, 45.0, 28.0, 51.0, 39.0, 41.0, 73.0, 69.0, 34.0, 47.0, 43.0, 61.0, 75.0, 71.0, 58.0, 80.0, 44.0, 55.0, 51.0, 346.0, 2605144.0, 2576.0, 2102.0, 138.0, 423.0, 2365580.0, 2807.0, 2719.0])),\n",
       " (0.6187773370589037,\n",
       "  DenseVector([0.0, 0.0, 0.0, 0.0, 0.0, 0.0, 0.0, 0.0, 0.0, 0.0, 0.0, 0.0, 0.0, 0.0, 0.0, 0.0, 0.0, 0.0, 0.0, 0.0, 0.0, 0.0, 0.0, 0.0, 0.0, 0.0, 0.0, 0.0, 0.0, 0.0, 0.0, 0.0, 0.0, 1.0, 0.0, 0.0, 0.0, 0.0, 0.0, 0.0, 0.0, 0.0, 0.0, 0.0, 0.0, 0.0, 0.0, 0.0, 0.0, 0.0, 0.0, 0.0, 0.0, 0.0, 0.0, 0.0, 0.0, 0.0, 0.0, 0.0, 0.0, 0.0, 0.0, 0.0, 0.0, 0.0, 0.0, 0.0, 0.0, 0.0, 0.0, 0.0, 2.0, 3.0, 8.0, 36.0, 18.0, 17.0, 1.0, 33.0, 3.0, 7.0, 0.0, 0.0, 47.0, 0.0, 0.0, 0.0, 1.0, 0.0, 0.0, 0.0, 0.0, 87573.0, 0.0, 668.0, 0.0, 1.0, 0.0, 9.0, 0.0, 0.0, 0.0, 0.0, 0.0, 0.0, 0.0, 9.0, 0.0, 0.0, 0.0, 0.0, 0.0, 1.0, 87573.0, 0.0, 0.0, 1.0, 0.0, 0.0, 0.0, 0.0, 0.0, 0.0, 0.0, 0.0, 0.0, 0.0, 0.0, 0.0, 0.0, 0.0, 668.0, 0.0, 0.0, 0.0, 0.0, 0.0, 0.0, 0.0, 0.0, 0.0, 2434.0, 1474.0, 1193.0, 929.0, 803.0, 996.0, 1738.0, 3368.0, 4181.0, 4963.0, 4898.0, 4888.0, 4747.0, 4870.0, 4815.0, 4787.0, 4832.0, 4954.0, 4751.0, 4954.0, 4990.0, 4638.0, 4467.0, 3582.0, 13.0, 25.0, 27248.0, 102.0, 98.0, 2612.0, 29573.0, 76969374.0, 147879.0, 141772.0]))]"
      ]
     },
     "execution_count": 258,
     "metadata": {},
     "output_type": "execute_result"
    }
   ],
   "source": [
    "lr_pred0to1_data_Prob.take(3)"
   ]
  },
  {
   "cell_type": "code",
   "execution_count": 265,
   "metadata": {
    "collapsed": false
   },
   "outputs": [
    {
     "data": {
      "text/plain": [
       "0"
      ]
     },
     "execution_count": 265,
     "metadata": {},
     "output_type": "execute_result"
    }
   ],
   "source": [
    "lr_pred1to0_data_Prob.filter(lambda x: x[-1] in train_pos_features.collect()[pnsplit:])"
   ]
  },
  {
   "cell_type": "code",
   "execution_count": 263,
   "metadata": {
    "collapsed": false
   },
   "outputs": [
    {
     "data": {
      "text/plain": [
       "True"
      ]
     },
     "execution_count": 263,
     "metadata": {},
     "output_type": "execute_result"
    }
   ],
   "source": []
  }
 ],
 "metadata": {
  "anaconda-cloud": {},
  "kernelspec": {
   "display_name": "Python [default]",
   "language": "python",
   "name": "python3"
  },
  "language_info": {
   "codemirror_mode": {
    "name": "ipython",
    "version": 3
   },
   "file_extension": ".py",
   "mimetype": "text/x-python",
   "name": "python",
   "nbconvert_exporter": "python",
   "pygments_lexer": "ipython3",
   "version": "3.5.2"
  }
 },
 "nbformat": 4,
 "nbformat_minor": 1
}
