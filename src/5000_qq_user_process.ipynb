{
 "cells": [
  {
   "cell_type": "code",
   "execution_count": 1,
   "metadata": {
    "collapsed": false
   },
   "outputs": [
    {
     "name": "stdout",
     "output_type": "stream",
     "text": [
      "['2013-12-28 23:40:34', '8613770773315', '111.30.132.39', 'web', 'wspeed.qq.com', 'qq', '-', '1087', '3', '3', '8', '2148', '-1']\r\n",
      "['2013-12-28 23:41:41', '8613770773315', '111.30.132.38', 'web', 'wspeed.qq.com', 'qq', '-', '1621', '5', '5', '8', '2148', '-1']\r\n",
      "['2013-12-28 23:43:52', '8613770773315', '111.30.132.39', 'web', 'wspeed.qq.com', 'qq', '-', '1140', '5', '5', '8', '2148', '-1']\r\n"
     ]
    }
   ],
   "source": [
    "!head -3 /media/jw/5dccc50e-7c13-4186-bf6b-d894f02410be/wbb/result/qq_5000_user_data/qq_5000_user_dpi/3days/20131228/part-19143"
   ]
  },
  {
   "cell_type": "raw",
   "metadata": {},
   "source": [
    "0:    2. 2013-12-28 02:56:08      记录时间，年月日时分秒\n",
    "1:    5. 8613851651044        用户账号/手机号\n",
    "2:    28. 111.30.132.34       服务器IP地址，点分十进制IP\n",
    "3:    34. web             业务类型，取值web/wap1/wap2/mms/txt等\n",
    "4:    36. isdspeed.qq.com     WEB/WAP请求HOST\n",
    "5:    37. qq              根据HOST提取的一级域名\n",
    "6:    41. Mozilla/5.0 (Linux; U; Android 4.2.1; zh-cn; Coolpad8720Q Build/JOP40D) AppleWebKit/534.30 (KHTML, like \n",
    "          Gecko) Version/4.0 Mobil    WEB/WAP请求User Agent \n",
    "7:    47. 2795            连接时长，即（流结束时间-流开始时间）\n",
    "8:    48. 10              上行报文数\n",
    "9:    49. 7               下行报文数\n",
    "10:   60. 8               大类业务ID\n",
    "11:   61. 2148            小类业务ID\n",
    "12:   78. 宇龙          终端厂家，UTF-8"
   ]
  },
  {
   "cell_type": "code",
   "execution_count": 1,
   "metadata": {
    "collapsed": true
   },
   "outputs": [],
   "source": [
    "# 过滤出需要用户和字段的三天数据\n",
    "qq_5000_user_dpi_day1_f = \"/media/jw/5dccc50e-7c13-4186-bf6b-d894f02410be/wbb/result/qq_5000_user_data/qq_5000_user_dpi/3days/20131228/part-*\"\n",
    "qq_5000_user_dpi_day2_f = \"/media/jw/5dccc50e-7c13-4186-bf6b-d894f02410be/wbb/result/qq_5000_user_data/qq_5000_user_dpi/3days/20131229/part-*\"\n",
    "qq_5000_user_dpi_day3_f = \"/media/jw/5dccc50e-7c13-4186-bf6b-d894f02410be/wbb/result/qq_5000_user_data/qq_5000_user_dpi/3days/20131230/part-*\"\n",
    "\n",
    "qq_5000_user_dpi_day4_f = \"/media/jw/5dccc50e-7c13-4186-bf6b-d894f02410be/wbb/result/qq_5000_user_data/qq_5000_user_dpi/20131231/part-*\"\n",
    "\n",
    "qq_5000_user_dpi_3days_f = \"/media/jw/5dccc50e-7c13-4186-bf6b-d894f02410be/wbb/result/qq_5000_user_data/qq_5000_user_dpi/3days/*/part-*\""
   ]
  },
  {
   "cell_type": "code",
   "execution_count": 2,
   "metadata": {
    "collapsed": false
   },
   "outputs": [],
   "source": [
    "qq_5000_user_dpi_day1 = sc.textFile(qq_5000_user_dpi_day1_f).coalesce(50)  # repartition\n",
    "qq_5000_user_dpi_day2 = sc.textFile(qq_5000_user_dpi_day2_f).coalesce(50)\n",
    "qq_5000_user_dpi_day3 = sc.textFile(qq_5000_user_dpi_day3_f).coalesce(50)\n",
    "\n",
    "qq_5000_user_dpi_day4 = sc.textFile(qq_5000_user_dpi_day4_f).coalesce(50)\n",
    "\n",
    "qq_5000_user_dpi = sc.textFile(qq_5000_user_dpi_3days_f).coalesce(50)  "
   ]
  },
  {
   "cell_type": "code",
   "execution_count": 3,
   "metadata": {
    "collapsed": false
   },
   "outputs": [
    {
     "data": {
      "text/plain": [
       "519545"
      ]
     },
     "execution_count": 3,
     "metadata": {},
     "output_type": "execute_result"
    }
   ],
   "source": [
    "qq_5000_user_dpi_day4.count()"
   ]
  },
  {
   "cell_type": "code",
   "execution_count": 4,
   "metadata": {
    "collapsed": false
   },
   "outputs": [
    {
     "data": {
      "text/plain": [
       "1670898"
      ]
     },
     "execution_count": 4,
     "metadata": {},
     "output_type": "execute_result"
    }
   ],
   "source": [
    "qq_5000_user_dpi.count()"
   ]
  },
  {
   "cell_type": "code",
   "execution_count": 5,
   "metadata": {
    "collapsed": false
   },
   "outputs": [
    {
     "data": {
      "text/plain": [
       "2190443"
      ]
     },
     "execution_count": 5,
     "metadata": {},
     "output_type": "execute_result"
    }
   ],
   "source": [
    "1670898+519545"
   ]
  },
  {
   "cell_type": "markdown",
   "metadata": {},
   "source": [
    "## qq_user_node"
   ]
  },
  {
   "cell_type": "markdown",
   "metadata": {},
   "source": [
    "### qq-server-ip"
   ]
  },
  {
   "cell_type": "code",
   "execution_count": 4,
   "metadata": {
    "collapsed": true
   },
   "outputs": [],
   "source": [
    "qq_server = qq_5000_user_dpi.map(lambda x: (eval(x)[2],1)).groupByKey().mapValues(len) "
   ]
  },
  {
   "cell_type": "code",
   "execution_count": 5,
   "metadata": {
    "collapsed": false
   },
   "outputs": [],
   "source": [
    "qq_server_ip = qq_server.map(lambda x: x[0])"
   ]
  },
  {
   "cell_type": "code",
   "execution_count": 6,
   "metadata": {
    "collapsed": false
   },
   "outputs": [
    {
     "data": {
      "text/plain": [
       "1684"
      ]
     },
     "execution_count": 6,
     "metadata": {},
     "output_type": "execute_result"
    }
   ],
   "source": [
    "qq_server_ip.count()  # 共有1684个server ip"
   ]
  },
  {
   "cell_type": "code",
   "execution_count": 7,
   "metadata": {
    "collapsed": false
   },
   "outputs": [
    {
     "data": {
      "text/plain": [
       "['14.17.19.77', '111.10.27.180', '111.30.132.109']"
      ]
     },
     "execution_count": 7,
     "metadata": {},
     "output_type": "execute_result"
    }
   ],
   "source": [
    "qq_server_ip.take(3)"
   ]
  },
  {
   "cell_type": "code",
   "execution_count": 10,
   "metadata": {
    "collapsed": true
   },
   "outputs": [],
   "source": [
    "# 将1684个qq server ip保存到文件\n",
    "# '14.17.19.77'\n",
    "qq_server_ip.coalesce(1).saveAsTextFile(\"/media/jw/5dccc50e-7c13-4186-bf6b-d894f02410be/wbb/result/qq_5000_user_data/server_ip_1684\")"
   ]
  },
  {
   "cell_type": "markdown",
   "metadata": {},
   "source": [
    "### qq-user-brand"
   ]
  },
  {
   "cell_type": "code",
   "execution_count": 77,
   "metadata": {
    "collapsed": false
   },
   "outputs": [],
   "source": [
    "# 5000个user的终端品牌。('8613851429132', {'������'})  # 总共有62个终端品牌\n",
    "user_brand_set = qq_5000_user_dpi.map(lambda x: (eval(x)[1], eval(x)[12])).groupByKey().mapValues(set)n"
   ]
  },
  {
   "cell_type": "code",
   "execution_count": 78,
   "metadata": {
    "collapsed": false
   },
   "outputs": [],
   "source": [
    "# 有67个用户存在两个以上终端(####取了其中一个作为其终端品牌？####)。('8613851429132', {'������'})\n",
    "user_brand = user_brand_set.map(lambda x: (x[0],list(x[1])[-1]))"
   ]
  },
  {
   "cell_type": "code",
   "execution_count": 80,
   "metadata": {
    "collapsed": false
   },
   "outputs": [],
   "source": [
    "# 将每个用户及其终端品牌保存到文件。\n",
    "# ('8613851429132', '������')\n",
    "user_brand.coalesce(1).saveAsTextFile(\"/media/jw/5dccc50e-7c13-4186-bf6b-d894f02410be/wbb/result/qq_5000_user_data/user_brand\")"
   ]
  },
  {
   "cell_type": "markdown",
   "metadata": {},
   "source": [
    "### user_active_time"
   ]
  },
  {
   "cell_type": "code",
   "execution_count": 74,
   "metadata": {
    "collapsed": false
   },
   "outputs": [],
   "source": [
    "user_active_time_3days = qq_5000_user_dpi.map(lambda x: (eval(x)[1],eval(x)[0][-8:-6])).groupByKey().mapValues(list)"
   ]
  },
  {
   "cell_type": "code",
   "execution_count": 75,
   "metadata": {
    "collapsed": false
   },
   "outputs": [
    {
     "name": "stdout",
     "output_type": "stream",
     "text": [
      "5000\n",
      "('8613851429132', ['14', '14', '14', '14', '14', '14', '14', '11', '11', '11', '11', '11', '11', '14', '12', '12', '14', '14', '14', '14', '12', '12', '11', '11', '11', '11', '20', '20', '20', '20', '20', '20', '20', '20', '19', '19', '19', '19', '19', '19', '19', '19', '19', '19', '19', '19', '19', '19', '19', '19', '19', '19', '19', '19', '19', '19', '19', '19', '19', '19', '19', '19', '19', '19', '19', '19', '19', '19', '19', '19', '19', '19', '19'])\n"
     ]
    }
   ],
   "source": [
    "print(user_active_time_3days.count())\n",
    "print(user_active_time_3days.take(3)[0])"
   ]
  },
  {
   "cell_type": "code",
   "execution_count": 76,
   "metadata": {
    "collapsed": false
   },
   "outputs": [],
   "source": [
    "from collections import Counter\n",
    "user_active_time_3days_hour = user_active_time_3days.map(lambda x: (x[0], dict(Counter(x[1]))))"
   ]
  },
  {
   "cell_type": "code",
   "execution_count": 77,
   "metadata": {
    "collapsed": false
   },
   "outputs": [
    {
     "name": "stdout",
     "output_type": "stream",
     "text": [
      "[('8613851429132', {'12': 4, '20': 8, '14': 12, '11': 10, '19': 39}), ('8615722826043', {'10': 1, '12': 1, '22': 2, '21': 20, '23': 3, '20': 32, '16': 3, '09': 1, '15': 5, '07': 20}), ('8615105191420', {'10': 10, '18': 2, '17': 6, '08': 30, '07': 24, '12': 1, '23': 36, '22': 13, '19': 1, '20': 13, '11': 26, '09': 25, '21': 62})]\n"
     ]
    }
   ],
   "source": [
    "print(user_active_time_3days_hour.take(3))"
   ]
  },
  {
   "cell_type": "code",
   "execution_count": 78,
   "metadata": {
    "collapsed": false
   },
   "outputs": [],
   "source": [
    "def time_feature(time_dict):\n",
    "    res = [0 for i in range(24)]\n",
    "    time_hour = ['00', '01', '02', '03', '04', '05', '06', '07', '08', '09', '10', '11', '12', '13', '14', '15', '16', '17', '18', '19', '20', '21', '22', '23']\n",
    "    for i in range(24):\n",
    "        res[i] = time_dict.get(time_hour[i],0)\n",
    "    return res"
   ]
  },
  {
   "cell_type": "code",
   "execution_count": 79,
   "metadata": {
    "collapsed": false
   },
   "outputs": [],
   "source": [
    "# user 的活跃时间。每行有24维，代表0-23每个小时的访问次数。\n",
    "user_active_time_3days_hour_list = user_active_time_3days_hour.map(lambda x: (x[0], time_feature(x[1])))"
   ]
  },
  {
   "cell_type": "code",
   "execution_count": 80,
   "metadata": {
    "collapsed": false
   },
   "outputs": [
    {
     "name": "stdout",
     "output_type": "stream",
     "text": [
      "[('8613851429132', [0, 0, 0, 0, 0, 0, 0, 0, 0, 0, 0, 10, 4, 0, 12, 0, 0, 0, 0, 39, 8, 0, 0, 0])]\n"
     ]
    }
   ],
   "source": [
    "print(user_active_time_3days_hour_list.take(1))"
   ]
  },
  {
   "cell_type": "code",
   "execution_count": 82,
   "metadata": {
    "collapsed": true
   },
   "outputs": [],
   "source": [
    "# 用户前三天每个小时的访问qq的次数总和.\n",
    "# [('8613851429132', [0, 0, 0, 0, 0, 0, 0, 0, 0, 0, 0, 10, 4, 0, 12, 0, 0, 0, 0, 39, 8, 0, 0, 0])]\n",
    "user_active_time_3days_hour_list.coalesce(1).saveAsTextFile(\"/media/jw/5dccc50e-7c13-4186-bf6b-d894f02410be/wbb/result/qq_5000_user_data/user_activetime\")"
   ]
  },
  {
   "cell_type": "code",
   "execution_count": null,
   "metadata": {
    "collapsed": true
   },
   "outputs": [],
   "source": []
  },
  {
   "cell_type": "markdown",
   "metadata": {},
   "source": [
    "### user_in_degree"
   ]
  },
  {
   "cell_type": "code",
   "execution_count": 7,
   "metadata": {
    "collapsed": true
   },
   "outputs": [],
   "source": [
    "# 三天连接qq服务器的总次数。in_degree or out_degree\n",
    "# ('8613851429132', 73)\n",
    "user_in_degree_3days = qq_5000_user_dpi.map(lambda x: (eval(x)[1], eval(x)[2])).groupByKey().mapValues(list).map(lambda x:(x[0],len(x[1])))"
   ]
  },
  {
   "cell_type": "code",
   "execution_count": 6,
   "metadata": {
    "collapsed": false
   },
   "outputs": [
    {
     "name": "stdout",
     "output_type": "stream",
     "text": [
      "('8613851429132', 73)\n"
     ]
    }
   ],
   "source": [
    "print(user_in_degree_3days.first())"
   ]
  },
  {
   "cell_type": "code",
   "execution_count": 8,
   "metadata": {
    "collapsed": true
   },
   "outputs": [],
   "source": [
    "user_in_degree_3days.coalesce(1).saveAsTextFile(\"/media/jw/5dccc50e-7c13-4186-bf6b-d894f02410be/wbb/result/qq_5000_user_data/user_indegree\")"
   ]
  },
  {
   "cell_type": "markdown",
   "metadata": {},
   "source": [
    "### user_in_strength"
   ]
  },
  {
   "cell_type": "code",
   "execution_count": 9,
   "metadata": {
    "collapsed": true
   },
   "outputs": [],
   "source": [
    "# 用户三天对qq服务器的下行报文总数。\n",
    "user_in_strength = qq_5000_user_dpi.map(lambda x: (eval(x)[1], eval(x)[9])).groupByKey().mapValues(list)"
   ]
  },
  {
   "cell_type": "code",
   "execution_count": 19,
   "metadata": {
    "collapsed": false
   },
   "outputs": [],
   "source": [
    "# ('8613851429132', 328)\n",
    "user_in_strength = user_in_strength.map(lambda x:(x[0],sum([int(i) for i in x[1]])))"
   ]
  },
  {
   "cell_type": "code",
   "execution_count": 20,
   "metadata": {
    "collapsed": false
   },
   "outputs": [
    {
     "name": "stdout",
     "output_type": "stream",
     "text": [
      "[('8613851429132', 328)]\n"
     ]
    }
   ],
   "source": [
    "print(user_in_strength.take(1))"
   ]
  },
  {
   "cell_type": "code",
   "execution_count": 24,
   "metadata": {
    "collapsed": false
   },
   "outputs": [],
   "source": [
    "user_in_strength.coalesce(1).saveAsTextFile(\"/media/jw/5dccc50e-7c13-4186-bf6b-d894f02410be/wbb/result/qq_5000_user_data/user_in_strength\")"
   ]
  },
  {
   "cell_type": "markdown",
   "metadata": {},
   "source": [
    "### user_out_strength"
   ]
  },
  {
   "cell_type": "code",
   "execution_count": 21,
   "metadata": {
    "collapsed": true
   },
   "outputs": [],
   "source": [
    "# 用户三天对qq服务器的上行报文总数。\n",
    "user_out_strength = qq_5000_user_dpi.map(lambda x: (eval(x)[1], eval(x)[8])).groupByKey().mapValues(list)"
   ]
  },
  {
   "cell_type": "code",
   "execution_count": 22,
   "metadata": {
    "collapsed": true
   },
   "outputs": [],
   "source": [
    "# ('8613851429132', 331)\n",
    "user_out_strength = user_out_strength.map(lambda x:(x[0],sum([int(i) for i in x[1]])))"
   ]
  },
  {
   "cell_type": "code",
   "execution_count": 23,
   "metadata": {
    "collapsed": false
   },
   "outputs": [
    {
     "name": "stdout",
     "output_type": "stream",
     "text": [
      "[('8613851429132', 331)]\n"
     ]
    }
   ],
   "source": [
    "print(user_out_strength.take(1))"
   ]
  },
  {
   "cell_type": "code",
   "execution_count": 25,
   "metadata": {
    "collapsed": true
   },
   "outputs": [],
   "source": [
    "user_out_strength.coalesce(1).saveAsTextFile(\"/media/jw/5dccc50e-7c13-4186-bf6b-d894f02410be/wbb/result/qq_5000_user_data/user_out_strength\")"
   ]
  },
  {
   "cell_type": "markdown",
   "metadata": {},
   "source": [
    "## qq_server_node"
   ]
  },
  {
   "cell_type": "markdown",
   "metadata": {},
   "source": [
    "### server-category"
   ]
  },
  {
   "cell_type": "code",
   "execution_count": 11,
   "metadata": {
    "collapsed": false
   },
   "outputs": [],
   "source": [
    "# server 提供的业务类型 ## 目标服务器只存在两种业务类型：'wap2', 'web'。不存在同时提供两种业务的ip.\n",
    "# ('14.17.19.77', {'web'})\n",
    "server_category = qq_5000_user_dpi.map(lambda x:(eval(x)[2], eval(x)[3])).groupByKey().mapValues(set)"
   ]
  },
  {
   "cell_type": "code",
   "execution_count": 12,
   "metadata": {
    "collapsed": false
   },
   "outputs": [
    {
     "name": "stdout",
     "output_type": "stream",
     "text": [
      "('14.17.19.77', {'web'})\n",
      "1684\n"
     ]
    }
   ],
   "source": [
    "print(server_category.first())\n",
    "print(server_category.count())"
   ]
  },
  {
   "cell_type": "code",
   "execution_count": 13,
   "metadata": {
    "collapsed": false
   },
   "outputs": [
    {
     "data": {
      "text/plain": [
       "{'wap2', 'web'}"
      ]
     },
     "execution_count": 13,
     "metadata": {},
     "output_type": "execute_result"
    }
   ],
   "source": [
    "set(server_category.map(lambda x: list(x[1])[0]).collect())"
   ]
  },
  {
   "cell_type": "code",
   "execution_count": 15,
   "metadata": {
    "collapsed": true
   },
   "outputs": [],
   "source": [
    "# ('14.17.19.77', 'web')\n",
    "server_category = server_category.map(lambda x: (x[0], list(x[1])[0]))"
   ]
  },
  {
   "cell_type": "code",
   "execution_count": 16,
   "metadata": {
    "collapsed": false
   },
   "outputs": [
    {
     "data": {
      "text/plain": [
       "[('14.17.19.77', 'web'), ('111.10.27.180', 'web'), ('111.30.132.109', 'web')]"
      ]
     },
     "execution_count": 16,
     "metadata": {},
     "output_type": "execute_result"
    }
   ],
   "source": [
    "server_category.take(3)"
   ]
  },
  {
   "cell_type": "code",
   "execution_count": 17,
   "metadata": {
    "collapsed": false
   },
   "outputs": [
    {
     "data": {
      "text/plain": [
       "[('10.0.0.172', 'wap2')]"
      ]
     },
     "execution_count": 17,
     "metadata": {},
     "output_type": "execute_result"
    }
   ],
   "source": [
    "# ####只有一个是'wap2'，其他都是'web'。 ('10.0.0.172', 'wap2')#####\n",
    "server_category.filter(lambda x: x[1] == 'wap2').collect()"
   ]
  },
  {
   "cell_type": "code",
   "execution_count": 18,
   "metadata": {
    "collapsed": true
   },
   "outputs": [],
   "source": [
    "# ('14.17.19.77', 'web')\n",
    "server_category.coalesce(1).saveAsTextFile(\"/media/jw/5dccc50e-7c13-4186-bf6b-d894f02410be/wbb/result/qq_5000_user_data/server_category\")"
   ]
  },
  {
   "cell_type": "markdown",
   "metadata": {},
   "source": [
    "### server-service"
   ]
  },
  {
   "cell_type": "code",
   "execution_count": 19,
   "metadata": {
    "collapsed": true
   },
   "outputs": [],
   "source": [
    "# 大类业务ID\n",
    "server_service_ID = qq_5000_user_dpi.map(lambda x:(eval(x)[2], eval(x)[10])).groupByKey().mapValues(set).map(lambda x:(x[0],list(x[1])))"
   ]
  },
  {
   "cell_type": "code",
   "execution_count": 20,
   "metadata": {
    "collapsed": false
   },
   "outputs": [
    {
     "data": {
      "text/plain": [
       "[('14.17.19.77', ['4', '7']),\n",
       " ('111.10.27.180', ['4', '6']),\n",
       " ('111.30.132.109', ['4', '6'])]"
      ]
     },
     "execution_count": 20,
     "metadata": {},
     "output_type": "execute_result"
    }
   ],
   "source": [
    "server_service_ID.take(3)"
   ]
  },
  {
   "cell_type": "code",
   "execution_count": 21,
   "metadata": {
    "collapsed": false
   },
   "outputs": [
    {
     "data": {
      "text/plain": [
       "1684"
      ]
     },
     "execution_count": 21,
     "metadata": {},
     "output_type": "execute_result"
    }
   ],
   "source": [
    "server_service_ID.count()"
   ]
  },
  {
   "cell_type": "code",
   "execution_count": 23,
   "metadata": {
    "collapsed": true
   },
   "outputs": [],
   "source": [
    "# 大类业务ID ('14.17.19.77', ['4', '7'])\n",
    "server_service_ID.coalesce(1).saveAsTextFile(\"/media/jw/5dccc50e-7c13-4186-bf6b-d894f02410be/wbb/result/qq_5000_user_data/server_service_ID\")"
   ]
  },
  {
   "cell_type": "markdown",
   "metadata": {
    "collapsed": true
   },
   "source": [
    "### server-sub_service"
   ]
  },
  {
   "cell_type": "code",
   "execution_count": 24,
   "metadata": {
    "collapsed": true
   },
   "outputs": [],
   "source": [
    "# 小类业务ID\n",
    "server_service_id = qq_5000_user_dpi.map(lambda x:(eval(x)[2], eval(x)[11])).groupByKey().mapValues(set).map(lambda x:(x[0],list(x[1])))"
   ]
  },
  {
   "cell_type": "code",
   "execution_count": 25,
   "metadata": {
    "collapsed": false
   },
   "outputs": [
    {
     "data": {
      "text/plain": [
       "[('14.17.19.77', ['1025', '1793']),\n",
       " ('111.10.27.180', ['1025', '1029']),\n",
       " ('111.30.132.109', ['1025', '1029'])]"
      ]
     },
     "execution_count": 25,
     "metadata": {},
     "output_type": "execute_result"
    }
   ],
   "source": [
    "server_service_id.take(3)"
   ]
  },
  {
   "cell_type": "code",
   "execution_count": 27,
   "metadata": {
    "collapsed": true
   },
   "outputs": [],
   "source": [
    "# 小类业务ID ('14.17.19.77', ['1025', '1793'])\n",
    "server_service_id.coalesce(1).saveAsTextFile(\"/media/jw/5dccc50e-7c13-4186-bf6b-d894f02410be/wbb/result/qq_5000_user_data/server_service_subID\")"
   ]
  },
  {
   "cell_type": "markdown",
   "metadata": {},
   "source": [
    "### server_active_time"
   ]
  },
  {
   "cell_type": "code",
   "execution_count": 26,
   "metadata": {
    "collapsed": true
   },
   "outputs": [],
   "source": [
    "server_active_time_3days = qq_5000_user_dpi.map(lambda x: (eval(x)[2],eval(x)[0][-8:-6])).groupByKey().mapValues(list)"
   ]
  },
  {
   "cell_type": "code",
   "execution_count": 31,
   "metadata": {
    "collapsed": true
   },
   "outputs": [],
   "source": [
    "from collections import Counter\n",
    "server_active_time_3days_hour = server_active_time_3days.map(lambda x: (x[0], dict(Counter(x[1]))))"
   ]
  },
  {
   "cell_type": "code",
   "execution_count": 32,
   "metadata": {
    "collapsed": false
   },
   "outputs": [
    {
     "name": "stdout",
     "output_type": "stream",
     "text": [
      "('14.17.19.77', {'10': 44, '18': 36, '14': 35, '13': 38, '21': 59, '01': 12, '17': 30, '05': 11, '22': 51, '04': 10, '16': 38, '11': 47, '03': 5, '00': 41, '08': 29, '07': 20, '12': 29, '23': 75, '19': 52, '20': 43, '02': 7, '06': 8, '09': 25, '15': 34})\n"
     ]
    }
   ],
   "source": [
    "print(server_active_time_3days_hour.first())"
   ]
  },
  {
   "cell_type": "code",
   "execution_count": 66,
   "metadata": {
    "collapsed": true
   },
   "outputs": [],
   "source": [
    "# server 的活跃时间。每行有24维，代表0-23每个小时的访问次数。\n",
    "server_active_time_3days_hour_list = server_active_time_3days_hour.map(lambda x: (x[0], time_feature(x[1])))"
   ]
  },
  {
   "cell_type": "code",
   "execution_count": 68,
   "metadata": {
    "collapsed": false
   },
   "outputs": [
    {
     "name": "stdout",
     "output_type": "stream",
     "text": [
      "[('14.17.19.77', [41, 12, 7, 5, 10, 11, 8, 20, 29, 25, 44, 47, 29, 38, 35, 34, 38, 30, 36, 52, 43, 59, 51, 75]), ('111.10.27.180', [1, 0, 2, 3, 3, 0, 1, 3, 4, 1, 6, 2, 1, 6, 2, 2, 2, 1, 7, 1, 0, 1, 4, 0]), ('111.30.132.109', [0, 0, 6, 12, 0, 4, 18, 35, 51, 130, 67, 0, 1, 0, 0, 0, 0, 0, 3, 0, 0, 0, 0, 0])]\n"
     ]
    }
   ],
   "source": [
    "print(server_active_time_3days_hour_list.take(3))"
   ]
  },
  {
   "cell_type": "code",
   "execution_count": 71,
   "metadata": {
    "collapsed": true
   },
   "outputs": [],
   "source": [
    "server_active_time_3days_hour_list.coalesce(1).saveAsTextFile(\"/media/jw/5dccc50e-7c13-4186-bf6b-d894f02410be/wbb/result/qq_5000_user_data/server_active_time\")"
   ]
  },
  {
   "cell_type": "markdown",
   "metadata": {},
   "source": [
    "### server_in_degree"
   ]
  },
  {
   "cell_type": "code",
   "execution_count": 83,
   "metadata": {
    "collapsed": true
   },
   "outputs": [],
   "source": [
    "# 每个server三天总的访问次数.('14.17.19.77', 779)\n",
    "server_in_degree = qq_5000_user_dpi.map(lambda x:(eval(x)[2], 1)).groupByKey().mapValues(len)"
   ]
  },
  {
   "cell_type": "code",
   "execution_count": 84,
   "metadata": {
    "collapsed": false
   },
   "outputs": [
    {
     "data": {
      "text/plain": [
       "[('14.17.19.77', 779)]"
      ]
     },
     "execution_count": 84,
     "metadata": {},
     "output_type": "execute_result"
    }
   ],
   "source": [
    "server_in_degree.take(1)"
   ]
  },
  {
   "cell_type": "code",
   "execution_count": 85,
   "metadata": {
    "collapsed": true
   },
   "outputs": [],
   "source": [
    "# ('14.17.19.77', 779)\n",
    "server_in_degree.coalesce(1).saveAsTextFile(\"/media/jw/5dccc50e-7c13-4186-bf6b-d894f02410be/wbb/result/qq_5000_user_data/server_indegree\")"
   ]
  },
  {
   "cell_type": "markdown",
   "metadata": {},
   "source": [
    "### server_in_strength"
   ]
  },
  {
   "cell_type": "code",
   "execution_count": 86,
   "metadata": {
    "collapsed": true
   },
   "outputs": [],
   "source": [
    "# qq服务器三天的下行报文总数。\n",
    "server_in_strength = qq_5000_user_dpi.map(lambda x: (eval(x)[2], eval(x)[9])).groupByKey().mapValues(list)"
   ]
  },
  {
   "cell_type": "code",
   "execution_count": 89,
   "metadata": {
    "collapsed": false
   },
   "outputs": [],
   "source": [
    "server_in_strength = server_in_strength.map(lambda x:(x[0],sum([int(i) for i in x[1]])))"
   ]
  },
  {
   "cell_type": "code",
   "execution_count": 90,
   "metadata": {
    "collapsed": false
   },
   "outputs": [
    {
     "name": "stdout",
     "output_type": "stream",
     "text": [
      "[('14.17.19.77', 4569), ('111.10.27.180', 4519)]\n"
     ]
    }
   ],
   "source": [
    "print(server_in_strength.take(2))"
   ]
  },
  {
   "cell_type": "code",
   "execution_count": 91,
   "metadata": {
    "collapsed": true
   },
   "outputs": [],
   "source": [
    "server_in_strength.coalesce(1).saveAsTextFile(\"/media/jw/5dccc50e-7c13-4186-bf6b-d894f02410be/wbb/result/qq_5000_user_data/server_in_strength\")"
   ]
  },
  {
   "cell_type": "markdown",
   "metadata": {},
   "source": [
    "### server_out_strength"
   ]
  },
  {
   "cell_type": "code",
   "execution_count": 92,
   "metadata": {
    "collapsed": true
   },
   "outputs": [],
   "source": [
    "# qq服务器三天的下行报文总数。\n",
    "server_out_strength = qq_5000_user_dpi.map(lambda x: (eval(x)[2], eval(x)[8])).groupByKey().mapValues(list)"
   ]
  },
  {
   "cell_type": "code",
   "execution_count": 93,
   "metadata": {
    "collapsed": true
   },
   "outputs": [],
   "source": [
    "server_out_strength = server_out_strength.map(lambda x:(x[0],sum([int(i) for i in x[1]])))"
   ]
  },
  {
   "cell_type": "code",
   "execution_count": 95,
   "metadata": {
    "collapsed": false
   },
   "outputs": [
    {
     "name": "stdout",
     "output_type": "stream",
     "text": [
      "[('14.17.19.77', 5792), ('111.10.27.180', 3065)]\n"
     ]
    }
   ],
   "source": [
    "print(server_out_strength.take(2))"
   ]
  },
  {
   "cell_type": "code",
   "execution_count": 96,
   "metadata": {
    "collapsed": true
   },
   "outputs": [],
   "source": [
    "server_out_strength.coalesce(1).saveAsTextFile(\"/media/jw/5dccc50e-7c13-4186-bf6b-d894f02410be/wbb/result/qq_5000_user_data/server_out_strength\")"
   ]
  },
  {
   "cell_type": "code",
   "execution_count": null,
   "metadata": {
    "collapsed": true
   },
   "outputs": [],
   "source": []
  },
  {
   "cell_type": "code",
   "execution_count": null,
   "metadata": {
    "collapsed": true
   },
   "outputs": [],
   "source": []
  },
  {
   "cell_type": "markdown",
   "metadata": {},
   "source": [
    "## edge:day-user-server"
   ]
  },
  {
   "cell_type": "markdown",
   "metadata": {},
   "source": [
    "#### day1: user-server: duration, uppacket, downpacket"
   ]
  },
  {
   "cell_type": "code",
   "execution_count": 86,
   "metadata": {
    "collapsed": false
   },
   "outputs": [
    {
     "name": "stdout",
     "output_type": "stream",
     "text": [
      "76569\n",
      "[('8615005141602-120.204.200.102', 25747), ('8618795963348-183.207.234.71', 37174), ('8615250987989-211.136.233.104', 6388)]\n"
     ]
    }
   ],
   "source": [
    "# 连接时长7，上行报文8，下行报文9\n",
    "from operator import add\n",
    "day1_user_server_duration = qq_5000_user_dpi_day1.map(lambda x:((eval(x)[1] + '-' + eval(x)[2]),int(eval(x)[7])))\\\n",
    ".reduceByKey(add)\n",
    "print(day1_user_server_duration.count())\n",
    "print(day1_user_server_duration.take(3))\n",
    "day1_user_server_duration.coalesce(10)\\\n",
    ".saveAsTextFile(\"/media/jw/5dccc50e-7c13-4186-bf6b-d894f02410be/wbb/result/qq_5000_user_data/edge_duration/1228\")"
   ]
  },
  {
   "cell_type": "code",
   "execution_count": 87,
   "metadata": {
    "collapsed": false
   },
   "outputs": [
    {
     "name": "stdout",
     "output_type": "stream",
     "text": [
      "76569\n",
      "[('8615005141602-120.204.200.102', 44), ('8618795963348-183.207.234.71', 10), ('8615250987989-211.136.233.104', 14)]\n"
     ]
    }
   ],
   "source": [
    "day1_user_server_uppacket = qq_5000_user_dpi_day1.map(lambda x:((eval(x)[1] + '-' + eval(x)[2]),int(eval(x)[8])))\\\n",
    ".reduceByKey(add)\n",
    "print(day1_user_server_uppacket.count())\n",
    "print(day1_user_server_uppacket.take(3))\n",
    "day1_user_server_uppacket.coalesce(10)\\\n",
    ".saveAsTextFile(\"/media/jw/5dccc50e-7c13-4186-bf6b-d894f02410be/wbb/result/qq_5000_user_data/edge_uppacket/1228\")"
   ]
  },
  {
   "cell_type": "code",
   "execution_count": 88,
   "metadata": {
    "collapsed": false
   },
   "outputs": [
    {
     "name": "stdout",
     "output_type": "stream",
     "text": [
      "76569\n",
      "[('8615005141602-120.204.200.102', 40), ('8618795963348-183.207.234.71', 5), ('8615250987989-211.136.233.104', 9)]\n"
     ]
    }
   ],
   "source": [
    "day1_user_server_downpacket = qq_5000_user_dpi_day1.map(lambda x:((eval(x)[1] + '-' + eval(x)[2]),int(eval(x)[9])))\\\n",
    ".reduceByKey(add)\n",
    "print(day1_user_server_downpacket.count())\n",
    "print(day1_user_server_downpacket.take(3))\n",
    "day1_user_server_downpacket.coalesce(10)\\\n",
    ".saveAsTextFile(\"/media/jw/5dccc50e-7c13-4186-bf6b-d894f02410be/wbb/result/qq_5000_user_data/edge_downpacket/1228\")"
   ]
  },
  {
   "cell_type": "markdown",
   "metadata": {},
   "source": [
    "### day2: user-server: duration, uppacket, downpacket"
   ]
  },
  {
   "cell_type": "code",
   "execution_count": 89,
   "metadata": {
    "collapsed": false
   },
   "outputs": [
    {
     "name": "stdout",
     "output_type": "stream",
     "text": [
      "76809\n",
      "[('8613470823518-111.30.130.119', 334), ('8618795963348-183.207.234.71', 3060), ('8615105146953-113.108.19.85', 4740)]\n"
     ]
    }
   ],
   "source": [
    "day2_user_server_duration = qq_5000_user_dpi_day2.map(lambda x:((eval(x)[1] + '-' + eval(x)[2]),int(eval(x)[7])))\\\n",
    ".reduceByKey(add)\n",
    "print(day2_user_server_duration.count())\n",
    "print(day2_user_server_duration.take(3))\n",
    "day2_user_server_duration.coalesce(10)\\\n",
    ".saveAsTextFile(\"/media/jw/5dccc50e-7c13-4186-bf6b-d894f02410be/wbb/result/qq_5000_user_data/edge_duration/1229\")"
   ]
  },
  {
   "cell_type": "code",
   "execution_count": 90,
   "metadata": {
    "collapsed": false
   },
   "outputs": [
    {
     "name": "stdout",
     "output_type": "stream",
     "text": [
      "76809\n",
      "[('8613470823518-111.30.130.119', 4), ('8618795963348-183.207.234.71', 19), ('8615105146953-113.108.19.85', 13)]\n"
     ]
    }
   ],
   "source": [
    "day2_user_server_uppacket = qq_5000_user_dpi_day2.map(lambda x:((eval(x)[1] + '-' + eval(x)[2]),int(eval(x)[8])))\\\n",
    ".reduceByKey(add)\n",
    "print(day2_user_server_uppacket.count())\n",
    "print(day2_user_server_uppacket.take(3))\n",
    "day2_user_server_uppacket.coalesce(10)\\\n",
    ".saveAsTextFile(\"/media/jw/5dccc50e-7c13-4186-bf6b-d894f02410be/wbb/result/qq_5000_user_data/edge_uppacket/1229\")"
   ]
  },
  {
   "cell_type": "code",
   "execution_count": 91,
   "metadata": {
    "collapsed": false
   },
   "outputs": [
    {
     "name": "stdout",
     "output_type": "stream",
     "text": [
      "76809\n",
      "[('8613470823518-111.30.130.119', 2), ('8618795963348-183.207.234.71', 18), ('8615105146953-113.108.19.85', 9)]\n"
     ]
    }
   ],
   "source": [
    "day2_user_server_downpacket = qq_5000_user_dpi_day2.map(lambda x:((eval(x)[1] + '-' + eval(x)[2]),int(eval(x)[9])))\\\n",
    ".reduceByKey(add)\n",
    "print(day2_user_server_downpacket.count())\n",
    "print(day2_user_server_downpacket.take(3))\n",
    "day2_user_server_downpacket.coalesce(10)\\\n",
    ".saveAsTextFile(\"/media/jw/5dccc50e-7c13-4186-bf6b-d894f02410be/wbb/result/qq_5000_user_data/edge_downpacket/1229\")"
   ]
  },
  {
   "cell_type": "markdown",
   "metadata": {},
   "source": [
    "### day3: user-server: duration, uppacket, downpacket"
   ]
  },
  {
   "cell_type": "code",
   "execution_count": 92,
   "metadata": {
    "collapsed": false
   },
   "outputs": [
    {
     "name": "stdout",
     "output_type": "stream",
     "text": [
      "82208\n",
      "[('8613813067618-117.135.171.245', 2777), ('8618795929560-183.232.88.152', 109014), ('8618251911961-111.30.128.27', 7327)]\n"
     ]
    }
   ],
   "source": [
    "day3_user_server_duration = qq_5000_user_dpi_day3.map(lambda x:((eval(x)[1] + '-' + eval(x)[2]),int(eval(x)[7])))\\\n",
    ".reduceByKey(add)\n",
    "print(day3_user_server_duration.count())\n",
    "print(day3_user_server_duration.take(3))\n",
    "day3_user_server_duration.coalesce(10)\\\n",
    ".saveAsTextFile(\"/media/jw/5dccc50e-7c13-4186-bf6b-d894f02410be/wbb/result/qq_5000_user_data/edge_duration/1230\")"
   ]
  },
  {
   "cell_type": "code",
   "execution_count": 93,
   "metadata": {
    "collapsed": false
   },
   "outputs": [
    {
     "name": "stdout",
     "output_type": "stream",
     "text": [
      "82208\n",
      "[('8613813067618-117.135.171.245', 40), ('8618795929560-183.232.88.152', 153), ('8618251911961-111.30.128.27', 16)]\n"
     ]
    }
   ],
   "source": [
    "day3_user_server_uppacket = qq_5000_user_dpi_day3.map(lambda x:((eval(x)[1] + '-' + eval(x)[2]),int(eval(x)[8])))\\\n",
    ".reduceByKey(add)\n",
    "print(day3_user_server_uppacket.count())\n",
    "print(day3_user_server_uppacket.take(3))\n",
    "day3_user_server_uppacket.coalesce(10)\\\n",
    ".saveAsTextFile(\"/media/jw/5dccc50e-7c13-4186-bf6b-d894f02410be/wbb/result/qq_5000_user_data/edge_uppacket/1230\")"
   ]
  },
  {
   "cell_type": "code",
   "execution_count": 94,
   "metadata": {
    "collapsed": false
   },
   "outputs": [
    {
     "name": "stdout",
     "output_type": "stream",
     "text": [
      "82208\n",
      "[('8613813067618-117.135.171.245', 39), ('8618795929560-183.232.88.152', 144), ('8618251911961-111.30.128.27', 12)]\n"
     ]
    }
   ],
   "source": [
    "day3_user_server_downpacket = qq_5000_user_dpi_day3.map(lambda x:((eval(x)[1] + '-' + eval(x)[2]),int(eval(x)[9])))\\\n",
    ".reduceByKey(add)\n",
    "print(day3_user_server_downpacket.count())\n",
    "print(day3_user_server_downpacket.take(3))\n",
    "day3_user_server_downpacket.coalesce(10)\\\n",
    ".saveAsTextFile(\"/media/jw/5dccc50e-7c13-4186-bf6b-d894f02410be/wbb/result/qq_5000_user_data/edge_downpacket/1230\")"
   ]
  },
  {
   "cell_type": "markdown",
   "metadata": {},
   "source": [
    "## edges"
   ]
  },
  {
   "cell_type": "code",
   "execution_count": 104,
   "metadata": {
    "collapsed": true
   },
   "outputs": [],
   "source": [
    "positive_edge_f = \"/media/jw/5dccc50e-7c13-4186-bf6b-d894f02410be/wbb/result/qq_5000_user_data/edge_downpacket/*/part-*\""
   ]
  },
  {
   "cell_type": "code",
   "execution_count": 109,
   "metadata": {
    "collapsed": true
   },
   "outputs": [],
   "source": [
    "# 所有有记录的边\n",
    "all_postive_edges = sc.textFile(positive_edge_f).map(lambda x: eval(x)[0]).collect()"
   ]
  },
  {
   "cell_type": "code",
   "execution_count": 125,
   "metadata": {
    "collapsed": false
   },
   "outputs": [
    {
     "name": "stdout",
     "output_type": "stream",
     "text": [
      "235586\n",
      "['8615150598197-120.204.200.174', '8613951990902-113.108.86.122', '8615861816974-183.207.233.95']\n"
     ]
    }
   ],
   "source": [
    "print(len(all_postive_edges))\n",
    "print(all_postive_edges[:3])"
   ]
  },
  {
   "cell_type": "code",
   "execution_count": 96,
   "metadata": {
    "collapsed": true
   },
   "outputs": [],
   "source": [
    "# 5000个用户的id和1684个服务器ip\n",
    "user_phone_5000_f = \"/media/jw/5dccc50e-7c13-4186-bf6b-d894f02410be/wbb/result/qq_5000_user_data/user_phone_5000/part-*\"\n",
    "server_ip_1684_f = \"/media/jw/5dccc50e-7c13-4186-bf6b-d894f02410be/wbb/result/qq_5000_user_data/server_ip_1684/part-*\""
   ]
  },
  {
   "cell_type": "code",
   "execution_count": 100,
   "metadata": {
    "collapsed": true
   },
   "outputs": [],
   "source": [
    "user_phone_5000 = sc.textFile(user_phone_5000_f).collect()\n",
    "server_ip_1684 = sc.textFile(server_ip_1684_f).collect()"
   ]
  },
  {
   "cell_type": "code",
   "execution_count": 101,
   "metadata": {
    "collapsed": false
   },
   "outputs": [
    {
     "name": "stdout",
     "output_type": "stream",
     "text": [
      "5000 1684\n"
     ]
    }
   ],
   "source": [
    "print(len(user_phone_5000),len(server_ip_1684))"
   ]
  },
  {
   "cell_type": "code",
   "execution_count": 115,
   "metadata": {
    "collapsed": false
   },
   "outputs": [],
   "source": [
    "all_edges = []\n",
    "for u in user_phone_5000:\n",
    "    for s in server_ip_1684:\n",
    "        edge = u + '-' + s\n",
    "        all_edges.append(edge)"
   ]
  },
  {
   "cell_type": "code",
   "execution_count": 117,
   "metadata": {
    "collapsed": false
   },
   "outputs": [
    {
     "name": "stdout",
     "output_type": "stream",
     "text": [
      "8420000\n",
      "['8615195898003-14.17.19.77', '8615195898003-111.10.27.180', '8615195898003-111.30.132.109']\n"
     ]
    }
   ],
   "source": [
    "print(len(all_edges))\n",
    "print(all_edges[:3])"
   ]
  },
  {
   "cell_type": "code",
   "execution_count": 121,
   "metadata": {
    "collapsed": false
   },
   "outputs": [],
   "source": [
    "unlabled_edges = list(set(all_edges)-set(all_postive_edges))"
   ]
  },
  {
   "cell_type": "code",
   "execution_count": 123,
   "metadata": {
    "collapsed": false
   },
   "outputs": [
    {
     "name": "stdout",
     "output_type": "stream",
     "text": [
      "8268837\n",
      "['8615151840328-119.167.195.26', '8615850607902-203.205.161.165', '8615151857865-117.135.171.164']\n"
     ]
    }
   ],
   "source": [
    "print(len(unlabled_edges))\n",
    "print(unlabled_edges[:3])"
   ]
  },
  {
   "cell_type": "code",
   "execution_count": null,
   "metadata": {
    "collapsed": true
   },
   "outputs": [],
   "source": [
    "unlabled_edges = ['day123-' + i for i in unlabled_edges ]"
   ]
  },
  {
   "cell_type": "code",
   "execution_count": null,
   "metadata": {
    "collapsed": true
   },
   "outputs": [],
   "source": [
    "sc.parallelize(unlabled_edges).coalesce(24)\\\n",
    ".saveAsTextFile(\"/media/jw/5dccc50e-7c13-4186-bf6b-d894f02410be/wbb/result/pu_learning/train_unlabled_pairs\")"
   ]
  },
  {
   "cell_type": "code",
   "execution_count": null,
   "metadata": {
    "collapsed": true
   },
   "outputs": [],
   "source": []
  },
  {
   "cell_type": "markdown",
   "metadata": {},
   "source": [
    "### Test data"
   ]
  },
  {
   "cell_type": "code",
   "execution_count": 134,
   "metadata": {
    "collapsed": false
   },
   "outputs": [],
   "source": [
    "test_positive_pairs = qq_5000_user_dpi_day4.map(lambda x: eval(x)[1] + '-' + eval(x)[2])"
   ]
  },
  {
   "cell_type": "code",
   "execution_count": 136,
   "metadata": {
    "collapsed": false
   },
   "outputs": [],
   "source": [
    "test_unlabled_pairs = list(set(all_edges) - set(test_positive_pairs.collect()))"
   ]
  },
  {
   "cell_type": "code",
   "execution_count": 137,
   "metadata": {
    "collapsed": false
   },
   "outputs": [
    {
     "name": "stdout",
     "output_type": "stream",
     "text": [
      "8342347\n"
     ]
    }
   ],
   "source": [
    "print(len(test_unlabled_pairs))"
   ]
  },
  {
   "cell_type": "code",
   "execution_count": 138,
   "metadata": {
    "collapsed": true
   },
   "outputs": [],
   "source": [
    "test_positive_pairs.coalesce(10)\\\n",
    ".saveAsTextFile(\"/media/jw/5dccc50e-7c13-4186-bf6b-d894f02410be/wbb/result/qq_5000_user_data/test_pos_pairs\")"
   ]
  },
  {
   "cell_type": "code",
   "execution_count": 139,
   "metadata": {
    "collapsed": true
   },
   "outputs": [],
   "source": [
    "sc.parallelize(test_unlabled_pairs).coalesce(24)\\\n",
    ".saveAsTextFile(\"/media/jw/5dccc50e-7c13-4186-bf6b-d894f02410be/wbb/result/qq_5000_user_data/test_unlabled_pairs\")"
   ]
  },
  {
   "cell_type": "code",
   "execution_count": null,
   "metadata": {
    "collapsed": true
   },
   "outputs": [],
   "source": []
  }
 ],
 "metadata": {
  "anaconda-cloud": {},
  "kernelspec": {
   "display_name": "Python [default]",
   "language": "python",
   "name": "python3"
  },
  "language_info": {
   "codemirror_mode": {
    "name": "ipython",
    "version": 3
   },
   "file_extension": ".py",
   "mimetype": "text/x-python",
   "name": "python",
   "nbconvert_exporter": "python",
   "pygments_lexer": "ipython3",
   "version": "3.5.2"
  }
 },
 "nbformat": 4,
 "nbformat_minor": 1
}
